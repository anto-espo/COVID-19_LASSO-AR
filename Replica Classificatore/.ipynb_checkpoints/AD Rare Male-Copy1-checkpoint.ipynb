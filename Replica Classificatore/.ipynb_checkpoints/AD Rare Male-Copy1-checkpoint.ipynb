{
 "cells": [
  {
   "cell_type": "code",
   "execution_count": 1,
   "metadata": {},
   "outputs": [],
   "source": [
    "import pandas as pd \n",
    "import numpy as np \n",
    "import seaborn as sns\n",
    "import scipy as sp\n",
    "import matplotlib.pyplot as plt\n",
    "import re\n",
    "from os import listdir\n",
    "from os.path import isfile, join\n",
    "from scipy import stats\n",
    "\n",
    "from sklearn import preprocessing\n",
    "\n",
    "from sklearn.linear_model import LogisticRegression\n",
    "from sklearn.naive_bayes import GaussianNB\n",
    "from sklearn.neighbors import KNeighborsClassifier\n",
    "from sklearn.tree import DecisionTreeClassifier\n",
    "from sklearn.feature_selection import SelectFromModel\n",
    "\n",
    "from sklearn.ensemble import RandomForestClassifier\n",
    "from sklearn.ensemble import ExtraTreesClassifier\n",
    "from sklearn.ensemble import AdaBoostClassifier\n",
    "from sklearn.ensemble import BaggingClassifier\n",
    "\n",
    "from sklearn.ensemble import VotingClassifier\n",
    "\n",
    "# Evaluation Procedures\n",
    "from sklearn.model_selection import train_test_split\n",
    "from sklearn.model_selection import cross_val_score\n",
    "from sklearn.model_selection import cross_val_predict\n",
    "from sklearn.model_selection import StratifiedKFold\n",
    "from sklearn.model_selection import GridSearchCV\n",
    "from sklearn.model_selection import RandomizedSearchCV\n",
    "\n",
    "from sklearn.metrics import precision_score\n",
    "from sklearn.metrics import recall_score \n",
    "from sklearn.metrics import accuracy_score\n",
    "from sklearn.metrics import confusion_matrix \n",
    "from sklearn.metrics import precision_recall_curve \n",
    "from sklearn.metrics import roc_auc_score\n",
    "from sklearn.metrics import plot_roc_curve\n",
    "from sklearn.metrics import roc_curve\n",
    "from sklearn.metrics import f1_score\n",
    "from sklearn.metrics import auc"
   ]
  },
  {
   "cell_type": "code",
   "execution_count": 2,
   "metadata": {},
   "outputs": [],
   "source": [
    "rare_AD = pd.read_csv('../Data/data_AD_rare_1319.csv')"
   ]
  },
  {
   "cell_type": "code",
   "execution_count": 3,
   "metadata": {},
   "outputs": [],
   "source": [
    "pheno = pd.read_csv('../Data/phenotypes_1319.csv',sep=';')"
   ]
  },
  {
   "cell_type": "code",
   "execution_count": 4,
   "metadata": {},
   "outputs": [],
   "source": [
    "rare_AD_1 = rare_AD.reset_index()\n",
    "rare_AD_1.drop(columns=['index','Unnamed: 0'], inplace=True)\n",
    "value_counts = rare_AD_1.apply(pd.Series.value_counts)\n",
    "value_counts = value_counts.transpose()\n",
    "value_counts.columns = value_counts.columns.astype(str)\n",
    "value_counts = value_counts.reset_index()\n",
    "value_counts.rename(columns={'index':'mutation'}, inplace=True)\n",
    "value_counts['percentage of 1'] = value_counts.apply(lambda row : row['1']/(len(rare_AD_1)), axis=1)"
   ]
  },
  {
   "cell_type": "code",
   "execution_count": 5,
   "metadata": {},
   "outputs": [],
   "source": [
    "rare_AD.drop(columns=['ARSD', 'ATP6AP1', 'FRMPD4', 'SHROOM4', 'SOX21', 'SLC24A5','NPIPB15', 'FAM9A', 'SUPT20HL1', 'VCX3A', 'VCX3B'], inplace=True, axis=1)\n",
    "rare_AD.drop(columns=value_counts[value_counts['percentage of 1'] >= 0.0983].mutation, inplace=True, axis=1)\n",
    "rare_AD.drop(columns=value_counts[value_counts['0'] >= len(rare_AD_1)].mutation, inplace=True, axis=1)\n",
    "rare_AD.drop(columns=value_counts[value_counts['1'] >= len(rare_AD_1)].mutation, inplace=True, axis=1)"
   ]
  },
  {
   "cell_type": "code",
   "execution_count": 41,
   "metadata": {},
   "outputs": [
    {
     "data": {
      "text/html": [
       "<div>\n",
       "<style scoped>\n",
       "    .dataframe tbody tr th:only-of-type {\n",
       "        vertical-align: middle;\n",
       "    }\n",
       "\n",
       "    .dataframe tbody tr th {\n",
       "        vertical-align: top;\n",
       "    }\n",
       "\n",
       "    .dataframe thead th {\n",
       "        text-align: right;\n",
       "    }\n",
       "</style>\n",
       "<table border=\"1\" class=\"dataframe\">\n",
       "  <thead>\n",
       "    <tr style=\"text-align: right;\">\n",
       "      <th></th>\n",
       "      <th>mutation</th>\n",
       "      <th>0</th>\n",
       "      <th>1</th>\n",
       "      <th>percentage of 1</th>\n",
       "    </tr>\n",
       "  </thead>\n",
       "  <tbody>\n",
       "    <tr>\n",
       "      <th>1</th>\n",
       "      <td>AADACL3</td>\n",
       "      <td>660.0</td>\n",
       "      <td>658.0</td>\n",
       "      <td>0.499241</td>\n",
       "    </tr>\n",
       "    <tr>\n",
       "      <th>3</th>\n",
       "      <td>ABCA4</td>\n",
       "      <td>1122.0</td>\n",
       "      <td>196.0</td>\n",
       "      <td>0.148710</td>\n",
       "    </tr>\n",
       "    <tr>\n",
       "      <th>40</th>\n",
       "      <td>AGRN</td>\n",
       "      <td>1080.0</td>\n",
       "      <td>238.0</td>\n",
       "      <td>0.180577</td>\n",
       "    </tr>\n",
       "    <tr>\n",
       "      <th>73</th>\n",
       "      <td>ANKRD35</td>\n",
       "      <td>29.0</td>\n",
       "      <td>1289.0</td>\n",
       "      <td>0.977997</td>\n",
       "    </tr>\n",
       "    <tr>\n",
       "      <th>103</th>\n",
       "      <td>ASPM</td>\n",
       "      <td>1147.0</td>\n",
       "      <td>171.0</td>\n",
       "      <td>0.129742</td>\n",
       "    </tr>\n",
       "    <tr>\n",
       "      <th>...</th>\n",
       "      <td>...</td>\n",
       "      <td>...</td>\n",
       "      <td>...</td>\n",
       "      <td>...</td>\n",
       "    </tr>\n",
       "    <tr>\n",
       "      <th>17928</th>\n",
       "      <td>SPANXN3</td>\n",
       "      <td>81.0</td>\n",
       "      <td>1237.0</td>\n",
       "      <td>0.938543</td>\n",
       "    </tr>\n",
       "    <tr>\n",
       "      <th>17934</th>\n",
       "      <td>SRPX</td>\n",
       "      <td>1024.0</td>\n",
       "      <td>294.0</td>\n",
       "      <td>0.223065</td>\n",
       "    </tr>\n",
       "    <tr>\n",
       "      <th>18007</th>\n",
       "      <td>UBE2NL</td>\n",
       "      <td>800.0</td>\n",
       "      <td>518.0</td>\n",
       "      <td>0.393020</td>\n",
       "    </tr>\n",
       "    <tr>\n",
       "      <th>18020</th>\n",
       "      <td>VCX</td>\n",
       "      <td>1065.0</td>\n",
       "      <td>253.0</td>\n",
       "      <td>0.191958</td>\n",
       "    </tr>\n",
       "    <tr>\n",
       "      <th>18070</th>\n",
       "      <td>ZXDA</td>\n",
       "      <td>1139.0</td>\n",
       "      <td>179.0</td>\n",
       "      <td>0.135812</td>\n",
       "    </tr>\n",
       "  </tbody>\n",
       "</table>\n",
       "<p>724 rows × 4 columns</p>\n",
       "</div>"
      ],
      "text/plain": [
       "      mutation       0       1  percentage of 1\n",
       "1      AADACL3   660.0   658.0         0.499241\n",
       "3        ABCA4  1122.0   196.0         0.148710\n",
       "40        AGRN  1080.0   238.0         0.180577\n",
       "73     ANKRD35    29.0  1289.0         0.977997\n",
       "103       ASPM  1147.0   171.0         0.129742\n",
       "...        ...     ...     ...              ...\n",
       "17928  SPANXN3    81.0  1237.0         0.938543\n",
       "17934     SRPX  1024.0   294.0         0.223065\n",
       "18007   UBE2NL   800.0   518.0         0.393020\n",
       "18020      VCX  1065.0   253.0         0.191958\n",
       "18070     ZXDA  1139.0   179.0         0.135812\n",
       "\n",
       "[724 rows x 4 columns]"
      ]
     },
     "execution_count": 41,
     "metadata": {},
     "output_type": "execute_result"
    }
   ],
   "source": [
    "value_counts[value_counts['percentage of 1'] >= 0.0983]"
   ]
  },
  {
   "cell_type": "markdown",
   "metadata": {},
   "source": [
    "Mantengo solo pazienti con un grading"
   ]
  },
  {
   "cell_type": "code",
   "execution_count": 6,
   "metadata": {},
   "outputs": [],
   "source": [
    "pheno = pheno[pheno['grading_1319_adj_a_s'].notna()]"
   ]
  },
  {
   "cell_type": "markdown",
   "metadata": {},
   "source": [
    "Scarto pazienti senza età"
   ]
  },
  {
   "cell_type": "code",
   "execution_count": 7,
   "metadata": {},
   "outputs": [],
   "source": [
    "pheno = pheno[pheno['Age'].notna()]"
   ]
  },
  {
   "cell_type": "markdown",
   "metadata": {},
   "source": [
    "Cambio l'indice dei pazienti"
   ]
  },
  {
   "cell_type": "code",
   "execution_count": 8,
   "metadata": {},
   "outputs": [],
   "source": [
    "pheno.rename(columns={\"UsedSampleCode\":\"key\"}, inplace=True)\n",
    "pheno.set_index('key',inplace=True)"
   ]
  },
  {
   "cell_type": "code",
   "execution_count": 9,
   "metadata": {},
   "outputs": [
    {
     "data": {
      "text/plain": [
       "1312"
      ]
     },
     "execution_count": 9,
     "metadata": {},
     "output_type": "execute_result"
    }
   ],
   "source": [
    "len(pheno)"
   ]
  },
  {
   "cell_type": "markdown",
   "metadata": {},
   "source": [
    "Scarto pazienti da escludere"
   ]
  },
  {
   "cell_type": "code",
   "execution_count": 10,
   "metadata": {},
   "outputs": [],
   "source": [
    "rare_AD.rename(columns={\"Unnamed: 0\": \"key\"}, inplace=True)\n",
    "rare_AD.set_index('key',inplace=True)\n",
    "\n",
    "rare_AD = rare_AD[rare_AD.index != 'COV2925-1241_hg38']\n",
    "rare_AD = rare_AD[rare_AD.index != 'COV2928-1242_hg38']\n",
    "rare_AD = rare_AD[rare_AD.index != 'COV3204-1334_hg38']\n",
    "rare_AD = rare_AD[rare_AD.index != 'COV3196-1326_hg38']\n",
    "rare_AD = rare_AD[rare_AD.index != 'COV2735-1159_hg38']\n",
    "rare_AD = rare_AD[rare_AD.index != 'COV3211-1341_hg38']\n",
    "rare_AD = rare_AD[rare_AD.index != 'COV2233-939_hg38']\n",
    "\n",
    "rare_AD.index = rare_AD.index.str.replace('_hg38','')"
   ]
  },
  {
   "cell_type": "code",
   "execution_count": 11,
   "metadata": {},
   "outputs": [
    {
     "data": {
      "text/html": [
       "<div>\n",
       "<style scoped>\n",
       "    .dataframe tbody tr th:only-of-type {\n",
       "        vertical-align: middle;\n",
       "    }\n",
       "\n",
       "    .dataframe tbody tr th {\n",
       "        vertical-align: top;\n",
       "    }\n",
       "\n",
       "    .dataframe thead th {\n",
       "        text-align: right;\n",
       "    }\n",
       "</style>\n",
       "<table border=\"1\" class=\"dataframe\">\n",
       "  <thead>\n",
       "    <tr style=\"text-align: right;\">\n",
       "      <th></th>\n",
       "      <th>Gender (M=0, F=1)</th>\n",
       "      <th>grading</th>\n",
       "      <th>A3GALT2</th>\n",
       "      <th>AADACL4</th>\n",
       "      <th>ABCB10</th>\n",
       "      <th>ABCD3</th>\n",
       "      <th>ABL2</th>\n",
       "      <th>ACADM</th>\n",
       "      <th>ACAP3</th>\n",
       "      <th>ACBD3</th>\n",
       "      <th>...</th>\n",
       "      <th>KDM5D</th>\n",
       "      <th>NLGN4Y</th>\n",
       "      <th>PCDH11Y</th>\n",
       "      <th>PRORY</th>\n",
       "      <th>RPS4Y2</th>\n",
       "      <th>TBL1Y</th>\n",
       "      <th>TMSB4Y</th>\n",
       "      <th>USP9Y</th>\n",
       "      <th>UTY</th>\n",
       "      <th>ZFY</th>\n",
       "    </tr>\n",
       "    <tr>\n",
       "      <th>key</th>\n",
       "      <th></th>\n",
       "      <th></th>\n",
       "      <th></th>\n",
       "      <th></th>\n",
       "      <th></th>\n",
       "      <th></th>\n",
       "      <th></th>\n",
       "      <th></th>\n",
       "      <th></th>\n",
       "      <th></th>\n",
       "      <th></th>\n",
       "      <th></th>\n",
       "      <th></th>\n",
       "      <th></th>\n",
       "      <th></th>\n",
       "      <th></th>\n",
       "      <th></th>\n",
       "      <th></th>\n",
       "      <th></th>\n",
       "      <th></th>\n",
       "      <th></th>\n",
       "    </tr>\n",
       "  </thead>\n",
       "  <tbody>\n",
       "    <tr>\n",
       "      <th>AR-COV-1</th>\n",
       "      <td>1.0</td>\n",
       "      <td>1</td>\n",
       "      <td>1.0</td>\n",
       "      <td>0.0</td>\n",
       "      <td>0.0</td>\n",
       "      <td>0.0</td>\n",
       "      <td>0.0</td>\n",
       "      <td>1.0</td>\n",
       "      <td>1.0</td>\n",
       "      <td>0.0</td>\n",
       "      <td>...</td>\n",
       "      <td>0.0</td>\n",
       "      <td>0.0</td>\n",
       "      <td>0.0</td>\n",
       "      <td>0.0</td>\n",
       "      <td>0.0</td>\n",
       "      <td>0.0</td>\n",
       "      <td>0.0</td>\n",
       "      <td>0.0</td>\n",
       "      <td>0.0</td>\n",
       "      <td>0.0</td>\n",
       "    </tr>\n",
       "    <tr>\n",
       "      <th>AR-COV-10</th>\n",
       "      <td>0.0</td>\n",
       "      <td>1</td>\n",
       "      <td>0.0</td>\n",
       "      <td>0.0</td>\n",
       "      <td>0.0</td>\n",
       "      <td>0.0</td>\n",
       "      <td>0.0</td>\n",
       "      <td>0.0</td>\n",
       "      <td>0.0</td>\n",
       "      <td>0.0</td>\n",
       "      <td>...</td>\n",
       "      <td>0.0</td>\n",
       "      <td>0.0</td>\n",
       "      <td>0.0</td>\n",
       "      <td>0.0</td>\n",
       "      <td>0.0</td>\n",
       "      <td>0.0</td>\n",
       "      <td>0.0</td>\n",
       "      <td>0.0</td>\n",
       "      <td>0.0</td>\n",
       "      <td>0.0</td>\n",
       "    </tr>\n",
       "    <tr>\n",
       "      <th>AR-COV-11</th>\n",
       "      <td>1.0</td>\n",
       "      <td>1</td>\n",
       "      <td>0.0</td>\n",
       "      <td>0.0</td>\n",
       "      <td>0.0</td>\n",
       "      <td>0.0</td>\n",
       "      <td>0.0</td>\n",
       "      <td>0.0</td>\n",
       "      <td>0.0</td>\n",
       "      <td>0.0</td>\n",
       "      <td>...</td>\n",
       "      <td>0.0</td>\n",
       "      <td>0.0</td>\n",
       "      <td>0.0</td>\n",
       "      <td>0.0</td>\n",
       "      <td>0.0</td>\n",
       "      <td>0.0</td>\n",
       "      <td>0.0</td>\n",
       "      <td>0.0</td>\n",
       "      <td>0.0</td>\n",
       "      <td>0.0</td>\n",
       "    </tr>\n",
       "    <tr>\n",
       "      <th>AR-COV-13</th>\n",
       "      <td>0.0</td>\n",
       "      <td>0</td>\n",
       "      <td>0.0</td>\n",
       "      <td>0.0</td>\n",
       "      <td>0.0</td>\n",
       "      <td>0.0</td>\n",
       "      <td>0.0</td>\n",
       "      <td>0.0</td>\n",
       "      <td>0.0</td>\n",
       "      <td>0.0</td>\n",
       "      <td>...</td>\n",
       "      <td>0.0</td>\n",
       "      <td>0.0</td>\n",
       "      <td>0.0</td>\n",
       "      <td>0.0</td>\n",
       "      <td>0.0</td>\n",
       "      <td>0.0</td>\n",
       "      <td>0.0</td>\n",
       "      <td>0.0</td>\n",
       "      <td>0.0</td>\n",
       "      <td>0.0</td>\n",
       "    </tr>\n",
       "    <tr>\n",
       "      <th>AR-COV-14</th>\n",
       "      <td>0.0</td>\n",
       "      <td>1</td>\n",
       "      <td>0.0</td>\n",
       "      <td>0.0</td>\n",
       "      <td>0.0</td>\n",
       "      <td>1.0</td>\n",
       "      <td>0.0</td>\n",
       "      <td>0.0</td>\n",
       "      <td>0.0</td>\n",
       "      <td>0.0</td>\n",
       "      <td>...</td>\n",
       "      <td>0.0</td>\n",
       "      <td>0.0</td>\n",
       "      <td>0.0</td>\n",
       "      <td>0.0</td>\n",
       "      <td>0.0</td>\n",
       "      <td>0.0</td>\n",
       "      <td>0.0</td>\n",
       "      <td>0.0</td>\n",
       "      <td>0.0</td>\n",
       "      <td>0.0</td>\n",
       "    </tr>\n",
       "    <tr>\n",
       "      <th>...</th>\n",
       "      <td>...</td>\n",
       "      <td>...</td>\n",
       "      <td>...</td>\n",
       "      <td>...</td>\n",
       "      <td>...</td>\n",
       "      <td>...</td>\n",
       "      <td>...</td>\n",
       "      <td>...</td>\n",
       "      <td>...</td>\n",
       "      <td>...</td>\n",
       "      <td>...</td>\n",
       "      <td>...</td>\n",
       "      <td>...</td>\n",
       "      <td>...</td>\n",
       "      <td>...</td>\n",
       "      <td>...</td>\n",
       "      <td>...</td>\n",
       "      <td>...</td>\n",
       "      <td>...</td>\n",
       "      <td>...</td>\n",
       "      <td>...</td>\n",
       "    </tr>\n",
       "    <tr>\n",
       "      <th>USCASI0004</th>\n",
       "      <td>0.0</td>\n",
       "      <td>0</td>\n",
       "      <td>0.0</td>\n",
       "      <td>0.0</td>\n",
       "      <td>0.0</td>\n",
       "      <td>0.0</td>\n",
       "      <td>0.0</td>\n",
       "      <td>0.0</td>\n",
       "      <td>0.0</td>\n",
       "      <td>0.0</td>\n",
       "      <td>...</td>\n",
       "      <td>0.0</td>\n",
       "      <td>0.0</td>\n",
       "      <td>0.0</td>\n",
       "      <td>0.0</td>\n",
       "      <td>0.0</td>\n",
       "      <td>0.0</td>\n",
       "      <td>0.0</td>\n",
       "      <td>0.0</td>\n",
       "      <td>0.0</td>\n",
       "      <td>0.0</td>\n",
       "    </tr>\n",
       "    <tr>\n",
       "      <th>USCASI0005</th>\n",
       "      <td>0.0</td>\n",
       "      <td>0</td>\n",
       "      <td>0.0</td>\n",
       "      <td>0.0</td>\n",
       "      <td>0.0</td>\n",
       "      <td>0.0</td>\n",
       "      <td>0.0</td>\n",
       "      <td>1.0</td>\n",
       "      <td>0.0</td>\n",
       "      <td>0.0</td>\n",
       "      <td>...</td>\n",
       "      <td>0.0</td>\n",
       "      <td>0.0</td>\n",
       "      <td>0.0</td>\n",
       "      <td>0.0</td>\n",
       "      <td>0.0</td>\n",
       "      <td>0.0</td>\n",
       "      <td>0.0</td>\n",
       "      <td>0.0</td>\n",
       "      <td>0.0</td>\n",
       "      <td>0.0</td>\n",
       "    </tr>\n",
       "    <tr>\n",
       "      <th>VE10</th>\n",
       "      <td>0.0</td>\n",
       "      <td>0</td>\n",
       "      <td>0.0</td>\n",
       "      <td>0.0</td>\n",
       "      <td>0.0</td>\n",
       "      <td>0.0</td>\n",
       "      <td>0.0</td>\n",
       "      <td>0.0</td>\n",
       "      <td>0.0</td>\n",
       "      <td>0.0</td>\n",
       "      <td>...</td>\n",
       "      <td>0.0</td>\n",
       "      <td>0.0</td>\n",
       "      <td>0.0</td>\n",
       "      <td>0.0</td>\n",
       "      <td>0.0</td>\n",
       "      <td>0.0</td>\n",
       "      <td>0.0</td>\n",
       "      <td>0.0</td>\n",
       "      <td>0.0</td>\n",
       "      <td>0.0</td>\n",
       "    </tr>\n",
       "    <tr>\n",
       "      <th>VE101</th>\n",
       "      <td>1.0</td>\n",
       "      <td>1</td>\n",
       "      <td>0.0</td>\n",
       "      <td>0.0</td>\n",
       "      <td>0.0</td>\n",
       "      <td>0.0</td>\n",
       "      <td>0.0</td>\n",
       "      <td>0.0</td>\n",
       "      <td>0.0</td>\n",
       "      <td>0.0</td>\n",
       "      <td>...</td>\n",
       "      <td>0.0</td>\n",
       "      <td>0.0</td>\n",
       "      <td>0.0</td>\n",
       "      <td>0.0</td>\n",
       "      <td>0.0</td>\n",
       "      <td>0.0</td>\n",
       "      <td>0.0</td>\n",
       "      <td>0.0</td>\n",
       "      <td>0.0</td>\n",
       "      <td>0.0</td>\n",
       "    </tr>\n",
       "    <tr>\n",
       "      <th>VE99</th>\n",
       "      <td>0.0</td>\n",
       "      <td>0</td>\n",
       "      <td>0.0</td>\n",
       "      <td>0.0</td>\n",
       "      <td>0.0</td>\n",
       "      <td>0.0</td>\n",
       "      <td>0.0</td>\n",
       "      <td>0.0</td>\n",
       "      <td>0.0</td>\n",
       "      <td>0.0</td>\n",
       "      <td>...</td>\n",
       "      <td>0.0</td>\n",
       "      <td>0.0</td>\n",
       "      <td>0.0</td>\n",
       "      <td>0.0</td>\n",
       "      <td>0.0</td>\n",
       "      <td>0.0</td>\n",
       "      <td>0.0</td>\n",
       "      <td>0.0</td>\n",
       "      <td>0.0</td>\n",
       "      <td>0.0</td>\n",
       "    </tr>\n",
       "  </tbody>\n",
       "</table>\n",
       "<p>818 rows × 17319 columns</p>\n",
       "</div>"
      ],
      "text/plain": [
       "            Gender (M=0, F=1) grading  A3GALT2  AADACL4  ABCB10  ABCD3  ABL2  \\\n",
       "key                                                                            \n",
       "AR-COV-1                  1.0       1      1.0      0.0     0.0    0.0   0.0   \n",
       "AR-COV-10                 0.0       1      0.0      0.0     0.0    0.0   0.0   \n",
       "AR-COV-11                 1.0       1      0.0      0.0     0.0    0.0   0.0   \n",
       "AR-COV-13                 0.0       0      0.0      0.0     0.0    0.0   0.0   \n",
       "AR-COV-14                 0.0       1      0.0      0.0     0.0    1.0   0.0   \n",
       "...                       ...     ...      ...      ...     ...    ...   ...   \n",
       "USCASI0004                0.0       0      0.0      0.0     0.0    0.0   0.0   \n",
       "USCASI0005                0.0       0      0.0      0.0     0.0    0.0   0.0   \n",
       "VE10                      0.0       0      0.0      0.0     0.0    0.0   0.0   \n",
       "VE101                     1.0       1      0.0      0.0     0.0    0.0   0.0   \n",
       "VE99                      0.0       0      0.0      0.0     0.0    0.0   0.0   \n",
       "\n",
       "            ACADM  ACAP3  ACBD3  ...  KDM5D  NLGN4Y  PCDH11Y  PRORY  RPS4Y2  \\\n",
       "key                              ...                                          \n",
       "AR-COV-1      1.0    1.0    0.0  ...    0.0     0.0      0.0    0.0     0.0   \n",
       "AR-COV-10     0.0    0.0    0.0  ...    0.0     0.0      0.0    0.0     0.0   \n",
       "AR-COV-11     0.0    0.0    0.0  ...    0.0     0.0      0.0    0.0     0.0   \n",
       "AR-COV-13     0.0    0.0    0.0  ...    0.0     0.0      0.0    0.0     0.0   \n",
       "AR-COV-14     0.0    0.0    0.0  ...    0.0     0.0      0.0    0.0     0.0   \n",
       "...           ...    ...    ...  ...    ...     ...      ...    ...     ...   \n",
       "USCASI0004    0.0    0.0    0.0  ...    0.0     0.0      0.0    0.0     0.0   \n",
       "USCASI0005    1.0    0.0    0.0  ...    0.0     0.0      0.0    0.0     0.0   \n",
       "VE10          0.0    0.0    0.0  ...    0.0     0.0      0.0    0.0     0.0   \n",
       "VE101         0.0    0.0    0.0  ...    0.0     0.0      0.0    0.0     0.0   \n",
       "VE99          0.0    0.0    0.0  ...    0.0     0.0      0.0    0.0     0.0   \n",
       "\n",
       "            TBL1Y  TMSB4Y  USP9Y  UTY  ZFY  \n",
       "key                                         \n",
       "AR-COV-1      0.0     0.0    0.0  0.0  0.0  \n",
       "AR-COV-10     0.0     0.0    0.0  0.0  0.0  \n",
       "AR-COV-11     0.0     0.0    0.0  0.0  0.0  \n",
       "AR-COV-13     0.0     0.0    0.0  0.0  0.0  \n",
       "AR-COV-14     0.0     0.0    0.0  0.0  0.0  \n",
       "...           ...     ...    ...  ...  ...  \n",
       "USCASI0004    0.0     0.0    0.0  0.0  0.0  \n",
       "USCASI0005    0.0     0.0    0.0  0.0  0.0  \n",
       "VE10          0.0     0.0    0.0  0.0  0.0  \n",
       "VE101         0.0     0.0    0.0  0.0  0.0  \n",
       "VE99          0.0     0.0    0.0  0.0  0.0  \n",
       "\n",
       "[818 rows x 17319 columns]"
      ]
     },
     "execution_count": 11,
     "metadata": {},
     "output_type": "execute_result"
    }
   ],
   "source": [
    "grading = pheno[['Gender (M=0, F=1)','grading_1319_adj_a_s']]\n",
    "\n",
    "df = grading.join(rare_AD, on='key')\n",
    "df.rename(columns={'grading_1319_adj_a_s':'grading'}, inplace=True)\n",
    "\n",
    "df = df[df['grading']!='none']\n",
    "df.dropna(inplace=True)\n",
    "df"
   ]
  },
  {
   "cell_type": "markdown",
   "metadata": {},
   "source": [
    "Mantengo solo i maschi"
   ]
  },
  {
   "cell_type": "code",
   "execution_count": 12,
   "metadata": {},
   "outputs": [
    {
     "data": {
      "text/plain": [
       "0.0    491\n",
       "1.0    327\n",
       "Name: Gender (M=0, F=1), dtype: int64"
      ]
     },
     "execution_count": 12,
     "metadata": {},
     "output_type": "execute_result"
    }
   ],
   "source": [
    "df['Gender (M=0, F=1)'].value_counts()"
   ]
  },
  {
   "cell_type": "code",
   "execution_count": 13,
   "metadata": {},
   "outputs": [],
   "source": [
    "df = df[df['Gender (M=0, F=1)']==0].iloc[:,1:]"
   ]
  },
  {
   "cell_type": "code",
   "execution_count": 14,
   "metadata": {},
   "outputs": [],
   "source": [
    "df = df.apply(pd.to_numeric, errors='coerce')\n",
    "df = df.dropna()\n",
    "df.reset_index(inplace=True)"
   ]
  },
  {
   "cell_type": "code",
   "execution_count": 15,
   "metadata": {},
   "outputs": [],
   "source": [
    "df.drop(columns='key',inplace=True)"
   ]
  },
  {
   "cell_type": "code",
   "execution_count": 16,
   "metadata": {},
   "outputs": [
    {
     "data": {
      "text/html": [
       "<div>\n",
       "<style scoped>\n",
       "    .dataframe tbody tr th:only-of-type {\n",
       "        vertical-align: middle;\n",
       "    }\n",
       "\n",
       "    .dataframe tbody tr th {\n",
       "        vertical-align: top;\n",
       "    }\n",
       "\n",
       "    .dataframe thead th {\n",
       "        text-align: right;\n",
       "    }\n",
       "</style>\n",
       "<table border=\"1\" class=\"dataframe\">\n",
       "  <thead>\n",
       "    <tr style=\"text-align: right;\">\n",
       "      <th></th>\n",
       "      <th>grading</th>\n",
       "      <th>A3GALT2</th>\n",
       "      <th>AADACL4</th>\n",
       "      <th>ABCB10</th>\n",
       "      <th>ABCD3</th>\n",
       "      <th>ABL2</th>\n",
       "      <th>ACADM</th>\n",
       "      <th>ACAP3</th>\n",
       "      <th>ACBD3</th>\n",
       "      <th>ACBD6</th>\n",
       "      <th>...</th>\n",
       "      <th>KDM5D</th>\n",
       "      <th>NLGN4Y</th>\n",
       "      <th>PCDH11Y</th>\n",
       "      <th>PRORY</th>\n",
       "      <th>RPS4Y2</th>\n",
       "      <th>TBL1Y</th>\n",
       "      <th>TMSB4Y</th>\n",
       "      <th>USP9Y</th>\n",
       "      <th>UTY</th>\n",
       "      <th>ZFY</th>\n",
       "    </tr>\n",
       "  </thead>\n",
       "  <tbody>\n",
       "    <tr>\n",
       "      <th>0</th>\n",
       "      <td>1</td>\n",
       "      <td>0.0</td>\n",
       "      <td>0.0</td>\n",
       "      <td>0.0</td>\n",
       "      <td>0.0</td>\n",
       "      <td>0.0</td>\n",
       "      <td>0.0</td>\n",
       "      <td>0.0</td>\n",
       "      <td>0.0</td>\n",
       "      <td>0.0</td>\n",
       "      <td>...</td>\n",
       "      <td>0.0</td>\n",
       "      <td>0.0</td>\n",
       "      <td>0.0</td>\n",
       "      <td>0.0</td>\n",
       "      <td>0.0</td>\n",
       "      <td>0.0</td>\n",
       "      <td>0.0</td>\n",
       "      <td>0.0</td>\n",
       "      <td>0.0</td>\n",
       "      <td>0.0</td>\n",
       "    </tr>\n",
       "    <tr>\n",
       "      <th>1</th>\n",
       "      <td>0</td>\n",
       "      <td>0.0</td>\n",
       "      <td>0.0</td>\n",
       "      <td>0.0</td>\n",
       "      <td>0.0</td>\n",
       "      <td>0.0</td>\n",
       "      <td>0.0</td>\n",
       "      <td>0.0</td>\n",
       "      <td>0.0</td>\n",
       "      <td>0.0</td>\n",
       "      <td>...</td>\n",
       "      <td>0.0</td>\n",
       "      <td>0.0</td>\n",
       "      <td>0.0</td>\n",
       "      <td>0.0</td>\n",
       "      <td>0.0</td>\n",
       "      <td>0.0</td>\n",
       "      <td>0.0</td>\n",
       "      <td>0.0</td>\n",
       "      <td>0.0</td>\n",
       "      <td>0.0</td>\n",
       "    </tr>\n",
       "    <tr>\n",
       "      <th>2</th>\n",
       "      <td>1</td>\n",
       "      <td>0.0</td>\n",
       "      <td>0.0</td>\n",
       "      <td>0.0</td>\n",
       "      <td>1.0</td>\n",
       "      <td>0.0</td>\n",
       "      <td>0.0</td>\n",
       "      <td>0.0</td>\n",
       "      <td>0.0</td>\n",
       "      <td>0.0</td>\n",
       "      <td>...</td>\n",
       "      <td>0.0</td>\n",
       "      <td>0.0</td>\n",
       "      <td>0.0</td>\n",
       "      <td>0.0</td>\n",
       "      <td>0.0</td>\n",
       "      <td>0.0</td>\n",
       "      <td>0.0</td>\n",
       "      <td>0.0</td>\n",
       "      <td>0.0</td>\n",
       "      <td>0.0</td>\n",
       "    </tr>\n",
       "    <tr>\n",
       "      <th>3</th>\n",
       "      <td>1</td>\n",
       "      <td>0.0</td>\n",
       "      <td>0.0</td>\n",
       "      <td>0.0</td>\n",
       "      <td>0.0</td>\n",
       "      <td>0.0</td>\n",
       "      <td>0.0</td>\n",
       "      <td>1.0</td>\n",
       "      <td>0.0</td>\n",
       "      <td>0.0</td>\n",
       "      <td>...</td>\n",
       "      <td>0.0</td>\n",
       "      <td>0.0</td>\n",
       "      <td>0.0</td>\n",
       "      <td>0.0</td>\n",
       "      <td>0.0</td>\n",
       "      <td>0.0</td>\n",
       "      <td>0.0</td>\n",
       "      <td>0.0</td>\n",
       "      <td>0.0</td>\n",
       "      <td>0.0</td>\n",
       "    </tr>\n",
       "    <tr>\n",
       "      <th>4</th>\n",
       "      <td>0</td>\n",
       "      <td>0.0</td>\n",
       "      <td>0.0</td>\n",
       "      <td>0.0</td>\n",
       "      <td>0.0</td>\n",
       "      <td>0.0</td>\n",
       "      <td>0.0</td>\n",
       "      <td>0.0</td>\n",
       "      <td>0.0</td>\n",
       "      <td>0.0</td>\n",
       "      <td>...</td>\n",
       "      <td>0.0</td>\n",
       "      <td>0.0</td>\n",
       "      <td>0.0</td>\n",
       "      <td>0.0</td>\n",
       "      <td>0.0</td>\n",
       "      <td>0.0</td>\n",
       "      <td>0.0</td>\n",
       "      <td>0.0</td>\n",
       "      <td>0.0</td>\n",
       "      <td>0.0</td>\n",
       "    </tr>\n",
       "    <tr>\n",
       "      <th>...</th>\n",
       "      <td>...</td>\n",
       "      <td>...</td>\n",
       "      <td>...</td>\n",
       "      <td>...</td>\n",
       "      <td>...</td>\n",
       "      <td>...</td>\n",
       "      <td>...</td>\n",
       "      <td>...</td>\n",
       "      <td>...</td>\n",
       "      <td>...</td>\n",
       "      <td>...</td>\n",
       "      <td>...</td>\n",
       "      <td>...</td>\n",
       "      <td>...</td>\n",
       "      <td>...</td>\n",
       "      <td>...</td>\n",
       "      <td>...</td>\n",
       "      <td>...</td>\n",
       "      <td>...</td>\n",
       "      <td>...</td>\n",
       "      <td>...</td>\n",
       "    </tr>\n",
       "    <tr>\n",
       "      <th>486</th>\n",
       "      <td>0</td>\n",
       "      <td>0.0</td>\n",
       "      <td>0.0</td>\n",
       "      <td>0.0</td>\n",
       "      <td>0.0</td>\n",
       "      <td>0.0</td>\n",
       "      <td>0.0</td>\n",
       "      <td>0.0</td>\n",
       "      <td>0.0</td>\n",
       "      <td>0.0</td>\n",
       "      <td>...</td>\n",
       "      <td>0.0</td>\n",
       "      <td>0.0</td>\n",
       "      <td>0.0</td>\n",
       "      <td>0.0</td>\n",
       "      <td>0.0</td>\n",
       "      <td>0.0</td>\n",
       "      <td>0.0</td>\n",
       "      <td>0.0</td>\n",
       "      <td>0.0</td>\n",
       "      <td>0.0</td>\n",
       "    </tr>\n",
       "    <tr>\n",
       "      <th>487</th>\n",
       "      <td>0</td>\n",
       "      <td>0.0</td>\n",
       "      <td>0.0</td>\n",
       "      <td>0.0</td>\n",
       "      <td>0.0</td>\n",
       "      <td>0.0</td>\n",
       "      <td>0.0</td>\n",
       "      <td>0.0</td>\n",
       "      <td>0.0</td>\n",
       "      <td>0.0</td>\n",
       "      <td>...</td>\n",
       "      <td>0.0</td>\n",
       "      <td>0.0</td>\n",
       "      <td>0.0</td>\n",
       "      <td>0.0</td>\n",
       "      <td>0.0</td>\n",
       "      <td>0.0</td>\n",
       "      <td>0.0</td>\n",
       "      <td>0.0</td>\n",
       "      <td>0.0</td>\n",
       "      <td>0.0</td>\n",
       "    </tr>\n",
       "    <tr>\n",
       "      <th>488</th>\n",
       "      <td>0</td>\n",
       "      <td>0.0</td>\n",
       "      <td>0.0</td>\n",
       "      <td>0.0</td>\n",
       "      <td>0.0</td>\n",
       "      <td>0.0</td>\n",
       "      <td>1.0</td>\n",
       "      <td>0.0</td>\n",
       "      <td>0.0</td>\n",
       "      <td>0.0</td>\n",
       "      <td>...</td>\n",
       "      <td>0.0</td>\n",
       "      <td>0.0</td>\n",
       "      <td>0.0</td>\n",
       "      <td>0.0</td>\n",
       "      <td>0.0</td>\n",
       "      <td>0.0</td>\n",
       "      <td>0.0</td>\n",
       "      <td>0.0</td>\n",
       "      <td>0.0</td>\n",
       "      <td>0.0</td>\n",
       "    </tr>\n",
       "    <tr>\n",
       "      <th>489</th>\n",
       "      <td>0</td>\n",
       "      <td>0.0</td>\n",
       "      <td>0.0</td>\n",
       "      <td>0.0</td>\n",
       "      <td>0.0</td>\n",
       "      <td>0.0</td>\n",
       "      <td>0.0</td>\n",
       "      <td>0.0</td>\n",
       "      <td>0.0</td>\n",
       "      <td>0.0</td>\n",
       "      <td>...</td>\n",
       "      <td>0.0</td>\n",
       "      <td>0.0</td>\n",
       "      <td>0.0</td>\n",
       "      <td>0.0</td>\n",
       "      <td>0.0</td>\n",
       "      <td>0.0</td>\n",
       "      <td>0.0</td>\n",
       "      <td>0.0</td>\n",
       "      <td>0.0</td>\n",
       "      <td>0.0</td>\n",
       "    </tr>\n",
       "    <tr>\n",
       "      <th>490</th>\n",
       "      <td>0</td>\n",
       "      <td>0.0</td>\n",
       "      <td>0.0</td>\n",
       "      <td>0.0</td>\n",
       "      <td>0.0</td>\n",
       "      <td>0.0</td>\n",
       "      <td>0.0</td>\n",
       "      <td>0.0</td>\n",
       "      <td>0.0</td>\n",
       "      <td>0.0</td>\n",
       "      <td>...</td>\n",
       "      <td>0.0</td>\n",
       "      <td>0.0</td>\n",
       "      <td>0.0</td>\n",
       "      <td>0.0</td>\n",
       "      <td>0.0</td>\n",
       "      <td>0.0</td>\n",
       "      <td>0.0</td>\n",
       "      <td>0.0</td>\n",
       "      <td>0.0</td>\n",
       "      <td>0.0</td>\n",
       "    </tr>\n",
       "  </tbody>\n",
       "</table>\n",
       "<p>491 rows × 17318 columns</p>\n",
       "</div>"
      ],
      "text/plain": [
       "     grading  A3GALT2  AADACL4  ABCB10  ABCD3  ABL2  ACADM  ACAP3  ACBD3  \\\n",
       "0          1      0.0      0.0     0.0    0.0   0.0    0.0    0.0    0.0   \n",
       "1          0      0.0      0.0     0.0    0.0   0.0    0.0    0.0    0.0   \n",
       "2          1      0.0      0.0     0.0    1.0   0.0    0.0    0.0    0.0   \n",
       "3          1      0.0      0.0     0.0    0.0   0.0    0.0    1.0    0.0   \n",
       "4          0      0.0      0.0     0.0    0.0   0.0    0.0    0.0    0.0   \n",
       "..       ...      ...      ...     ...    ...   ...    ...    ...    ...   \n",
       "486        0      0.0      0.0     0.0    0.0   0.0    0.0    0.0    0.0   \n",
       "487        0      0.0      0.0     0.0    0.0   0.0    0.0    0.0    0.0   \n",
       "488        0      0.0      0.0     0.0    0.0   0.0    1.0    0.0    0.0   \n",
       "489        0      0.0      0.0     0.0    0.0   0.0    0.0    0.0    0.0   \n",
       "490        0      0.0      0.0     0.0    0.0   0.0    0.0    0.0    0.0   \n",
       "\n",
       "     ACBD6  ...  KDM5D  NLGN4Y  PCDH11Y  PRORY  RPS4Y2  TBL1Y  TMSB4Y  USP9Y  \\\n",
       "0      0.0  ...    0.0     0.0      0.0    0.0     0.0    0.0     0.0    0.0   \n",
       "1      0.0  ...    0.0     0.0      0.0    0.0     0.0    0.0     0.0    0.0   \n",
       "2      0.0  ...    0.0     0.0      0.0    0.0     0.0    0.0     0.0    0.0   \n",
       "3      0.0  ...    0.0     0.0      0.0    0.0     0.0    0.0     0.0    0.0   \n",
       "4      0.0  ...    0.0     0.0      0.0    0.0     0.0    0.0     0.0    0.0   \n",
       "..     ...  ...    ...     ...      ...    ...     ...    ...     ...    ...   \n",
       "486    0.0  ...    0.0     0.0      0.0    0.0     0.0    0.0     0.0    0.0   \n",
       "487    0.0  ...    0.0     0.0      0.0    0.0     0.0    0.0     0.0    0.0   \n",
       "488    0.0  ...    0.0     0.0      0.0    0.0     0.0    0.0     0.0    0.0   \n",
       "489    0.0  ...    0.0     0.0      0.0    0.0     0.0    0.0     0.0    0.0   \n",
       "490    0.0  ...    0.0     0.0      0.0    0.0     0.0    0.0     0.0    0.0   \n",
       "\n",
       "     UTY  ZFY  \n",
       "0    0.0  0.0  \n",
       "1    0.0  0.0  \n",
       "2    0.0  0.0  \n",
       "3    0.0  0.0  \n",
       "4    0.0  0.0  \n",
       "..   ...  ...  \n",
       "486  0.0  0.0  \n",
       "487  0.0  0.0  \n",
       "488  0.0  0.0  \n",
       "489  0.0  0.0  \n",
       "490  0.0  0.0  \n",
       "\n",
       "[491 rows x 17318 columns]"
      ]
     },
     "execution_count": 16,
     "metadata": {},
     "output_type": "execute_result"
    }
   ],
   "source": [
    "df"
   ]
  },
  {
   "cell_type": "markdown",
   "metadata": {},
   "source": [
    "# Optimizing Lasso Classification "
   ]
  },
  {
   "cell_type": "code",
   "execution_count": 17,
   "metadata": {},
   "outputs": [],
   "source": [
    "target_variable = 'grading'\n",
    "input_variables = df.columns[df.columns!=target_variable]\n",
    "\n",
    "X = df[input_variables]\n",
    "y = df[target_variable]\n",
    "#X_nic = pd.read_csv('../Data/Male/X_antonio.csv')\n",
    "#y_nic = pd.read_csv('../Data/Male/y_antonio.csv')['0']"
   ]
  },
  {
   "cell_type": "code",
   "execution_count": 18,
   "metadata": {},
   "outputs": [],
   "source": [
    "#X_nic.drop(columns='Unnamed: 0', inplace= True)"
   ]
  },
  {
   "cell_type": "code",
   "execution_count": 19,
   "metadata": {},
   "outputs": [],
   "source": [
    "#y_nic.drop(columns='Unnamed: 0', inplace=True)"
   ]
  },
  {
   "cell_type": "code",
   "execution_count": 21,
   "metadata": {},
   "outputs": [
    {
     "ename": "NameError",
     "evalue": "name 'X_nic' is not defined",
     "output_type": "error",
     "traceback": [
      "\u001b[0;31m---------------------------------------------------------------------------\u001b[0m",
      "\u001b[0;31mNameError\u001b[0m                                 Traceback (most recent call last)",
      "\u001b[0;32m<ipython-input-21-74002df062dc>\u001b[0m in \u001b[0;36m<module>\u001b[0;34m()\u001b[0m\n\u001b[0;32m----> 1\u001b[0;31m \u001b[0mnp\u001b[0m\u001b[0;34m.\u001b[0m\u001b[0msetdiff1d\u001b[0m\u001b[0;34m(\u001b[0m\u001b[0mX\u001b[0m\u001b[0;34m.\u001b[0m\u001b[0mcolumns\u001b[0m\u001b[0;34m,\u001b[0m \u001b[0mX_nic\u001b[0m\u001b[0;34m.\u001b[0m\u001b[0mcolumns\u001b[0m\u001b[0;34m)\u001b[0m\u001b[0;34m.\u001b[0m\u001b[0mshape\u001b[0m\u001b[0;34m[\u001b[0m\u001b[0;36m0\u001b[0m\u001b[0;34m]\u001b[0m\u001b[0;34m\u001b[0m\u001b[0;34m\u001b[0m\u001b[0m\n\u001b[0m",
      "\u001b[0;31mNameError\u001b[0m: name 'X_nic' is not defined"
     ]
    }
   ],
   "source": [
    "#np.setdiff1d(X.columns, X_nic.columns).shape[0]"
   ]
  },
  {
   "cell_type": "code",
   "execution_count": 20,
   "metadata": {},
   "outputs": [],
   "source": [
    "X.columns += '_rare_AD'"
   ]
  },
  {
   "cell_type": "code",
   "execution_count": 24,
   "metadata": {
    "scrolled": true
   },
   "outputs": [
    {
     "name": "stdout",
     "output_type": "stream",
     "text": [
      "Class  0  51.7%\n",
      "Class  1  48.3%\n",
      "\n"
     ]
    }
   ],
   "source": [
    "print(\"Class %2d  %.1f%%\\nClass %2d  %.1f%%\\n\"%((y.value_counts()/y.shape[0]).index[0],100*(y.value_counts()/y.shape[0]).values[0],(y.value_counts()/y.shape[0]).index[1],100*(y.value_counts()/y.shape[0]).values[1]))"
   ]
  },
  {
   "cell_type": "code",
   "execution_count": 25,
   "metadata": {},
   "outputs": [],
   "source": [
    "np.random.seed(1234)\n",
    "\n",
    "X_train, X_test, y_train, y_test = \\\n",
    "    train_test_split(X, y, train_size= 0.9, random_state=1234, shuffle=True)\n",
    "\n",
    "crossvalidation = StratifiedKFold(n_splits=10, shuffle=True, random_state=1234)"
   ]
  },
  {
   "cell_type": "code",
   "execution_count": 26,
   "metadata": {},
   "outputs": [],
   "source": [
    "c = np.logspace(np.log10(1e-2), np.log10(1e3), 51)"
   ]
  },
  {
   "cell_type": "code",
   "execution_count": 27,
   "metadata": {},
   "outputs": [
    {
     "name": "stdout",
     "output_type": "stream",
     "text": [
      "[LibLinear]"
     ]
    },
    {
     "data": {
      "text/plain": [
       "GridSearchCV(cv=StratifiedKFold(n_splits=10, random_state=1234, shuffle=True),\n",
       "             estimator=LogisticRegression(penalty='l1', random_state=1234,\n",
       "                                          solver='liblinear', verbose=1),\n",
       "             n_jobs=-1,\n",
       "             param_grid={'C': array([1.00000000e-02, 1.25892541e-02, 1.58489319e-02, 1.99526231e-02,\n",
       "       2.51188643e-02, 3.16227766e-02, 3.98107171e-02, 5.01187234e-02,\n",
       "       6.30957344e-02, 7.94328235e-02, 1...\n",
       "       6.30957344e+00, 7.94328235e+00, 1.00000000e+01, 1.25892541e+01,\n",
       "       1.58489319e+01, 1.99526231e+01, 2.51188643e+01, 3.16227766e+01,\n",
       "       3.98107171e+01, 5.01187234e+01, 6.30957344e+01, 7.94328235e+01,\n",
       "       1.00000000e+02, 1.25892541e+02, 1.58489319e+02, 1.99526231e+02,\n",
       "       2.51188643e+02, 3.16227766e+02, 3.98107171e+02, 5.01187234e+02,\n",
       "       6.30957344e+02, 7.94328235e+02, 1.00000000e+03])},\n",
       "             scoring='roc_auc')"
      ]
     },
     "execution_count": 27,
     "metadata": {},
     "output_type": "execute_result"
    }
   ],
   "source": [
    "lasso = LogisticRegression(random_state=1234, solver=\"liblinear\", penalty='l1',verbose=1)\n",
    "parameters = {'C':c}\n",
    "lasso_gs = GridSearchCV(lasso, parameters, n_jobs=-1, cv=crossvalidation, scoring='roc_auc')\n",
    "lasso_gs.fit(X,y)"
   ]
  },
  {
   "cell_type": "code",
   "execution_count": 28,
   "metadata": {},
   "outputs": [],
   "source": [
    "s = {'score':lasso_gs.cv_results_['mean_test_score'],'std':lasso_gs.cv_results_['std_test_score'],'c':1/c}\n",
    "scores = pd.DataFrame(data=s)"
   ]
  },
  {
   "cell_type": "code",
   "execution_count": 29,
   "metadata": {},
   "outputs": [
    {
     "data": {
      "text/plain": [
       "[<matplotlib.lines.Line2D at 0x7fc4e580edd0>]"
      ]
     },
     "execution_count": 29,
     "metadata": {},
     "output_type": "execute_result"
    },
    {
     "data": {
      "image/png": "[encoded data removed]",
      "text/plain": [
       "<Figure size 1080x504 with 1 Axes>"
      ]
     },
     "metadata": {
      "needs_background": "light"
     },
     "output_type": "display_data"
    }
   ],
   "source": [
    "plt.figure(figsize=(15,7))\n",
    "ax = sns.lineplot(data=scores, x='c', y='score', ci=scores.std, markers=True, marker='o')\n",
    "ax.fill_between(1/parameters['C'], y1=lasso_gs.cv_results_['mean_test_score'] - lasso_gs.cv_results_['std_test_score'], \n",
    "                y2=lasso_gs.cv_results_['mean_test_score'] + lasso_gs.cv_results_['std_test_score'], alpha=.2)\n",
    "ax.set_xscale('log')\n",
    "ax.set_ylabel('ROC AUC')\n",
    "ax.set_xlabel('REGULARIZATION FACTOR')\n",
    "ax.set_title('Lasso LogisticRegression GridSearch')\n",
    "plt.plot(1/parameters['C'][11],lasso_gs.cv_results_['mean_test_score'][11], 'ok', markersize=5, color='red')\n",
    "#ax.set_ylim([0.475,0.7])"
   ]
  },
  {
   "cell_type": "code",
   "execution_count": 30,
   "metadata": {},
   "outputs": [
    {
     "data": {
      "text/plain": [
       "LogisticRegression(C=501.18723362727246, penalty='l1', random_state=1234,\n",
       "                   solver='liblinear', verbose=1)"
      ]
     },
     "execution_count": 30,
     "metadata": {},
     "output_type": "execute_result"
    }
   ],
   "source": [
    "lasso_gs.best_estimator_"
   ]
  },
  {
   "cell_type": "code",
   "execution_count": 31,
   "metadata": {},
   "outputs": [],
   "source": [
    "c_nicola = 0.125892541"
   ]
  },
  {
   "cell_type": "code",
   "execution_count": 32,
   "metadata": {},
   "outputs": [
    {
     "data": {
      "text/plain": [
       "0.12589254117941676"
      ]
     },
     "execution_count": 32,
     "metadata": {},
     "output_type": "execute_result"
    }
   ],
   "source": [
    "c[11]"
   ]
  },
  {
   "cell_type": "code",
   "execution_count": 33,
   "metadata": {},
   "outputs": [
    {
     "name": "stdout",
     "output_type": "stream",
     "text": [
      "[LibLinear][LibLinear][LibLinear][LibLinear][LibLinear][LibLinear][LibLinear][LibLinear][LibLinear][LibLinear][LibLinear][LibLinear][LibLinear][LibLinear][LibLinear][LibLinear][LibLinear][LibLinear][LibLinear][LibLinear][LibLinear][LibLinear][LibLinear][LibLinear][LibLinear][LibLinear][LibLinear][LibLinear][LibLinear][LibLinear][LibLinear][LibLinear][LibLinear][LibLinear][LibLinear][LibLinear][LibLinear][LibLinear][LibLinear][LibLinear][LibLinear][LibLinear][LibLinear][LibLinear][LibLinear][LibLinear][LibLinear][LibLinear][LibLinear][LibLinear][LibLinear]\n",
      "\n",
      "                                   Lasso\n",
      "========================================\n",
      "\t  Accuracy (CV) 0.560 0.046\n",
      "\t      Precision 0.613\n",
      "\t      Recall    0.206\n",
      "\t      F1        0.301\n",
      "\t      AUC        0.575\n",
      "\n",
      "\n"
     ]
    }
   ],
   "source": [
    "method_name = 'Lasso'\n",
    "\n",
    "#lasso = lasso_gs.best_estimator_\n",
    "lasso = LogisticRegression(C=c[11], penalty='l1', random_state=1234, solver='liblinear', verbose=1)\n",
    "\n",
    "xval_score = cross_val_score(lasso,X,y,cv=crossvalidation)\n",
    "\n",
    "# compute the basic statistics\n",
    "accuracy_mean = np.average(xval_score)\n",
    "accuracy_std = np.std(xval_score)\n",
    "\n",
    "lasso.fit(X,y)\n",
    "\n",
    "importances = lasso.coef_\n",
    "\n",
    "prec = np.average(cross_val_score(lasso,X,y,cv=crossvalidation, scoring='precision'))\n",
    "    \n",
    "rec = np.average(cross_val_score(lasso,X,y,cv=crossvalidation, scoring='recall'))\n",
    "    \n",
    "f1_metric = np.average(cross_val_score(lasso,X,y,cv=crossvalidation, scoring='f1'))\n",
    "    \n",
    "auc_metric = np.average(cross_val_score(lasso,X,y,cv=crossvalidation, scoring='roc_auc'))\n",
    "\n",
    "\n",
    "print('\\n')    \n",
    "print(\"%40s\"%method_name)\n",
    "print(\"========================================\")\n",
    "print(\"\\t  Accuracy (CV) %.3f %.3f\"%(np.average(xval_score),np.std(xval_score)))\n",
    "print(\"\\t      Precision %.3f\"%prec)\n",
    "print(\"\\t      Recall    %.3f\"%rec)\n",
    "print(\"\\t      F1        %.3f\"%f1_metric)\n",
    "print(\"\\t      AUC        %.3f\"%auc_metric)\n",
    "print(\"\\n\")"
   ]
  },
  {
   "cell_type": "code",
   "execution_count": 34,
   "metadata": {},
   "outputs": [
    {
     "data": {
      "text/plain": [
       "17317"
      ]
     },
     "execution_count": 34,
     "metadata": {},
     "output_type": "execute_result"
    }
   ],
   "source": [
    "importances = lasso.coef_.flatten()\n",
    "importances.shape[0]"
   ]
  },
  {
   "cell_type": "code",
   "execution_count": 35,
   "metadata": {},
   "outputs": [],
   "source": [
    "indices = np.argsort(np.absolute(importances))[::-1]#[0:100]\n",
    "indices = indices[np.absolute(importances[indices])>0.000001]"
   ]
  },
  {
   "cell_type": "code",
   "execution_count": 36,
   "metadata": {},
   "outputs": [],
   "source": [
    "selected_features = importances[indices]"
   ]
  },
  {
   "cell_type": "code",
   "execution_count": 37,
   "metadata": {},
   "outputs": [
    {
     "data": {
      "text/plain": [
       "12"
      ]
     },
     "execution_count": 37,
     "metadata": {},
     "output_type": "execute_result"
    }
   ],
   "source": [
    "len(selected_features)"
   ]
  },
  {
   "cell_type": "code",
   "execution_count": 38,
   "metadata": {},
   "outputs": [
    {
     "data": {
      "image/png": "[encoded data removed]",
      "text/plain": [
       "<Figure size 1080x504 with 1 Axes>"
      ]
     },
     "metadata": {
      "needs_background": "light"
     },
     "output_type": "display_data"
    }
   ],
   "source": [
    "n_features = len(selected_features)\n",
    "\n",
    "fig, ax = plt.subplots(figsize=(15,7))\n",
    "\n",
    "plt.title(\"Lasso Feature importances male rare AD\")\n",
    "\n",
    "ax.bar(range(n_features), importances[indices],\n",
    "        color=\"#457b9d\", yerr=None, align=\"center\")\n",
    "\n",
    "plt.xticks(range(n_features), X.columns[indices],rotation='-90')\n",
    "#ax.get_xticklabels()[1].set_fontweight(\"bold\")\n",
    "#ax.get_xticklabels()[4].set_fontweight(\"bold\")\n",
    "#ax.get_xticklabels()[16].set_fontweight(\"bold\")\n",
    "\n",
    "plt.xlim([-1, len(selected_features)])#X.shape[1]])\n",
    "plt.tight_layout()\n",
    "#plt.savefig('./Plots/Feature_importances_adjbyage.png',dpi=150)\n",
    "plt.show()"
   ]
  },
  {
   "cell_type": "code",
   "execution_count": 39,
   "metadata": {},
   "outputs": [
    {
     "name": "stdout",
     "output_type": "stream",
     "text": [
      "[LibLinear][LibLinear][LibLinear][LibLinear][LibLinear][LibLinear][LibLinear][LibLinear][LibLinear][LibLinear]"
     ]
    }
   ],
   "source": [
    "yp_cv = cross_val_predict(lasso, X, y, cv=crossvalidation)\n",
    "tn, fp, fn, tp = confusion_matrix(y, yp_cv).ravel()\n",
    "\n",
    "#tn, fp, fn, tp = confusion_matrix(y_test, yp).ravel()\n",
    "\n",
    "conf = [[tn,fn],[fp,tp]]\n",
    "\n",
    "confusion = np.array(conf)"
   ]
  },
  {
   "cell_type": "code",
   "execution_count": 40,
   "metadata": {},
   "outputs": [
    {
     "data": {
      "text/plain": [
       "Text(0.5, 1.0, 'Lasso Confusion Matrix')"
      ]
     },
     "execution_count": 40,
     "metadata": {},
     "output_type": "execute_result"
    },
    {
     "data": {
      "image/png": "[encoded data removed]",
      "text/plain": [
       "<Figure size 432x288 with 2 Axes>"
      ]
     },
     "metadata": {
      "needs_background": "light"
     },
     "output_type": "display_data"
    }
   ],
   "source": [
    "ax = sns.heatmap(confusion, annot=True, cmap='Blues',fmt='g')\n",
    "ax.set_ylabel('Predicted')\n",
    "ax.set_xlabel('Reference')\n",
    "ax.set_title('Lasso Confusion Matrix')\n",
    "#ax.set_xticklabels(['Absent','Present'])\n",
    "#ax.set_yticklabels(['Absent','Present'])\n",
    "#plt.savefig('./Plots/Lasso Confusion matrix adj by age.png', dpi=150)"
   ]
  }
 ],
 "metadata": {
  "kernelspec": {
   "display_name": "Python 3",
   "language": "python",
   "name": "python3"
  },
  "language_info": {
   "codemirror_mode": {
    "name": "ipython",
    "version": 3
   },
   "file_extension": ".py",
   "mimetype": "text/x-python",
   "name": "python",
   "nbconvert_exporter": "python",
   "pygments_lexer": "ipython3",
   "version": "3.7.9"
  }
 },
 "nbformat": 4,
 "nbformat_minor": 4
}
