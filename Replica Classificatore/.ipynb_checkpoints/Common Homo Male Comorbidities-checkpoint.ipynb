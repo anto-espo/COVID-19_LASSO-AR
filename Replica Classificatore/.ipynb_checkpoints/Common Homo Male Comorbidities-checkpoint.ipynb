{
 "cells": [
  {
   "cell_type": "code",
   "execution_count": 1,
   "metadata": {},
   "outputs": [],
   "source": [
    "import pandas as pd \n",
    "import numpy as np \n",
    "import seaborn as sns\n",
    "import scipy as sp\n",
    "import matplotlib.pyplot as plt\n",
    "import re\n",
    "from os import listdir\n",
    "from os.path import isfile, join\n",
    "from scipy import stats\n",
    "\n",
    "from sklearn import preprocessing\n",
    "\n",
    "from sklearn.linear_model import LogisticRegression\n",
    "from sklearn.naive_bayes import GaussianNB\n",
    "from sklearn.neighbors import KNeighborsClassifier\n",
    "from sklearn.tree import DecisionTreeClassifier\n",
    "from sklearn.feature_selection import SelectFromModel\n",
    "\n",
    "from sklearn.ensemble import RandomForestClassifier\n",
    "from sklearn.ensemble import ExtraTreesClassifier\n",
    "from sklearn.ensemble import AdaBoostClassifier\n",
    "from sklearn.ensemble import BaggingClassifier\n",
    "\n",
    "from sklearn.ensemble import VotingClassifier\n",
    "\n",
    "# Evaluation Procedures\n",
    "from sklearn.model_selection import train_test_split\n",
    "from sklearn.model_selection import cross_val_score\n",
    "from sklearn.model_selection import cross_val_predict\n",
    "from sklearn.model_selection import StratifiedKFold\n",
    "from sklearn.model_selection import GridSearchCV\n",
    "from sklearn.model_selection import RandomizedSearchCV\n",
    "\n",
    "from sklearn.metrics import precision_score\n",
    "from sklearn.metrics import recall_score \n",
    "from sklearn.metrics import accuracy_score\n",
    "from sklearn.metrics import confusion_matrix \n",
    "from sklearn.metrics import precision_recall_curve \n",
    "from sklearn.metrics import roc_auc_score\n",
    "from sklearn.metrics import plot_roc_curve\n",
    "from sklearn.metrics import roc_curve\n",
    "from sklearn.metrics import f1_score\n",
    "from sklearn.metrics import auc"
   ]
  },
  {
   "cell_type": "code",
   "execution_count": null,
   "metadata": {},
   "outputs": [],
   "source": [
    "rare_AD = pd.read_csv('../Data/data_gc_homo_poly_unique_1319.csv')"
   ]
  },
  {
   "cell_type": "code",
   "execution_count": null,
   "metadata": {},
   "outputs": [],
   "source": [
    "pheno = pd.read_csv('../Data/phenotypes_1319.csv',sep=';')"
   ]
  },
  {
   "cell_type": "code",
   "execution_count": null,
   "metadata": {},
   "outputs": [],
   "source": [
    "pheno.rename(columns={'diabetes (1=affected, 0=not affected, N/A= data not available)':'Diabetes',\n",
    "                     'hypertension (1=affected, 0=not affected, N/A= data not available)':'Hypertension',\n",
    "                     'cancer  (1=affected, 0=not affected, N/A= data not available)':'Cancer',\n",
    "                     'Autoimmune disease (1 = Yes, 0 = No)':'Autoimmune disease',\n",
    "                     'Congestive/Ischemic Heart Failure (1= Yes; 0=No)':'Congestive/Ischemic Heart Failure',\n",
    "                     'Obesity (1= Yes; 0=No)':'Obesity',\n",
    "                     'Dyslipidemia (1= Yes; 0=No)':'Dyslipidemia',\n",
    "                     'Hypothyroidism (1= Yes; 0=No)':'Hypothyroidism',\n",
    "                     'Asthma/COPD/OSAS (1= Yes; 0=No)':'Asthma/COPD/OSAS'}, inplace=True)"
   ]
  },
  {
   "cell_type": "markdown",
   "metadata": {},
   "source": [
    "Scarto gli artefatti"
   ]
  },
  {
   "cell_type": "code",
   "execution_count": null,
   "metadata": {},
   "outputs": [],
   "source": [
    "rare_AD.drop(columns=['ARSD_0', 'ARSD_1', 'ARSD_2', 'VCX_1','VCX2_1'], inplace=True, axis=1)\n",
    "len(rare_AD.columns)"
   ]
  },
  {
   "cell_type": "markdown",
   "metadata": {},
   "source": [
    "Scarto le mutazioni che terminano con `_0`"
   ]
  },
  {
   "cell_type": "code",
   "execution_count": null,
   "metadata": {},
   "outputs": [],
   "source": [
    "#todrop = rare_AD.columns[rare_AD.columns.str.contains('_0')].tolist()\n",
    "#rare_AD.drop(columns=todrop, inplace=True)\n",
    "#len(rare_AD.columns)"
   ]
  },
  {
   "cell_type": "code",
   "execution_count": null,
   "metadata": {},
   "outputs": [],
   "source": [
    "12947-7607"
   ]
  },
  {
   "cell_type": "markdown",
   "metadata": {},
   "source": [
    "Rimuovo i geni del cromosoma X"
   ]
  },
  {
   "cell_type": "code",
   "execution_count": null,
   "metadata": {},
   "outputs": [],
   "source": [
    "chr_X = pd.read_csv('../Data/Male/genes_chrX.csv')\n",
    "genes_X = np.intersect1d(chr_X['genes_x'].tolist(), rare_AD.columns.tolist())\n",
    "genes_X = chr_X['genes_x'].tolist()"
   ]
  },
  {
   "cell_type": "code",
   "execution_count": null,
   "metadata": {},
   "outputs": [],
   "source": [
    "selected = []\n",
    "for x in rare_AD.columns:\n",
    "    gene = x.split('_')[0]\n",
    "    if gene in chr_X['genes_x'].tolist():\n",
    "        selected.append(x)"
   ]
  },
  {
   "cell_type": "code",
   "execution_count": null,
   "metadata": {},
   "outputs": [],
   "source": [
    "rare_AD.drop(columns=selected, inplace=True)\n",
    "len(rare_AD.columns)"
   ]
  },
  {
   "cell_type": "markdown",
   "metadata": {},
   "source": [
    "Filtro per etnia"
   ]
  },
  {
   "cell_type": "code",
   "execution_count": null,
   "metadata": {},
   "outputs": [],
   "source": [
    "#pheno['Ethnicity'] = pheno['Ethnicity (white=1, black=2, asian=3, hispanic=4)']\n",
    "#pheno = pheno[(pheno['Ethnicity']=='1') | (pheno['Ethnicity'].isna())]"
   ]
  },
  {
   "cell_type": "markdown",
   "metadata": {},
   "source": [
    "Mantengo solo pazienti con un grading"
   ]
  },
  {
   "cell_type": "code",
   "execution_count": null,
   "metadata": {},
   "outputs": [],
   "source": [
    "pheno = pheno[pheno['grading_1319_adj_a_s'].notna()]"
   ]
  },
  {
   "cell_type": "markdown",
   "metadata": {},
   "source": [
    "Scarto pazienti senza età"
   ]
  },
  {
   "cell_type": "code",
   "execution_count": null,
   "metadata": {},
   "outputs": [],
   "source": [
    "pheno = pheno[pheno['Age'].notna()]"
   ]
  },
  {
   "cell_type": "markdown",
   "metadata": {},
   "source": [
    "Cambio l'indice dei pazienti"
   ]
  },
  {
   "cell_type": "code",
   "execution_count": null,
   "metadata": {},
   "outputs": [],
   "source": [
    "pheno.rename(columns={\"UsedSampleCode\":\"key\"}, inplace=True)\n",
    "pheno.set_index('key',inplace=True)"
   ]
  },
  {
   "cell_type": "markdown",
   "metadata": {},
   "source": [
    "Scarto pazienti non corrispondenti"
   ]
  },
  {
   "cell_type": "code",
   "execution_count": null,
   "metadata": {},
   "outputs": [],
   "source": [
    "rare_AD.rename(columns={\"Unnamed: 0\": \"key\"}, inplace=True)\n",
    "rare_AD.set_index('key',inplace=True)\n",
    "\n",
    "rare_AD = rare_AD[rare_AD.index != 'COV2925-1241_hg38']\n",
    "rare_AD = rare_AD[rare_AD.index != 'COV2928-1242_hg38']\n",
    "rare_AD = rare_AD[rare_AD.index != 'COV3204-1334_hg38']\n",
    "rare_AD = rare_AD[rare_AD.index != 'COV3196-1326_hg38']\n",
    "rare_AD = rare_AD[rare_AD.index != 'COV2735-1159_hg38']\n",
    "rare_AD = rare_AD[rare_AD.index != 'COV3211-1341_hg38']\n",
    "rare_AD = rare_AD[rare_AD.index != 'COV2233-939_hg38']\n",
    "\n",
    "rare_AD.index = rare_AD.index.str.replace('_hg38','')"
   ]
  },
  {
   "cell_type": "code",
   "execution_count": null,
   "metadata": {},
   "outputs": [],
   "source": [
    "grading = pheno[['grading_1319_adj_a_s','Diabetes', 'Hypertension',\n",
    "                 'Cancer', 'Autoimmune disease','Congestive/Ischemic Heart Failure', \n",
    "                 'Asthma/COPD/OSAS',\n",
    "       'Hypothyroidism', 'Obesity', 'Dyslipidemia','Gender (M=0, F=1)']]\n",
    "\n",
    "df = rare_AD.join(grading, on='key')\n",
    "df.rename(columns={'grading_1319_adj_a_s':'grading'}, inplace=True)\n",
    "\n",
    "df"
   ]
  },
  {
   "cell_type": "markdown",
   "metadata": {},
   "source": [
    "Mantengo solo le femmine"
   ]
  },
  {
   "cell_type": "code",
   "execution_count": null,
   "metadata": {},
   "outputs": [],
   "source": [
    "df = df[df['Gender (M=0, F=1)']==0].iloc[:,:-1]\n",
    "\n",
    "df = df[df['grading']!='none']\n",
    "df.dropna(inplace=True)"
   ]
  },
  {
   "cell_type": "code",
   "execution_count": null,
   "metadata": {},
   "outputs": [],
   "source": [
    "#df.drop(columns=value_counts[value_counts['percentage of 1'] > 90].mutation, inplace=True)\n",
    "df = df.apply(pd.to_numeric, errors='coerce')\n",
    "df = df.dropna()\n",
    "df.reset_index(inplace=True)"
   ]
  },
  {
   "cell_type": "code",
   "execution_count": null,
   "metadata": {},
   "outputs": [],
   "source": [
    "df.drop(columns='key',inplace=True)"
   ]
  },
  {
   "cell_type": "code",
   "execution_count": null,
   "metadata": {},
   "outputs": [],
   "source": [
    "df"
   ]
  },
  {
   "cell_type": "markdown",
   "metadata": {},
   "source": [
    "Scarto le mutazioni non informative"
   ]
  },
  {
   "cell_type": "code",
   "execution_count": null,
   "metadata": {},
   "outputs": [],
   "source": [
    "value_counts = df.apply(pd.Series.value_counts)\n",
    "value_counts = value_counts.transpose()\n",
    "value_counts.columns = value_counts.columns.astype(str)\n",
    "value_counts = value_counts.reset_index()\n",
    "value_counts.rename(columns={'index':'mutation'}, inplace=True)\n",
    "value_counts['percentage of 1'] = value_counts.apply(lambda row : row['1']/(len(df)), axis=1)"
   ]
  },
  {
   "cell_type": "code",
   "execution_count": null,
   "metadata": {},
   "outputs": [],
   "source": [
    "df.drop(columns=value_counts[value_counts[value_counts.columns[1]] >= len(df)].mutation, inplace=True)\n",
    "df.drop(columns=value_counts[value_counts[value_counts.columns[2]] >= len(df)].mutation, inplace=True)"
   ]
  },
  {
   "cell_type": "markdown",
   "metadata": {},
   "source": [
    "# Optimizing Lasso Classification "
   ]
  },
  {
   "cell_type": "code",
   "execution_count": null,
   "metadata": {},
   "outputs": [],
   "source": [
    "target_variable = 'grading'\n",
    "input_variables = df.columns[df.columns!=target_variable]\n",
    "\n",
    "X = df[input_variables]\n",
    "X.columns.values[:-9] += '_homo'\n",
    "y = df[target_variable]\n",
    "X_nic = pd.read_csv('../Data/Male/X_GC_homo_male_antonio.csv', sep=';')\n",
    "X_nic.drop(columns='Unnamed: 0', inplace=True)\n",
    "y_nic = pd.read_csv('../Data/Male/y_GC_homo_male_antonio.csv', sep=';')['0']"
   ]
  },
  {
   "cell_type": "code",
   "execution_count": null,
   "metadata": {},
   "outputs": [],
   "source": [
    "len(X_nic.columns.tolist())"
   ]
  },
  {
   "cell_type": "code",
   "execution_count": null,
   "metadata": {},
   "outputs": [],
   "source": [
    "len(X_nic.columns.tolist()) - len(X.columns.tolist())"
   ]
  },
  {
   "cell_type": "code",
   "execution_count": null,
   "metadata": {},
   "outputs": [],
   "source": [
    "np.setdiff1d(X_nic.columns.tolist(), X.columns.tolist())"
   ]
  },
  {
   "cell_type": "code",
   "execution_count": null,
   "metadata": {
    "scrolled": true
   },
   "outputs": [],
   "source": [
    "print(\"Class %2d  %.1f%%\\nClass %2d  %.1f%%\\n\"%((y.value_counts()/y.shape[0]).index[0],100*(y.value_counts()/y.shape[0]).values[0],(y.value_counts()/y.shape[0]).index[1],100*(y.value_counts()/y.shape[0]).values[1]))"
   ]
  },
  {
   "cell_type": "code",
   "execution_count": null,
   "metadata": {},
   "outputs": [],
   "source": [
    "np.random.seed(1234)\n",
    "\n",
    "X_train, X_test, y_train, y_test = \\\n",
    "    train_test_split(X, y, train_size= 0.9, random_state=1234, shuffle=True)\n",
    "\n",
    "crossvalidation = StratifiedKFold(n_splits=10, shuffle=True, random_state=1234)"
   ]
  },
  {
   "cell_type": "code",
   "execution_count": null,
   "metadata": {},
   "outputs": [],
   "source": [
    "c = np.logspace(np.log10(1e-2), np.log10(1e3), 51)"
   ]
  },
  {
   "cell_type": "code",
   "execution_count": null,
   "metadata": {},
   "outputs": [],
   "source": [
    "lasso = LogisticRegression(random_state=1234, solver=\"liblinear\",penalty='l1',verbose=1)\n",
    "parameters = {'C':c}\n",
    "lasso_gs = GridSearchCV(lasso, parameters, n_jobs=-1, cv=crossvalidation, scoring='roc_auc')\n",
    "lasso_gs.fit(X_train,y_train)"
   ]
  },
  {
   "cell_type": "code",
   "execution_count": null,
   "metadata": {},
   "outputs": [],
   "source": [
    "s = {'score':lasso_gs.cv_results_['mean_test_score'],'std':lasso_gs.cv_results_['std_test_score'],'c':1/c}\n",
    "scores = pd.DataFrame(data=s)"
   ]
  },
  {
   "cell_type": "code",
   "execution_count": null,
   "metadata": {},
   "outputs": [],
   "source": [
    "sns.set_theme()\n",
    "plt.figure(figsize=(15,7))\n",
    "ax = sns.lineplot(data=scores, x='c', y='score', ci=scores.std, markers=True, marker='o')\n",
    "ax.fill_between(1/parameters['C'], y1=lasso_gs.cv_results_['mean_test_score'] - lasso_gs.cv_results_['std_test_score'], \n",
    "                y2=lasso_gs.cv_results_['mean_test_score'] + lasso_gs.cv_results_['std_test_score'], alpha=.2)\n",
    "ax.set_xscale('log')\n",
    "ax.set_ylabel('ACCURACY')\n",
    "ax.set_xlabel('REGULARIZATION FACTOR')\n",
    "ax.set_title('Lasso LogisticRegression GridSearch')\n",
    "plt.plot(1/lasso_gs.best_estimator_.C,lasso_gs.best_score_, 'ok', markersize=5, color='red')\n",
    "#ax.set_ylim([0.475,0.7])"
   ]
  },
  {
   "cell_type": "code",
   "execution_count": null,
   "metadata": {},
   "outputs": [],
   "source": [
    "lasso_gs.best_estimator_"
   ]
  },
  {
   "cell_type": "code",
   "execution_count": null,
   "metadata": {},
   "outputs": [],
   "source": [
    "method_name = 'Lasso'\n",
    "\n",
    "#lasso = lasso_gs.best_estimator_\n",
    "lasso = LogisticRegression(C=c[8], penalty='l1', random_state=5, solver='liblinear', verbose=1)\n",
    "\n",
    "xval_score = cross_val_score(lasso,X_train,y_train,cv=crossvalidation)\n",
    "\n",
    "# compute the basic statistics\n",
    "accuracy_mean = np.average(xval_score)\n",
    "accuracy_std = np.std(xval_score)\n",
    "\n",
    "lasso.fit(X_train,y_train)\n",
    "yp = lasso.predict(X_test)\n",
    "\n",
    "importances = lasso.coef_\n",
    "\n",
    "prec = np.average(cross_val_score(lasso,X_train,y_train,cv=crossvalidation, scoring='precision'))\n",
    "    \n",
    "rec = np.average(cross_val_score(lasso,X_train,y_train,cv=crossvalidation, scoring='recall'))\n",
    "    \n",
    "f1_metric = np.average(cross_val_score(lasso,X_train,y_train,cv=crossvalidation, scoring='f1'))\n",
    "    \n",
    "auc_metric = np.average(cross_val_score(lasso,X_train,y_train,cv=crossvalidation, scoring='roc_auc'))\n",
    "\n",
    "\n",
    "print('\\n')    \n",
    "print(\"%40s\"%method_name)\n",
    "print(\"========================================\")\n",
    "print(\"\\t  Accuracy (CV) %.3f %.3f\"%(np.average(xval_score),np.std(xval_score)))\n",
    "print(\"\\tAccuracy (Test) %.3f\"%accuracy_score(y_test, yp))\n",
    "print(\"\\t      Precision %.3f\"%prec)\n",
    "print(\"\\t      Recall    %.3f\"%rec)\n",
    "print(\"\\t      F1        %.3f\"%f1_metric)\n",
    "print(\"\\t      AUC (CV)  %.3f\"%auc_metric)\n",
    "print(\"\\t      AUC (Test)%.3f\"%roc_auc_score(y_test, yp))\n",
    "print(\"\\n\")"
   ]
  },
  {
   "cell_type": "code",
   "execution_count": null,
   "metadata": {},
   "outputs": [],
   "source": [
    "importances = lasso.coef_.flatten()\n",
    "importances.shape[0]"
   ]
  },
  {
   "cell_type": "code",
   "execution_count": null,
   "metadata": {},
   "outputs": [],
   "source": [
    "indices = np.argsort(np.absolute(importances))[::-1]#[0:100]\n",
    "indices = indices[np.absolute(importances[indices])>0.000001]"
   ]
  },
  {
   "cell_type": "code",
   "execution_count": null,
   "metadata": {},
   "outputs": [],
   "source": [
    "selected_features = importances[indices]"
   ]
  },
  {
   "cell_type": "code",
   "execution_count": null,
   "metadata": {},
   "outputs": [],
   "source": [
    "len(selected_features)"
   ]
  },
  {
   "cell_type": "code",
   "execution_count": null,
   "metadata": {},
   "outputs": [],
   "source": [
    "n_features = len(selected_features)\n",
    "\n",
    "fig, ax = plt.subplots(figsize=(15,7))\n",
    "\n",
    "plt.title(\"Lasso Feature importances female rare AD\")\n",
    "\n",
    "ax.bar(range(n_features), importances[indices],\n",
    "        color=\"#457b9d\", yerr=None, align=\"center\")\n",
    "\n",
    "plt.xticks(range(n_features), X.columns[indices],rotation='-90')\n",
    "#ax.get_xticklabels()[1].set_fontweight(\"bold\")\n",
    "#ax.get_xticklabels()[4].set_fontweight(\"bold\")\n",
    "#ax.get_xticklabels()[16].set_fontweight(\"bold\")\n",
    "\n",
    "plt.xlim([-1, len(selected_features)])#X.shape[1]])\n",
    "plt.tight_layout()\n",
    "#plt.savefig('./Plots/Feature_importances_adjbyage.png',dpi=150)\n",
    "plt.show()"
   ]
  },
  {
   "cell_type": "code",
   "execution_count": null,
   "metadata": {
    "scrolled": false
   },
   "outputs": [],
   "source": [
    "tprs = []\n",
    "aucs = []\n",
    "mean_fpr = np.linspace(0, 1, 100)\n",
    "\n",
    "fig, ax = plt.subplots(figsize=(10,5))\n",
    "for i, (train, test) in enumerate(crossvalidation.split(X, y)):\n",
    "    lasso.fit(X.iloc[train], y.iloc[train])\n",
    "    viz = plot_roc_curve(lasso, X.iloc[test], y.iloc[test],\n",
    "                         name='ROC fold {}'.format(i),\n",
    "                         alpha=0.3, lw=1, ax=ax)\n",
    "    interp_tpr = np.interp(mean_fpr, viz.fpr, viz.tpr)\n",
    "    interp_tpr[0] = 0.0\n",
    "    tprs.append(interp_tpr)\n",
    "    aucs.append(viz.roc_auc)\n",
    "\n",
    "ax.plot([0, 1], [0, 1], linestyle='--', lw=2, color='r',\n",
    "        label='Chance', alpha=.8)\n",
    "\n",
    "mean_tpr = np.mean(tprs, axis=0)\n",
    "mean_tpr[-1] = 1.0\n",
    "mean_auc = auc(mean_fpr, mean_tpr)\n",
    "std_auc = np.std(aucs)\n",
    "ax.plot(mean_fpr, mean_tpr, color='b',\n",
    "        label=r'Mean ROC (AUC = %0.2f $\\pm$ %0.2f)' % (mean_auc, std_auc),\n",
    "        lw=2, alpha=.8)\n",
    "\n",
    "std_tpr = np.std(tprs, axis=0)\n",
    "tprs_upper = np.minimum(mean_tpr + std_tpr, 1)\n",
    "tprs_lower = np.maximum(mean_tpr - std_tpr, 0)\n",
    "ax.fill_between(mean_fpr, tprs_lower, tprs_upper, color='grey', alpha=.2,\n",
    "                label=r'$\\pm$ 1 std. dev.')\n",
    "\n",
    "ax.set(xlim=[-0.05, 1.05], ylim=[-0.05, 1.05],\n",
    "       title=\"Lasso Classifier ROC Curve\")\n",
    "ax.legend(bbox_to_anchor=(1.25, 1.0))\n",
    "plt.tight_layout()\n",
    "#plt.savefig('./Plots/Lasso Adjusted by age ROC.png',dpi=150)\n",
    "plt.show()"
   ]
  },
  {
   "cell_type": "code",
   "execution_count": null,
   "metadata": {},
   "outputs": [],
   "source": [
    "yp_cv = cross_val_predict(lasso, X, y, cv=crossvalidation)\n",
    "tn, fp, fn, tp = confusion_matrix(y, yp_cv).ravel()\n",
    "\n",
    "#tn, fp, fn, tp = confusion_matrix(y_test, yp).ravel()\n",
    "\n",
    "conf = [[tn,fn],[fp,tp]]\n",
    "\n",
    "confusion = np.array(conf)"
   ]
  },
  {
   "cell_type": "code",
   "execution_count": null,
   "metadata": {},
   "outputs": [],
   "source": [
    "ax = sns.heatmap(confusion, annot=True, cmap='Blues',fmt='g')\n",
    "ax.set_ylabel('Predicted')\n",
    "ax.set_xlabel('Reference')\n",
    "ax.set_title('Lasso Confusion Matrix')\n",
    "#ax.set_xticklabels(['Absent','Present'])\n",
    "#ax.set_yticklabels(['Absent','Present'])\n",
    "#plt.savefig('./Plots/Lasso Confusion matrix adj by age.png', dpi=150)"
   ]
  },
  {
   "cell_type": "code",
   "execution_count": null,
   "metadata": {},
   "outputs": [],
   "source": [
    "#selected_features = X.columns[indices]"
   ]
  },
  {
   "cell_type": "code",
   "execution_count": null,
   "metadata": {},
   "outputs": [],
   "source": [
    "#df_out = df.loc[:, selected_features]\n",
    "#df_out['grading'] = df['grading']\n",
    "#df_out.to_csv('./selected_features_adjusted_by_age.csv',index=False)"
   ]
  }
 ],
 "metadata": {
  "kernelspec": {
   "display_name": "Python 3",
   "language": "python",
   "name": "python3"
  },
  "language_info": {
   "codemirror_mode": {
    "name": "ipython",
    "version": 3
   },
   "file_extension": ".py",
   "mimetype": "text/x-python",
   "name": "python",
   "nbconvert_exporter": "python",
   "pygments_lexer": "ipython3",
   "version": "3.7.9"
  }
 },
 "nbformat": 4,
 "nbformat_minor": 4
}
