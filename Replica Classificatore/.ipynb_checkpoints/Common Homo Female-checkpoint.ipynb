{
 "cells": [
  {
   "cell_type": "code",
   "execution_count": 35,
   "metadata": {},
   "outputs": [],
   "source": [
    "import pandas as pd \n",
    "import numpy as np \n",
    "import seaborn as sns\n",
    "import scipy as sp\n",
    "import matplotlib.pyplot as plt\n",
    "import re\n",
    "from os import listdir\n",
    "from os.path import isfile, join\n",
    "from scipy import stats\n",
    "\n",
    "from sklearn import preprocessing\n",
    "\n",
    "from sklearn.linear_model import LogisticRegression\n",
    "from sklearn.naive_bayes import GaussianNB\n",
    "from sklearn.neighbors import KNeighborsClassifier\n",
    "from sklearn.tree import DecisionTreeClassifier\n",
    "from sklearn.feature_selection import SelectFromModel\n",
    "\n",
    "from sklearn.ensemble import RandomForestClassifier\n",
    "from sklearn.ensemble import ExtraTreesClassifier\n",
    "from sklearn.ensemble import AdaBoostClassifier\n",
    "from sklearn.ensemble import BaggingClassifier\n",
    "\n",
    "from sklearn.ensemble import VotingClassifier\n",
    "\n",
    "# Evaluation Procedures\n",
    "from sklearn.model_selection import train_test_split\n",
    "from sklearn.model_selection import cross_val_score\n",
    "from sklearn.model_selection import cross_val_predict\n",
    "from sklearn.model_selection import StratifiedKFold\n",
    "from sklearn.model_selection import GridSearchCV\n",
    "from sklearn.model_selection import RandomizedSearchCV\n",
    "\n",
    "from sklearn.metrics import precision_score\n",
    "from sklearn.metrics import recall_score \n",
    "from sklearn.metrics import accuracy_score\n",
    "from sklearn.metrics import confusion_matrix \n",
    "from sklearn.metrics import precision_recall_curve \n",
    "from sklearn.metrics import roc_auc_score\n",
    "from sklearn.metrics import plot_roc_curve\n",
    "from sklearn.metrics import roc_curve\n",
    "from sklearn.metrics import f1_score\n",
    "from sklearn.metrics import auc"
   ]
  },
  {
   "cell_type": "code",
   "execution_count": 36,
   "metadata": {},
   "outputs": [],
   "source": [
    "rare_AD = pd.read_csv('../Data/data_gc_homo_poly_unique_1319.csv')"
   ]
  },
  {
   "cell_type": "code",
   "execution_count": 37,
   "metadata": {},
   "outputs": [],
   "source": [
    "pheno = pd.read_csv('../Data/phenotypes_1319.csv',sep=';')"
   ]
  },
  {
   "cell_type": "markdown",
   "metadata": {},
   "source": [
    "Scarto gli artefatti"
   ]
  },
  {
   "cell_type": "code",
   "execution_count": 38,
   "metadata": {},
   "outputs": [
    {
     "data": {
      "text/plain": [
       "12947"
      ]
     },
     "execution_count": 38,
     "metadata": {},
     "output_type": "execute_result"
    }
   ],
   "source": [
    "rare_AD.drop(columns=['ARSD_0', 'ARSD_1', 'ARSD_2', 'VCX_1','VCX2_1'], inplace=True, axis=1)\n",
    "len(rare_AD.columns)"
   ]
  },
  {
   "cell_type": "markdown",
   "metadata": {},
   "source": [
    "Scarto le mutazioni che terminano con `_0`"
   ]
  },
  {
   "cell_type": "code",
   "execution_count": 39,
   "metadata": {},
   "outputs": [],
   "source": [
    "#todrop = rare_AD.columns[rare_AD.columns.str.contains('_0')].tolist()\n",
    "#rare_AD.drop(columns=todrop, inplace=True)\n",
    "#len(rare_AD.columns)"
   ]
  },
  {
   "cell_type": "code",
   "execution_count": 40,
   "metadata": {},
   "outputs": [
    {
     "data": {
      "text/plain": [
       "5340"
      ]
     },
     "execution_count": 40,
     "metadata": {},
     "output_type": "execute_result"
    }
   ],
   "source": [
    "12947-7607"
   ]
  },
  {
   "cell_type": "markdown",
   "metadata": {},
   "source": [
    "Rimuovo i geni del cromosoma X"
   ]
  },
  {
   "cell_type": "code",
   "execution_count": 41,
   "metadata": {},
   "outputs": [],
   "source": [
    "chr_X = pd.read_csv('../Data/Male/genes_chrX.csv')\n",
    "genes_X = np.intersect1d(chr_X['genes_x'].tolist(), rare_AD.columns.tolist())\n",
    "genes_X = chr_X['genes_x'].tolist()"
   ]
  },
  {
   "cell_type": "code",
   "execution_count": 42,
   "metadata": {},
   "outputs": [],
   "source": [
    "selected = []\n",
    "for x in rare_AD.columns:\n",
    "    gene = x.split('_')[0]\n",
    "    if gene in chr_X['genes_x'].tolist():\n",
    "        selected.append(x)"
   ]
  },
  {
   "cell_type": "code",
   "execution_count": 43,
   "metadata": {},
   "outputs": [
    {
     "data": {
      "text/plain": [
       "12697"
      ]
     },
     "execution_count": 43,
     "metadata": {},
     "output_type": "execute_result"
    }
   ],
   "source": [
    "rare_AD.drop(columns=selected, inplace=True)\n",
    "len(rare_AD.columns)"
   ]
  },
  {
   "cell_type": "markdown",
   "metadata": {},
   "source": [
    "Filtro per etnia"
   ]
  },
  {
   "cell_type": "code",
   "execution_count": 44,
   "metadata": {},
   "outputs": [],
   "source": [
    "#pheno['Ethnicity'] = pheno['Ethnicity (white=1, black=2, asian=3, hispanic=4)']\n",
    "#pheno = pheno[(pheno['Ethnicity']=='1') | (pheno['Ethnicity'].isna())]"
   ]
  },
  {
   "cell_type": "markdown",
   "metadata": {},
   "source": [
    "Mantengo solo pazienti con un grading"
   ]
  },
  {
   "cell_type": "code",
   "execution_count": 45,
   "metadata": {},
   "outputs": [],
   "source": [
    "pheno = pheno[pheno['grading_1319_adj_a_s'].notna()]"
   ]
  },
  {
   "cell_type": "markdown",
   "metadata": {},
   "source": [
    "Scarto pazienti senza età"
   ]
  },
  {
   "cell_type": "code",
   "execution_count": 46,
   "metadata": {},
   "outputs": [],
   "source": [
    "pheno = pheno[pheno['Age'].notna()]"
   ]
  },
  {
   "cell_type": "markdown",
   "metadata": {},
   "source": [
    "Cambio l'indice dei pazienti"
   ]
  },
  {
   "cell_type": "code",
   "execution_count": 47,
   "metadata": {},
   "outputs": [],
   "source": [
    "pheno.rename(columns={\"UsedSampleCode\":\"key\"}, inplace=True)\n",
    "pheno.set_index('key',inplace=True)"
   ]
  },
  {
   "cell_type": "markdown",
   "metadata": {},
   "source": [
    "Scarto pazienti non corrispondenti"
   ]
  },
  {
   "cell_type": "code",
   "execution_count": 48,
   "metadata": {},
   "outputs": [],
   "source": [
    "rare_AD.rename(columns={\"Unnamed: 0\": \"key\"}, inplace=True)\n",
    "rare_AD.set_index('key',inplace=True)\n",
    "\n",
    "rare_AD = rare_AD[rare_AD.index != 'COV2925-1241_hg38']\n",
    "rare_AD = rare_AD[rare_AD.index != 'COV2928-1242_hg38']\n",
    "rare_AD = rare_AD[rare_AD.index != 'COV3204-1334_hg38']\n",
    "rare_AD = rare_AD[rare_AD.index != 'COV3196-1326_hg38']\n",
    "rare_AD = rare_AD[rare_AD.index != 'COV2735-1159_hg38']\n",
    "rare_AD = rare_AD[rare_AD.index != 'COV3211-1341_hg38']\n",
    "rare_AD = rare_AD[rare_AD.index != 'COV2233-939_hg38']\n",
    "\n",
    "rare_AD.index = rare_AD.index.str.replace('_hg38','')"
   ]
  },
  {
   "cell_type": "code",
   "execution_count": 49,
   "metadata": {},
   "outputs": [
    {
     "data": {
      "text/html": [
       "<div>\n",
       "<style scoped>\n",
       "    .dataframe tbody tr th:only-of-type {\n",
       "        vertical-align: middle;\n",
       "    }\n",
       "\n",
       "    .dataframe tbody tr th {\n",
       "        vertical-align: top;\n",
       "    }\n",
       "\n",
       "    .dataframe thead th {\n",
       "        text-align: right;\n",
       "    }\n",
       "</style>\n",
       "<table border=\"1\" class=\"dataframe\">\n",
       "  <thead>\n",
       "    <tr style=\"text-align: right;\">\n",
       "      <th></th>\n",
       "      <th>AADACL3_0</th>\n",
       "      <th>ABCA4_0</th>\n",
       "      <th>ABCA4_1</th>\n",
       "      <th>ABL2_0</th>\n",
       "      <th>ACBD3_1</th>\n",
       "      <th>ACKR1_0</th>\n",
       "      <th>ACKR1_1</th>\n",
       "      <th>ACTL8_1</th>\n",
       "      <th>ACTN2_1</th>\n",
       "      <th>ACTRT2_0</th>\n",
       "      <th>...</th>\n",
       "      <th>DHRSX_2</th>\n",
       "      <th>DHRSX_3</th>\n",
       "      <th>DHRSX_4</th>\n",
       "      <th>GTPBP6_0</th>\n",
       "      <th>IL3RA_0</th>\n",
       "      <th>P2RY8_0</th>\n",
       "      <th>PLCXD1_0</th>\n",
       "      <th>SLC25A6_0</th>\n",
       "      <th>grading</th>\n",
       "      <th>Gender (M=0, F=1)</th>\n",
       "    </tr>\n",
       "    <tr>\n",
       "      <th>key</th>\n",
       "      <th></th>\n",
       "      <th></th>\n",
       "      <th></th>\n",
       "      <th></th>\n",
       "      <th></th>\n",
       "      <th></th>\n",
       "      <th></th>\n",
       "      <th></th>\n",
       "      <th></th>\n",
       "      <th></th>\n",
       "      <th></th>\n",
       "      <th></th>\n",
       "      <th></th>\n",
       "      <th></th>\n",
       "      <th></th>\n",
       "      <th></th>\n",
       "      <th></th>\n",
       "      <th></th>\n",
       "      <th></th>\n",
       "      <th></th>\n",
       "      <th></th>\n",
       "    </tr>\n",
       "  </thead>\n",
       "  <tbody>\n",
       "    <tr>\n",
       "      <th>AR-COV-10</th>\n",
       "      <td>0</td>\n",
       "      <td>0</td>\n",
       "      <td>0</td>\n",
       "      <td>0</td>\n",
       "      <td>0</td>\n",
       "      <td>0</td>\n",
       "      <td>0</td>\n",
       "      <td>0</td>\n",
       "      <td>1</td>\n",
       "      <td>0</td>\n",
       "      <td>...</td>\n",
       "      <td>0</td>\n",
       "      <td>0</td>\n",
       "      <td>0</td>\n",
       "      <td>0</td>\n",
       "      <td>0</td>\n",
       "      <td>0</td>\n",
       "      <td>0</td>\n",
       "      <td>0</td>\n",
       "      <td>1</td>\n",
       "      <td>0.0</td>\n",
       "    </tr>\n",
       "    <tr>\n",
       "      <th>AR-COV-11</th>\n",
       "      <td>0</td>\n",
       "      <td>0</td>\n",
       "      <td>0</td>\n",
       "      <td>0</td>\n",
       "      <td>0</td>\n",
       "      <td>0</td>\n",
       "      <td>1</td>\n",
       "      <td>1</td>\n",
       "      <td>1</td>\n",
       "      <td>0</td>\n",
       "      <td>...</td>\n",
       "      <td>1</td>\n",
       "      <td>0</td>\n",
       "      <td>0</td>\n",
       "      <td>0</td>\n",
       "      <td>0</td>\n",
       "      <td>0</td>\n",
       "      <td>0</td>\n",
       "      <td>0</td>\n",
       "      <td>1</td>\n",
       "      <td>1.0</td>\n",
       "    </tr>\n",
       "    <tr>\n",
       "      <th>AR-COV-12</th>\n",
       "      <td>0</td>\n",
       "      <td>0</td>\n",
       "      <td>1</td>\n",
       "      <td>0</td>\n",
       "      <td>1</td>\n",
       "      <td>0</td>\n",
       "      <td>1</td>\n",
       "      <td>0</td>\n",
       "      <td>1</td>\n",
       "      <td>0</td>\n",
       "      <td>...</td>\n",
       "      <td>0</td>\n",
       "      <td>0</td>\n",
       "      <td>0</td>\n",
       "      <td>0</td>\n",
       "      <td>0</td>\n",
       "      <td>0</td>\n",
       "      <td>0</td>\n",
       "      <td>0</td>\n",
       "      <td>none</td>\n",
       "      <td>0.0</td>\n",
       "    </tr>\n",
       "    <tr>\n",
       "      <th>AR-COV-13</th>\n",
       "      <td>0</td>\n",
       "      <td>0</td>\n",
       "      <td>0</td>\n",
       "      <td>0</td>\n",
       "      <td>0</td>\n",
       "      <td>0</td>\n",
       "      <td>1</td>\n",
       "      <td>1</td>\n",
       "      <td>1</td>\n",
       "      <td>0</td>\n",
       "      <td>...</td>\n",
       "      <td>0</td>\n",
       "      <td>1</td>\n",
       "      <td>0</td>\n",
       "      <td>0</td>\n",
       "      <td>0</td>\n",
       "      <td>0</td>\n",
       "      <td>0</td>\n",
       "      <td>0</td>\n",
       "      <td>0</td>\n",
       "      <td>0.0</td>\n",
       "    </tr>\n",
       "    <tr>\n",
       "      <th>AR-COV-14</th>\n",
       "      <td>0</td>\n",
       "      <td>0</td>\n",
       "      <td>0</td>\n",
       "      <td>0</td>\n",
       "      <td>1</td>\n",
       "      <td>0</td>\n",
       "      <td>0</td>\n",
       "      <td>0</td>\n",
       "      <td>1</td>\n",
       "      <td>0</td>\n",
       "      <td>...</td>\n",
       "      <td>1</td>\n",
       "      <td>0</td>\n",
       "      <td>0</td>\n",
       "      <td>0</td>\n",
       "      <td>0</td>\n",
       "      <td>0</td>\n",
       "      <td>0</td>\n",
       "      <td>0</td>\n",
       "      <td>1</td>\n",
       "      <td>0.0</td>\n",
       "    </tr>\n",
       "    <tr>\n",
       "      <th>...</th>\n",
       "      <td>...</td>\n",
       "      <td>...</td>\n",
       "      <td>...</td>\n",
       "      <td>...</td>\n",
       "      <td>...</td>\n",
       "      <td>...</td>\n",
       "      <td>...</td>\n",
       "      <td>...</td>\n",
       "      <td>...</td>\n",
       "      <td>...</td>\n",
       "      <td>...</td>\n",
       "      <td>...</td>\n",
       "      <td>...</td>\n",
       "      <td>...</td>\n",
       "      <td>...</td>\n",
       "      <td>...</td>\n",
       "      <td>...</td>\n",
       "      <td>...</td>\n",
       "      <td>...</td>\n",
       "      <td>...</td>\n",
       "      <td>...</td>\n",
       "    </tr>\n",
       "    <tr>\n",
       "      <th>VE101</th>\n",
       "      <td>0</td>\n",
       "      <td>0</td>\n",
       "      <td>0</td>\n",
       "      <td>0</td>\n",
       "      <td>0</td>\n",
       "      <td>0</td>\n",
       "      <td>0</td>\n",
       "      <td>0</td>\n",
       "      <td>0</td>\n",
       "      <td>0</td>\n",
       "      <td>...</td>\n",
       "      <td>0</td>\n",
       "      <td>1</td>\n",
       "      <td>0</td>\n",
       "      <td>0</td>\n",
       "      <td>1</td>\n",
       "      <td>0</td>\n",
       "      <td>1</td>\n",
       "      <td>0</td>\n",
       "      <td>1</td>\n",
       "      <td>1.0</td>\n",
       "    </tr>\n",
       "    <tr>\n",
       "      <th>VE10</th>\n",
       "      <td>0</td>\n",
       "      <td>0</td>\n",
       "      <td>0</td>\n",
       "      <td>1</td>\n",
       "      <td>0</td>\n",
       "      <td>0</td>\n",
       "      <td>0</td>\n",
       "      <td>0</td>\n",
       "      <td>1</td>\n",
       "      <td>0</td>\n",
       "      <td>...</td>\n",
       "      <td>0</td>\n",
       "      <td>1</td>\n",
       "      <td>0</td>\n",
       "      <td>0</td>\n",
       "      <td>0</td>\n",
       "      <td>0</td>\n",
       "      <td>0</td>\n",
       "      <td>0</td>\n",
       "      <td>0</td>\n",
       "      <td>0.0</td>\n",
       "    </tr>\n",
       "    <tr>\n",
       "      <th>VE97</th>\n",
       "      <td>0</td>\n",
       "      <td>0</td>\n",
       "      <td>0</td>\n",
       "      <td>0</td>\n",
       "      <td>1</td>\n",
       "      <td>0</td>\n",
       "      <td>0</td>\n",
       "      <td>0</td>\n",
       "      <td>0</td>\n",
       "      <td>0</td>\n",
       "      <td>...</td>\n",
       "      <td>0</td>\n",
       "      <td>1</td>\n",
       "      <td>0</td>\n",
       "      <td>0</td>\n",
       "      <td>0</td>\n",
       "      <td>0</td>\n",
       "      <td>0</td>\n",
       "      <td>0</td>\n",
       "      <td>none</td>\n",
       "      <td>1.0</td>\n",
       "    </tr>\n",
       "    <tr>\n",
       "      <th>VE98</th>\n",
       "      <td>0</td>\n",
       "      <td>0</td>\n",
       "      <td>0</td>\n",
       "      <td>0</td>\n",
       "      <td>1</td>\n",
       "      <td>0</td>\n",
       "      <td>1</td>\n",
       "      <td>1</td>\n",
       "      <td>0</td>\n",
       "      <td>0</td>\n",
       "      <td>...</td>\n",
       "      <td>0</td>\n",
       "      <td>0</td>\n",
       "      <td>0</td>\n",
       "      <td>0</td>\n",
       "      <td>0</td>\n",
       "      <td>0</td>\n",
       "      <td>0</td>\n",
       "      <td>0</td>\n",
       "      <td>none</td>\n",
       "      <td>0.0</td>\n",
       "    </tr>\n",
       "    <tr>\n",
       "      <th>VE99</th>\n",
       "      <td>0</td>\n",
       "      <td>0</td>\n",
       "      <td>0</td>\n",
       "      <td>0</td>\n",
       "      <td>1</td>\n",
       "      <td>0</td>\n",
       "      <td>0</td>\n",
       "      <td>0</td>\n",
       "      <td>1</td>\n",
       "      <td>0</td>\n",
       "      <td>...</td>\n",
       "      <td>0</td>\n",
       "      <td>0</td>\n",
       "      <td>0</td>\n",
       "      <td>0</td>\n",
       "      <td>1</td>\n",
       "      <td>0</td>\n",
       "      <td>0</td>\n",
       "      <td>0</td>\n",
       "      <td>0</td>\n",
       "      <td>0.0</td>\n",
       "    </tr>\n",
       "  </tbody>\n",
       "</table>\n",
       "<p>1311 rows × 12698 columns</p>\n",
       "</div>"
      ],
      "text/plain": [
       "           AADACL3_0  ABCA4_0  ABCA4_1  ABL2_0  ACBD3_1  ACKR1_0  ACKR1_1  \\\n",
       "key                                                                         \n",
       "AR-COV-10          0        0        0       0        0        0        0   \n",
       "AR-COV-11          0        0        0       0        0        0        1   \n",
       "AR-COV-12          0        0        1       0        1        0        1   \n",
       "AR-COV-13          0        0        0       0        0        0        1   \n",
       "AR-COV-14          0        0        0       0        1        0        0   \n",
       "...              ...      ...      ...     ...      ...      ...      ...   \n",
       "VE101              0        0        0       0        0        0        0   \n",
       "VE10               0        0        0       1        0        0        0   \n",
       "VE97               0        0        0       0        1        0        0   \n",
       "VE98               0        0        0       0        1        0        1   \n",
       "VE99               0        0        0       0        1        0        0   \n",
       "\n",
       "           ACTL8_1  ACTN2_1  ACTRT2_0  ...  DHRSX_2  DHRSX_3  DHRSX_4  \\\n",
       "key                                    ...                              \n",
       "AR-COV-10        0        1         0  ...        0        0        0   \n",
       "AR-COV-11        1        1         0  ...        1        0        0   \n",
       "AR-COV-12        0        1         0  ...        0        0        0   \n",
       "AR-COV-13        1        1         0  ...        0        1        0   \n",
       "AR-COV-14        0        1         0  ...        1        0        0   \n",
       "...            ...      ...       ...  ...      ...      ...      ...   \n",
       "VE101            0        0         0  ...        0        1        0   \n",
       "VE10             0        1         0  ...        0        1        0   \n",
       "VE97             0        0         0  ...        0        1        0   \n",
       "VE98             1        0         0  ...        0        0        0   \n",
       "VE99             0        1         0  ...        0        0        0   \n",
       "\n",
       "           GTPBP6_0  IL3RA_0  P2RY8_0  PLCXD1_0  SLC25A6_0  grading  \\\n",
       "key                                                                   \n",
       "AR-COV-10         0        0        0         0          0        1   \n",
       "AR-COV-11         0        0        0         0          0        1   \n",
       "AR-COV-12         0        0        0         0          0     none   \n",
       "AR-COV-13         0        0        0         0          0        0   \n",
       "AR-COV-14         0        0        0         0          0        1   \n",
       "...             ...      ...      ...       ...        ...      ...   \n",
       "VE101             0        1        0         1          0        1   \n",
       "VE10              0        0        0         0          0        0   \n",
       "VE97              0        0        0         0          0     none   \n",
       "VE98              0        0        0         0          0     none   \n",
       "VE99              0        1        0         0          0        0   \n",
       "\n",
       "           Gender (M=0, F=1)  \n",
       "key                           \n",
       "AR-COV-10                0.0  \n",
       "AR-COV-11                1.0  \n",
       "AR-COV-12                0.0  \n",
       "AR-COV-13                0.0  \n",
       "AR-COV-14                0.0  \n",
       "...                      ...  \n",
       "VE101                    1.0  \n",
       "VE10                     0.0  \n",
       "VE97                     1.0  \n",
       "VE98                     0.0  \n",
       "VE99                     0.0  \n",
       "\n",
       "[1311 rows x 12698 columns]"
      ]
     },
     "execution_count": 49,
     "metadata": {},
     "output_type": "execute_result"
    }
   ],
   "source": [
    "grading = pheno[['grading_1319_adj_a_s','Gender (M=0, F=1)']]\n",
    "\n",
    "df = rare_AD.join(grading, on='key')\n",
    "df.rename(columns={'grading_1319_adj_a_s':'grading'}, inplace=True)\n",
    "\n",
    "df"
   ]
  },
  {
   "cell_type": "markdown",
   "metadata": {},
   "source": [
    "Mantengo solo le femmine"
   ]
  },
  {
   "cell_type": "code",
   "execution_count": 50,
   "metadata": {},
   "outputs": [],
   "source": [
    "df = df[df['Gender (M=0, F=1)']==1].iloc[:,:-1]\n",
    "\n",
    "df = df[df['grading']!='none']\n",
    "df.dropna(inplace=True)"
   ]
  },
  {
   "cell_type": "code",
   "execution_count": 51,
   "metadata": {},
   "outputs": [],
   "source": [
    "#df.drop(columns=value_counts[value_counts['percentage of 1'] > 90].mutation, inplace=True)\n",
    "df = df.apply(pd.to_numeric, errors='coerce')\n",
    "df = df.dropna()\n",
    "df.reset_index(inplace=True)"
   ]
  },
  {
   "cell_type": "code",
   "execution_count": 52,
   "metadata": {},
   "outputs": [],
   "source": [
    "df.drop(columns='key',inplace=True)"
   ]
  },
  {
   "cell_type": "code",
   "execution_count": 53,
   "metadata": {},
   "outputs": [
    {
     "data": {
      "text/html": [
       "<div>\n",
       "<style scoped>\n",
       "    .dataframe tbody tr th:only-of-type {\n",
       "        vertical-align: middle;\n",
       "    }\n",
       "\n",
       "    .dataframe tbody tr th {\n",
       "        vertical-align: top;\n",
       "    }\n",
       "\n",
       "    .dataframe thead th {\n",
       "        text-align: right;\n",
       "    }\n",
       "</style>\n",
       "<table border=\"1\" class=\"dataframe\">\n",
       "  <thead>\n",
       "    <tr style=\"text-align: right;\">\n",
       "      <th></th>\n",
       "      <th>AADACL3_0</th>\n",
       "      <th>ABCA4_0</th>\n",
       "      <th>ABCA4_1</th>\n",
       "      <th>ABL2_0</th>\n",
       "      <th>ACBD3_1</th>\n",
       "      <th>ACKR1_0</th>\n",
       "      <th>ACKR1_1</th>\n",
       "      <th>ACTL8_1</th>\n",
       "      <th>ACTN2_1</th>\n",
       "      <th>ACTRT2_0</th>\n",
       "      <th>...</th>\n",
       "      <th>DHRSX_1</th>\n",
       "      <th>DHRSX_2</th>\n",
       "      <th>DHRSX_3</th>\n",
       "      <th>DHRSX_4</th>\n",
       "      <th>GTPBP6_0</th>\n",
       "      <th>IL3RA_0</th>\n",
       "      <th>P2RY8_0</th>\n",
       "      <th>PLCXD1_0</th>\n",
       "      <th>SLC25A6_0</th>\n",
       "      <th>grading</th>\n",
       "    </tr>\n",
       "  </thead>\n",
       "  <tbody>\n",
       "    <tr>\n",
       "      <th>0</th>\n",
       "      <td>0</td>\n",
       "      <td>0</td>\n",
       "      <td>0</td>\n",
       "      <td>0</td>\n",
       "      <td>0</td>\n",
       "      <td>0</td>\n",
       "      <td>1</td>\n",
       "      <td>1</td>\n",
       "      <td>1</td>\n",
       "      <td>0</td>\n",
       "      <td>...</td>\n",
       "      <td>0</td>\n",
       "      <td>1</td>\n",
       "      <td>0</td>\n",
       "      <td>0</td>\n",
       "      <td>0</td>\n",
       "      <td>0</td>\n",
       "      <td>0</td>\n",
       "      <td>0</td>\n",
       "      <td>0</td>\n",
       "      <td>1</td>\n",
       "    </tr>\n",
       "    <tr>\n",
       "      <th>1</th>\n",
       "      <td>0</td>\n",
       "      <td>0</td>\n",
       "      <td>0</td>\n",
       "      <td>0</td>\n",
       "      <td>0</td>\n",
       "      <td>0</td>\n",
       "      <td>0</td>\n",
       "      <td>0</td>\n",
       "      <td>1</td>\n",
       "      <td>0</td>\n",
       "      <td>...</td>\n",
       "      <td>0</td>\n",
       "      <td>0</td>\n",
       "      <td>1</td>\n",
       "      <td>0</td>\n",
       "      <td>0</td>\n",
       "      <td>0</td>\n",
       "      <td>0</td>\n",
       "      <td>0</td>\n",
       "      <td>0</td>\n",
       "      <td>1</td>\n",
       "    </tr>\n",
       "    <tr>\n",
       "      <th>2</th>\n",
       "      <td>0</td>\n",
       "      <td>0</td>\n",
       "      <td>0</td>\n",
       "      <td>0</td>\n",
       "      <td>0</td>\n",
       "      <td>0</td>\n",
       "      <td>0</td>\n",
       "      <td>0</td>\n",
       "      <td>0</td>\n",
       "      <td>0</td>\n",
       "      <td>...</td>\n",
       "      <td>0</td>\n",
       "      <td>1</td>\n",
       "      <td>0</td>\n",
       "      <td>0</td>\n",
       "      <td>0</td>\n",
       "      <td>0</td>\n",
       "      <td>0</td>\n",
       "      <td>0</td>\n",
       "      <td>0</td>\n",
       "      <td>1</td>\n",
       "    </tr>\n",
       "    <tr>\n",
       "      <th>3</th>\n",
       "      <td>0</td>\n",
       "      <td>0</td>\n",
       "      <td>0</td>\n",
       "      <td>0</td>\n",
       "      <td>0</td>\n",
       "      <td>0</td>\n",
       "      <td>0</td>\n",
       "      <td>0</td>\n",
       "      <td>0</td>\n",
       "      <td>0</td>\n",
       "      <td>...</td>\n",
       "      <td>0</td>\n",
       "      <td>0</td>\n",
       "      <td>1</td>\n",
       "      <td>0</td>\n",
       "      <td>0</td>\n",
       "      <td>0</td>\n",
       "      <td>0</td>\n",
       "      <td>0</td>\n",
       "      <td>0</td>\n",
       "      <td>1</td>\n",
       "    </tr>\n",
       "    <tr>\n",
       "      <th>4</th>\n",
       "      <td>0</td>\n",
       "      <td>0</td>\n",
       "      <td>0</td>\n",
       "      <td>0</td>\n",
       "      <td>0</td>\n",
       "      <td>0</td>\n",
       "      <td>0</td>\n",
       "      <td>0</td>\n",
       "      <td>0</td>\n",
       "      <td>0</td>\n",
       "      <td>...</td>\n",
       "      <td>0</td>\n",
       "      <td>1</td>\n",
       "      <td>0</td>\n",
       "      <td>0</td>\n",
       "      <td>0</td>\n",
       "      <td>0</td>\n",
       "      <td>0</td>\n",
       "      <td>0</td>\n",
       "      <td>0</td>\n",
       "      <td>1</td>\n",
       "    </tr>\n",
       "    <tr>\n",
       "      <th>...</th>\n",
       "      <td>...</td>\n",
       "      <td>...</td>\n",
       "      <td>...</td>\n",
       "      <td>...</td>\n",
       "      <td>...</td>\n",
       "      <td>...</td>\n",
       "      <td>...</td>\n",
       "      <td>...</td>\n",
       "      <td>...</td>\n",
       "      <td>...</td>\n",
       "      <td>...</td>\n",
       "      <td>...</td>\n",
       "      <td>...</td>\n",
       "      <td>...</td>\n",
       "      <td>...</td>\n",
       "      <td>...</td>\n",
       "      <td>...</td>\n",
       "      <td>...</td>\n",
       "      <td>...</td>\n",
       "      <td>...</td>\n",
       "      <td>...</td>\n",
       "    </tr>\n",
       "    <tr>\n",
       "      <th>322</th>\n",
       "      <td>0</td>\n",
       "      <td>0</td>\n",
       "      <td>0</td>\n",
       "      <td>0</td>\n",
       "      <td>1</td>\n",
       "      <td>0</td>\n",
       "      <td>0</td>\n",
       "      <td>0</td>\n",
       "      <td>0</td>\n",
       "      <td>0</td>\n",
       "      <td>...</td>\n",
       "      <td>1</td>\n",
       "      <td>0</td>\n",
       "      <td>0</td>\n",
       "      <td>0</td>\n",
       "      <td>0</td>\n",
       "      <td>0</td>\n",
       "      <td>0</td>\n",
       "      <td>0</td>\n",
       "      <td>0</td>\n",
       "      <td>0</td>\n",
       "    </tr>\n",
       "    <tr>\n",
       "      <th>323</th>\n",
       "      <td>0</td>\n",
       "      <td>0</td>\n",
       "      <td>0</td>\n",
       "      <td>0</td>\n",
       "      <td>0</td>\n",
       "      <td>0</td>\n",
       "      <td>1</td>\n",
       "      <td>0</td>\n",
       "      <td>0</td>\n",
       "      <td>0</td>\n",
       "      <td>...</td>\n",
       "      <td>0</td>\n",
       "      <td>0</td>\n",
       "      <td>1</td>\n",
       "      <td>0</td>\n",
       "      <td>0</td>\n",
       "      <td>0</td>\n",
       "      <td>0</td>\n",
       "      <td>0</td>\n",
       "      <td>0</td>\n",
       "      <td>1</td>\n",
       "    </tr>\n",
       "    <tr>\n",
       "      <th>324</th>\n",
       "      <td>0</td>\n",
       "      <td>0</td>\n",
       "      <td>0</td>\n",
       "      <td>0</td>\n",
       "      <td>0</td>\n",
       "      <td>0</td>\n",
       "      <td>1</td>\n",
       "      <td>0</td>\n",
       "      <td>1</td>\n",
       "      <td>0</td>\n",
       "      <td>...</td>\n",
       "      <td>0</td>\n",
       "      <td>0</td>\n",
       "      <td>1</td>\n",
       "      <td>0</td>\n",
       "      <td>0</td>\n",
       "      <td>0</td>\n",
       "      <td>0</td>\n",
       "      <td>0</td>\n",
       "      <td>0</td>\n",
       "      <td>0</td>\n",
       "    </tr>\n",
       "    <tr>\n",
       "      <th>325</th>\n",
       "      <td>0</td>\n",
       "      <td>0</td>\n",
       "      <td>0</td>\n",
       "      <td>0</td>\n",
       "      <td>0</td>\n",
       "      <td>0</td>\n",
       "      <td>1</td>\n",
       "      <td>0</td>\n",
       "      <td>0</td>\n",
       "      <td>0</td>\n",
       "      <td>...</td>\n",
       "      <td>0</td>\n",
       "      <td>1</td>\n",
       "      <td>0</td>\n",
       "      <td>0</td>\n",
       "      <td>0</td>\n",
       "      <td>0</td>\n",
       "      <td>0</td>\n",
       "      <td>0</td>\n",
       "      <td>0</td>\n",
       "      <td>1</td>\n",
       "    </tr>\n",
       "    <tr>\n",
       "      <th>326</th>\n",
       "      <td>0</td>\n",
       "      <td>0</td>\n",
       "      <td>0</td>\n",
       "      <td>0</td>\n",
       "      <td>0</td>\n",
       "      <td>0</td>\n",
       "      <td>0</td>\n",
       "      <td>0</td>\n",
       "      <td>0</td>\n",
       "      <td>0</td>\n",
       "      <td>...</td>\n",
       "      <td>0</td>\n",
       "      <td>0</td>\n",
       "      <td>1</td>\n",
       "      <td>0</td>\n",
       "      <td>0</td>\n",
       "      <td>1</td>\n",
       "      <td>0</td>\n",
       "      <td>1</td>\n",
       "      <td>0</td>\n",
       "      <td>1</td>\n",
       "    </tr>\n",
       "  </tbody>\n",
       "</table>\n",
       "<p>327 rows × 12697 columns</p>\n",
       "</div>"
      ],
      "text/plain": [
       "     AADACL3_0  ABCA4_0  ABCA4_1  ABL2_0  ACBD3_1  ACKR1_0  ACKR1_1  ACTL8_1  \\\n",
       "0            0        0        0       0        0        0        1        1   \n",
       "1            0        0        0       0        0        0        0        0   \n",
       "2            0        0        0       0        0        0        0        0   \n",
       "3            0        0        0       0        0        0        0        0   \n",
       "4            0        0        0       0        0        0        0        0   \n",
       "..         ...      ...      ...     ...      ...      ...      ...      ...   \n",
       "322          0        0        0       0        1        0        0        0   \n",
       "323          0        0        0       0        0        0        1        0   \n",
       "324          0        0        0       0        0        0        1        0   \n",
       "325          0        0        0       0        0        0        1        0   \n",
       "326          0        0        0       0        0        0        0        0   \n",
       "\n",
       "     ACTN2_1  ACTRT2_0  ...  DHRSX_1  DHRSX_2  DHRSX_3  DHRSX_4  GTPBP6_0  \\\n",
       "0          1         0  ...        0        1        0        0         0   \n",
       "1          1         0  ...        0        0        1        0         0   \n",
       "2          0         0  ...        0        1        0        0         0   \n",
       "3          0         0  ...        0        0        1        0         0   \n",
       "4          0         0  ...        0        1        0        0         0   \n",
       "..       ...       ...  ...      ...      ...      ...      ...       ...   \n",
       "322        0         0  ...        1        0        0        0         0   \n",
       "323        0         0  ...        0        0        1        0         0   \n",
       "324        1         0  ...        0        0        1        0         0   \n",
       "325        0         0  ...        0        1        0        0         0   \n",
       "326        0         0  ...        0        0        1        0         0   \n",
       "\n",
       "     IL3RA_0  P2RY8_0  PLCXD1_0  SLC25A6_0  grading  \n",
       "0          0        0         0          0        1  \n",
       "1          0        0         0          0        1  \n",
       "2          0        0         0          0        1  \n",
       "3          0        0         0          0        1  \n",
       "4          0        0         0          0        1  \n",
       "..       ...      ...       ...        ...      ...  \n",
       "322        0        0         0          0        0  \n",
       "323        0        0         0          0        1  \n",
       "324        0        0         0          0        0  \n",
       "325        0        0         0          0        1  \n",
       "326        1        0         1          0        1  \n",
       "\n",
       "[327 rows x 12697 columns]"
      ]
     },
     "execution_count": 53,
     "metadata": {},
     "output_type": "execute_result"
    }
   ],
   "source": [
    "df"
   ]
  },
  {
   "cell_type": "markdown",
   "metadata": {},
   "source": [
    "Scarto le mutazioni non informative"
   ]
  },
  {
   "cell_type": "code",
   "execution_count": 54,
   "metadata": {},
   "outputs": [],
   "source": [
    "value_counts = df.apply(pd.Series.value_counts)\n",
    "value_counts = value_counts.transpose()\n",
    "value_counts.columns = value_counts.columns.astype(str)\n",
    "value_counts = value_counts.reset_index()\n",
    "value_counts.rename(columns={'index':'mutation'}, inplace=True)\n",
    "value_counts['percentage of 1'] = value_counts.apply(lambda row : row['1']/(len(df)), axis=1)"
   ]
  },
  {
   "cell_type": "code",
   "execution_count": 55,
   "metadata": {},
   "outputs": [],
   "source": [
    "df.drop(columns=value_counts[value_counts['0'] >= len(df)].mutation, inplace=True)\n",
    "df.drop(columns=value_counts[value_counts['1'] >= len(df)].mutation, inplace=True)"
   ]
  },
  {
   "cell_type": "markdown",
   "metadata": {},
   "source": [
    "# Optimizing Lasso Classification "
   ]
  },
  {
   "cell_type": "code",
   "execution_count": 56,
   "metadata": {},
   "outputs": [],
   "source": [
    "target_variable = 'grading'\n",
    "input_variables = df.columns[df.columns!=target_variable]\n",
    "\n",
    "X = df[input_variables]\n",
    "X.columns += '_homo'\n",
    "y = df[target_variable]\n",
    "X_nic = pd.read_csv('../Data/Male/X_GC_homo_male_antonio.csv', sep=';')\n",
    "X_nic.drop(columns='Unnamed: 0', inplace=True)\n",
    "y_nic = pd.read_csv('../Data/Male/y_GC_homo_male_antonio.csv', sep=';')['0']"
   ]
  },
  {
   "cell_type": "code",
   "execution_count": 57,
   "metadata": {},
   "outputs": [
    {
     "data": {
      "text/plain": [
       "12376"
      ]
     },
     "execution_count": 57,
     "metadata": {},
     "output_type": "execute_result"
    }
   ],
   "source": [
    "len(X_nic.columns.tolist())"
   ]
  },
  {
   "cell_type": "code",
   "execution_count": 58,
   "metadata": {},
   "outputs": [
    {
     "data": {
      "text/plain": [
       "127"
      ]
     },
     "execution_count": 58,
     "metadata": {},
     "output_type": "execute_result"
    }
   ],
   "source": [
    "len(X_nic.columns.tolist()) - len(X.columns.tolist())"
   ]
  },
  {
   "cell_type": "code",
   "execution_count": 59,
   "metadata": {
    "scrolled": true
   },
   "outputs": [
    {
     "data": {
      "text/plain": [
       "array(['ABCB4_0_homo', 'ABCB8_0_homo', 'ACLY_0_homo', 'ACOT6_0_homo',\n",
       "       'ACP1_0_homo', 'ACRV1_0_homo', 'ACSM3_0_homo', 'ACTR8_0_homo',\n",
       "       'ACVR1C_0_homo', 'ADGRE3_0_homo', 'ADRA2B_0_homo', 'AFMID_0_homo',\n",
       "       'AKAP10_0_homo', 'AMH_0_homo', 'ANKRD36_0_homo', 'AP5Z1_0_homo',\n",
       "       'APIP_0_homo', 'APOC4_0_homo', 'ARHGAP10_0_homo', 'ARID4A_0_homo',\n",
       "       'ARMC5_0_homo', 'ASB3;GPR75-ASB3_0_homo', 'ASB8_0_homo',\n",
       "       'ATMIN_0_homo', 'ATP9B_0_homo', 'B3GAT3_0_homo', 'BCL10_0_homo',\n",
       "       'BCL2L11_0_homo', 'BCO2_0_homo', 'BLOC1S2_0_homo', 'BMP1_0_homo',\n",
       "       'BMP3_0_homo', 'BPIFC_0_homo', 'BRD1_0_homo', 'C11orf16_0_homo',\n",
       "       'C12orf10_0_homo', 'C12orf43_0_homo', 'C18orf54_0_homo',\n",
       "       'C1RL_0_homo', 'C9orf131_0_homo', 'C9orf135_0_homo',\n",
       "       'CACNG6_0_homo', 'CALHM4_0_homo', 'CAMK2B_0_homo', 'CAPN12_0_homo',\n",
       "       'CAPN7_0_homo', 'CAVIN3_0_homo', 'CBLIF_0_homo', 'CCDC122_0_homo',\n",
       "       'CCDC186_0_homo', 'CCDC3_0_homo', 'CCDC65_0_homo', 'CCDC81_0_homo',\n",
       "       'CCDC91_0_homo', 'CD1A_0_homo', 'CD72_0_homo', 'CDH3_0_homo',\n",
       "       'CDH5_0_homo', 'CDH9_0_homo', 'CENPQ_0_homo', 'CEP85L_0_homo',\n",
       "       'CFAP45_0_homo', 'CFAP69_0_homo', 'CGAS_0_homo', 'CHAT_0_homo',\n",
       "       'CHEK1_0_homo', 'CILP_0_homo', 'CLCN1_0_homo', 'CLECL1_0_homo',\n",
       "       'CLSTN2_0_homo', 'CNNM2_0_homo', 'CNTRL_0_homo', 'COG1_0_homo',\n",
       "       'COG2_0_homo', 'COG6_0_homo', 'CPN2_0_homo', 'CPNE7_0_homo',\n",
       "       'CROCC_0_homo', 'CROT_0_homo', 'CTHRC1_0_homo', 'DDX5_0_homo',\n",
       "       'DEPDC7_0_homo', 'DGCR8_0_homo', 'DGKZ_0_homo', 'DHRS1_0_homo',\n",
       "       'DIAPH3_0_homo', 'DLX4_0_homo', 'DNAH10_0_homo', 'DYNC1H1_0_homo',\n",
       "       'DYTN_0_homo', 'EFL1_0_homo', 'EGLN1_0_homo', 'EPHA6_0_homo',\n",
       "       'EPSTI1_0_homo', 'ERC1_0_homo', 'EXOC1L_0_homo', 'FAM124A_0_homo',\n",
       "       'FAM149B1_0_homo', 'FAM166C_0_homo', 'FAM20A_0_homo',\n",
       "       'FAM20C_0_homo', 'FAM221A_0_homo', 'FAM83D_0_homo',\n",
       "       'FASTKD2_0_homo', 'FBXO30_0_homo', 'FCHSD1_0_homo', 'FER_0_homo',\n",
       "       'FLVCR1_0_homo', 'FNDC3A_0_homo', 'FRMD1_0_homo', 'FRRS1L_0_homo',\n",
       "       'FTCDNL1_0_homo', 'GATC_0_homo', 'GBP4_0_homo', 'GCNT4_0_homo',\n",
       "       'GCOM1;MYZAP_0_homo', 'GFI1_0_homo', 'GGTLC1_0_homo',\n",
       "       'GM2A_0_homo', 'GPRC5D_0_homo', 'GTF2A1L;STON1-GTF2A1L_0_homo',\n",
       "       'HEATR5B_0_homo', 'HERC1_0_homo', 'HIP1R_0_homo', 'HIPK4_0_homo',\n",
       "       'HIST1H1B_0_homo', 'HSD17B13_0_homo', 'HYAL1_0_homo',\n",
       "       'IFNE_0_homo', 'IFT122_0_homo', 'IGFL1_0_homo', 'INPPL1_0_homo',\n",
       "       'ITGAL_0_homo', 'ITPKB_0_homo', 'IVD_0_homo', 'KAT6A_0_homo',\n",
       "       'KCNH8_0_homo', 'KCNK13_0_homo', 'KCNK16_0_homo', 'KCNMB3_0_homo',\n",
       "       'KCTD18_0_homo', 'KIAA0319_0_homo', 'KIAA0586_0_homo',\n",
       "       'KIF23_0_homo', 'KIF26A_0_homo', 'KLK7_0_homo', 'KRTAP26-1_0_homo',\n",
       "       'LCT_0_homo', 'LETM1_0_homo', 'LGALS8_0_homo', 'LIME1_0_homo',\n",
       "       'LLGL2_0_homo', 'LMF1_0_homo', 'LNX1_0_homo', 'LOC283710_0_homo',\n",
       "       'LONP1_0_homo', 'LRIT1_0_homo', 'LRRC23_0_homo', 'LRRC45_0_homo',\n",
       "       'LRRC52_0_homo', 'LRWD1_0_homo', 'LTBP2_0_homo', 'LUZP1_0_homo',\n",
       "       'MAN2A2_0_homo', 'MAP4K5_0_homo', 'MAPKBP1_0_homo', 'MBD4_0_homo',\n",
       "       'MERTK_0_homo', 'METTL2B_0_homo', 'MFSD4A_0_homo', 'MGARP_0_homo',\n",
       "       'MIB2_0_homo', 'MICAL1_0_homo', 'MMRN1_0_homo', 'MRPS21_0_homo',\n",
       "       'MRPS24_0_homo', 'MS4A5_0_homo', 'MTHFS;ST20-MTHFS_0_homo',\n",
       "       'MTMR11_0_homo', 'MTMR4_0_homo', 'MUTYH_0_homo', 'MYO1C_0_homo',\n",
       "       'NACA_0_homo', 'NAV1_0_homo', 'NBPF7_0_homo', 'NCAN_0_homo',\n",
       "       'NDC80_0_homo', 'NELL2_0_homo', 'NLRP14_0_homo', 'NLRP3_0_homo',\n",
       "       'NOS3_0_homo', 'NOXA1_0_homo', 'NPIPB15_0_homo', 'NPIPB5_0_homo',\n",
       "       'NR0B2_0_homo', 'NSUN7_0_homo', 'NUP133_0_homo', 'NYNRIN_0_homo',\n",
       "       'ODF3B_0_homo', 'ODF3_0_homo', 'OGDHL_0_homo', 'OMP_0_homo',\n",
       "       'OR10P1_0_homo', 'OR10V1_0_homo', 'OR11L1_0_homo', 'OR13D1_0_homo',\n",
       "       'OR2A5_0_homo', 'OR2B2_0_homo', 'OR2K2_0_homo', 'OR2M5_0_homo',\n",
       "       'OR2V2_0_homo', 'OR4D9_0_homo', 'OR4K13_0_homo', 'OR4K14_0_homo',\n",
       "       'OR52E8_0_homo', 'OR52I1_0_homo', 'OR52I2_0_homo', 'OR56B1_0_homo',\n",
       "       'OR5B17_0_homo', 'OR5H14_0_homo', 'OR6C74_0_homo', 'OR6N1_0_homo',\n",
       "       'OR8B12_0_homo', 'OR8G2P_0_homo', 'OXA1L_0_homo', 'PABPN1L_0_homo',\n",
       "       'PACS2_0_homo', 'PADI6_0_homo', 'PATE3_0_homo', 'PAX4_0_homo',\n",
       "       'PCCA_0_homo', 'PCDHA9_0_homo', 'PCDHB2_0_homo', 'PCDHB3_0_homo',\n",
       "       'PCDHB4_0_homo', 'PCDHGA7_0_homo', 'PCK2_0_homo', 'PEBP4_0_homo',\n",
       "       'PEX6_0_homo', 'PHC2_0_homo', 'PHLPP1_0_homo', 'PINK1_0_homo',\n",
       "       'PIP5K1B_0_homo', 'PKP3_0_homo', 'PLEKHG7_0_homo', 'PLK4_0_homo',\n",
       "       'PLXDC1_0_homo', 'PMPCB_0_homo', 'PNLIPRP2_0_homo',\n",
       "       'PNLIPRP3_0_homo', 'PNPO_0_homo', 'POFUT1_0_homo', 'POLI_0_homo',\n",
       "       'POLR1B_0_homo', 'POLR1C_0_homo', 'PPRC1_0_homo', 'PRC1_0_homo',\n",
       "       'PRDM12_0_homo', 'PRG4_0_homo', 'PRKG1_0_homo', 'PRKRIP1_0_homo',\n",
       "       'PRPH2_0_homo', 'PRR29_0_homo', 'PRR5L_0_homo', 'PRSS57_0_homo',\n",
       "       'PSORS1C2_0_homo', 'PTPN21_0_homo', 'PXK_0_homo', 'PYROXD2_0_homo',\n",
       "       'QARS_0_homo', 'QSER1_0_homo', 'RAB23_0_homo', 'RAB34_0_homo',\n",
       "       'RASGRP4_0_homo', 'RFWD3_0_homo', 'RIC3_0_homo', 'RIPK3_0_homo',\n",
       "       'RNASE7_0_homo', 'RPS6KB2_0_homo', 'RSPH9_0_homo', 'RTEL1_0_homo',\n",
       "       'RTL10_0_homo', 'S100A2_0_homo', 'SAT2_0_homo', 'SCAF1_0_homo',\n",
       "       'SCCPDH_0_homo', 'SECISBP2_0_homo', 'SELENOI_0_homo',\n",
       "       'SENP6_0_homo', 'SH2B3_0_homo', 'SLC15A2_0_homo',\n",
       "       'SLC16A11_0_homo', 'SLC25A32_0_homo', 'SLC27A5_0_homo',\n",
       "       'SLC28A3_0_homo', 'SLC33A1_0_homo', 'SLC39A2_0_homo',\n",
       "       'SLC4A3_0_homo', 'SLC5A12_0_homo', 'SMC4_0_homo', 'SORL1_0_homo',\n",
       "       'SPATA48_0_homo', 'SPECC1_0_homo', 'SPOUT1_0_homo', 'SRA1_0_homo',\n",
       "       'SRMS_0_homo', 'SRSF4_0_homo', 'ST14_0_homo', 'STARD6_0_homo',\n",
       "       'STK39_0_homo', 'TARBP1_0_homo', 'TCTN3_0_homo', 'TENT4B_0_homo',\n",
       "       'TESK2_0_homo', 'TFAP2D_0_homo', 'THSD1_0_homo', 'THSD7B_0_homo',\n",
       "       'TLR4_0_homo', 'TMC3_0_homo', 'TMC5_0_homo', 'TMEM89_0_homo',\n",
       "       'TNFAIP8L3_0_homo', 'TONSL_0_homo', 'TRDMT1_0_homo',\n",
       "       'TRIM41_0_homo', 'TYK2_0_homo', 'UBQLNL_0_homo', 'VNN1_0_homo',\n",
       "       'WDPCP_0_homo', 'WDYHV1_0_homo', 'XRRA1_0_homo', 'ZBED3_0_homo',\n",
       "       'ZBTB38_0_homo', 'ZDHHC8_0_homo', 'ZFPM1_0_homo', 'ZKSCAN3_0_homo',\n",
       "       'ZKSCAN4_0_homo', 'ZKSCAN8_0_homo', 'ZNF461_0_homo',\n",
       "       'ZNF518A_0_homo', 'ZNF579_0_homo', 'ZNF665_0_homo',\n",
       "       'ZNF783_0_homo', 'ZNF80_0_homo', 'ZNF837_0_homo', 'ZNF878_0_homo',\n",
       "       'ZSCAN12_0_homo', 'ZSCAN26_0_homo', 'ZSCAN31_0_homo'], dtype='<U33')"
      ]
     },
     "execution_count": 59,
     "metadata": {},
     "output_type": "execute_result"
    }
   ],
   "source": [
    "np.setdiff1d(X_nic.columns.tolist(), X.columns.tolist())"
   ]
  },
  {
   "cell_type": "code",
   "execution_count": 60,
   "metadata": {
    "scrolled": true
   },
   "outputs": [
    {
     "name": "stdout",
     "output_type": "stream",
     "text": [
      "Class  1  53.5%\n",
      "Class  0  46.5%\n",
      "\n"
     ]
    }
   ],
   "source": [
    "print(\"Class %2d  %.1f%%\\nClass %2d  %.1f%%\\n\"%((y.value_counts()/y.shape[0]).index[0],100*(y.value_counts()/y.shape[0]).values[0],(y.value_counts()/y.shape[0]).index[1],100*(y.value_counts()/y.shape[0]).values[1]))"
   ]
  },
  {
   "cell_type": "code",
   "execution_count": 61,
   "metadata": {},
   "outputs": [],
   "source": [
    "np.random.seed(1234)\n",
    "\n",
    "X_train, X_test, y_train, y_test = \\\n",
    "    train_test_split(X, y, train_size= 0.9, random_state=1234, shuffle=True)\n",
    "\n",
    "crossvalidation = StratifiedKFold(n_splits=10, shuffle=True, random_state=1234)"
   ]
  },
  {
   "cell_type": "code",
   "execution_count": 62,
   "metadata": {},
   "outputs": [],
   "source": [
    "c = np.logspace(np.log10(1e-2), np.log10(1e3), 51)"
   ]
  },
  {
   "cell_type": "code",
   "execution_count": 63,
   "metadata": {},
   "outputs": [
    {
     "name": "stdout",
     "output_type": "stream",
     "text": [
      "[LibLinear]"
     ]
    },
    {
     "data": {
      "text/plain": [
       "GridSearchCV(cv=StratifiedKFold(n_splits=10, random_state=1234, shuffle=True),\n",
       "             estimator=LogisticRegression(penalty='l1', random_state=1234,\n",
       "                                          solver='liblinear', verbose=1),\n",
       "             n_jobs=-1,\n",
       "             param_grid={'C': array([1.00000000e-02, 1.25892541e-02, 1.58489319e-02, 1.99526231e-02,\n",
       "       2.51188643e-02, 3.16227766e-02, 3.98107171e-02, 5.01187234e-02,\n",
       "       6.30957344e-02, 7.94328235e-02, 1...\n",
       "       6.30957344e+00, 7.94328235e+00, 1.00000000e+01, 1.25892541e+01,\n",
       "       1.58489319e+01, 1.99526231e+01, 2.51188643e+01, 3.16227766e+01,\n",
       "       3.98107171e+01, 5.01187234e+01, 6.30957344e+01, 7.94328235e+01,\n",
       "       1.00000000e+02, 1.25892541e+02, 1.58489319e+02, 1.99526231e+02,\n",
       "       2.51188643e+02, 3.16227766e+02, 3.98107171e+02, 5.01187234e+02,\n",
       "       6.30957344e+02, 7.94328235e+02, 1.00000000e+03])},\n",
       "             scoring='roc_auc')"
      ]
     },
     "execution_count": 63,
     "metadata": {},
     "output_type": "execute_result"
    }
   ],
   "source": [
    "lasso = LogisticRegression(random_state=1234, solver=\"liblinear\",penalty='l1',verbose=1)\n",
    "parameters = {'C':c}\n",
    "lasso_gs = GridSearchCV(lasso, parameters, n_jobs=-1, cv=crossvalidation, scoring='roc_auc')\n",
    "lasso_gs.fit(X_nic,y_nic)"
   ]
  },
  {
   "cell_type": "code",
   "execution_count": 64,
   "metadata": {},
   "outputs": [],
   "source": [
    "s = {'score':lasso_gs.cv_results_['mean_test_score'],'std':lasso_gs.cv_results_['std_test_score'],'c':1/c}\n",
    "scores = pd.DataFrame(data=s)"
   ]
  },
  {
   "cell_type": "code",
   "execution_count": 65,
   "metadata": {},
   "outputs": [
    {
     "data": {
      "image/png": "[encoded data removed]",
      "text/plain": [
       "<Figure size 1080x504 with 1 Axes>"
      ]
     },
     "metadata": {},
     "output_type": "display_data"
    }
   ],
   "source": [
    "sns.set_theme()\n",
    "plt.figure(figsize=(15,7))\n",
    "ax = sns.lineplot(data=scores, x='c', y='score', ci=scores.std, markers=True, marker='o')\n",
    "ax.fill_between(1/parameters['C'], y1=lasso_gs.cv_results_['mean_test_score'] - lasso_gs.cv_results_['std_test_score']/2, \n",
    "                y2=lasso_gs.cv_results_['mean_test_score'] + lasso_gs.cv_results_['std_test_score']/2, alpha=.2)\n",
    "ax.set_xscale('log')\n",
    "ax.set_ylabel('ACCURACY')\n",
    "ax.set_xlabel('REGULARIZATION FACTOR')\n",
    "#ax.set_title('Lasso LogisticRegression GridSearch')\n",
    "plt.plot(1/lasso_gs.best_estimator_.C,lasso_gs.best_score_, 'ok', markersize=5, color='red')\n",
    "plt.savefig('./Plots/GS_GC_homo_female.png', dpi=150)\n",
    "#ax.set_ylim([0.475,0.7])"
   ]
  },
  {
   "cell_type": "code",
   "execution_count": 33,
   "metadata": {},
   "outputs": [
    {
     "data": {
      "text/plain": [
       "LogisticRegression(C=251.18864315095823, penalty='l1', random_state=1234,\n",
       "                   solver='liblinear', verbose=1)"
      ]
     },
     "execution_count": 33,
     "metadata": {},
     "output_type": "execute_result"
    }
   ],
   "source": [
    "lasso_gs.best_estimator_"
   ]
  },
  {
   "cell_type": "code",
   "execution_count": 34,
   "metadata": {},
   "outputs": [
    {
     "data": {
      "text/plain": [
       "0.003981071705534969"
      ]
     },
     "execution_count": 34,
     "metadata": {},
     "output_type": "execute_result"
    }
   ],
   "source": [
    "1/lasso_gs.best_estimator_.C"
   ]
  },
  {
   "cell_type": "code",
   "execution_count": 71,
   "metadata": {},
   "outputs": [
    {
     "name": "stdout",
     "output_type": "stream",
     "text": [
      "[LibLinear][LibLinear][LibLinear][LibLinear][LibLinear][LibLinear][LibLinear][LibLinear][LibLinear][LibLinear][LibLinear][LibLinear][LibLinear][LibLinear][LibLinear][LibLinear][LibLinear][LibLinear][LibLinear][LibLinear][LibLinear][LibLinear][LibLinear][LibLinear][LibLinear][LibLinear][LibLinear][LibLinear][LibLinear][LibLinear][LibLinear][LibLinear][LibLinear][LibLinear][LibLinear][LibLinear][LibLinear][LibLinear][LibLinear][LibLinear][LibLinear][LibLinear][LibLinear][LibLinear][LibLinear][LibLinear][LibLinear][LibLinear][LibLinear][LibLinear][LibLinear]\n",
      "\n",
      "                                   Lasso\n",
      "========================================\n",
      "\t  Accuracy (CV) 0.517 0.037\n",
      "\tAccuracy (Test) 1.000\n",
      "\t      Precision 0.543\n",
      "\t      Recall    0.599\n",
      "\t      F1        0.568\n",
      "\t      AUC        0.527\n",
      "\n",
      "\n"
     ]
    }
   ],
   "source": [
    "method_name = 'Lasso'\n",
    "\n",
    "#lasso = lasso_gs.best_estimator_\n",
    "lasso = LogisticRegression(C=lasso_gs.best_estimator_.C, penalty='l1', random_state=5, solver='liblinear', verbose=1)\n",
    "\n",
    "xval_score = cross_val_score(lasso,X,y,cv=crossvalidation)\n",
    "\n",
    "# compute the basic statistics\n",
    "accuracy_mean = np.average(xval_score)\n",
    "accuracy_std = np.std(xval_score)\n",
    "\n",
    "lasso.fit(X,y)\n",
    "\n",
    "importances = lasso.coef_\n",
    "\n",
    "prec = np.average(cross_val_score(lasso,X,y,cv=crossvalidation, scoring='precision'))\n",
    "    \n",
    "rec = np.average(cross_val_score(lasso,X,y,cv=crossvalidation, scoring='recall'))\n",
    "    \n",
    "f1_metric = np.average(cross_val_score(lasso,X,y,cv=crossvalidation, scoring='f1'))\n",
    "    \n",
    "auc_metric = np.average(cross_val_score(lasso,X,y,cv=crossvalidation, scoring='roc_auc'))\n",
    "\n",
    "\n",
    "print('\\n')    \n",
    "print(\"%40s\"%method_name)\n",
    "print(\"========================================\")\n",
    "print(\"\\t  Accuracy (CV) %.3f %.3f\"%(np.average(xval_score),np.std(xval_score)))\n",
    "print(\"\\tAccuracy (Test) %.3f\"%accuracy_score(y_test, lasso.predict(X_test)))\n",
    "print(\"\\t      Precision %.3f\"%prec)\n",
    "print(\"\\t      Recall    %.3f\"%rec)\n",
    "print(\"\\t      F1        %.3f\"%f1_metric)\n",
    "print(\"\\t      AUC        %.3f\"%auc_metric)\n",
    "print(\"\\n\")"
   ]
  },
  {
   "cell_type": "code",
   "execution_count": 72,
   "metadata": {},
   "outputs": [
    {
     "data": {
      "text/plain": [
       "12249"
      ]
     },
     "execution_count": 72,
     "metadata": {},
     "output_type": "execute_result"
    }
   ],
   "source": [
    "importances = lasso.coef_.flatten()\n",
    "importances.shape[0]"
   ]
  },
  {
   "cell_type": "code",
   "execution_count": 73,
   "metadata": {},
   "outputs": [],
   "source": [
    "indices = np.argsort(np.absolute(importances))[::-1]#[0:100]\n",
    "indices = indices[np.absolute(importances[indices])>0.000001]"
   ]
  },
  {
   "cell_type": "code",
   "execution_count": 74,
   "metadata": {},
   "outputs": [],
   "source": [
    "selected_features = importances[indices]"
   ]
  },
  {
   "cell_type": "code",
   "execution_count": 75,
   "metadata": {},
   "outputs": [
    {
     "data": {
      "text/plain": [
       "1101"
      ]
     },
     "execution_count": 75,
     "metadata": {},
     "output_type": "execute_result"
    }
   ],
   "source": [
    "len(selected_features)"
   ]
  },
  {
   "cell_type": "code",
   "execution_count": 76,
   "metadata": {},
   "outputs": [
    {
     "data": {
      "image/png": "[encoded data removed]",
      "text/plain": [
       "<Figure size 1080x504 with 1 Axes>"
      ]
     },
     "metadata": {
      "needs_background": "light"
     },
     "output_type": "display_data"
    }
   ],
   "source": [
    "n_features = len(selected_features)\n",
    "\n",
    "fig, ax = plt.subplots(figsize=(15,7))\n",
    "\n",
    "plt.title(\"Lasso Feature importances female rare AD\")\n",
    "\n",
    "ax.bar(range(n_features), importances[indices],\n",
    "        color=\"#457b9d\", yerr=None, align=\"center\")\n",
    "\n",
    "plt.xticks(range(n_features), X.columns[indices],rotation='-90')\n",
    "#ax.get_xticklabels()[1].set_fontweight(\"bold\")\n",
    "#ax.get_xticklabels()[4].set_fontweight(\"bold\")\n",
    "#ax.get_xticklabels()[16].set_fontweight(\"bold\")\n",
    "\n",
    "plt.xlim([-1, len(selected_features)])#X.shape[1]])\n",
    "plt.tight_layout()\n",
    "#plt.savefig('./Plots/Feature_importances_adjbyage.png',dpi=150)\n",
    "plt.show()"
   ]
  },
  {
   "cell_type": "code",
   "execution_count": 116,
   "metadata": {
    "scrolled": false
   },
   "outputs": [
    {
     "name": "stdout",
     "output_type": "stream",
     "text": [
      "[LibLinear][LibLinear][LibLinear][LibLinear][LibLinear][LibLinear][LibLinear][LibLinear][LibLinear][LibLinear]"
     ]
    },
    {
     "data": {
      "image/png": "[encoded data removed]",
      "text/plain": [
       "<Figure size 720x360 with 1 Axes>"
      ]
     },
     "metadata": {
      "needs_background": "light"
     },
     "output_type": "display_data"
    }
   ],
   "source": [
    "tprs = []\n",
    "aucs = []\n",
    "mean_fpr = np.linspace(0, 1, 100)\n",
    "\n",
    "fig, ax = plt.subplots(figsize=(10,5))\n",
    "for i, (train, test) in enumerate(crossvalidation.split(X, y)):\n",
    "    lasso.fit(X.iloc[train], y.iloc[train])\n",
    "    viz = plot_roc_curve(lasso, X.iloc[test], y.iloc[test],\n",
    "                         name='ROC fold {}'.format(i),\n",
    "                         alpha=0.3, lw=1, ax=ax)\n",
    "    interp_tpr = np.interp(mean_fpr, viz.fpr, viz.tpr)\n",
    "    interp_tpr[0] = 0.0\n",
    "    tprs.append(interp_tpr)\n",
    "    aucs.append(viz.roc_auc)\n",
    "\n",
    "ax.plot([0, 1], [0, 1], linestyle='--', lw=2, color='r',\n",
    "        label='Chance', alpha=.8)\n",
    "\n",
    "mean_tpr = np.mean(tprs, axis=0)\n",
    "mean_tpr[-1] = 1.0\n",
    "mean_auc = auc(mean_fpr, mean_tpr)\n",
    "std_auc = np.std(aucs)\n",
    "ax.plot(mean_fpr, mean_tpr, color='b',\n",
    "        label=r'Mean ROC (AUC = %0.2f $\\pm$ %0.2f)' % (mean_auc, std_auc),\n",
    "        lw=2, alpha=.8)\n",
    "\n",
    "std_tpr = np.std(tprs, axis=0)\n",
    "tprs_upper = np.minimum(mean_tpr + std_tpr, 1)\n",
    "tprs_lower = np.maximum(mean_tpr - std_tpr, 0)\n",
    "ax.fill_between(mean_fpr, tprs_lower, tprs_upper, color='grey', alpha=.2,\n",
    "                label=r'$\\pm$ 1 std. dev.')\n",
    "\n",
    "ax.set(xlim=[-0.05, 1.05], ylim=[-0.05, 1.05],\n",
    "       title=\"Lasso Classifier ROC Curve\")\n",
    "ax.legend(bbox_to_anchor=(1.25, 1.0))\n",
    "plt.tight_layout()\n",
    "#plt.savefig('./Plots/Lasso Adjusted by age ROC.png',dpi=150)\n",
    "plt.show()"
   ]
  },
  {
   "cell_type": "code",
   "execution_count": 103,
   "metadata": {},
   "outputs": [
    {
     "name": "stdout",
     "output_type": "stream",
     "text": [
      "[LibLinear][LibLinear][LibLinear][LibLinear][LibLinear][LibLinear][LibLinear][LibLinear][LibLinear][LibLinear]"
     ]
    }
   ],
   "source": [
    "yp_cv = cross_val_predict(lasso, X, y, cv=crossvalidation)\n",
    "tn, fp, fn, tp = confusion_matrix(y, yp_cv).ravel()\n",
    "\n",
    "#tn, fp, fn, tp = confusion_matrix(y_test, yp).ravel()\n",
    "\n",
    "conf = [[tn,fn],[fp,tp]]\n",
    "\n",
    "confusion = np.array(conf)"
   ]
  },
  {
   "cell_type": "code",
   "execution_count": 68,
   "metadata": {},
   "outputs": [
    {
     "data": {
      "image/png": "[encoded data removed]",
      "text/plain": [
       "<Figure size 432x288 with 2 Axes>"
      ]
     },
     "metadata": {
      "needs_background": "light"
     },
     "output_type": "display_data"
    }
   ],
   "source": [
    "ax = sns.heatmap(confusion, annot=True, cmap='Blues',fmt='g')\n",
    "ax.set_ylabel('Predicted')\n",
    "ax.set_xlabel('Reference')\n",
    "ax.set_title('Lasso Confusion Matrix')\n",
    "#ax.set_xticklabels(['Absent','Present'])\n",
    "#ax.set_yticklabels(['Absent','Present'])\n",
    "plt.savefig('./Plots/Lasso Confusion matrix adj by age.png', dpi=150)"
   ]
  },
  {
   "cell_type": "code",
   "execution_count": 97,
   "metadata": {},
   "outputs": [],
   "source": [
    "selected_features = X.columns[indices]"
   ]
  },
  {
   "cell_type": "code",
   "execution_count": 99,
   "metadata": {},
   "outputs": [],
   "source": [
    "df_out = df.loc[:, selected_features]\n",
    "df_out['grading'] = df['grading']\n",
    "df_out.to_csv('./selected_features_adjusted_by_age.csv',index=False)"
   ]
  },
  {
   "cell_type": "markdown",
   "metadata": {},
   "source": [
    "# Confronto tra le nuove features selezionate e le precedenti"
   ]
  },
  {
   "cell_type": "code",
   "execution_count": 66,
   "metadata": {},
   "outputs": [],
   "source": [
    "old_features = pd.read_csv('./selected_features_lasso_noindex.csv')"
   ]
  },
  {
   "cell_type": "code",
   "execution_count": 67,
   "metadata": {},
   "outputs": [
    {
     "name": "stdout",
     "output_type": "stream",
     "text": [
      "Le nuove features sono 45:\n",
      "['GYPB' 'MICAL1' 'KRTAP5-10' 'CSMD3' 'TMEM14B' 'MAGOHB' 'COL6A3' 'CEL'\n",
      " 'MYO18B' 'ZNF714' 'FMN2' 'MYO7A' 'BOP1' 'ADAMTS10' 'ANKRD11' 'CNOT2'\n",
      " 'ADAMTSL2' 'URB1' 'CELA1' 'TICRR' 'LY75;LY75-CD302' 'NUP153' 'CACNA1B'\n",
      " 'OR4E2' 'NPIPB3' 'SH3BGRL2' 'MAPKAP1' 'STKLD1' 'APOB' 'IRF8' 'PKD1'\n",
      " 'ARID1B' 'FNBP4' 'ADGRV1' 'CHN1' 'RAI1' 'AR' 'TAF4' 'DMKN' 'THAP11'\n",
      " 'DRICH1' 'DCHS1' 'VPS13B' 'PILRB' 'lung']\n",
      "\n",
      "\n",
      "Le vecchie features sono57:\n",
      "['hypertension' 'MUC12' 'diabetes' 'RFTN2' 'CACNA1B' 'TTTY23;GYG2P1'\n",
      " 'BOP1' 'TP53BP2;GTF2IP20' 'KRTAP5-10' 'MEX3C' 'ZNF419' 'OTOG' 'RPS6KA5'\n",
      " 'NPIPB3' 'Autoimmune disease' 'AK9' 'APLP2' 'GXYLT1' 'COL6A6' 'MROH9'\n",
      " 'SASH1' 'ZNF714' 'HSPG2' 'CCDC173' 'RAB11FIP1' 'RBM6' 'KRT1' 'AVPR1B'\n",
      " 'DYNC2H1' 'REXO1' 'TAF4' 'STARD9' 'TMEM14B' 'SLC3A2' 'PIEZO1' 'WDR36'\n",
      " 'C19orf57' 'DST' 'FMN2' 'FLNB' 'CRCP' 'ATN1' 'PLK5' 'SLAMF8' 'NSD2'\n",
      " 'TMEM154' 'DCAF8L2' 'MST1' 'ADAMTS10' 'LAMA5' 'XIRP2' 'BRCA2' 'CEP290'\n",
      " 'PPP1R3A' 'AR' 'NACA' 'lung']\n",
      "\n",
      "\n",
      "Le features in comune sono11:\n",
      "['ADAMTS10' 'AR' 'BOP1' 'CACNA1B' 'FMN2' 'KRTAP5-10' 'NPIPB3' 'TAF4'\n",
      " 'TMEM14B' 'ZNF714' 'lung']\n"
     ]
    }
   ],
   "source": [
    "print('Le nuove features sono '+str(len(df_out.columns))+':')\n",
    "print(df_out.columns.values)\n",
    "print('\\n')\n",
    "print('Le vecchie features sono'+str(len(old_features.columns.values))+':')\n",
    "print(old_features.columns.values)\n",
    "print('\\n')\n",
    "\n",
    "common_features = np.intersect1d(df_out.columns.values,old_features.columns.values)\n",
    "\n",
    "print('Le features in comune sono'+str(len(common_features))+':')\n",
    "print(common_features)"
   ]
  },
  {
   "cell_type": "markdown",
   "metadata": {},
   "source": [
    "# Comparing with other methods after features selection"
   ]
  },
  {
   "cell_type": "code",
   "execution_count": null,
   "metadata": {},
   "outputs": [],
   "source": [
    "target_variable = 'grading'\n",
    "input_variables = selected_features\n",
    "\n",
    "X = df[input_variables]\n",
    "y = df[target_variable]"
   ]
  },
  {
   "cell_type": "code",
   "execution_count": null,
   "metadata": {},
   "outputs": [],
   "source": [
    "np.random.seed(1234)\n",
    "\n",
    "X_train, X_test, y_train, y_test = \\\n",
    "    train_test_split(X, y, train_size= 0.9, random_state=1234, shuffle=True)\n",
    "\n",
    "crossvalidation = StratifiedKFold(n_splits=10, shuffle=True, random_state=1234)"
   ]
  },
  {
   "cell_type": "code",
   "execution_count": null,
   "metadata": {},
   "outputs": [],
   "source": [
    "#n_estimators = 100\n",
    "#max_depth = 5\n",
    "\n",
    "n_estimators = 100\n",
    "max_depth = 5\n",
    "\n",
    "methods = {\n",
    "    'Ridge':LogisticRegression(penalty=\"l2\",C=0.1, random_state=1234, max_iter=300, solver=\"liblinear\",class_weight='balanced'),\n",
    "    'k-NN(5)':KNeighborsClassifier(n_neighbors=5, algorithm='kd_tree'),\n",
    "    'Decision Tree':DecisionTreeClassifier(max_depth=10,class_weight='balanced'),\n",
    "    'Bagging(Tree)':BaggingClassifier(DecisionTreeClassifier(max_depth=max_depth, class_weight='balanced'),n_estimators=n_estimators,\n",
    "                                     random_state=1234),\n",
    "    'Random Forest':RandomForestClassifier(n_estimators=n_estimators,max_depth=None,oob_score=True, class_weight='balanced',random_state=1234),\n",
    "    'Extremely Randomized Trees':ExtraTreesClassifier(n_estimators=n_estimators,max_depth=max_depth, class_weight='balanced',random_state=1234),\n",
    "    'Ada Boost':AdaBoostClassifier(DecisionTreeClassifier(max_depth=1,class_weight='balanced'),n_estimators=n_estimators,random_state=1234)\n",
    "}"
   ]
  },
  {
   "cell_type": "code",
   "execution_count": null,
   "metadata": {},
   "outputs": [],
   "source": [
    "xval_results = {}\n",
    "roc_results = {}\n",
    "feature_importance_model = {}\n",
    "\n",
    "method = []\n",
    "accuracy_mean = []\n",
    "accuracy_std = []\n",
    "precision = []\n",
    "recall = []\n",
    "f1 = []\n",
    "auc_scores =[]\n",
    "\n",
    "for method_name in methods:\n",
    "    \n",
    "    \n",
    "    clf = methods[method_name];\n",
    "    \n",
    "    # evaluate the model using crossvalidation\n",
    "    xval_score = cross_val_score(clf,X,y,cv=crossvalidation)\n",
    "    \n",
    "    # store the raw results of crossvalidation that we might want to use for t-test/mann-whitney comparison\n",
    "    xval_results[method_name] = xval_score\n",
    "    \n",
    "    # compute the basic statistics\n",
    "    accuracy_mean.append(np.average(xval_score))\n",
    "    accuracy_std.append(np.std(xval_score))\n",
    "    \n",
    "    prec = np.average(cross_val_score(clf,X,y,cv=crossvalidation, scoring='precision'))\n",
    "    precision.append(prec)\n",
    "    \n",
    "    rec = np.average(cross_val_score(clf,X,y,cv=crossvalidation, scoring='recall'))\n",
    "    recall.append(rec)\n",
    "    \n",
    "    f1_metric = np.average(cross_val_score(clf,X,y,cv=crossvalidation, scoring='f1'))\n",
    "    f1.append(f1_metric)\n",
    "    \n",
    "    auc_metric = np.average(cross_val_score(clf,X,y,cv=crossvalidation, scoring='roc_auc'))\n",
    "    auc_scores.append(auc_metric)\n",
    "    \n",
    "    # if the mode can return an evaluation of feature importance we store it to analyze it later\n",
    "    if hasattr(clf, 'feature_importances_'):\n",
    "            feature_importance_model[method_name] = (clf,clf.feature_importances_)\n",
    "    \n",
    "    clf.fit(X,y)\n",
    "    #yp = clf.predict(X_test)\n",
    "    \n",
    "    print(\"%40s\"%method_name)\n",
    "    print(\"========================================\")\n",
    "    print(\"\\t  Accuracy (CV) %.3f %.3f\"%(np.average(xval_score),np.std(xval_score)))\n",
    "    #print(\"\\tAccuracy (Test) %.3f\"%accuracy_score(y_test, yp))\n",
    "    print(\"\\t      Precision %.3f\"%prec)\n",
    "    print(\"\\t      Recall    %.3f\"%rec)\n",
    "    print(\"\\t      F1        %.3f\"%f1_metric)\n",
    "    print(\"\\t      AUC        %.3f\"%auc_metric)\n",
    "    print(\"\\n\")\n",
    "\n",
    "    method.append(method_name)"
   ]
  },
  {
   "cell_type": "code",
   "execution_count": null,
   "metadata": {
    "scrolled": false
   },
   "outputs": [],
   "source": [
    "mean_fpr = np.linspace(0, 1, 100)\n",
    "roc_results = {}\n",
    "\n",
    "for method_name in methods:\n",
    "\n",
    "    tprs = []\n",
    "    aucs = []\n",
    "\n",
    "    fig, ax = plt.subplots()\n",
    "    \n",
    "    for i, (train, test) in enumerate(crossvalidation.split(X, y)):\n",
    "        methods[method_name].fit(X.iloc[train], y.iloc[train])\n",
    "        viz = plot_roc_curve(methods[method_name], X.iloc[test], y.iloc[test],\n",
    "                             name='ROC fold {}'.format(i),\n",
    "                             alpha=0.3, lw=1, ax=ax)\n",
    "        interp_tpr = np.interp(mean_fpr, viz.fpr, viz.tpr)\n",
    "        interp_tpr[0] = 0.0\n",
    "        tprs.append(interp_tpr)\n",
    "        aucs.append(viz.roc_auc)\n",
    "\n",
    "    ax.plot([0, 1], [0, 1], linestyle='--', lw=2, color='r',\n",
    "        label='Chance', alpha=.8)\n",
    "\n",
    "    mean_tpr = np.mean(tprs, axis=0)\n",
    "    mean_tpr[-1] = 1.0\n",
    "    mean_auc = auc(mean_fpr, mean_tpr)\n",
    "    std_auc = np.std(aucs)\n",
    "    ax.plot(mean_fpr, mean_tpr, color='b',\n",
    "        label=r'Mean ROC (AUC = %0.2f $\\pm$ %0.2f)' % (mean_auc, std_auc),\n",
    "        lw=2, alpha=.8)\n",
    "    \n",
    "    std_tpr = np.std(tprs, axis=0)\n",
    "    tprs_upper = np.minimum(mean_tpr + std_tpr, 1)\n",
    "    tprs_lower = np.maximum(mean_tpr - std_tpr, 0)\n",
    "    ax.fill_between(mean_fpr, tprs_lower, tprs_upper, color='grey', alpha=.2,\n",
    "                label=r'$\\pm$ 1 std. dev.')\n",
    "\n",
    "    ax.set(xlim=[-0.05, 1.05], ylim=[-0.05, 1.05],\n",
    "       title=method_name)\n",
    "    ax.legend(bbox_to_anchor=(1.25, 1.0))\n",
    "    \n",
    "    roc_results[method_name] = (mean_fpr, mean_tpr, mean_auc)"
   ]
  },
  {
   "cell_type": "code",
   "execution_count": null,
   "metadata": {},
   "outputs": [],
   "source": [
    "# we sort the AUC values so to have a better legend\n",
    "sorted_roc_results = sorted(roc_results.items(), key=lambda x: x[1][2], reverse=True)\n",
    "\n",
    "plt.figure(1, figsize=(8, 8));\n",
    "#font = {'family':'sans', 'size':24};\n",
    "#plt.rc('font', **font);\n",
    "plt.xlabel('FPR');\n",
    "plt.ylabel('TPR');\n",
    "for result in sorted_roc_results:\n",
    "    #print(result[1][0])\n",
    "    #print(result[1][1])\n",
    "    #print(result[0])\n",
    "    #print(result[1][2])\n",
    "    plt.plot(result[1][0], result[1][1],label=result[0]+' %.2f'%result[1][2])\n",
    "\n",
    "\n",
    "# plt.plot(fpr,thresholds,label='Thresholds')\n",
    "plt.plot([0.0,1.0],[0.0,1.0],label='Baseline')\n",
    "plt.yticks(np.arange(0.0,1.01,.2))\n",
    "plt.title('ROC Curves with Crossvalidation')\n",
    "plt.ylim([0.0,1.0])\n",
    "plt.xlim([0.0,1.0])\n",
    "plt.legend(bbox_to_anchor=(1.25, 1.0))\n",
    "\n",
    "plt.show();"
   ]
  },
  {
   "cell_type": "markdown",
   "metadata": {},
   "source": [
    "## Accuracy for different techniques"
   ]
  },
  {
   "cell_type": "code",
   "execution_count": null,
   "metadata": {},
   "outputs": [],
   "source": [
    "method_names = np.array(list(methods.keys()))\n",
    "acc_indices = np.array(accuracy_mean).argsort()\n",
    "\n",
    "sorted_accuracy = np.take_along_axis(np.array(accuracy_mean), acc_indices, axis=0)\n",
    "sorted_names = method_names[acc_indices]"
   ]
  },
  {
   "cell_type": "code",
   "execution_count": null,
   "metadata": {},
   "outputs": [],
   "source": [
    "plt.figure(figsize=(11,5))\n",
    "plt.barh(y=sorted_names,width=sorted_accuracy)"
   ]
  },
  {
   "cell_type": "markdown",
   "metadata": {},
   "source": [
    "# Optimizing Random Forests"
   ]
  },
  {
   "cell_type": "code",
   "execution_count": null,
   "metadata": {},
   "outputs": [],
   "source": [
    "target_variable = 'grading'\n",
    "input_variables = selected_features\n",
    "\n",
    "X = df[input_variables]\n",
    "y = df[target_variable]"
   ]
  },
  {
   "cell_type": "code",
   "execution_count": null,
   "metadata": {},
   "outputs": [],
   "source": [
    "np.random.seed(1234)\n",
    "\n",
    "X_train, X_test, y_train, y_test = \\\n",
    "    train_test_split(X, y, train_size= 0.9, random_state=1234, shuffle=True)\n",
    "\n",
    "crossvalidation = StratifiedKFold(n_splits=10, shuffle=True, random_state=1234)"
   ]
  },
  {
   "cell_type": "code",
   "execution_count": null,
   "metadata": {},
   "outputs": [],
   "source": [
    "randomForest = RandomForestClassifier(class_weight='balanced',random_state=1234)\n",
    "parameters = {'max_features':[0.1,0.2,0.3,0.4,0.5,0.6,0.7,0.8,0.9,'sqrt','log2',None],\n",
    "              'max_samples':[0.1,0.2,0.3,0.4,0.5,0.6,0.7,0.8,0.9,1.0],\n",
    "              'n_estimators':[5,10,20,50,100,250,500,1000],\n",
    "              'oob_score' : [True, False],\n",
    "              'max_depth' : [2,3,4,5,7,10,20,None]\n",
    "             }"
   ]
  },
  {
   "cell_type": "code",
   "execution_count": null,
   "metadata": {
    "scrolled": false
   },
   "outputs": [],
   "source": [
    "# search across 100 different combinations, and use all available cores\n",
    "rf_gs = GridSearchCV(estimator = randomForest, param_grid = parameters, cv = crossvalidation, scoring='accuracy',\n",
    "                               verbose=2, n_jobs = -1)\n",
    "\n",
    "# Fit the random search model\n",
    "rf_gs.fit(X,y)"
   ]
  },
  {
   "cell_type": "code",
   "execution_count": null,
   "metadata": {},
   "outputs": [],
   "source": [
    "rf_gs.best_estimator_"
   ]
  },
  {
   "cell_type": "code",
   "execution_count": null,
   "metadata": {},
   "outputs": [],
   "source": [
    "method_name = 'Random Forest'\n",
    "\n",
    "randomForest = rf_gs.best_estimator_\n",
    "\n",
    "#randomForest = RandomForestClassifier(class_weight='balanced', max_depth=10,\n",
    "#                       max_features='log2', max_samples=0.2, n_estimators=500,\n",
    "#                       oob_score=True, random_state=1234)\n",
    "\n",
    "vxval_score = cross_val_score(randomForest,X,y,cv=crossvalidation)\n",
    "\n",
    "# compute the basic statistics\n",
    "accuracy_mean = np.average(xval_score)\n",
    "accuracy_std = np.std(xval_score)\n",
    "\n",
    "randomForest.fit(X,y)\n",
    "\n",
    "importances = randomForest.feature_importances_\n",
    "\n",
    "# compute the prediction which, for probabilistic classifiers, is using a threshold of 0.5\n",
    "yp = randomForest.predict(X_test)\n",
    "\n",
    "prec = np.average(cross_val_score(randomForest,X,y,cv=crossvalidation, scoring='precision'))\n",
    "    \n",
    "rec = np.average(cross_val_score(randomForest,X,y,cv=crossvalidation, scoring='recall'))\n",
    "    \n",
    "f1_metric = np.average(cross_val_score(randomForest,X,y,cv=crossvalidation, scoring='f1'))\n",
    "    \n",
    "auc_metric = np.average(cross_val_score(randomForest,X,y,cv=crossvalidation, scoring='roc_auc'))\n",
    "       \n",
    "print(\"%40s\"%method_name)\n",
    "print(\"========================================\")\n",
    "print(\"\\t  Accuracy (CV) %.3f %.3f\"%(np.average(xval_score),np.std(xval_score)))\n",
    "print(\"\\t      Precision %.3f\"%prec)\n",
    "print(\"\\t      Recall    %.3f\"%rec)\n",
    "print(\"\\t      F1        %.3f\"%f1_metric)\n",
    "print(\"\\t      AUC        %.3f\"%auc_metric)\n",
    "print(\"\\n\")"
   ]
  },
  {
   "cell_type": "code",
   "execution_count": null,
   "metadata": {},
   "outputs": [],
   "source": [
    "plt.figure(figsize=(15,7))\n",
    "std = np.std([tree.feature_importances_ for tree in randomForest.estimators_],\n",
    "             axis=0)\n",
    "\n",
    "indices = np.argsort(importances)[::-1]#[0:100]\n",
    "indices = indices[importances[indices]>0.00001]\n",
    "\n",
    "plt.title(\"Feature importances\")\n",
    "plt.bar(range(len(indices)), importances[indices],\n",
    "        color=\"r\", yerr=None, align=\"center\")\n",
    "plt.xticks(range(len(indices)), X.columns[indices],rotation='vertical')\n",
    "plt.xlim([-1, len(indices)])#X.shape[1]])\n",
    "plt.show()"
   ]
  },
  {
   "cell_type": "markdown",
   "metadata": {},
   "source": [
    "### Random Forest ROC Curve"
   ]
  },
  {
   "cell_type": "code",
   "execution_count": null,
   "metadata": {},
   "outputs": [],
   "source": [
    "tprs = []\n",
    "aucs = []\n",
    "mean_fpr = np.linspace(0, 1, 100)\n",
    "\n",
    "fig, ax = plt.subplots()\n",
    "for i, (train, test) in enumerate(crossvalidation.split(X, y)):\n",
    "    randomForest.fit(X.iloc[train], y.iloc[train])\n",
    "    viz = plot_roc_curve(randomForest, X.iloc[test], y.iloc[test],\n",
    "                         name='ROC fold {}'.format(i),\n",
    "                         alpha=0.3, lw=1, ax=ax)\n",
    "    interp_tpr = np.interp(mean_fpr, viz.fpr, viz.tpr)\n",
    "    interp_tpr[0] = 0.0\n",
    "    tprs.append(interp_tpr)\n",
    "    aucs.append(viz.roc_auc)\n",
    "\n",
    "ax.plot([0, 1], [0, 1], linestyle='--', lw=2, color='r',\n",
    "        label='Chance', alpha=.8)\n",
    "\n",
    "mean_tpr = np.mean(tprs, axis=0)\n",
    "mean_tpr[-1] = 1.0\n",
    "mean_auc = auc(mean_fpr, mean_tpr)\n",
    "std_auc = np.std(aucs)\n",
    "ax.plot(mean_fpr, mean_tpr, color='b',\n",
    "        label=r'Mean ROC (AUC = %0.2f $\\pm$ %0.2f)' % (mean_auc, std_auc),\n",
    "        lw=2, alpha=.8)\n",
    "\n",
    "std_tpr = np.std(tprs, axis=0)\n",
    "tprs_upper = np.minimum(mean_tpr + std_tpr, 1)\n",
    "tprs_lower = np.maximum(mean_tpr - std_tpr, 0)\n",
    "ax.fill_between(mean_fpr, tprs_lower, tprs_upper, color='grey', alpha=.2,\n",
    "                label=r'$\\pm$ 1 std. dev.')\n",
    "\n",
    "ax.set(xlim=[-0.05, 1.05], ylim=[-0.05, 1.05],\n",
    "       title=\"Random Forest Classifier ROC Curve\")\n",
    "ax.legend(bbox_to_anchor=(1.25, 1.0))\n",
    "plt.show()"
   ]
  },
  {
   "cell_type": "markdown",
   "metadata": {},
   "source": [
    "### Random Forest Confusion Matrix"
   ]
  },
  {
   "cell_type": "code",
   "execution_count": null,
   "metadata": {},
   "outputs": [],
   "source": [
    "yp_cv = cross_val_predict(randomForest, X, y, cv=crossvalidation)\n",
    "tn, fp, fn, tp = confusion_matrix(y, yp_cv).ravel()\n",
    "\n",
    "#tn, fp, fn, tp = confusion_matrix(y_test, yp).ravel()\n",
    "\n",
    "conf = [[tn,fn],[fp,tp]]\n",
    "\n",
    "confusion = np.array(conf)"
   ]
  },
  {
   "cell_type": "code",
   "execution_count": null,
   "metadata": {},
   "outputs": [],
   "source": [
    "ax = sns.heatmap(confusion, annot=True, cmap='Blues',fmt='g')\n",
    "ax.set_ylabel('Predicted')\n",
    "ax.set_xlabel('Reference')\n",
    "ax.set_title('Random Forest Confusion Matrix')\n",
    "#ax.set_xticklabels(['Absent','Present'])\n",
    "#ax.set_yticklabels(['Absent','Present'])"
   ]
  },
  {
   "cell_type": "markdown",
   "metadata": {},
   "source": [
    "# Ada Boost Confusion Matrix"
   ]
  },
  {
   "cell_type": "code",
   "execution_count": null,
   "metadata": {},
   "outputs": [],
   "source": [
    "yp_cv = cross_val_predict(methods['Ada Boost'], X, y, cv=crossvalidation)\n",
    "tn, fp, fn, tp = confusion_matrix(y, yp_cv).ravel()\n",
    "\n",
    "#tn, fp, fn, tp = confusion_matrix(y_test, yp).ravel()\n",
    "\n",
    "conf = [[tn,fn],[fp,tp]]\n",
    "\n",
    "confusion = np.array(conf)"
   ]
  },
  {
   "cell_type": "code",
   "execution_count": null,
   "metadata": {},
   "outputs": [],
   "source": [
    "ax = sns.heatmap(confusion, annot=True, cmap='Blues',fmt='g')\n",
    "ax.set_ylabel('Predicted')\n",
    "ax.set_xlabel('Reference')\n",
    "ax.set_title('Ada Boost Classifier Confusion Matrix')\n",
    "#ax.set_xticklabels(['Absent','Present'])\n",
    "#ax.set_yticklabels(['Absent','Present'])"
   ]
  },
  {
   "cell_type": "code",
   "execution_count": null,
   "metadata": {},
   "outputs": [],
   "source": [
    "ab_importances = methods['Ada Boost'].feature_importances_\n",
    "\n",
    "ab_n_features = len(ab_importances)\n",
    "\n",
    "plt.figure(figsize=(15,7))\n",
    "\n",
    "ab_indices = np.argsort(ab_importances)[::-1][0:len(indices)]\n",
    "\n",
    "plt.title(\"Ada Boost Feature importances\")\n",
    "plt.bar(range(ab_n_features), ab_importances[ab_indices],\n",
    "        color=\"r\", yerr=None, align=\"center\")\n",
    "plt.xticks(range(ab_n_features), X.columns[ab_indices],rotation='vertical')\n",
    "plt.xlim([-1, ab_n_features])#X.shape[1]])\n",
    "plt.show()"
   ]
  },
  {
   "cell_type": "code",
   "execution_count": null,
   "metadata": {},
   "outputs": [],
   "source": [
    "methods['Ada Boost'].fit(X,y)\n",
    "yp = methods['Ada Boost'].predict(X_test)\n",
    "print(\"Accuracy (Test) %.3f\"%accuracy_score(y_test, yp))\n",
    "print(\"Precision (Test) %.3f\"%precision_score(y_test, yp))\n",
    "print(\"Recall (Test) %.3f\"%recall_score(y_test, yp))\n",
    "print(\"F1 (Test) %.3f\"%f1_score(y_test, yp))\n",
    "print(\"AUC (Test) %.3f\"%roc_auc_score(y_test, yp))"
   ]
  },
  {
   "cell_type": "markdown",
   "metadata": {},
   "source": [
    "# Ridge Optimization"
   ]
  },
  {
   "cell_type": "code",
   "execution_count": null,
   "metadata": {},
   "outputs": [],
   "source": [
    "ridge = LogisticRegression(random_state=1234, max_iter=300, solver=\"liblinear\", penalty='l1',class_weight='balanced',verbose=3)\n",
    "parameters = {'C':np.arange(0,4,0.05)}\n",
    "ridge_gs = GridSearchCV(ridge, parameters, n_jobs=-1, cv=crossvalidation, scoring='accuracy')\n",
    "ridge_gs.fit(X,y)"
   ]
  },
  {
   "cell_type": "code",
   "execution_count": null,
   "metadata": {},
   "outputs": [],
   "source": [
    "ridge_gs.best_estimator_"
   ]
  },
  {
   "cell_type": "code",
   "execution_count": null,
   "metadata": {},
   "outputs": [],
   "source": [
    "method_name = 'Ridge'\n",
    "\n",
    "ridge = ridge_gs.best_estimator_\n",
    "\n",
    "xval_score = cross_val_score(ridge,X,y,cv=crossvalidation)\n",
    "\n",
    "# compute the basic statistics\n",
    "accuracy_mean = np.average(xval_score)\n",
    "accuracy_std = np.std(xval_score)\n",
    "\n",
    "ridge.fit(X,y)\n",
    "\n",
    "importances = ridge.coef_\n",
    "\n",
    "prec = np.average(cross_val_score(ridge,X,y,cv=crossvalidation, scoring='precision'))\n",
    "    \n",
    "rec = np.average(cross_val_score(ridge,X,y,cv=crossvalidation, scoring='recall'))\n",
    "    \n",
    "f1_metric = np.average(cross_val_score(ridge,X,y,cv=crossvalidation, scoring='f1'))\n",
    "    \n",
    "auc_metric = np.average(cross_val_score(ridge,X,y,cv=crossvalidation, scoring='roc_auc'))\n",
    "\n",
    "\n",
    "print('\\n')    \n",
    "print(\"%40s\"%method_name)\n",
    "print(\"========================================\")\n",
    "print(\"\\t  Accuracy (CV) %.3f %.3f\"%(np.average(xval_score),np.std(xval_score)))\n",
    "#print(\"\\tAccuracy (Test) %.3f\"%accuracy_score(y_test, lasso.predict(X_test)))\n",
    "print(\"\\t      Precision %.3f\"%prec)\n",
    "print(\"\\t      Recall    %.3f\"%rec)\n",
    "print(\"\\t      F1        %.3f\"%f1_metric)\n",
    "print(\"\\t      AUC        %.3f\"%auc_metric)\n",
    "print(\"\\n\")"
   ]
  },
  {
   "cell_type": "code",
   "execution_count": null,
   "metadata": {},
   "outputs": [],
   "source": [
    "yp_cv = cross_val_predict(ridge, X, y, cv=crossvalidation)\n",
    "tn, fp, fn, tp = confusion_matrix(y, yp_cv).ravel()\n",
    "\n",
    "#tn, fp, fn, tp = confusion_matrix(y_test, yp).ravel()\n",
    "\n",
    "conf = [[tn,fn],[fp,tp]]\n",
    "\n",
    "confusion = np.array(conf)"
   ]
  },
  {
   "cell_type": "code",
   "execution_count": null,
   "metadata": {},
   "outputs": [],
   "source": [
    "ax = sns.heatmap(confusion, annot=True, cmap='Blues',fmt='g')\n",
    "ax.set_ylabel('Predicted')\n",
    "ax.set_xlabel('Reference')\n",
    "ax.set_title('Ridge Classifier Confusion Matrix')\n",
    "#ax.set_xticklabels(['Absent','Present'])\n",
    "#ax.set_yticklabels(['Absent','Present'])\n",
    "\n",
    "plt.tight_layout()\n",
    "#plt.savefig('./Plots/Ridge_confusionMatrix.png',dpi=200)"
   ]
  },
  {
   "cell_type": "code",
   "execution_count": null,
   "metadata": {
    "scrolled": false
   },
   "outputs": [],
   "source": [
    "ridge_importances = ridge.coef_.flatten()\n",
    "\n",
    "n_features = len(selected_features)\n",
    "\n",
    "fig, ax = plt.subplots(figsize=(15,7))\n",
    "\n",
    "indices = np.argsort(np.abs(ridge_importances))[::-1]\n",
    "\n",
    "plt.title(\"Feature importances\")\n",
    "\n",
    "ax.bar(range(n_features), ridge_importances[indices],\n",
    "        color=\"#457b9d\", yerr=None, align=\"center\")\n",
    "\n",
    "plt.xticks(range(n_features), X.columns,rotation='vertical')\n",
    "\n",
    "ax.get_xticklabels()[1].set_fontweight(\"bold\")\n",
    "ax.get_xticklabels()[4].set_fontweight(\"bold\")\n",
    "ax.get_xticklabels()[16].set_fontweight(\"bold\")\n",
    "\n",
    "plt.xlim([-1, ab_n_features])#X.shape[1]])\n",
    "plt.show()\n",
    "plt.tight_layout()\n",
    "#plt.savefig('./Plots/Ridge_Feature_importances__.png',dpi=200)"
   ]
  },
  {
   "cell_type": "markdown",
   "metadata": {},
   "source": [
    "# Comparing models"
   ]
  },
  {
   "cell_type": "code",
   "execution_count": null,
   "metadata": {},
   "outputs": [],
   "source": [
    "target_variable = 'grading'\n",
    "input_variables = selected_features\n",
    "\n",
    "X = df[input_variables]\n",
    "y = df[target_variable]"
   ]
  },
  {
   "cell_type": "code",
   "execution_count": null,
   "metadata": {},
   "outputs": [],
   "source": [
    "np.random.seed(1234)\n",
    "\n",
    "X_train, X_test, y_train, y_test = \\\n",
    "    train_test_split(X, y, train_size= 0.9, random_state=1234, shuffle=True)\n",
    "\n",
    "crossvalidation = StratifiedKFold(n_splits=10, shuffle=True, random_state=1234)"
   ]
  },
  {
   "cell_type": "code",
   "execution_count": null,
   "metadata": {},
   "outputs": [],
   "source": [
    "#n_estimators = 100\n",
    "#max_depth = 5\n",
    "\n",
    "n_estimators = 100\n",
    "max_depth = 5\n",
    "\n",
    "methods = {\n",
    "\n",
    "    'Ridge':ridge_gs.best_estimator_,\n",
    "    'Decision Tree':DecisionTreeClassifier(max_depth=10,class_weight='balanced'),\n",
    "    'Bagging(Tree)':bagging_gs.best_estimator_,\n",
    "    'Random Forest':rf_gs.best_estimator_,\n",
    "    'Extremely Randomized Trees':ExtraTreesClassifier(n_estimators=n_estimators,max_depth=None, class_weight='balanced',random_state=1234),\n",
    "    'Ada Boost':AdaBoostClassifier(DecisionTreeClassifier(max_depth=1,class_weight='balanced',random_state=1234),n_estimators=250,random_state=1234)\n",
    "    #'Ada Boost':AdaBoostClassifier(LogisticRegression(penalty='none',random_state=1234, max_iter=300, solver=\"newton-cg\",class_weight='balanced'),n_estimators=n_estimators,random_state=1234)\n",
    "\n",
    "}"
   ]
  },
  {
   "cell_type": "code",
   "execution_count": null,
   "metadata": {},
   "outputs": [],
   "source": [
    "xval_results = {}\n",
    "roc_results = {}\n",
    "feature_importance_model = {}\n",
    "\n",
    "method = []\n",
    "accuracy_mean = []\n",
    "accuracy_std = []\n",
    "precision = []\n",
    "recall = []\n",
    "f1 = []\n",
    "auc_scores =[]\n",
    "\n",
    "for method_name in methods:\n",
    "    \n",
    "    \n",
    "    clf = methods[method_name];\n",
    "    \n",
    "    # evaluate the model using crossvalidation\n",
    "    xval_score = cross_val_score(clf,X,y,cv=crossvalidation)\n",
    "    \n",
    "    # store the raw results of crossvalidation that we might want to use for t-test/mann-whitney comparison\n",
    "    xval_results[method_name] = xval_score\n",
    "    \n",
    "    # compute the basic statistics\n",
    "    accuracy_mean.append(np.average(xval_score))\n",
    "    accuracy_std.append(np.std(xval_score))\n",
    "    \n",
    "    prec = np.average(cross_val_score(clf,X,y,cv=crossvalidation, scoring='precision'))\n",
    "    precision.append(prec)\n",
    "    \n",
    "    rec = np.average(cross_val_score(clf,X,y,cv=crossvalidation, scoring='recall'))\n",
    "    recall.append(rec)\n",
    "    \n",
    "    f1_metric = np.average(cross_val_score(clf,X,y,cv=crossvalidation, scoring='f1'))\n",
    "    f1.append(f1_metric)\n",
    "    \n",
    "    auc_metric = np.average(cross_val_score(clf,X,y,cv=crossvalidation, scoring='roc_auc'))\n",
    "    auc_scores.append(auc_metric)\n",
    "    \n",
    "    # if the mode can return an evaluation of feature importance we store it to analyze it later\n",
    "    if hasattr(clf, 'feature_importances_'):\n",
    "            feature_importance_model[method_name] = (clf,clf.feature_importances_)\n",
    "    \n",
    "    print(\"%40s\"%method_name)\n",
    "    print(\"========================================\")\n",
    "    print(\"\\t  Accuracy (CV) %.3f %.3f\"%(np.average(xval_score),np.std(xval_score)))\n",
    "    print(\"\\t      Precision %.3f\"%prec)\n",
    "    print(\"\\t      Recall    %.3f\"%rec)\n",
    "    print(\"\\t      F1        %.3f\"%f1_metric)\n",
    "    print(\"\\t      AUC        %.3f\"%auc_metric)\n",
    "    print(\"\\n\")\n",
    "\n",
    "    method.append(method_name)"
   ]
  },
  {
   "cell_type": "markdown",
   "metadata": {},
   "source": [
    "### Accuracy comparison"
   ]
  },
  {
   "cell_type": "code",
   "execution_count": null,
   "metadata": {},
   "outputs": [],
   "source": [
    "method_names = np.array(list(methods.keys()))\n",
    "acc_indices = np.array(accuracy_mean).argsort()\n",
    "\n",
    "sorted_accuracy = np.take_along_axis(np.array(accuracy_mean), acc_indices, axis=0)\n",
    "sorted_names = method_names[acc_indices]"
   ]
  },
  {
   "cell_type": "code",
   "execution_count": null,
   "metadata": {},
   "outputs": [],
   "source": [
    "plt.figure(figsize=(11,5))\n",
    "plt.barh(y=sorted_names,width=sorted_accuracy)\n",
    "\n",
    "plt.title('Average accuracy on crossvalidation')\n",
    "\n",
    "locs, labels=plt.yticks()\n",
    "\n",
    "for i in range(len(sorted_accuracy)):\n",
    "    plt.annotate('{:1.2f}'.format(sorted_accuracy[i]), xy=(sorted_accuracy[i]/2,locs[i]), ha='center', va='center', color='white')\n",
    "    \n",
    "#plt.savefig('./Plots/Accuracy_Comparison.png',dpi=200)"
   ]
  },
  {
   "cell_type": "markdown",
   "metadata": {},
   "source": [
    "# ROC Curve Comparison"
   ]
  },
  {
   "cell_type": "code",
   "execution_count": null,
   "metadata": {
    "scrolled": false
   },
   "outputs": [],
   "source": [
    "mean_fpr = np.linspace(0, 1, 100)\n",
    "roc_results = {}\n",
    "\n",
    "for method_name in methods:\n",
    "\n",
    "    tprs = []\n",
    "    aucs = []\n",
    "\n",
    "    fig, ax = plt.subplots()\n",
    "    \n",
    "    for i, (train, test) in enumerate(crossvalidation.split(X, y)):\n",
    "        methods[method_name].fit(X.iloc[train], y.iloc[train])\n",
    "        viz = plot_roc_curve(methods[method_name], X.iloc[test], y.iloc[test],\n",
    "                             name='ROC fold {}'.format(i),\n",
    "                             alpha=0.3, lw=1, ax=ax)\n",
    "        interp_tpr = np.interp(mean_fpr, viz.fpr, viz.tpr)\n",
    "        interp_tpr[0] = 0.0\n",
    "        tprs.append(interp_tpr)\n",
    "        aucs.append(viz.roc_auc)\n",
    "\n",
    "    ax.plot([0, 1], [0, 1], linestyle='--', lw=2, color='r',\n",
    "        label='Chance', alpha=.8)\n",
    "\n",
    "    mean_tpr = np.mean(tprs, axis=0)\n",
    "    mean_tpr[-1] = 1.0\n",
    "    mean_auc = auc(mean_fpr, mean_tpr)\n",
    "    std_auc = np.std(aucs)\n",
    "    ax.plot(mean_fpr, mean_tpr, color='b',\n",
    "        label=r'Mean ROC (AUC = %0.2f $\\pm$ %0.2f)' % (mean_auc, std_auc),\n",
    "        lw=2, alpha=.8)\n",
    "    \n",
    "    std_tpr = np.std(tprs, axis=0)\n",
    "    tprs_upper = np.minimum(mean_tpr + std_tpr, 1)\n",
    "    tprs_lower = np.maximum(mean_tpr - std_tpr, 0)\n",
    "    ax.fill_between(mean_fpr, tprs_lower, tprs_upper, color='grey', alpha=.2,\n",
    "                label=r'$\\pm$ 1 std. dev.')\n",
    "\n",
    "    ax.set(xlim=[-0.05, 1.05], ylim=[-0.05, 1.05],\n",
    "       title=method_name)\n",
    "    ax.legend(bbox_to_anchor=(1.25, 1.0))\n",
    "    \n",
    "    roc_results[method_name] = (mean_fpr, mean_tpr, mean_auc)"
   ]
  },
  {
   "cell_type": "code",
   "execution_count": null,
   "metadata": {},
   "outputs": [],
   "source": [
    "# we sort the AUC values so to have a better legend\n",
    "sorted_roc_results = sorted(roc_results.items(), key=lambda x: x[1][2], reverse=True)\n",
    "\n",
    "plt.figure(1, figsize=(8, 8));\n",
    "#font = {'family':'sans', 'size':24};\n",
    "#plt.rc('font', **font);\n",
    "plt.xlabel('FPR');\n",
    "plt.ylabel('TPR');\n",
    "for result in sorted_roc_results:\n",
    "    #print(result[1][0])\n",
    "    #print(result[1][1])\n",
    "    #print(result[0])\n",
    "    #print(result[1][2])\n",
    "    plt.plot(result[1][0], result[1][1],label=result[0]+' %.2f'%result[1][2])\n",
    "\n",
    "\n",
    "# plt.plot(fpr,thresholds,label='Thresholds')\n",
    "plt.plot([0.0,1.0],[0.0,1.0],label='Baseline')\n",
    "plt.yticks(np.arange(0.0,1.01,.2))\n",
    "plt.title('ROC Curves with Crossvalidation')\n",
    "plt.ylim([0.0,1.0])\n",
    "plt.xlim([0.0,1.0])\n",
    "plt.legend(bbox_to_anchor=(1.25, 1.0))\n",
    "\n",
    "plt.show();"
   ]
  },
  {
   "cell_type": "markdown",
   "metadata": {},
   "source": [
    "# Final Model Test Set Performance"
   ]
  },
  {
   "cell_type": "code",
   "execution_count": null,
   "metadata": {},
   "outputs": [],
   "source": [
    "methods['Ridge'].fit(X,y)\n",
    "yp = methods['Ridge'].predict(X_test)\n",
    "print(\"Accuracy (Test) %.3f\"%accuracy_score(y_test, yp))\n",
    "print(\"Precision (Test) %.3f\"%precision_score(y_test, yp))\n",
    "print(\"Recall (Test) %.3f\"%recall_score(y_test, yp))\n",
    "print(\"F1 (Test) %.3f\"%f1_score(y_test, yp))\n",
    "print(\"AUC (Test) %.3f\"%roc_auc_score(y_test, yp))"
   ]
  },
  {
   "cell_type": "code",
   "execution_count": null,
   "metadata": {},
   "outputs": [],
   "source": [
    "df['LRP8']"
   ]
  },
  {
   "cell_type": "code",
   "execution_count": null,
   "metadata": {},
   "outputs": [],
   "source": [
    "# Pazienti con ipertensione ed età inferiore ai 40 anni \n",
    "\n",
    "len(pheno[(pheno['hypertension']>0) & (pheno['age']<5)])"
   ]
  },
  {
   "cell_type": "code",
   "execution_count": null,
   "metadata": {},
   "outputs": [],
   "source": [
    "df['age'].unique()"
   ]
  },
  {
   "cell_type": "code",
   "execution_count": null,
   "metadata": {},
   "outputs": [],
   "source": [
    "sns.catplot(x=\"hypertension\", y=\"age\", data=df, kind='violin')"
   ]
  },
  {
   "cell_type": "code",
   "execution_count": null,
   "metadata": {},
   "outputs": [],
   "source": []
  }
 ],
 "metadata": {
  "kernelspec": {
   "display_name": "Python 3",
   "language": "python",
   "name": "python3"
  },
  "language_info": {
   "codemirror_mode": {
    "name": "ipython",
    "version": 3
   },
   "file_extension": ".py",
   "mimetype": "text/x-python",
   "name": "python",
   "nbconvert_exporter": "python",
   "pygments_lexer": "ipython3",
   "version": "3.7.9"
  }
 },
 "nbformat": 4,
 "nbformat_minor": 4
}
