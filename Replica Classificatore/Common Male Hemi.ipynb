{
 "cells": [
  {
   "cell_type": "code",
   "execution_count": 34,
   "metadata": {},
   "outputs": [],
   "source": [
    "import pandas as pd \n",
    "import numpy as np \n",
    "import seaborn as sns\n",
    "import scipy as sp\n",
    "import matplotlib.pyplot as plt\n",
    "import re\n",
    "from os import listdir\n",
    "from os.path import isfile, join\n",
    "from scipy import stats\n",
    "\n",
    "from sklearn import preprocessing\n",
    "\n",
    "from sklearn.linear_model import LogisticRegression\n",
    "from sklearn.naive_bayes import GaussianNB\n",
    "from sklearn.neighbors import KNeighborsClassifier\n",
    "from sklearn.tree import DecisionTreeClassifier\n",
    "from sklearn.feature_selection import SelectFromModel\n",
    "\n",
    "from sklearn.ensemble import RandomForestClassifier\n",
    "from sklearn.ensemble import ExtraTreesClassifier\n",
    "from sklearn.ensemble import AdaBoostClassifier\n",
    "from sklearn.ensemble import BaggingClassifier\n",
    "\n",
    "from sklearn.ensemble import VotingClassifier\n",
    "\n",
    "# Evaluation Procedures\n",
    "from sklearn.model_selection import train_test_split\n",
    "from sklearn.model_selection import cross_val_score\n",
    "from sklearn.model_selection import cross_val_predict\n",
    "from sklearn.model_selection import StratifiedKFold\n",
    "from sklearn.model_selection import GridSearchCV\n",
    "from sklearn.model_selection import RandomizedSearchCV\n",
    "\n",
    "from sklearn.metrics import precision_score\n",
    "from sklearn.metrics import recall_score \n",
    "from sklearn.metrics import accuracy_score\n",
    "from sklearn.metrics import confusion_matrix \n",
    "from sklearn.metrics import precision_recall_curve \n",
    "from sklearn.metrics import roc_auc_score\n",
    "from sklearn.metrics import plot_roc_curve\n",
    "from sklearn.metrics import roc_curve\n",
    "from sklearn.metrics import f1_score\n",
    "from sklearn.metrics import auc"
   ]
  },
  {
   "cell_type": "code",
   "execution_count": 35,
   "metadata": {},
   "outputs": [],
   "source": [
    "rare_AD = pd.read_csv('../Data/data_gc_poly_unique_1319.csv')"
   ]
  },
  {
   "cell_type": "code",
   "execution_count": 36,
   "metadata": {},
   "outputs": [],
   "source": [
    "pheno = pd.read_csv('../Data/phenotypes_1319.csv',sep=';')"
   ]
  },
  {
   "cell_type": "markdown",
   "metadata": {},
   "source": [
    "Scarto le mutazioni che terminano con `_0`"
   ]
  },
  {
   "cell_type": "code",
   "execution_count": 37,
   "metadata": {},
   "outputs": [],
   "source": [
    "todrop = rare_AD.columns[rare_AD.columns.str.contains('_0')].tolist()\n",
    "todrop += ['ARSD_1', 'ARSD_0', 'VCX_1','VCX2_1', 'VCX2_2']\n",
    "\n",
    "rare_AD.drop(columns=todrop, inplace=True)"
   ]
  },
  {
   "cell_type": "markdown",
   "metadata": {},
   "source": [
    "##### Tengo solo i geni del cromosoma X"
   ]
  },
  {
   "cell_type": "code",
   "execution_count": 38,
   "metadata": {},
   "outputs": [],
   "source": [
    "chr_X = pd.read_csv('../Data/Male/genes_chrX.csv')\n",
    "genes_X = np.intersect1d(chr_X['genes_x'].tolist(), rare_AD.columns.tolist())\n",
    "genes_X = chr_X['genes_x'].tolist()"
   ]
  },
  {
   "cell_type": "code",
   "execution_count": 39,
   "metadata": {},
   "outputs": [],
   "source": [
    "selected = []\n",
    "for x in rare_AD.columns:\n",
    "    gene = x.split('_')[0]\n",
    "    if gene in chr_X['genes_x'].tolist():\n",
    "        selected.append(x)\n",
    "\n",
    "selected += ['Unnamed: 0']"
   ]
  },
  {
   "cell_type": "code",
   "execution_count": 40,
   "metadata": {},
   "outputs": [],
   "source": [
    "rare_AD.drop(columns=rare_AD.columns.difference(selected), inplace=True)"
   ]
  },
  {
   "cell_type": "markdown",
   "metadata": {},
   "source": [
    "Filtro per etnia"
   ]
  },
  {
   "cell_type": "code",
   "execution_count": 41,
   "metadata": {},
   "outputs": [],
   "source": [
    "#pheno['Ethnicity'] = pheno['Ethnicity (white=1, black=2, asian=3, hispanic=4)']\n",
    "#pheno = pheno[(pheno['Ethnicity']=='1') | (pheno['Ethnicity'].isna())]"
   ]
  },
  {
   "cell_type": "markdown",
   "metadata": {},
   "source": [
    "Mantengo solo pazienti con un grading"
   ]
  },
  {
   "cell_type": "code",
   "execution_count": 42,
   "metadata": {},
   "outputs": [],
   "source": [
    "pheno = pheno[pheno['grading_1319_adj_a_s'].notna()]"
   ]
  },
  {
   "cell_type": "markdown",
   "metadata": {},
   "source": [
    "Scarto pazienti senza età"
   ]
  },
  {
   "cell_type": "code",
   "execution_count": 43,
   "metadata": {},
   "outputs": [],
   "source": [
    "pheno = pheno[pheno['Age'].notna()]"
   ]
  },
  {
   "cell_type": "markdown",
   "metadata": {},
   "source": [
    "Cambio l'indice dei pazienti"
   ]
  },
  {
   "cell_type": "code",
   "execution_count": 44,
   "metadata": {},
   "outputs": [],
   "source": [
    "pheno.rename(columns={\"UsedSampleCode\":\"key\"}, inplace=True)\n",
    "pheno.set_index('key',inplace=True)"
   ]
  },
  {
   "cell_type": "markdown",
   "metadata": {},
   "source": [
    "Scarto pazienti non corrispondenti (?)"
   ]
  },
  {
   "cell_type": "code",
   "execution_count": 45,
   "metadata": {},
   "outputs": [],
   "source": [
    "rare_AD.rename(columns={\"Unnamed: 0\": \"key\"}, inplace=True)\n",
    "rare_AD.set_index('key',inplace=True)\n",
    "\n",
    "rare_AD = rare_AD[rare_AD.index != 'COV2925-1241_hg38']\n",
    "rare_AD = rare_AD[rare_AD.index != 'COV2928-1242_hg38']\n",
    "rare_AD = rare_AD[rare_AD.index != 'COV3204-1334_hg38']\n",
    "rare_AD = rare_AD[rare_AD.index != 'COV3196-1326_hg38']\n",
    "rare_AD = rare_AD[rare_AD.index != 'COV2735-1159_hg38']\n",
    "rare_AD = rare_AD[rare_AD.index != 'COV3211-1341_hg38']\n",
    "rare_AD = rare_AD[rare_AD.index != 'COV2233-939_hg38']\n",
    "\n",
    "rare_AD.index = rare_AD.index.str.replace('_hg38','')"
   ]
  },
  {
   "cell_type": "code",
   "execution_count": 46,
   "metadata": {},
   "outputs": [],
   "source": [
    "grading = pheno[['grading_1319_adj_a_s','Gender (M=0, F=1)']]\n",
    "\n",
    "df = rare_AD.join(grading, on='key')\n",
    "df.rename(columns={'grading_1319_adj_a_s':'grading'}, inplace=True)"
   ]
  },
  {
   "cell_type": "markdown",
   "metadata": {},
   "source": [
    "Mantengo solo i maschi"
   ]
  },
  {
   "cell_type": "code",
   "execution_count": 47,
   "metadata": {},
   "outputs": [
    {
     "data": {
      "text/html": [
       "<div>\n",
       "<style scoped>\n",
       "    .dataframe tbody tr th:only-of-type {\n",
       "        vertical-align: middle;\n",
       "    }\n",
       "\n",
       "    .dataframe tbody tr th {\n",
       "        vertical-align: top;\n",
       "    }\n",
       "\n",
       "    .dataframe thead th {\n",
       "        text-align: right;\n",
       "    }\n",
       "</style>\n",
       "<table border=\"1\" class=\"dataframe\">\n",
       "  <thead>\n",
       "    <tr style=\"text-align: right;\">\n",
       "      <th></th>\n",
       "      <th>ADGRG4_1</th>\n",
       "      <th>ADGRG4_2</th>\n",
       "      <th>ADGRG4_3</th>\n",
       "      <th>AFF2_1</th>\n",
       "      <th>ALG13_1</th>\n",
       "      <th>AMOT_1</th>\n",
       "      <th>ANOS1_1</th>\n",
       "      <th>ARHGAP6_1</th>\n",
       "      <th>ARL13A_1</th>\n",
       "      <th>ARMCX4_1</th>\n",
       "      <th>...</th>\n",
       "      <th>UTP14A_1</th>\n",
       "      <th>VMA21_1</th>\n",
       "      <th>WDR44_1</th>\n",
       "      <th>XG_1</th>\n",
       "      <th>XG_2</th>\n",
       "      <th>XIAP_1</th>\n",
       "      <th>ZBTB33_1</th>\n",
       "      <th>ZMAT1_1</th>\n",
       "      <th>ZNF185_1</th>\n",
       "      <th>grading</th>\n",
       "    </tr>\n",
       "    <tr>\n",
       "      <th>key</th>\n",
       "      <th></th>\n",
       "      <th></th>\n",
       "      <th></th>\n",
       "      <th></th>\n",
       "      <th></th>\n",
       "      <th></th>\n",
       "      <th></th>\n",
       "      <th></th>\n",
       "      <th></th>\n",
       "      <th></th>\n",
       "      <th></th>\n",
       "      <th></th>\n",
       "      <th></th>\n",
       "      <th></th>\n",
       "      <th></th>\n",
       "      <th></th>\n",
       "      <th></th>\n",
       "      <th></th>\n",
       "      <th></th>\n",
       "      <th></th>\n",
       "      <th></th>\n",
       "    </tr>\n",
       "  </thead>\n",
       "  <tbody>\n",
       "    <tr>\n",
       "      <th>AR-COV-10</th>\n",
       "      <td>0</td>\n",
       "      <td>0</td>\n",
       "      <td>1</td>\n",
       "      <td>0</td>\n",
       "      <td>0</td>\n",
       "      <td>0</td>\n",
       "      <td>1</td>\n",
       "      <td>0</td>\n",
       "      <td>0</td>\n",
       "      <td>1</td>\n",
       "      <td>...</td>\n",
       "      <td>0</td>\n",
       "      <td>0</td>\n",
       "      <td>0</td>\n",
       "      <td>1</td>\n",
       "      <td>0</td>\n",
       "      <td>0</td>\n",
       "      <td>1</td>\n",
       "      <td>0</td>\n",
       "      <td>1</td>\n",
       "      <td>1</td>\n",
       "    </tr>\n",
       "    <tr>\n",
       "      <th>AR-COV-13</th>\n",
       "      <td>0</td>\n",
       "      <td>0</td>\n",
       "      <td>1</td>\n",
       "      <td>0</td>\n",
       "      <td>0</td>\n",
       "      <td>0</td>\n",
       "      <td>1</td>\n",
       "      <td>0</td>\n",
       "      <td>0</td>\n",
       "      <td>1</td>\n",
       "      <td>...</td>\n",
       "      <td>0</td>\n",
       "      <td>1</td>\n",
       "      <td>0</td>\n",
       "      <td>1</td>\n",
       "      <td>0</td>\n",
       "      <td>1</td>\n",
       "      <td>0</td>\n",
       "      <td>0</td>\n",
       "      <td>0</td>\n",
       "      <td>0</td>\n",
       "    </tr>\n",
       "    <tr>\n",
       "      <th>AR-COV-14</th>\n",
       "      <td>0</td>\n",
       "      <td>0</td>\n",
       "      <td>1</td>\n",
       "      <td>0</td>\n",
       "      <td>0</td>\n",
       "      <td>0</td>\n",
       "      <td>0</td>\n",
       "      <td>0</td>\n",
       "      <td>0</td>\n",
       "      <td>1</td>\n",
       "      <td>...</td>\n",
       "      <td>0</td>\n",
       "      <td>0</td>\n",
       "      <td>0</td>\n",
       "      <td>0</td>\n",
       "      <td>1</td>\n",
       "      <td>1</td>\n",
       "      <td>0</td>\n",
       "      <td>0</td>\n",
       "      <td>0</td>\n",
       "      <td>1</td>\n",
       "    </tr>\n",
       "    <tr>\n",
       "      <th>AR-COV-18</th>\n",
       "      <td>0</td>\n",
       "      <td>0</td>\n",
       "      <td>1</td>\n",
       "      <td>0</td>\n",
       "      <td>0</td>\n",
       "      <td>0</td>\n",
       "      <td>1</td>\n",
       "      <td>0</td>\n",
       "      <td>0</td>\n",
       "      <td>1</td>\n",
       "      <td>...</td>\n",
       "      <td>0</td>\n",
       "      <td>1</td>\n",
       "      <td>0</td>\n",
       "      <td>1</td>\n",
       "      <td>0</td>\n",
       "      <td>0</td>\n",
       "      <td>0</td>\n",
       "      <td>0</td>\n",
       "      <td>0</td>\n",
       "      <td>1</td>\n",
       "    </tr>\n",
       "    <tr>\n",
       "      <th>AR-COV-19</th>\n",
       "      <td>0</td>\n",
       "      <td>0</td>\n",
       "      <td>1</td>\n",
       "      <td>0</td>\n",
       "      <td>0</td>\n",
       "      <td>0</td>\n",
       "      <td>1</td>\n",
       "      <td>1</td>\n",
       "      <td>0</td>\n",
       "      <td>1</td>\n",
       "      <td>...</td>\n",
       "      <td>0</td>\n",
       "      <td>0</td>\n",
       "      <td>0</td>\n",
       "      <td>1</td>\n",
       "      <td>0</td>\n",
       "      <td>0</td>\n",
       "      <td>0</td>\n",
       "      <td>0</td>\n",
       "      <td>0</td>\n",
       "      <td>0</td>\n",
       "    </tr>\n",
       "    <tr>\n",
       "      <th>...</th>\n",
       "      <td>...</td>\n",
       "      <td>...</td>\n",
       "      <td>...</td>\n",
       "      <td>...</td>\n",
       "      <td>...</td>\n",
       "      <td>...</td>\n",
       "      <td>...</td>\n",
       "      <td>...</td>\n",
       "      <td>...</td>\n",
       "      <td>...</td>\n",
       "      <td>...</td>\n",
       "      <td>...</td>\n",
       "      <td>...</td>\n",
       "      <td>...</td>\n",
       "      <td>...</td>\n",
       "      <td>...</td>\n",
       "      <td>...</td>\n",
       "      <td>...</td>\n",
       "      <td>...</td>\n",
       "      <td>...</td>\n",
       "      <td>...</td>\n",
       "    </tr>\n",
       "    <tr>\n",
       "      <th>USCASI0002</th>\n",
       "      <td>0</td>\n",
       "      <td>0</td>\n",
       "      <td>1</td>\n",
       "      <td>0</td>\n",
       "      <td>0</td>\n",
       "      <td>0</td>\n",
       "      <td>1</td>\n",
       "      <td>0</td>\n",
       "      <td>0</td>\n",
       "      <td>0</td>\n",
       "      <td>...</td>\n",
       "      <td>0</td>\n",
       "      <td>0</td>\n",
       "      <td>1</td>\n",
       "      <td>1</td>\n",
       "      <td>0</td>\n",
       "      <td>0</td>\n",
       "      <td>1</td>\n",
       "      <td>0</td>\n",
       "      <td>0</td>\n",
       "      <td>0</td>\n",
       "    </tr>\n",
       "    <tr>\n",
       "      <th>USCASI0004</th>\n",
       "      <td>0</td>\n",
       "      <td>0</td>\n",
       "      <td>0</td>\n",
       "      <td>0</td>\n",
       "      <td>0</td>\n",
       "      <td>0</td>\n",
       "      <td>0</td>\n",
       "      <td>0</td>\n",
       "      <td>0</td>\n",
       "      <td>1</td>\n",
       "      <td>...</td>\n",
       "      <td>1</td>\n",
       "      <td>0</td>\n",
       "      <td>0</td>\n",
       "      <td>0</td>\n",
       "      <td>1</td>\n",
       "      <td>1</td>\n",
       "      <td>1</td>\n",
       "      <td>0</td>\n",
       "      <td>0</td>\n",
       "      <td>0</td>\n",
       "    </tr>\n",
       "    <tr>\n",
       "      <th>USCASI0005</th>\n",
       "      <td>0</td>\n",
       "      <td>0</td>\n",
       "      <td>1</td>\n",
       "      <td>0</td>\n",
       "      <td>0</td>\n",
       "      <td>0</td>\n",
       "      <td>1</td>\n",
       "      <td>0</td>\n",
       "      <td>1</td>\n",
       "      <td>0</td>\n",
       "      <td>...</td>\n",
       "      <td>0</td>\n",
       "      <td>0</td>\n",
       "      <td>1</td>\n",
       "      <td>0</td>\n",
       "      <td>1</td>\n",
       "      <td>1</td>\n",
       "      <td>0</td>\n",
       "      <td>0</td>\n",
       "      <td>0</td>\n",
       "      <td>0</td>\n",
       "    </tr>\n",
       "    <tr>\n",
       "      <th>VE10</th>\n",
       "      <td>0</td>\n",
       "      <td>0</td>\n",
       "      <td>1</td>\n",
       "      <td>0</td>\n",
       "      <td>0</td>\n",
       "      <td>0</td>\n",
       "      <td>1</td>\n",
       "      <td>0</td>\n",
       "      <td>0</td>\n",
       "      <td>0</td>\n",
       "      <td>...</td>\n",
       "      <td>0</td>\n",
       "      <td>0</td>\n",
       "      <td>1</td>\n",
       "      <td>1</td>\n",
       "      <td>0</td>\n",
       "      <td>0</td>\n",
       "      <td>0</td>\n",
       "      <td>0</td>\n",
       "      <td>0</td>\n",
       "      <td>0</td>\n",
       "    </tr>\n",
       "    <tr>\n",
       "      <th>VE99</th>\n",
       "      <td>0</td>\n",
       "      <td>0</td>\n",
       "      <td>0</td>\n",
       "      <td>1</td>\n",
       "      <td>0</td>\n",
       "      <td>0</td>\n",
       "      <td>1</td>\n",
       "      <td>0</td>\n",
       "      <td>1</td>\n",
       "      <td>1</td>\n",
       "      <td>...</td>\n",
       "      <td>0</td>\n",
       "      <td>0</td>\n",
       "      <td>0</td>\n",
       "      <td>1</td>\n",
       "      <td>0</td>\n",
       "      <td>1</td>\n",
       "      <td>0</td>\n",
       "      <td>0</td>\n",
       "      <td>0</td>\n",
       "      <td>0</td>\n",
       "    </tr>\n",
       "  </tbody>\n",
       "</table>\n",
       "<p>491 rows × 231 columns</p>\n",
       "</div>"
      ],
      "text/plain": [
       "            ADGRG4_1  ADGRG4_2  ADGRG4_3  AFF2_1  ALG13_1  AMOT_1  ANOS1_1  \\\n",
       "key                                                                          \n",
       "AR-COV-10          0         0         1       0        0       0        1   \n",
       "AR-COV-13          0         0         1       0        0       0        1   \n",
       "AR-COV-14          0         0         1       0        0       0        0   \n",
       "AR-COV-18          0         0         1       0        0       0        1   \n",
       "AR-COV-19          0         0         1       0        0       0        1   \n",
       "...              ...       ...       ...     ...      ...     ...      ...   \n",
       "USCASI0002         0         0         1       0        0       0        1   \n",
       "USCASI0004         0         0         0       0        0       0        0   \n",
       "USCASI0005         0         0         1       0        0       0        1   \n",
       "VE10               0         0         1       0        0       0        1   \n",
       "VE99               0         0         0       1        0       0        1   \n",
       "\n",
       "            ARHGAP6_1  ARL13A_1  ARMCX4_1  ...  UTP14A_1  VMA21_1  WDR44_1  \\\n",
       "key                                        ...                               \n",
       "AR-COV-10           0         0         1  ...         0        0        0   \n",
       "AR-COV-13           0         0         1  ...         0        1        0   \n",
       "AR-COV-14           0         0         1  ...         0        0        0   \n",
       "AR-COV-18           0         0         1  ...         0        1        0   \n",
       "AR-COV-19           1         0         1  ...         0        0        0   \n",
       "...               ...       ...       ...  ...       ...      ...      ...   \n",
       "USCASI0002          0         0         0  ...         0        0        1   \n",
       "USCASI0004          0         0         1  ...         1        0        0   \n",
       "USCASI0005          0         1         0  ...         0        0        1   \n",
       "VE10                0         0         0  ...         0        0        1   \n",
       "VE99                0         1         1  ...         0        0        0   \n",
       "\n",
       "            XG_1  XG_2  XIAP_1  ZBTB33_1  ZMAT1_1  ZNF185_1  grading  \n",
       "key                                                                   \n",
       "AR-COV-10      1     0       0         1        0         1        1  \n",
       "AR-COV-13      1     0       1         0        0         0        0  \n",
       "AR-COV-14      0     1       1         0        0         0        1  \n",
       "AR-COV-18      1     0       0         0        0         0        1  \n",
       "AR-COV-19      1     0       0         0        0         0        0  \n",
       "...          ...   ...     ...       ...      ...       ...      ...  \n",
       "USCASI0002     1     0       0         1        0         0        0  \n",
       "USCASI0004     0     1       1         1        0         0        0  \n",
       "USCASI0005     0     1       1         0        0         0        0  \n",
       "VE10           1     0       0         0        0         0        0  \n",
       "VE99           1     0       1         0        0         0        0  \n",
       "\n",
       "[491 rows x 231 columns]"
      ]
     },
     "execution_count": 47,
     "metadata": {},
     "output_type": "execute_result"
    }
   ],
   "source": [
    "df = df[df['Gender (M=0, F=1)']==0].iloc[:,:-1]\n",
    "\n",
    "df = df[df['grading']!='none']\n",
    "df.dropna(inplace=True)\n",
    "df"
   ]
  },
  {
   "cell_type": "code",
   "execution_count": 48,
   "metadata": {},
   "outputs": [],
   "source": [
    "#df.drop(columns=value_counts[value_counts['percentage of 1'] > 90].mutation, inplace=True)\n",
    "df = df.apply(pd.to_numeric, errors='coerce')\n",
    "df = df.dropna()\n",
    "df.reset_index(inplace=True)"
   ]
  },
  {
   "cell_type": "code",
   "execution_count": 49,
   "metadata": {},
   "outputs": [],
   "source": [
    "df.drop(columns='key',inplace=True)"
   ]
  },
  {
   "cell_type": "code",
   "execution_count": 50,
   "metadata": {},
   "outputs": [
    {
     "data": {
      "text/html": [
       "<div>\n",
       "<style scoped>\n",
       "    .dataframe tbody tr th:only-of-type {\n",
       "        vertical-align: middle;\n",
       "    }\n",
       "\n",
       "    .dataframe tbody tr th {\n",
       "        vertical-align: top;\n",
       "    }\n",
       "\n",
       "    .dataframe thead th {\n",
       "        text-align: right;\n",
       "    }\n",
       "</style>\n",
       "<table border=\"1\" class=\"dataframe\">\n",
       "  <thead>\n",
       "    <tr style=\"text-align: right;\">\n",
       "      <th></th>\n",
       "      <th>ADGRG4_1</th>\n",
       "      <th>ADGRG4_2</th>\n",
       "      <th>ADGRG4_3</th>\n",
       "      <th>AFF2_1</th>\n",
       "      <th>ALG13_1</th>\n",
       "      <th>AMOT_1</th>\n",
       "      <th>ANOS1_1</th>\n",
       "      <th>ARHGAP6_1</th>\n",
       "      <th>ARL13A_1</th>\n",
       "      <th>ARMCX4_1</th>\n",
       "      <th>...</th>\n",
       "      <th>UTP14A_1</th>\n",
       "      <th>VMA21_1</th>\n",
       "      <th>WDR44_1</th>\n",
       "      <th>XG_1</th>\n",
       "      <th>XG_2</th>\n",
       "      <th>XIAP_1</th>\n",
       "      <th>ZBTB33_1</th>\n",
       "      <th>ZMAT1_1</th>\n",
       "      <th>ZNF185_1</th>\n",
       "      <th>grading</th>\n",
       "    </tr>\n",
       "  </thead>\n",
       "  <tbody>\n",
       "    <tr>\n",
       "      <th>0</th>\n",
       "      <td>0</td>\n",
       "      <td>0</td>\n",
       "      <td>1</td>\n",
       "      <td>0</td>\n",
       "      <td>0</td>\n",
       "      <td>0</td>\n",
       "      <td>1</td>\n",
       "      <td>0</td>\n",
       "      <td>0</td>\n",
       "      <td>1</td>\n",
       "      <td>...</td>\n",
       "      <td>0</td>\n",
       "      <td>0</td>\n",
       "      <td>0</td>\n",
       "      <td>1</td>\n",
       "      <td>0</td>\n",
       "      <td>0</td>\n",
       "      <td>1</td>\n",
       "      <td>0</td>\n",
       "      <td>1</td>\n",
       "      <td>1</td>\n",
       "    </tr>\n",
       "    <tr>\n",
       "      <th>1</th>\n",
       "      <td>0</td>\n",
       "      <td>0</td>\n",
       "      <td>1</td>\n",
       "      <td>0</td>\n",
       "      <td>0</td>\n",
       "      <td>0</td>\n",
       "      <td>1</td>\n",
       "      <td>0</td>\n",
       "      <td>0</td>\n",
       "      <td>1</td>\n",
       "      <td>...</td>\n",
       "      <td>0</td>\n",
       "      <td>1</td>\n",
       "      <td>0</td>\n",
       "      <td>1</td>\n",
       "      <td>0</td>\n",
       "      <td>1</td>\n",
       "      <td>0</td>\n",
       "      <td>0</td>\n",
       "      <td>0</td>\n",
       "      <td>0</td>\n",
       "    </tr>\n",
       "    <tr>\n",
       "      <th>2</th>\n",
       "      <td>0</td>\n",
       "      <td>0</td>\n",
       "      <td>1</td>\n",
       "      <td>0</td>\n",
       "      <td>0</td>\n",
       "      <td>0</td>\n",
       "      <td>0</td>\n",
       "      <td>0</td>\n",
       "      <td>0</td>\n",
       "      <td>1</td>\n",
       "      <td>...</td>\n",
       "      <td>0</td>\n",
       "      <td>0</td>\n",
       "      <td>0</td>\n",
       "      <td>0</td>\n",
       "      <td>1</td>\n",
       "      <td>1</td>\n",
       "      <td>0</td>\n",
       "      <td>0</td>\n",
       "      <td>0</td>\n",
       "      <td>1</td>\n",
       "    </tr>\n",
       "    <tr>\n",
       "      <th>3</th>\n",
       "      <td>0</td>\n",
       "      <td>0</td>\n",
       "      <td>1</td>\n",
       "      <td>0</td>\n",
       "      <td>0</td>\n",
       "      <td>0</td>\n",
       "      <td>1</td>\n",
       "      <td>0</td>\n",
       "      <td>0</td>\n",
       "      <td>1</td>\n",
       "      <td>...</td>\n",
       "      <td>0</td>\n",
       "      <td>1</td>\n",
       "      <td>0</td>\n",
       "      <td>1</td>\n",
       "      <td>0</td>\n",
       "      <td>0</td>\n",
       "      <td>0</td>\n",
       "      <td>0</td>\n",
       "      <td>0</td>\n",
       "      <td>1</td>\n",
       "    </tr>\n",
       "    <tr>\n",
       "      <th>4</th>\n",
       "      <td>0</td>\n",
       "      <td>0</td>\n",
       "      <td>1</td>\n",
       "      <td>0</td>\n",
       "      <td>0</td>\n",
       "      <td>0</td>\n",
       "      <td>1</td>\n",
       "      <td>1</td>\n",
       "      <td>0</td>\n",
       "      <td>1</td>\n",
       "      <td>...</td>\n",
       "      <td>0</td>\n",
       "      <td>0</td>\n",
       "      <td>0</td>\n",
       "      <td>1</td>\n",
       "      <td>0</td>\n",
       "      <td>0</td>\n",
       "      <td>0</td>\n",
       "      <td>0</td>\n",
       "      <td>0</td>\n",
       "      <td>0</td>\n",
       "    </tr>\n",
       "    <tr>\n",
       "      <th>...</th>\n",
       "      <td>...</td>\n",
       "      <td>...</td>\n",
       "      <td>...</td>\n",
       "      <td>...</td>\n",
       "      <td>...</td>\n",
       "      <td>...</td>\n",
       "      <td>...</td>\n",
       "      <td>...</td>\n",
       "      <td>...</td>\n",
       "      <td>...</td>\n",
       "      <td>...</td>\n",
       "      <td>...</td>\n",
       "      <td>...</td>\n",
       "      <td>...</td>\n",
       "      <td>...</td>\n",
       "      <td>...</td>\n",
       "      <td>...</td>\n",
       "      <td>...</td>\n",
       "      <td>...</td>\n",
       "      <td>...</td>\n",
       "      <td>...</td>\n",
       "    </tr>\n",
       "    <tr>\n",
       "      <th>486</th>\n",
       "      <td>0</td>\n",
       "      <td>0</td>\n",
       "      <td>1</td>\n",
       "      <td>0</td>\n",
       "      <td>0</td>\n",
       "      <td>0</td>\n",
       "      <td>1</td>\n",
       "      <td>0</td>\n",
       "      <td>0</td>\n",
       "      <td>0</td>\n",
       "      <td>...</td>\n",
       "      <td>0</td>\n",
       "      <td>0</td>\n",
       "      <td>1</td>\n",
       "      <td>1</td>\n",
       "      <td>0</td>\n",
       "      <td>0</td>\n",
       "      <td>1</td>\n",
       "      <td>0</td>\n",
       "      <td>0</td>\n",
       "      <td>0</td>\n",
       "    </tr>\n",
       "    <tr>\n",
       "      <th>487</th>\n",
       "      <td>0</td>\n",
       "      <td>0</td>\n",
       "      <td>0</td>\n",
       "      <td>0</td>\n",
       "      <td>0</td>\n",
       "      <td>0</td>\n",
       "      <td>0</td>\n",
       "      <td>0</td>\n",
       "      <td>0</td>\n",
       "      <td>1</td>\n",
       "      <td>...</td>\n",
       "      <td>1</td>\n",
       "      <td>0</td>\n",
       "      <td>0</td>\n",
       "      <td>0</td>\n",
       "      <td>1</td>\n",
       "      <td>1</td>\n",
       "      <td>1</td>\n",
       "      <td>0</td>\n",
       "      <td>0</td>\n",
       "      <td>0</td>\n",
       "    </tr>\n",
       "    <tr>\n",
       "      <th>488</th>\n",
       "      <td>0</td>\n",
       "      <td>0</td>\n",
       "      <td>1</td>\n",
       "      <td>0</td>\n",
       "      <td>0</td>\n",
       "      <td>0</td>\n",
       "      <td>1</td>\n",
       "      <td>0</td>\n",
       "      <td>1</td>\n",
       "      <td>0</td>\n",
       "      <td>...</td>\n",
       "      <td>0</td>\n",
       "      <td>0</td>\n",
       "      <td>1</td>\n",
       "      <td>0</td>\n",
       "      <td>1</td>\n",
       "      <td>1</td>\n",
       "      <td>0</td>\n",
       "      <td>0</td>\n",
       "      <td>0</td>\n",
       "      <td>0</td>\n",
       "    </tr>\n",
       "    <tr>\n",
       "      <th>489</th>\n",
       "      <td>0</td>\n",
       "      <td>0</td>\n",
       "      <td>1</td>\n",
       "      <td>0</td>\n",
       "      <td>0</td>\n",
       "      <td>0</td>\n",
       "      <td>1</td>\n",
       "      <td>0</td>\n",
       "      <td>0</td>\n",
       "      <td>0</td>\n",
       "      <td>...</td>\n",
       "      <td>0</td>\n",
       "      <td>0</td>\n",
       "      <td>1</td>\n",
       "      <td>1</td>\n",
       "      <td>0</td>\n",
       "      <td>0</td>\n",
       "      <td>0</td>\n",
       "      <td>0</td>\n",
       "      <td>0</td>\n",
       "      <td>0</td>\n",
       "    </tr>\n",
       "    <tr>\n",
       "      <th>490</th>\n",
       "      <td>0</td>\n",
       "      <td>0</td>\n",
       "      <td>0</td>\n",
       "      <td>1</td>\n",
       "      <td>0</td>\n",
       "      <td>0</td>\n",
       "      <td>1</td>\n",
       "      <td>0</td>\n",
       "      <td>1</td>\n",
       "      <td>1</td>\n",
       "      <td>...</td>\n",
       "      <td>0</td>\n",
       "      <td>0</td>\n",
       "      <td>0</td>\n",
       "      <td>1</td>\n",
       "      <td>0</td>\n",
       "      <td>1</td>\n",
       "      <td>0</td>\n",
       "      <td>0</td>\n",
       "      <td>0</td>\n",
       "      <td>0</td>\n",
       "    </tr>\n",
       "  </tbody>\n",
       "</table>\n",
       "<p>491 rows × 231 columns</p>\n",
       "</div>"
      ],
      "text/plain": [
       "     ADGRG4_1  ADGRG4_2  ADGRG4_3  AFF2_1  ALG13_1  AMOT_1  ANOS1_1  \\\n",
       "0           0         0         1       0        0       0        1   \n",
       "1           0         0         1       0        0       0        1   \n",
       "2           0         0         1       0        0       0        0   \n",
       "3           0         0         1       0        0       0        1   \n",
       "4           0         0         1       0        0       0        1   \n",
       "..        ...       ...       ...     ...      ...     ...      ...   \n",
       "486         0         0         1       0        0       0        1   \n",
       "487         0         0         0       0        0       0        0   \n",
       "488         0         0         1       0        0       0        1   \n",
       "489         0         0         1       0        0       0        1   \n",
       "490         0         0         0       1        0       0        1   \n",
       "\n",
       "     ARHGAP6_1  ARL13A_1  ARMCX4_1  ...  UTP14A_1  VMA21_1  WDR44_1  XG_1  \\\n",
       "0            0         0         1  ...         0        0        0     1   \n",
       "1            0         0         1  ...         0        1        0     1   \n",
       "2            0         0         1  ...         0        0        0     0   \n",
       "3            0         0         1  ...         0        1        0     1   \n",
       "4            1         0         1  ...         0        0        0     1   \n",
       "..         ...       ...       ...  ...       ...      ...      ...   ...   \n",
       "486          0         0         0  ...         0        0        1     1   \n",
       "487          0         0         1  ...         1        0        0     0   \n",
       "488          0         1         0  ...         0        0        1     0   \n",
       "489          0         0         0  ...         0        0        1     1   \n",
       "490          0         1         1  ...         0        0        0     1   \n",
       "\n",
       "     XG_2  XIAP_1  ZBTB33_1  ZMAT1_1  ZNF185_1  grading  \n",
       "0       0       0         1        0         1        1  \n",
       "1       0       1         0        0         0        0  \n",
       "2       1       1         0        0         0        1  \n",
       "3       0       0         0        0         0        1  \n",
       "4       0       0         0        0         0        0  \n",
       "..    ...     ...       ...      ...       ...      ...  \n",
       "486     0       0         1        0         0        0  \n",
       "487     1       1         1        0         0        0  \n",
       "488     1       1         0        0         0        0  \n",
       "489     0       0         0        0         0        0  \n",
       "490     0       1         0        0         0        0  \n",
       "\n",
       "[491 rows x 231 columns]"
      ]
     },
     "execution_count": 50,
     "metadata": {},
     "output_type": "execute_result"
    }
   ],
   "source": [
    "df"
   ]
  },
  {
   "cell_type": "markdown",
   "metadata": {},
   "source": [
    "Scarto le features non informative"
   ]
  },
  {
   "cell_type": "code",
   "execution_count": 51,
   "metadata": {},
   "outputs": [],
   "source": [
    "value_counts = df.iloc[:,:-1].apply(pd.Series.value_counts)\n",
    "value_counts = value_counts.transpose()\n",
    "value_counts.columns = value_counts.columns.astype(str)\n",
    "value_counts = value_counts.reset_index()\n",
    "value_counts.rename(columns={'index':'mutation'}, inplace=True)\n",
    "value_counts['percentage of 1'] = value_counts.apply(lambda row : row['1']*100/(len(df)), axis=1)"
   ]
  },
  {
   "cell_type": "code",
   "execution_count": 52,
   "metadata": {},
   "outputs": [],
   "source": [
    "df.drop(columns=value_counts[value_counts['0'] >= len(df)].mutation, inplace=True)\n",
    "df.drop(columns=value_counts[value_counts['1'] >= len(df)].mutation, inplace=True)"
   ]
  },
  {
   "cell_type": "code",
   "execution_count": 53,
   "metadata": {},
   "outputs": [
    {
     "data": {
      "text/html": [
       "<div>\n",
       "<style scoped>\n",
       "    .dataframe tbody tr th:only-of-type {\n",
       "        vertical-align: middle;\n",
       "    }\n",
       "\n",
       "    .dataframe tbody tr th {\n",
       "        vertical-align: top;\n",
       "    }\n",
       "\n",
       "    .dataframe thead th {\n",
       "        text-align: right;\n",
       "    }\n",
       "</style>\n",
       "<table border=\"1\" class=\"dataframe\">\n",
       "  <thead>\n",
       "    <tr style=\"text-align: right;\">\n",
       "      <th></th>\n",
       "      <th>ADGRG4_1</th>\n",
       "      <th>ADGRG4_2</th>\n",
       "      <th>ADGRG4_3</th>\n",
       "      <th>AFF2_1</th>\n",
       "      <th>ALG13_1</th>\n",
       "      <th>AMOT_1</th>\n",
       "      <th>ANOS1_1</th>\n",
       "      <th>ARHGAP6_1</th>\n",
       "      <th>ARL13A_1</th>\n",
       "      <th>ARMCX4_1</th>\n",
       "      <th>...</th>\n",
       "      <th>UTP14A_1</th>\n",
       "      <th>VMA21_1</th>\n",
       "      <th>WDR44_1</th>\n",
       "      <th>XG_1</th>\n",
       "      <th>XG_2</th>\n",
       "      <th>XIAP_1</th>\n",
       "      <th>ZBTB33_1</th>\n",
       "      <th>ZMAT1_1</th>\n",
       "      <th>ZNF185_1</th>\n",
       "      <th>grading</th>\n",
       "    </tr>\n",
       "  </thead>\n",
       "  <tbody>\n",
       "    <tr>\n",
       "      <th>0</th>\n",
       "      <td>0</td>\n",
       "      <td>0</td>\n",
       "      <td>1</td>\n",
       "      <td>0</td>\n",
       "      <td>0</td>\n",
       "      <td>0</td>\n",
       "      <td>1</td>\n",
       "      <td>0</td>\n",
       "      <td>0</td>\n",
       "      <td>1</td>\n",
       "      <td>...</td>\n",
       "      <td>0</td>\n",
       "      <td>0</td>\n",
       "      <td>0</td>\n",
       "      <td>1</td>\n",
       "      <td>0</td>\n",
       "      <td>0</td>\n",
       "      <td>1</td>\n",
       "      <td>0</td>\n",
       "      <td>1</td>\n",
       "      <td>1</td>\n",
       "    </tr>\n",
       "    <tr>\n",
       "      <th>1</th>\n",
       "      <td>0</td>\n",
       "      <td>0</td>\n",
       "      <td>1</td>\n",
       "      <td>0</td>\n",
       "      <td>0</td>\n",
       "      <td>0</td>\n",
       "      <td>1</td>\n",
       "      <td>0</td>\n",
       "      <td>0</td>\n",
       "      <td>1</td>\n",
       "      <td>...</td>\n",
       "      <td>0</td>\n",
       "      <td>1</td>\n",
       "      <td>0</td>\n",
       "      <td>1</td>\n",
       "      <td>0</td>\n",
       "      <td>1</td>\n",
       "      <td>0</td>\n",
       "      <td>0</td>\n",
       "      <td>0</td>\n",
       "      <td>0</td>\n",
       "    </tr>\n",
       "    <tr>\n",
       "      <th>2</th>\n",
       "      <td>0</td>\n",
       "      <td>0</td>\n",
       "      <td>1</td>\n",
       "      <td>0</td>\n",
       "      <td>0</td>\n",
       "      <td>0</td>\n",
       "      <td>0</td>\n",
       "      <td>0</td>\n",
       "      <td>0</td>\n",
       "      <td>1</td>\n",
       "      <td>...</td>\n",
       "      <td>0</td>\n",
       "      <td>0</td>\n",
       "      <td>0</td>\n",
       "      <td>0</td>\n",
       "      <td>1</td>\n",
       "      <td>1</td>\n",
       "      <td>0</td>\n",
       "      <td>0</td>\n",
       "      <td>0</td>\n",
       "      <td>1</td>\n",
       "    </tr>\n",
       "    <tr>\n",
       "      <th>3</th>\n",
       "      <td>0</td>\n",
       "      <td>0</td>\n",
       "      <td>1</td>\n",
       "      <td>0</td>\n",
       "      <td>0</td>\n",
       "      <td>0</td>\n",
       "      <td>1</td>\n",
       "      <td>0</td>\n",
       "      <td>0</td>\n",
       "      <td>1</td>\n",
       "      <td>...</td>\n",
       "      <td>0</td>\n",
       "      <td>1</td>\n",
       "      <td>0</td>\n",
       "      <td>1</td>\n",
       "      <td>0</td>\n",
       "      <td>0</td>\n",
       "      <td>0</td>\n",
       "      <td>0</td>\n",
       "      <td>0</td>\n",
       "      <td>1</td>\n",
       "    </tr>\n",
       "    <tr>\n",
       "      <th>4</th>\n",
       "      <td>0</td>\n",
       "      <td>0</td>\n",
       "      <td>1</td>\n",
       "      <td>0</td>\n",
       "      <td>0</td>\n",
       "      <td>0</td>\n",
       "      <td>1</td>\n",
       "      <td>1</td>\n",
       "      <td>0</td>\n",
       "      <td>1</td>\n",
       "      <td>...</td>\n",
       "      <td>0</td>\n",
       "      <td>0</td>\n",
       "      <td>0</td>\n",
       "      <td>1</td>\n",
       "      <td>0</td>\n",
       "      <td>0</td>\n",
       "      <td>0</td>\n",
       "      <td>0</td>\n",
       "      <td>0</td>\n",
       "      <td>0</td>\n",
       "    </tr>\n",
       "    <tr>\n",
       "      <th>...</th>\n",
       "      <td>...</td>\n",
       "      <td>...</td>\n",
       "      <td>...</td>\n",
       "      <td>...</td>\n",
       "      <td>...</td>\n",
       "      <td>...</td>\n",
       "      <td>...</td>\n",
       "      <td>...</td>\n",
       "      <td>...</td>\n",
       "      <td>...</td>\n",
       "      <td>...</td>\n",
       "      <td>...</td>\n",
       "      <td>...</td>\n",
       "      <td>...</td>\n",
       "      <td>...</td>\n",
       "      <td>...</td>\n",
       "      <td>...</td>\n",
       "      <td>...</td>\n",
       "      <td>...</td>\n",
       "      <td>...</td>\n",
       "      <td>...</td>\n",
       "    </tr>\n",
       "    <tr>\n",
       "      <th>486</th>\n",
       "      <td>0</td>\n",
       "      <td>0</td>\n",
       "      <td>1</td>\n",
       "      <td>0</td>\n",
       "      <td>0</td>\n",
       "      <td>0</td>\n",
       "      <td>1</td>\n",
       "      <td>0</td>\n",
       "      <td>0</td>\n",
       "      <td>0</td>\n",
       "      <td>...</td>\n",
       "      <td>0</td>\n",
       "      <td>0</td>\n",
       "      <td>1</td>\n",
       "      <td>1</td>\n",
       "      <td>0</td>\n",
       "      <td>0</td>\n",
       "      <td>1</td>\n",
       "      <td>0</td>\n",
       "      <td>0</td>\n",
       "      <td>0</td>\n",
       "    </tr>\n",
       "    <tr>\n",
       "      <th>487</th>\n",
       "      <td>0</td>\n",
       "      <td>0</td>\n",
       "      <td>0</td>\n",
       "      <td>0</td>\n",
       "      <td>0</td>\n",
       "      <td>0</td>\n",
       "      <td>0</td>\n",
       "      <td>0</td>\n",
       "      <td>0</td>\n",
       "      <td>1</td>\n",
       "      <td>...</td>\n",
       "      <td>1</td>\n",
       "      <td>0</td>\n",
       "      <td>0</td>\n",
       "      <td>0</td>\n",
       "      <td>1</td>\n",
       "      <td>1</td>\n",
       "      <td>1</td>\n",
       "      <td>0</td>\n",
       "      <td>0</td>\n",
       "      <td>0</td>\n",
       "    </tr>\n",
       "    <tr>\n",
       "      <th>488</th>\n",
       "      <td>0</td>\n",
       "      <td>0</td>\n",
       "      <td>1</td>\n",
       "      <td>0</td>\n",
       "      <td>0</td>\n",
       "      <td>0</td>\n",
       "      <td>1</td>\n",
       "      <td>0</td>\n",
       "      <td>1</td>\n",
       "      <td>0</td>\n",
       "      <td>...</td>\n",
       "      <td>0</td>\n",
       "      <td>0</td>\n",
       "      <td>1</td>\n",
       "      <td>0</td>\n",
       "      <td>1</td>\n",
       "      <td>1</td>\n",
       "      <td>0</td>\n",
       "      <td>0</td>\n",
       "      <td>0</td>\n",
       "      <td>0</td>\n",
       "    </tr>\n",
       "    <tr>\n",
       "      <th>489</th>\n",
       "      <td>0</td>\n",
       "      <td>0</td>\n",
       "      <td>1</td>\n",
       "      <td>0</td>\n",
       "      <td>0</td>\n",
       "      <td>0</td>\n",
       "      <td>1</td>\n",
       "      <td>0</td>\n",
       "      <td>0</td>\n",
       "      <td>0</td>\n",
       "      <td>...</td>\n",
       "      <td>0</td>\n",
       "      <td>0</td>\n",
       "      <td>1</td>\n",
       "      <td>1</td>\n",
       "      <td>0</td>\n",
       "      <td>0</td>\n",
       "      <td>0</td>\n",
       "      <td>0</td>\n",
       "      <td>0</td>\n",
       "      <td>0</td>\n",
       "    </tr>\n",
       "    <tr>\n",
       "      <th>490</th>\n",
       "      <td>0</td>\n",
       "      <td>0</td>\n",
       "      <td>0</td>\n",
       "      <td>1</td>\n",
       "      <td>0</td>\n",
       "      <td>0</td>\n",
       "      <td>1</td>\n",
       "      <td>0</td>\n",
       "      <td>1</td>\n",
       "      <td>1</td>\n",
       "      <td>...</td>\n",
       "      <td>0</td>\n",
       "      <td>0</td>\n",
       "      <td>0</td>\n",
       "      <td>1</td>\n",
       "      <td>0</td>\n",
       "      <td>1</td>\n",
       "      <td>0</td>\n",
       "      <td>0</td>\n",
       "      <td>0</td>\n",
       "      <td>0</td>\n",
       "    </tr>\n",
       "  </tbody>\n",
       "</table>\n",
       "<p>491 rows × 222 columns</p>\n",
       "</div>"
      ],
      "text/plain": [
       "     ADGRG4_1  ADGRG4_2  ADGRG4_3  AFF2_1  ALG13_1  AMOT_1  ANOS1_1  \\\n",
       "0           0         0         1       0        0       0        1   \n",
       "1           0         0         1       0        0       0        1   \n",
       "2           0         0         1       0        0       0        0   \n",
       "3           0         0         1       0        0       0        1   \n",
       "4           0         0         1       0        0       0        1   \n",
       "..        ...       ...       ...     ...      ...     ...      ...   \n",
       "486         0         0         1       0        0       0        1   \n",
       "487         0         0         0       0        0       0        0   \n",
       "488         0         0         1       0        0       0        1   \n",
       "489         0         0         1       0        0       0        1   \n",
       "490         0         0         0       1        0       0        1   \n",
       "\n",
       "     ARHGAP6_1  ARL13A_1  ARMCX4_1  ...  UTP14A_1  VMA21_1  WDR44_1  XG_1  \\\n",
       "0            0         0         1  ...         0        0        0     1   \n",
       "1            0         0         1  ...         0        1        0     1   \n",
       "2            0         0         1  ...         0        0        0     0   \n",
       "3            0         0         1  ...         0        1        0     1   \n",
       "4            1         0         1  ...         0        0        0     1   \n",
       "..         ...       ...       ...  ...       ...      ...      ...   ...   \n",
       "486          0         0         0  ...         0        0        1     1   \n",
       "487          0         0         1  ...         1        0        0     0   \n",
       "488          0         1         0  ...         0        0        1     0   \n",
       "489          0         0         0  ...         0        0        1     1   \n",
       "490          0         1         1  ...         0        0        0     1   \n",
       "\n",
       "     XG_2  XIAP_1  ZBTB33_1  ZMAT1_1  ZNF185_1  grading  \n",
       "0       0       0         1        0         1        1  \n",
       "1       0       1         0        0         0        0  \n",
       "2       1       1         0        0         0        1  \n",
       "3       0       0         0        0         0        1  \n",
       "4       0       0         0        0         0        0  \n",
       "..    ...     ...       ...      ...       ...      ...  \n",
       "486     0       0         1        0         0        0  \n",
       "487     1       1         1        0         0        0  \n",
       "488     1       1         0        0         0        0  \n",
       "489     0       0         0        0         0        0  \n",
       "490     0       1         0        0         0        0  \n",
       "\n",
       "[491 rows x 222 columns]"
      ]
     },
     "execution_count": 53,
     "metadata": {},
     "output_type": "execute_result"
    }
   ],
   "source": [
    "df"
   ]
  },
  {
   "cell_type": "markdown",
   "metadata": {},
   "source": [
    "# Optimizing Lasso Classification "
   ]
  },
  {
   "cell_type": "code",
   "execution_count": 54,
   "metadata": {},
   "outputs": [],
   "source": [
    "target_variable = 'grading'\n",
    "input_variables = df.columns[df.columns!=target_variable]\n",
    "\n",
    "X = df[input_variables]\n",
    "y = df[target_variable]\n",
    "X_nic = pd.read_csv('../Data/Male/X_GC_chrX_male_antonio.csv', sep=';')\n",
    "X_nic.drop(columns='Unnamed: 0', inplace=True)\n",
    "y_nic = pd.read_csv('../Data/Male/y_GC_chrX_male_antonio.csv', sep=';')['0']"
   ]
  },
  {
   "cell_type": "code",
   "execution_count": 55,
   "metadata": {},
   "outputs": [
    {
     "data": {
      "text/plain": [
       "67"
      ]
     },
     "execution_count": 55,
     "metadata": {},
     "output_type": "execute_result"
    }
   ],
   "source": [
    "len(X_nic.columns.tolist()) - len(X.columns.tolist())"
   ]
  },
  {
   "cell_type": "code",
   "execution_count": 56,
   "metadata": {},
   "outputs": [
    {
     "data": {
      "text/plain": [
       "array(['ADAR_1', 'ADAR_2', 'ADPGK_1', 'ADPGK_2', 'APLP2_1', 'C1QTNF9_1',\n",
       "       'CFLAR_1', 'CYP4F8_1', 'CYP4F8_2', 'CYP4F8_3', 'DAGLA_1', 'DEF8_1',\n",
       "       'DHRS1_1', 'DUSP11_1', 'EMID1_1', 'EMID1_2', 'FARP2_1', 'FARP2_2',\n",
       "       'FIGLA_1', 'IBTK_1', 'IGSF9_1', 'IGSF9_2', 'IGSF9_3', 'IRS1_1',\n",
       "       'KIF9_1', 'LRP2_1', 'LRP2_2', 'LRP2_3', 'LRP2_4', 'LYAR_1',\n",
       "       'MEGF8_1', 'MEGF9_1', 'MRPL10_1', 'NADSYN1_1', 'NADSYN1_2',\n",
       "       'NADSYN1_3', 'NANOS1_1', 'NTSR2_1', 'PAPLN_1', 'PAPLN_2',\n",
       "       'PAPLN_3', 'PAPLN_4', 'PAPLN_5', 'PARP2_1', 'PGLYRP2_1',\n",
       "       'PGLYRP2_2', 'PGLYRP2_3', 'PIGK_1', 'PNLIPRP2_1', 'PNLIPRP2_2',\n",
       "       'PNLIPRP2_3', 'PNLIPRP2_4', 'PXK_1', 'PXK_2', 'RASSF9_1',\n",
       "       'SERPINE1_1', 'SETMAR_1', 'SFRP2_1', 'SLAMF8_1', 'SLAMF9_1',\n",
       "       'SLURP2_1', 'SRGN_1', 'TSPEAR_1', 'TXK_1', 'TXK_2', 'XIRP2_1',\n",
       "       'XIRP2_2', 'XIRP2_3'], dtype='<U11')"
      ]
     },
     "execution_count": 56,
     "metadata": {},
     "output_type": "execute_result"
    }
   ],
   "source": [
    "np.setdiff1d(X_nic.columns.tolist(), X.columns.tolist())"
   ]
  },
  {
   "cell_type": "code",
   "execution_count": 57,
   "metadata": {},
   "outputs": [
    {
     "data": {
      "text/plain": [
       "-1"
      ]
     },
     "execution_count": 57,
     "metadata": {},
     "output_type": "execute_result"
    }
   ],
   "source": [
    "len(y) - len(y_nic)"
   ]
  },
  {
   "cell_type": "code",
   "execution_count": 58,
   "metadata": {
    "scrolled": true
   },
   "outputs": [
    {
     "name": "stdout",
     "output_type": "stream",
     "text": [
      "Class  0  51.7%\n",
      "Class  1  48.3%\n",
      "\n"
     ]
    }
   ],
   "source": [
    "print(\"Class %2d  %.1f%%\\nClass %2d  %.1f%%\\n\"%((y.value_counts()/y.shape[0]).index[0],100*(y.value_counts()/y.shape[0]).values[0],(y.value_counts()/y.shape[0]).index[1],100*(y.value_counts()/y.shape[0]).values[1]))"
   ]
  },
  {
   "cell_type": "code",
   "execution_count": 59,
   "metadata": {},
   "outputs": [],
   "source": [
    "np.random.seed(1234)\n",
    "\n",
    "X_train, X_test, y_train, y_test = \\\n",
    "    train_test_split(X, y, train_size= 0.9, random_state=1234, shuffle=True)\n",
    "\n",
    "crossvalidation = StratifiedKFold(n_splits=10, shuffle=True, random_state=1234)"
   ]
  },
  {
   "cell_type": "code",
   "execution_count": 60,
   "metadata": {},
   "outputs": [],
   "source": [
    "c = np.logspace(np.log10(1e-2), np.log10(1e3), 51)"
   ]
  },
  {
   "cell_type": "code",
   "execution_count": 61,
   "metadata": {},
   "outputs": [
    {
     "name": "stdout",
     "output_type": "stream",
     "text": [
      "[LibLinear]"
     ]
    },
    {
     "data": {
      "text/plain": [
       "GridSearchCV(cv=StratifiedKFold(n_splits=10, random_state=1234, shuffle=True),\n",
       "             estimator=LogisticRegression(penalty='l1', random_state=1234,\n",
       "                                          solver='liblinear', verbose=3),\n",
       "             n_jobs=-1,\n",
       "             param_grid={'C': array([1.00000000e-02, 1.25892541e-02, 1.58489319e-02, 1.99526231e-02,\n",
       "       2.51188643e-02, 3.16227766e-02, 3.98107171e-02, 5.01187234e-02,\n",
       "       6.30957344e-02, 7.94328235e-02, 1...\n",
       "       6.30957344e+00, 7.94328235e+00, 1.00000000e+01, 1.25892541e+01,\n",
       "       1.58489319e+01, 1.99526231e+01, 2.51188643e+01, 3.16227766e+01,\n",
       "       3.98107171e+01, 5.01187234e+01, 6.30957344e+01, 7.94328235e+01,\n",
       "       1.00000000e+02, 1.25892541e+02, 1.58489319e+02, 1.99526231e+02,\n",
       "       2.51188643e+02, 3.16227766e+02, 3.98107171e+02, 5.01187234e+02,\n",
       "       6.30957344e+02, 7.94328235e+02, 1.00000000e+03])},\n",
       "             scoring='roc_auc')"
      ]
     },
     "execution_count": 61,
     "metadata": {},
     "output_type": "execute_result"
    }
   ],
   "source": [
    "lasso = LogisticRegression(random_state=1234, solver=\"liblinear\", penalty='l1',verbose=3)\n",
    "parameters = {'C':c}\n",
    "lasso_gs = GridSearchCV(lasso, parameters, n_jobs=-1, cv=crossvalidation, scoring='roc_auc')\n",
    "lasso_gs.fit(X,y)"
   ]
  },
  {
   "cell_type": "code",
   "execution_count": 62,
   "metadata": {},
   "outputs": [],
   "source": [
    "s = {'score':lasso_gs.cv_results_['mean_test_score'],'std':lasso_gs.cv_results_['std_test_score'],'c':1/c}\n",
    "scores = pd.DataFrame(data=s)"
   ]
  },
  {
   "cell_type": "code",
   "execution_count": 63,
   "metadata": {},
   "outputs": [
    {
     "data": {
      "image/png": "[encoded data removed]",
      "text/plain": [
       "<Figure size 1080x504 with 1 Axes>"
      ]
     },
     "metadata": {},
     "output_type": "display_data"
    }
   ],
   "source": [
    "sns.set_theme()\n",
    "plt.figure(figsize=(15,7))\n",
    "ax = sns.lineplot(data=scores, x='c', y='score', ci=scores.std, markers=True, marker='o')\n",
    "ax.fill_between(1/parameters['C'], y1=lasso_gs.cv_results_['mean_test_score'] - lasso_gs.cv_results_['std_test_score']/2, \n",
    "                y2=lasso_gs.cv_results_['mean_test_score'] + lasso_gs.cv_results_['std_test_score']/2, alpha=.2)\n",
    "ax.set_xscale('log')\n",
    "ax.set_ylabel('ACCURACY')\n",
    "ax.set_xlabel('REGULARIZATION FACTOR')\n",
    "#ax.set_title('Lasso LogisticRegression GridSearch')\n",
    "plt.plot(s['c'][11],s['score'][11], 'ok', markersize=5, color='red')\n",
    "plt.savefig('./Plots/GS_GC_hemi.png', dpi=150)\n",
    "#ax.set_ylim([0.475,0.7])"
   ]
  },
  {
   "cell_type": "code",
   "execution_count": 64,
   "metadata": {},
   "outputs": [
    {
     "data": {
      "text/plain": [
       "LogisticRegression(C=0.15848931924611143, penalty='l1', random_state=1234,\n",
       "                   solver='liblinear', verbose=3)"
      ]
     },
     "execution_count": 64,
     "metadata": {},
     "output_type": "execute_result"
    }
   ],
   "source": [
    "lasso_gs.best_estimator_"
   ]
  },
  {
   "cell_type": "code",
   "execution_count": 65,
   "metadata": {},
   "outputs": [
    {
     "data": {
      "text/plain": [
       "6.30957344480193"
      ]
     },
     "execution_count": 65,
     "metadata": {},
     "output_type": "execute_result"
    }
   ],
   "source": [
    "1/c[12]"
   ]
  },
  {
   "cell_type": "code",
   "execution_count": 66,
   "metadata": {},
   "outputs": [
    {
     "name": "stdout",
     "output_type": "stream",
     "text": [
      "[LibLinear][LibLinear][LibLinear][LibLinear][LibLinear][LibLinear][LibLinear][LibLinear][LibLinear][LibLinear][LibLinear][LibLinear][LibLinear][LibLinear][LibLinear][LibLinear][LibLinear][LibLinear][LibLinear][LibLinear][LibLinear][LibLinear][LibLinear][LibLinear][LibLinear][LibLinear][LibLinear][LibLinear][LibLinear][LibLinear][LibLinear][LibLinear][LibLinear][LibLinear][LibLinear][LibLinear][LibLinear][LibLinear][LibLinear][LibLinear][LibLinear][LibLinear][LibLinear][LibLinear][LibLinear][LibLinear][LibLinear][LibLinear][LibLinear][LibLinear][LibLinear]\n",
      "\n",
      "                                   Lasso\n",
      "========================================\n",
      "\t  Accuracy (CV) 0.542 0.078\n",
      "\t      Precision 0.541\n",
      "\t      Recall    0.419\n",
      "\t      F1        0.467\n",
      "\t      AUC        0.533\n",
      "\n",
      "\n"
     ]
    }
   ],
   "source": [
    "method_name = 'Lasso'\n",
    "\n",
    "#lasso = lasso_gs.best_estimator_\n",
    "lasso = LogisticRegression(C=c[12], penalty='l1',\n",
    "                   random_state=1234, solver='liblinear', verbose=1)\n",
    "\n",
    "xval_score = cross_val_score(lasso,X,y,cv=crossvalidation)\n",
    "\n",
    "# compute the basic statistics\n",
    "accuracy_mean = np.average(xval_score)\n",
    "accuracy_std = np.std(xval_score)\n",
    "\n",
    "lasso.fit(X,y)\n",
    "\n",
    "importances = lasso.coef_\n",
    "\n",
    "prec = np.average(cross_val_score(lasso,X,y,cv=crossvalidation, scoring='precision'))\n",
    "    \n",
    "rec = np.average(cross_val_score(lasso,X,y,cv=crossvalidation, scoring='recall'))\n",
    "    \n",
    "f1_metric = np.average(cross_val_score(lasso,X,y,cv=crossvalidation, scoring='f1'))\n",
    "    \n",
    "auc_metric = np.average(cross_val_score(lasso,X,y,cv=crossvalidation, scoring='roc_auc'))\n",
    "\n",
    "\n",
    "print('\\n')    \n",
    "print(\"%40s\"%method_name)\n",
    "print(\"========================================\")\n",
    "print(\"\\t  Accuracy (CV) %.3f %.3f\"%(np.average(xval_score),np.std(xval_score)))\n",
    "#print(\"\\tAccuracy (Test) %.3f\"%accuracy_score(y_test, lasso.predict(X_test)))\n",
    "print(\"\\t      Precision %.3f\"%prec)\n",
    "print(\"\\t      Recall    %.3f\"%rec)\n",
    "print(\"\\t      F1        %.3f\"%f1_metric)\n",
    "print(\"\\t      AUC        %.3f\"%auc_metric)\n",
    "print(\"\\n\")"
   ]
  },
  {
   "cell_type": "code",
   "execution_count": 67,
   "metadata": {},
   "outputs": [
    {
     "data": {
      "text/plain": [
       "221"
      ]
     },
     "execution_count": 67,
     "metadata": {},
     "output_type": "execute_result"
    }
   ],
   "source": [
    "importances = lasso.coef_.flatten()\n",
    "importances.shape[0]"
   ]
  },
  {
   "cell_type": "code",
   "execution_count": 68,
   "metadata": {},
   "outputs": [],
   "source": [
    "indices = np.argsort(np.absolute(importances))[::-1]#[0:100]\n",
    "indices = indices[np.absolute(importances[indices])>0.000001]"
   ]
  },
  {
   "cell_type": "code",
   "execution_count": 69,
   "metadata": {},
   "outputs": [],
   "source": [
    "selected_features = importances[indices]"
   ]
  },
  {
   "cell_type": "code",
   "execution_count": 70,
   "metadata": {},
   "outputs": [
    {
     "data": {
      "text/plain": [
       "31"
      ]
     },
     "execution_count": 70,
     "metadata": {},
     "output_type": "execute_result"
    }
   ],
   "source": [
    "len(selected_features)"
   ]
  },
  {
   "cell_type": "code",
   "execution_count": 71,
   "metadata": {},
   "outputs": [
    {
     "data": {
      "image/png": "[encoded data removed]",
      "text/plain": [
       "<Figure size 1080x504 with 1 Axes>"
      ]
     },
     "metadata": {},
     "output_type": "display_data"
    }
   ],
   "source": [
    "n_features = len(selected_features)\n",
    "\n",
    "fig, ax = plt.subplots(figsize=(15,7))\n",
    "\n",
    "#plt.title(\"Lasso Feature importances female rare AD\")\n",
    "\n",
    "ax.bar(range(n_features), importances[indices],\n",
    "        color=\"#457b9d\", yerr=None, align=\"center\")\n",
    "\n",
    "plt.xticks(range(n_features), X_nic.columns[indices],rotation='-90')\n",
    "#ax.get_xticklabels()[1].set_fontweight(\"bold\")\n",
    "#ax.get_xticklabels()[4].set_fontweight(\"bold\")\n",
    "#ax.get_xticklabels()[16].set_fontweight(\"bold\")\n",
    "\n",
    "plt.xlim([-1, len(selected_features)])#X.shape[1]])\n",
    "plt.tight_layout()\n",
    "#plt.savefig('./Plots/Feature_importances_adjbyage.png',dpi=150)\n",
    "plt.savefig('./Plots/Selected_GC_hemi.png', dpi=150)\n",
    "plt.show()"
   ]
  },
  {
   "cell_type": "code",
   "execution_count": null,
   "metadata": {},
   "outputs": [],
   "source": []
  },
  {
   "cell_type": "code",
   "execution_count": 133,
   "metadata": {},
   "outputs": [
    {
     "data": {
      "text/plain": [
       "['LRP2_2', 'MRPL10_1', 'TXK_1', 'IBTK_1', 'C1QTNF9_1', 'FIGLA_1', 'PGLYRP2_3']"
      ]
     },
     "execution_count": 133,
     "metadata": {},
     "output_type": "execute_result"
    }
   ],
   "source": [
    "diverse = []\n",
    "for x in X_nic.columns[indices]:\n",
    "    gene = x.split('_')[0]\n",
    "    if gene not in chr_X['genes_x'].tolist():\n",
    "        diverse.append(x)\n",
    "\n",
    "diverse"
   ]
  },
  {
   "cell_type": "code",
   "execution_count": 106,
   "metadata": {
    "scrolled": true
   },
   "outputs": [
    {
     "name": "stdout",
     "output_type": "stream",
     "text": [
      "[LibLinear][LibLinear][LibLinear][LibLinear][LibLinear][LibLinear][LibLinear][LibLinear][LibLinear][LibLinear]"
     ]
    },
    {
     "data": {
      "image/png": "[encoded data removed]",
      "text/plain": [
       "<Figure size 720x360 with 1 Axes>"
      ]
     },
     "metadata": {
      "needs_background": "light"
     },
     "output_type": "display_data"
    }
   ],
   "source": [
    "tprs = []\n",
    "aucs = []\n",
    "mean_fpr = np.linspace(0, 1, 100)\n",
    "\n",
    "fig, ax = plt.subplots(figsize=(10,5))\n",
    "for i, (train, test) in enumerate(crossvalidation.split(X, y)):\n",
    "    lasso.fit(X.iloc[train], y.iloc[train])\n",
    "    viz = plot_roc_curve(lasso, X.iloc[test], y.iloc[test],\n",
    "                         name='ROC fold {}'.format(i),\n",
    "                         alpha=0.3, lw=1, ax=ax)\n",
    "    interp_tpr = np.interp(mean_fpr, viz.fpr, viz.tpr)\n",
    "    interp_tpr[0] = 0.0\n",
    "    tprs.append(interp_tpr)\n",
    "    aucs.append(viz.roc_auc)\n",
    "\n",
    "ax.plot([0, 1], [0, 1], linestyle='--', lw=2, color='r',\n",
    "        label='Chance', alpha=.8)\n",
    "\n",
    "mean_tpr = np.mean(tprs, axis=0)\n",
    "mean_tpr[-1] = 1.0\n",
    "mean_auc = auc(mean_fpr, mean_tpr)\n",
    "std_auc = np.std(aucs)\n",
    "ax.plot(mean_fpr, mean_tpr, color='b',\n",
    "        label=r'Mean ROC (AUC = %0.2f $\\pm$ %0.2f)' % (mean_auc, std_auc),\n",
    "        lw=2, alpha=.8)\n",
    "\n",
    "std_tpr = np.std(tprs, axis=0)\n",
    "tprs_upper = np.minimum(mean_tpr + std_tpr, 1)\n",
    "tprs_lower = np.maximum(mean_tpr - std_tpr, 0)\n",
    "ax.fill_between(mean_fpr, tprs_lower, tprs_upper, color='grey', alpha=.2,\n",
    "                label=r'$\\pm$ 1 std. dev.')\n",
    "\n",
    "ax.set(xlim=[-0.05, 1.05], ylim=[-0.05, 1.05],\n",
    "       title=\"Lasso Classifier ROC Curve\")\n",
    "ax.legend(bbox_to_anchor=(1.25, 1.0))\n",
    "plt.tight_layout()\n",
    "#plt.savefig('./Plots/Lasso Adjusted by age ROC.png',dpi=150)\n",
    "plt.show()"
   ]
  },
  {
   "cell_type": "code",
   "execution_count": null,
   "metadata": {},
   "outputs": [],
   "source": [
    "yp_cv = cross_val_predict(lasso, X, y, cv=crossvalidation)\n",
    "tn, fp, fn, tp = confusion_matrix(y, yp_cv).ravel()\n",
    "\n",
    "#tn, fp, fn, tp = confusion_matrix(y_test, yp).ravel()\n",
    "\n",
    "conf = [[tn,fn],[fp,tp]]\n",
    "\n",
    "confusion = np.array(conf)"
   ]
  },
  {
   "cell_type": "code",
   "execution_count": null,
   "metadata": {},
   "outputs": [],
   "source": [
    "ax = sns.heatmap(confusion, annot=True, cmap='Blues',fmt='g')\n",
    "ax.set_ylabel('Predicted')\n",
    "ax.set_xlabel('Reference')\n",
    "ax.set_title('Lasso Confusion Matrix')\n",
    "#ax.set_xticklabels(['Absent','Present'])\n",
    "#ax.set_yticklabels(['Absent','Present'])\n",
    "plt.savefig('./Plots/Lasso Confusion matrix adj by age.png', dpi=150)"
   ]
  },
  {
   "cell_type": "code",
   "execution_count": null,
   "metadata": {},
   "outputs": [],
   "source": [
    "selected_features = X.columns[indices]"
   ]
  },
  {
   "cell_type": "code",
   "execution_count": null,
   "metadata": {},
   "outputs": [],
   "source": [
    "#df_out = df.loc[:, selected_features]\n",
    "#df_out['grading'] = df['grading']\n",
    "#df_out.to_csv('./selected_features_adjusted_by_age.csv',index=False)"
   ]
  },
  {
   "cell_type": "markdown",
   "metadata": {},
   "source": [
    "# Confronto tra le nuove features selezionate e le precedenti"
   ]
  },
  {
   "cell_type": "code",
   "execution_count": 66,
   "metadata": {},
   "outputs": [],
   "source": [
    "old_features = pd.read_csv('./selected_features_lasso_noindex.csv')"
   ]
  },
  {
   "cell_type": "code",
   "execution_count": 67,
   "metadata": {},
   "outputs": [
    {
     "name": "stdout",
     "output_type": "stream",
     "text": [
      "Le nuove features sono 45:\n",
      "['GYPB' 'MICAL1' 'KRTAP5-10' 'CSMD3' 'TMEM14B' 'MAGOHB' 'COL6A3' 'CEL'\n",
      " 'MYO18B' 'ZNF714' 'FMN2' 'MYO7A' 'BOP1' 'ADAMTS10' 'ANKRD11' 'CNOT2'\n",
      " 'ADAMTSL2' 'URB1' 'CELA1' 'TICRR' 'LY75;LY75-CD302' 'NUP153' 'CACNA1B'\n",
      " 'OR4E2' 'NPIPB3' 'SH3BGRL2' 'MAPKAP1' 'STKLD1' 'APOB' 'IRF8' 'PKD1'\n",
      " 'ARID1B' 'FNBP4' 'ADGRV1' 'CHN1' 'RAI1' 'AR' 'TAF4' 'DMKN' 'THAP11'\n",
      " 'DRICH1' 'DCHS1' 'VPS13B' 'PILRB' 'lung']\n",
      "\n",
      "\n",
      "Le vecchie features sono57:\n",
      "['hypertension' 'MUC12' 'diabetes' 'RFTN2' 'CACNA1B' 'TTTY23;GYG2P1'\n",
      " 'BOP1' 'TP53BP2;GTF2IP20' 'KRTAP5-10' 'MEX3C' 'ZNF419' 'OTOG' 'RPS6KA5'\n",
      " 'NPIPB3' 'Autoimmune disease' 'AK9' 'APLP2' 'GXYLT1' 'COL6A6' 'MROH9'\n",
      " 'SASH1' 'ZNF714' 'HSPG2' 'CCDC173' 'RAB11FIP1' 'RBM6' 'KRT1' 'AVPR1B'\n",
      " 'DYNC2H1' 'REXO1' 'TAF4' 'STARD9' 'TMEM14B' 'SLC3A2' 'PIEZO1' 'WDR36'\n",
      " 'C19orf57' 'DST' 'FMN2' 'FLNB' 'CRCP' 'ATN1' 'PLK5' 'SLAMF8' 'NSD2'\n",
      " 'TMEM154' 'DCAF8L2' 'MST1' 'ADAMTS10' 'LAMA5' 'XIRP2' 'BRCA2' 'CEP290'\n",
      " 'PPP1R3A' 'AR' 'NACA' 'lung']\n",
      "\n",
      "\n",
      "Le features in comune sono11:\n",
      "['ADAMTS10' 'AR' 'BOP1' 'CACNA1B' 'FMN2' 'KRTAP5-10' 'NPIPB3' 'TAF4'\n",
      " 'TMEM14B' 'ZNF714' 'lung']\n"
     ]
    }
   ],
   "source": [
    "print('Le nuove features sono '+str(len(df_out.columns))+':')\n",
    "print(df_out.columns.values)\n",
    "print('\\n')\n",
    "print('Le vecchie features sono'+str(len(old_features.columns.values))+':')\n",
    "print(old_features.columns.values)\n",
    "print('\\n')\n",
    "\n",
    "common_features = np.intersect1d(df_out.columns.values,old_features.columns.values)\n",
    "\n",
    "print('Le features in comune sono'+str(len(common_features))+':')\n",
    "print(common_features)"
   ]
  },
  {
   "cell_type": "markdown",
   "metadata": {},
   "source": [
    "# Comparing with other methods after features selection"
   ]
  },
  {
   "cell_type": "code",
   "execution_count": null,
   "metadata": {},
   "outputs": [],
   "source": [
    "target_variable = 'grading'\n",
    "input_variables = selected_features\n",
    "\n",
    "X = df[input_variables]\n",
    "y = df[target_variable]"
   ]
  },
  {
   "cell_type": "code",
   "execution_count": null,
   "metadata": {},
   "outputs": [],
   "source": [
    "np.random.seed(1234)\n",
    "\n",
    "X_train, X_test, y_train, y_test = \\\n",
    "    train_test_split(X, y, train_size= 0.9, random_state=1234, shuffle=True)\n",
    "\n",
    "crossvalidation = StratifiedKFold(n_splits=10, shuffle=True, random_state=1234)"
   ]
  },
  {
   "cell_type": "code",
   "execution_count": null,
   "metadata": {},
   "outputs": [],
   "source": [
    "#n_estimators = 100\n",
    "#max_depth = 5\n",
    "\n",
    "n_estimators = 100\n",
    "max_depth = 5\n",
    "\n",
    "methods = {\n",
    "    'Ridge':LogisticRegression(penalty=\"l2\",C=0.1, random_state=1234, max_iter=300, solver=\"liblinear\",class_weight='balanced'),\n",
    "    'k-NN(5)':KNeighborsClassifier(n_neighbors=5, algorithm='kd_tree'),\n",
    "    'Decision Tree':DecisionTreeClassifier(max_depth=10,class_weight='balanced'),\n",
    "    'Bagging(Tree)':BaggingClassifier(DecisionTreeClassifier(max_depth=max_depth, class_weight='balanced'),n_estimators=n_estimators,\n",
    "                                     random_state=1234),\n",
    "    'Random Forest':RandomForestClassifier(n_estimators=n_estimators,max_depth=None,oob_score=True, class_weight='balanced',random_state=1234),\n",
    "    'Extremely Randomized Trees':ExtraTreesClassifier(n_estimators=n_estimators,max_depth=max_depth, class_weight='balanced',random_state=1234),\n",
    "    'Ada Boost':AdaBoostClassifier(DecisionTreeClassifier(max_depth=1,class_weight='balanced'),n_estimators=n_estimators,random_state=1234)\n",
    "}"
   ]
  },
  {
   "cell_type": "code",
   "execution_count": null,
   "metadata": {},
   "outputs": [],
   "source": [
    "xval_results = {}\n",
    "roc_results = {}\n",
    "feature_importance_model = {}\n",
    "\n",
    "method = []\n",
    "accuracy_mean = []\n",
    "accuracy_std = []\n",
    "precision = []\n",
    "recall = []\n",
    "f1 = []\n",
    "auc_scores =[]\n",
    "\n",
    "for method_name in methods:\n",
    "    \n",
    "    \n",
    "    clf = methods[method_name];\n",
    "    \n",
    "    # evaluate the model using crossvalidation\n",
    "    xval_score = cross_val_score(clf,X,y,cv=crossvalidation)\n",
    "    \n",
    "    # store the raw results of crossvalidation that we might want to use for t-test/mann-whitney comparison\n",
    "    xval_results[method_name] = xval_score\n",
    "    \n",
    "    # compute the basic statistics\n",
    "    accuracy_mean.append(np.average(xval_score))\n",
    "    accuracy_std.append(np.std(xval_score))\n",
    "    \n",
    "    prec = np.average(cross_val_score(clf,X,y,cv=crossvalidation, scoring='precision'))\n",
    "    precision.append(prec)\n",
    "    \n",
    "    rec = np.average(cross_val_score(clf,X,y,cv=crossvalidation, scoring='recall'))\n",
    "    recall.append(rec)\n",
    "    \n",
    "    f1_metric = np.average(cross_val_score(clf,X,y,cv=crossvalidation, scoring='f1'))\n",
    "    f1.append(f1_metric)\n",
    "    \n",
    "    auc_metric = np.average(cross_val_score(clf,X,y,cv=crossvalidation, scoring='roc_auc'))\n",
    "    auc_scores.append(auc_metric)\n",
    "    \n",
    "    # if the mode can return an evaluation of feature importance we store it to analyze it later\n",
    "    if hasattr(clf, 'feature_importances_'):\n",
    "            feature_importance_model[method_name] = (clf,clf.feature_importances_)\n",
    "    \n",
    "    clf.fit(X,y)\n",
    "    #yp = clf.predict(X_test)\n",
    "    \n",
    "    print(\"%40s\"%method_name)\n",
    "    print(\"========================================\")\n",
    "    print(\"\\t  Accuracy (CV) %.3f %.3f\"%(np.average(xval_score),np.std(xval_score)))\n",
    "    #print(\"\\tAccuracy (Test) %.3f\"%accuracy_score(y_test, yp))\n",
    "    print(\"\\t      Precision %.3f\"%prec)\n",
    "    print(\"\\t      Recall    %.3f\"%rec)\n",
    "    print(\"\\t      F1        %.3f\"%f1_metric)\n",
    "    print(\"\\t      AUC        %.3f\"%auc_metric)\n",
    "    print(\"\\n\")\n",
    "\n",
    "    method.append(method_name)"
   ]
  },
  {
   "cell_type": "code",
   "execution_count": null,
   "metadata": {
    "scrolled": false
   },
   "outputs": [],
   "source": [
    "mean_fpr = np.linspace(0, 1, 100)\n",
    "roc_results = {}\n",
    "\n",
    "for method_name in methods:\n",
    "\n",
    "    tprs = []\n",
    "    aucs = []\n",
    "\n",
    "    fig, ax = plt.subplots()\n",
    "    \n",
    "    for i, (train, test) in enumerate(crossvalidation.split(X, y)):\n",
    "        methods[method_name].fit(X.iloc[train], y.iloc[train])\n",
    "        viz = plot_roc_curve(methods[method_name], X.iloc[test], y.iloc[test],\n",
    "                             name='ROC fold {}'.format(i),\n",
    "                             alpha=0.3, lw=1, ax=ax)\n",
    "        interp_tpr = np.interp(mean_fpr, viz.fpr, viz.tpr)\n",
    "        interp_tpr[0] = 0.0\n",
    "        tprs.append(interp_tpr)\n",
    "        aucs.append(viz.roc_auc)\n",
    "\n",
    "    ax.plot([0, 1], [0, 1], linestyle='--', lw=2, color='r',\n",
    "        label='Chance', alpha=.8)\n",
    "\n",
    "    mean_tpr = np.mean(tprs, axis=0)\n",
    "    mean_tpr[-1] = 1.0\n",
    "    mean_auc = auc(mean_fpr, mean_tpr)\n",
    "    std_auc = np.std(aucs)\n",
    "    ax.plot(mean_fpr, mean_tpr, color='b',\n",
    "        label=r'Mean ROC (AUC = %0.2f $\\pm$ %0.2f)' % (mean_auc, std_auc),\n",
    "        lw=2, alpha=.8)\n",
    "    \n",
    "    std_tpr = np.std(tprs, axis=0)\n",
    "    tprs_upper = np.minimum(mean_tpr + std_tpr, 1)\n",
    "    tprs_lower = np.maximum(mean_tpr - std_tpr, 0)\n",
    "    ax.fill_between(mean_fpr, tprs_lower, tprs_upper, color='grey', alpha=.2,\n",
    "                label=r'$\\pm$ 1 std. dev.')\n",
    "\n",
    "    ax.set(xlim=[-0.05, 1.05], ylim=[-0.05, 1.05],\n",
    "       title=method_name)\n",
    "    ax.legend(bbox_to_anchor=(1.25, 1.0))\n",
    "    \n",
    "    roc_results[method_name] = (mean_fpr, mean_tpr, mean_auc)"
   ]
  },
  {
   "cell_type": "code",
   "execution_count": null,
   "metadata": {},
   "outputs": [],
   "source": [
    "# we sort the AUC values so to have a better legend\n",
    "sorted_roc_results = sorted(roc_results.items(), key=lambda x: x[1][2], reverse=True)\n",
    "\n",
    "plt.figure(1, figsize=(8, 8));\n",
    "#font = {'family':'sans', 'size':24};\n",
    "#plt.rc('font', **font);\n",
    "plt.xlabel('FPR');\n",
    "plt.ylabel('TPR');\n",
    "for result in sorted_roc_results:\n",
    "    #print(result[1][0])\n",
    "    #print(result[1][1])\n",
    "    #print(result[0])\n",
    "    #print(result[1][2])\n",
    "    plt.plot(result[1][0], result[1][1],label=result[0]+' %.2f'%result[1][2])\n",
    "\n",
    "\n",
    "# plt.plot(fpr,thresholds,label='Thresholds')\n",
    "plt.plot([0.0,1.0],[0.0,1.0],label='Baseline')\n",
    "plt.yticks(np.arange(0.0,1.01,.2))\n",
    "plt.title('ROC Curves with Crossvalidation')\n",
    "plt.ylim([0.0,1.0])\n",
    "plt.xlim([0.0,1.0])\n",
    "plt.legend(bbox_to_anchor=(1.25, 1.0))\n",
    "\n",
    "plt.show();"
   ]
  },
  {
   "cell_type": "markdown",
   "metadata": {},
   "source": [
    "## Accuracy for different techniques"
   ]
  },
  {
   "cell_type": "code",
   "execution_count": null,
   "metadata": {},
   "outputs": [],
   "source": [
    "method_names = np.array(list(methods.keys()))\n",
    "acc_indices = np.array(accuracy_mean).argsort()\n",
    "\n",
    "sorted_accuracy = np.take_along_axis(np.array(accuracy_mean), acc_indices, axis=0)\n",
    "sorted_names = method_names[acc_indices]"
   ]
  },
  {
   "cell_type": "code",
   "execution_count": null,
   "metadata": {},
   "outputs": [],
   "source": [
    "plt.figure(figsize=(11,5))\n",
    "plt.barh(y=sorted_names,width=sorted_accuracy)"
   ]
  },
  {
   "cell_type": "markdown",
   "metadata": {},
   "source": [
    "# Optimizing Random Forests"
   ]
  },
  {
   "cell_type": "code",
   "execution_count": null,
   "metadata": {},
   "outputs": [],
   "source": [
    "target_variable = 'grading'\n",
    "input_variables = selected_features\n",
    "\n",
    "X = df[input_variables]\n",
    "y = df[target_variable]"
   ]
  },
  {
   "cell_type": "code",
   "execution_count": null,
   "metadata": {},
   "outputs": [],
   "source": [
    "np.random.seed(1234)\n",
    "\n",
    "X_train, X_test, y_train, y_test = \\\n",
    "    train_test_split(X, y, train_size= 0.9, random_state=1234, shuffle=True)\n",
    "\n",
    "crossvalidation = StratifiedKFold(n_splits=10, shuffle=True, random_state=1234)"
   ]
  },
  {
   "cell_type": "code",
   "execution_count": null,
   "metadata": {},
   "outputs": [],
   "source": [
    "randomForest = RandomForestClassifier(class_weight='balanced',random_state=1234)\n",
    "parameters = {'max_features':[0.1,0.2,0.3,0.4,0.5,0.6,0.7,0.8,0.9,'sqrt','log2',None],\n",
    "              'max_samples':[0.1,0.2,0.3,0.4,0.5,0.6,0.7,0.8,0.9,1.0],\n",
    "              'n_estimators':[5,10,20,50,100,250,500,1000],\n",
    "              'oob_score' : [True, False],\n",
    "              'max_depth' : [2,3,4,5,7,10,20,None]\n",
    "             }"
   ]
  },
  {
   "cell_type": "code",
   "execution_count": null,
   "metadata": {
    "scrolled": false
   },
   "outputs": [],
   "source": [
    "# search across 100 different combinations, and use all available cores\n",
    "rf_gs = GridSearchCV(estimator = randomForest, param_grid = parameters, cv = crossvalidation, scoring='accuracy',\n",
    "                               verbose=2, n_jobs = -1)\n",
    "\n",
    "# Fit the random search model\n",
    "rf_gs.fit(X,y)"
   ]
  },
  {
   "cell_type": "code",
   "execution_count": null,
   "metadata": {},
   "outputs": [],
   "source": [
    "rf_gs.best_estimator_"
   ]
  },
  {
   "cell_type": "code",
   "execution_count": null,
   "metadata": {},
   "outputs": [],
   "source": [
    "method_name = 'Random Forest'\n",
    "\n",
    "randomForest = rf_gs.best_estimator_\n",
    "\n",
    "#randomForest = RandomForestClassifier(class_weight='balanced', max_depth=10,\n",
    "#                       max_features='log2', max_samples=0.2, n_estimators=500,\n",
    "#                       oob_score=True, random_state=1234)\n",
    "\n",
    "vxval_score = cross_val_score(randomForest,X,y,cv=crossvalidation)\n",
    "\n",
    "# compute the basic statistics\n",
    "accuracy_mean = np.average(xval_score)\n",
    "accuracy_std = np.std(xval_score)\n",
    "\n",
    "randomForest.fit(X,y)\n",
    "\n",
    "importances = randomForest.feature_importances_\n",
    "\n",
    "# compute the prediction which, for probabilistic classifiers, is using a threshold of 0.5\n",
    "yp = randomForest.predict(X_test)\n",
    "\n",
    "prec = np.average(cross_val_score(randomForest,X,y,cv=crossvalidation, scoring='precision'))\n",
    "    \n",
    "rec = np.average(cross_val_score(randomForest,X,y,cv=crossvalidation, scoring='recall'))\n",
    "    \n",
    "f1_metric = np.average(cross_val_score(randomForest,X,y,cv=crossvalidation, scoring='f1'))\n",
    "    \n",
    "auc_metric = np.average(cross_val_score(randomForest,X,y,cv=crossvalidation, scoring='roc_auc'))\n",
    "       \n",
    "print(\"%40s\"%method_name)\n",
    "print(\"========================================\")\n",
    "print(\"\\t  Accuracy (CV) %.3f %.3f\"%(np.average(xval_score),np.std(xval_score)))\n",
    "print(\"\\t      Precision %.3f\"%prec)\n",
    "print(\"\\t      Recall    %.3f\"%rec)\n",
    "print(\"\\t      F1        %.3f\"%f1_metric)\n",
    "print(\"\\t      AUC        %.3f\"%auc_metric)\n",
    "print(\"\\n\")"
   ]
  },
  {
   "cell_type": "code",
   "execution_count": null,
   "metadata": {},
   "outputs": [],
   "source": [
    "plt.figure(figsize=(15,7))\n",
    "std = np.std([tree.feature_importances_ for tree in randomForest.estimators_],\n",
    "             axis=0)\n",
    "\n",
    "indices = np.argsort(importances)[::-1]#[0:100]\n",
    "indices = indices[importances[indices]>0.00001]\n",
    "\n",
    "plt.title(\"Feature importances\")\n",
    "plt.bar(range(len(indices)), importances[indices],\n",
    "        color=\"r\", yerr=None, align=\"center\")\n",
    "plt.xticks(range(len(indices)), X.columns[indices],rotation='vertical')\n",
    "plt.xlim([-1, len(indices)])#X.shape[1]])\n",
    "plt.show()"
   ]
  },
  {
   "cell_type": "markdown",
   "metadata": {},
   "source": [
    "### Random Forest ROC Curve"
   ]
  },
  {
   "cell_type": "code",
   "execution_count": null,
   "metadata": {},
   "outputs": [],
   "source": [
    "tprs = []\n",
    "aucs = []\n",
    "mean_fpr = np.linspace(0, 1, 100)\n",
    "\n",
    "fig, ax = plt.subplots()\n",
    "for i, (train, test) in enumerate(crossvalidation.split(X, y)):\n",
    "    randomForest.fit(X.iloc[train], y.iloc[train])\n",
    "    viz = plot_roc_curve(randomForest, X.iloc[test], y.iloc[test],\n",
    "                         name='ROC fold {}'.format(i),\n",
    "                         alpha=0.3, lw=1, ax=ax)\n",
    "    interp_tpr = np.interp(mean_fpr, viz.fpr, viz.tpr)\n",
    "    interp_tpr[0] = 0.0\n",
    "    tprs.append(interp_tpr)\n",
    "    aucs.append(viz.roc_auc)\n",
    "\n",
    "ax.plot([0, 1], [0, 1], linestyle='--', lw=2, color='r',\n",
    "        label='Chance', alpha=.8)\n",
    "\n",
    "mean_tpr = np.mean(tprs, axis=0)\n",
    "mean_tpr[-1] = 1.0\n",
    "mean_auc = auc(mean_fpr, mean_tpr)\n",
    "std_auc = np.std(aucs)\n",
    "ax.plot(mean_fpr, mean_tpr, color='b',\n",
    "        label=r'Mean ROC (AUC = %0.2f $\\pm$ %0.2f)' % (mean_auc, std_auc),\n",
    "        lw=2, alpha=.8)\n",
    "\n",
    "std_tpr = np.std(tprs, axis=0)\n",
    "tprs_upper = np.minimum(mean_tpr + std_tpr, 1)\n",
    "tprs_lower = np.maximum(mean_tpr - std_tpr, 0)\n",
    "ax.fill_between(mean_fpr, tprs_lower, tprs_upper, color='grey', alpha=.2,\n",
    "                label=r'$\\pm$ 1 std. dev.')\n",
    "\n",
    "ax.set(xlim=[-0.05, 1.05], ylim=[-0.05, 1.05],\n",
    "       title=\"Random Forest Classifier ROC Curve\")\n",
    "ax.legend(bbox_to_anchor=(1.25, 1.0))\n",
    "plt.show()"
   ]
  },
  {
   "cell_type": "markdown",
   "metadata": {},
   "source": [
    "### Random Forest Confusion Matrix"
   ]
  },
  {
   "cell_type": "code",
   "execution_count": null,
   "metadata": {},
   "outputs": [],
   "source": [
    "yp_cv = cross_val_predict(randomForest, X, y, cv=crossvalidation)\n",
    "tn, fp, fn, tp = confusion_matrix(y, yp_cv).ravel()\n",
    "\n",
    "#tn, fp, fn, tp = confusion_matrix(y_test, yp).ravel()\n",
    "\n",
    "conf = [[tn,fn],[fp,tp]]\n",
    "\n",
    "confusion = np.array(conf)"
   ]
  },
  {
   "cell_type": "code",
   "execution_count": null,
   "metadata": {},
   "outputs": [],
   "source": [
    "ax = sns.heatmap(confusion, annot=True, cmap='Blues',fmt='g')\n",
    "ax.set_ylabel('Predicted')\n",
    "ax.set_xlabel('Reference')\n",
    "ax.set_title('Random Forest Confusion Matrix')\n",
    "#ax.set_xticklabels(['Absent','Present'])\n",
    "#ax.set_yticklabels(['Absent','Present'])"
   ]
  },
  {
   "cell_type": "markdown",
   "metadata": {},
   "source": [
    "# Ada Boost Confusion Matrix"
   ]
  },
  {
   "cell_type": "code",
   "execution_count": null,
   "metadata": {},
   "outputs": [],
   "source": [
    "yp_cv = cross_val_predict(methods['Ada Boost'], X, y, cv=crossvalidation)\n",
    "tn, fp, fn, tp = confusion_matrix(y, yp_cv).ravel()\n",
    "\n",
    "#tn, fp, fn, tp = confusion_matrix(y_test, yp).ravel()\n",
    "\n",
    "conf = [[tn,fn],[fp,tp]]\n",
    "\n",
    "confusion = np.array(conf)"
   ]
  },
  {
   "cell_type": "code",
   "execution_count": null,
   "metadata": {},
   "outputs": [],
   "source": [
    "ax = sns.heatmap(confusion, annot=True, cmap='Blues',fmt='g')\n",
    "ax.set_ylabel('Predicted')\n",
    "ax.set_xlabel('Reference')\n",
    "ax.set_title('Ada Boost Classifier Confusion Matrix')\n",
    "#ax.set_xticklabels(['Absent','Present'])\n",
    "#ax.set_yticklabels(['Absent','Present'])"
   ]
  },
  {
   "cell_type": "code",
   "execution_count": null,
   "metadata": {},
   "outputs": [],
   "source": [
    "ab_importances = methods['Ada Boost'].feature_importances_\n",
    "\n",
    "ab_n_features = len(ab_importances)\n",
    "\n",
    "plt.figure(figsize=(15,7))\n",
    "\n",
    "ab_indices = np.argsort(ab_importances)[::-1][0:len(indices)]\n",
    "\n",
    "plt.title(\"Ada Boost Feature importances\")\n",
    "plt.bar(range(ab_n_features), ab_importances[ab_indices],\n",
    "        color=\"r\", yerr=None, align=\"center\")\n",
    "plt.xticks(range(ab_n_features), X.columns[ab_indices],rotation='vertical')\n",
    "plt.xlim([-1, ab_n_features])#X.shape[1]])\n",
    "plt.show()"
   ]
  },
  {
   "cell_type": "code",
   "execution_count": null,
   "metadata": {},
   "outputs": [],
   "source": [
    "methods['Ada Boost'].fit(X,y)\n",
    "yp = methods['Ada Boost'].predict(X_test)\n",
    "print(\"Accuracy (Test) %.3f\"%accuracy_score(y_test, yp))\n",
    "print(\"Precision (Test) %.3f\"%precision_score(y_test, yp))\n",
    "print(\"Recall (Test) %.3f\"%recall_score(y_test, yp))\n",
    "print(\"F1 (Test) %.3f\"%f1_score(y_test, yp))\n",
    "print(\"AUC (Test) %.3f\"%roc_auc_score(y_test, yp))"
   ]
  },
  {
   "cell_type": "markdown",
   "metadata": {},
   "source": [
    "# Ridge Optimization"
   ]
  },
  {
   "cell_type": "code",
   "execution_count": null,
   "metadata": {},
   "outputs": [],
   "source": [
    "ridge = LogisticRegression(random_state=1234, max_iter=300, solver=\"liblinear\", penalty='l1',class_weight='balanced',verbose=3)\n",
    "parameters = {'C':np.arange(0,4,0.05)}\n",
    "ridge_gs = GridSearchCV(ridge, parameters, n_jobs=-1, cv=crossvalidation, scoring='accuracy')\n",
    "ridge_gs.fit(X,y)"
   ]
  },
  {
   "cell_type": "code",
   "execution_count": null,
   "metadata": {},
   "outputs": [],
   "source": [
    "ridge_gs.best_estimator_"
   ]
  },
  {
   "cell_type": "code",
   "execution_count": null,
   "metadata": {},
   "outputs": [],
   "source": [
    "method_name = 'Ridge'\n",
    "\n",
    "ridge = ridge_gs.best_estimator_\n",
    "\n",
    "xval_score = cross_val_score(ridge,X,y,cv=crossvalidation)\n",
    "\n",
    "# compute the basic statistics\n",
    "accuracy_mean = np.average(xval_score)\n",
    "accuracy_std = np.std(xval_score)\n",
    "\n",
    "ridge.fit(X,y)\n",
    "\n",
    "importances = ridge.coef_\n",
    "\n",
    "prec = np.average(cross_val_score(ridge,X,y,cv=crossvalidation, scoring='precision'))\n",
    "    \n",
    "rec = np.average(cross_val_score(ridge,X,y,cv=crossvalidation, scoring='recall'))\n",
    "    \n",
    "f1_metric = np.average(cross_val_score(ridge,X,y,cv=crossvalidation, scoring='f1'))\n",
    "    \n",
    "auc_metric = np.average(cross_val_score(ridge,X,y,cv=crossvalidation, scoring='roc_auc'))\n",
    "\n",
    "\n",
    "print('\\n')    \n",
    "print(\"%40s\"%method_name)\n",
    "print(\"========================================\")\n",
    "print(\"\\t  Accuracy (CV) %.3f %.3f\"%(np.average(xval_score),np.std(xval_score)))\n",
    "#print(\"\\tAccuracy (Test) %.3f\"%accuracy_score(y_test, lasso.predict(X_test)))\n",
    "print(\"\\t      Precision %.3f\"%prec)\n",
    "print(\"\\t      Recall    %.3f\"%rec)\n",
    "print(\"\\t      F1        %.3f\"%f1_metric)\n",
    "print(\"\\t      AUC        %.3f\"%auc_metric)\n",
    "print(\"\\n\")"
   ]
  },
  {
   "cell_type": "code",
   "execution_count": null,
   "metadata": {},
   "outputs": [],
   "source": [
    "yp_cv = cross_val_predict(ridge, X, y, cv=crossvalidation)\n",
    "tn, fp, fn, tp = confusion_matrix(y, yp_cv).ravel()\n",
    "\n",
    "#tn, fp, fn, tp = confusion_matrix(y_test, yp).ravel()\n",
    "\n",
    "conf = [[tn,fn],[fp,tp]]\n",
    "\n",
    "confusion = np.array(conf)"
   ]
  },
  {
   "cell_type": "code",
   "execution_count": null,
   "metadata": {},
   "outputs": [],
   "source": [
    "ax = sns.heatmap(confusion, annot=True, cmap='Blues',fmt='g')\n",
    "ax.set_ylabel('Predicted')\n",
    "ax.set_xlabel('Reference')\n",
    "ax.set_title('Ridge Classifier Confusion Matrix')\n",
    "#ax.set_xticklabels(['Absent','Present'])\n",
    "#ax.set_yticklabels(['Absent','Present'])\n",
    "\n",
    "plt.tight_layout()\n",
    "#plt.savefig('./Plots/Ridge_confusionMatrix.png',dpi=200)"
   ]
  },
  {
   "cell_type": "code",
   "execution_count": null,
   "metadata": {
    "scrolled": false
   },
   "outputs": [],
   "source": [
    "ridge_importances = ridge.coef_.flatten()\n",
    "\n",
    "n_features = len(selected_features)\n",
    "\n",
    "fig, ax = plt.subplots(figsize=(15,7))\n",
    "\n",
    "indices = np.argsort(np.abs(ridge_importances))[::-1]\n",
    "\n",
    "plt.title(\"Feature importances\")\n",
    "\n",
    "ax.bar(range(n_features), ridge_importances[indices],\n",
    "        color=\"#457b9d\", yerr=None, align=\"center\")\n",
    "\n",
    "plt.xticks(range(n_features), X.columns,rotation='vertical')\n",
    "\n",
    "ax.get_xticklabels()[1].set_fontweight(\"bold\")\n",
    "ax.get_xticklabels()[4].set_fontweight(\"bold\")\n",
    "ax.get_xticklabels()[16].set_fontweight(\"bold\")\n",
    "\n",
    "plt.xlim([-1, ab_n_features])#X.shape[1]])\n",
    "plt.show()\n",
    "plt.tight_layout()\n",
    "#plt.savefig('./Plots/Ridge_Feature_importances__.png',dpi=200)"
   ]
  },
  {
   "cell_type": "markdown",
   "metadata": {},
   "source": [
    "# Comparing models"
   ]
  },
  {
   "cell_type": "code",
   "execution_count": null,
   "metadata": {},
   "outputs": [],
   "source": [
    "target_variable = 'grading'\n",
    "input_variables = selected_features\n",
    "\n",
    "X = df[input_variables]\n",
    "y = df[target_variable]"
   ]
  },
  {
   "cell_type": "code",
   "execution_count": null,
   "metadata": {},
   "outputs": [],
   "source": [
    "np.random.seed(1234)\n",
    "\n",
    "X_train, X_test, y_train, y_test = \\\n",
    "    train_test_split(X, y, train_size= 0.9, random_state=1234, shuffle=True)\n",
    "\n",
    "crossvalidation = StratifiedKFold(n_splits=10, shuffle=True, random_state=1234)"
   ]
  },
  {
   "cell_type": "code",
   "execution_count": null,
   "metadata": {},
   "outputs": [],
   "source": [
    "#n_estimators = 100\n",
    "#max_depth = 5\n",
    "\n",
    "n_estimators = 100\n",
    "max_depth = 5\n",
    "\n",
    "methods = {\n",
    "\n",
    "    'Ridge':ridge_gs.best_estimator_,\n",
    "    'Decision Tree':DecisionTreeClassifier(max_depth=10,class_weight='balanced'),\n",
    "    'Bagging(Tree)':bagging_gs.best_estimator_,\n",
    "    'Random Forest':rf_gs.best_estimator_,\n",
    "    'Extremely Randomized Trees':ExtraTreesClassifier(n_estimators=n_estimators,max_depth=None, class_weight='balanced',random_state=1234),\n",
    "    'Ada Boost':AdaBoostClassifier(DecisionTreeClassifier(max_depth=1,class_weight='balanced',random_state=1234),n_estimators=250,random_state=1234)\n",
    "    #'Ada Boost':AdaBoostClassifier(LogisticRegression(penalty='none',random_state=1234, max_iter=300, solver=\"newton-cg\",class_weight='balanced'),n_estimators=n_estimators,random_state=1234)\n",
    "\n",
    "}"
   ]
  },
  {
   "cell_type": "code",
   "execution_count": null,
   "metadata": {},
   "outputs": [],
   "source": [
    "xval_results = {}\n",
    "roc_results = {}\n",
    "feature_importance_model = {}\n",
    "\n",
    "method = []\n",
    "accuracy_mean = []\n",
    "accuracy_std = []\n",
    "precision = []\n",
    "recall = []\n",
    "f1 = []\n",
    "auc_scores =[]\n",
    "\n",
    "for method_name in methods:\n",
    "    \n",
    "    \n",
    "    clf = methods[method_name];\n",
    "    \n",
    "    # evaluate the model using crossvalidation\n",
    "    xval_score = cross_val_score(clf,X,y,cv=crossvalidation)\n",
    "    \n",
    "    # store the raw results of crossvalidation that we might want to use for t-test/mann-whitney comparison\n",
    "    xval_results[method_name] = xval_score\n",
    "    \n",
    "    # compute the basic statistics\n",
    "    accuracy_mean.append(np.average(xval_score))\n",
    "    accuracy_std.append(np.std(xval_score))\n",
    "    \n",
    "    prec = np.average(cross_val_score(clf,X,y,cv=crossvalidation, scoring='precision'))\n",
    "    precision.append(prec)\n",
    "    \n",
    "    rec = np.average(cross_val_score(clf,X,y,cv=crossvalidation, scoring='recall'))\n",
    "    recall.append(rec)\n",
    "    \n",
    "    f1_metric = np.average(cross_val_score(clf,X,y,cv=crossvalidation, scoring='f1'))\n",
    "    f1.append(f1_metric)\n",
    "    \n",
    "    auc_metric = np.average(cross_val_score(clf,X,y,cv=crossvalidation, scoring='roc_auc'))\n",
    "    auc_scores.append(auc_metric)\n",
    "    \n",
    "    # if the mode can return an evaluation of feature importance we store it to analyze it later\n",
    "    if hasattr(clf, 'feature_importances_'):\n",
    "            feature_importance_model[method_name] = (clf,clf.feature_importances_)\n",
    "    \n",
    "    print(\"%40s\"%method_name)\n",
    "    print(\"========================================\")\n",
    "    print(\"\\t  Accuracy (CV) %.3f %.3f\"%(np.average(xval_score),np.std(xval_score)))\n",
    "    print(\"\\t      Precision %.3f\"%prec)\n",
    "    print(\"\\t      Recall    %.3f\"%rec)\n",
    "    print(\"\\t      F1        %.3f\"%f1_metric)\n",
    "    print(\"\\t      AUC        %.3f\"%auc_metric)\n",
    "    print(\"\\n\")\n",
    "\n",
    "    method.append(method_name)"
   ]
  },
  {
   "cell_type": "markdown",
   "metadata": {},
   "source": [
    "### Accuracy comparison"
   ]
  },
  {
   "cell_type": "code",
   "execution_count": null,
   "metadata": {},
   "outputs": [],
   "source": [
    "method_names = np.array(list(methods.keys()))\n",
    "acc_indices = np.array(accuracy_mean).argsort()\n",
    "\n",
    "sorted_accuracy = np.take_along_axis(np.array(accuracy_mean), acc_indices, axis=0)\n",
    "sorted_names = method_names[acc_indices]"
   ]
  },
  {
   "cell_type": "code",
   "execution_count": null,
   "metadata": {},
   "outputs": [],
   "source": [
    "plt.figure(figsize=(11,5))\n",
    "plt.barh(y=sorted_names,width=sorted_accuracy)\n",
    "\n",
    "plt.title('Average accuracy on crossvalidation')\n",
    "\n",
    "locs, labels=plt.yticks()\n",
    "\n",
    "for i in range(len(sorted_accuracy)):\n",
    "    plt.annotate('{:1.2f}'.format(sorted_accuracy[i]), xy=(sorted_accuracy[i]/2,locs[i]), ha='center', va='center', color='white')\n",
    "    \n",
    "#plt.savefig('./Plots/Accuracy_Comparison.png',dpi=200)"
   ]
  },
  {
   "cell_type": "markdown",
   "metadata": {},
   "source": [
    "# ROC Curve Comparison"
   ]
  },
  {
   "cell_type": "code",
   "execution_count": null,
   "metadata": {
    "scrolled": false
   },
   "outputs": [],
   "source": [
    "mean_fpr = np.linspace(0, 1, 100)\n",
    "roc_results = {}\n",
    "\n",
    "for method_name in methods:\n",
    "\n",
    "    tprs = []\n",
    "    aucs = []\n",
    "\n",
    "    fig, ax = plt.subplots()\n",
    "    \n",
    "    for i, (train, test) in enumerate(crossvalidation.split(X, y)):\n",
    "        methods[method_name].fit(X.iloc[train], y.iloc[train])\n",
    "        viz = plot_roc_curve(methods[method_name], X.iloc[test], y.iloc[test],\n",
    "                             name='ROC fold {}'.format(i),\n",
    "                             alpha=0.3, lw=1, ax=ax)\n",
    "        interp_tpr = np.interp(mean_fpr, viz.fpr, viz.tpr)\n",
    "        interp_tpr[0] = 0.0\n",
    "        tprs.append(interp_tpr)\n",
    "        aucs.append(viz.roc_auc)\n",
    "\n",
    "    ax.plot([0, 1], [0, 1], linestyle='--', lw=2, color='r',\n",
    "        label='Chance', alpha=.8)\n",
    "\n",
    "    mean_tpr = np.mean(tprs, axis=0)\n",
    "    mean_tpr[-1] = 1.0\n",
    "    mean_auc = auc(mean_fpr, mean_tpr)\n",
    "    std_auc = np.std(aucs)\n",
    "    ax.plot(mean_fpr, mean_tpr, color='b',\n",
    "        label=r'Mean ROC (AUC = %0.2f $\\pm$ %0.2f)' % (mean_auc, std_auc),\n",
    "        lw=2, alpha=.8)\n",
    "    \n",
    "    std_tpr = np.std(tprs, axis=0)\n",
    "    tprs_upper = np.minimum(mean_tpr + std_tpr, 1)\n",
    "    tprs_lower = np.maximum(mean_tpr - std_tpr, 0)\n",
    "    ax.fill_between(mean_fpr, tprs_lower, tprs_upper, color='grey', alpha=.2,\n",
    "                label=r'$\\pm$ 1 std. dev.')\n",
    "\n",
    "    ax.set(xlim=[-0.05, 1.05], ylim=[-0.05, 1.05],\n",
    "       title=method_name)\n",
    "    ax.legend(bbox_to_anchor=(1.25, 1.0))\n",
    "    \n",
    "    roc_results[method_name] = (mean_fpr, mean_tpr, mean_auc)"
   ]
  },
  {
   "cell_type": "code",
   "execution_count": null,
   "metadata": {},
   "outputs": [],
   "source": [
    "# we sort the AUC values so to have a better legend\n",
    "sorted_roc_results = sorted(roc_results.items(), key=lambda x: x[1][2], reverse=True)\n",
    "\n",
    "plt.figure(1, figsize=(8, 8));\n",
    "#font = {'family':'sans', 'size':24};\n",
    "#plt.rc('font', **font);\n",
    "plt.xlabel('FPR');\n",
    "plt.ylabel('TPR');\n",
    "for result in sorted_roc_results:\n",
    "    #print(result[1][0])\n",
    "    #print(result[1][1])\n",
    "    #print(result[0])\n",
    "    #print(result[1][2])\n",
    "    plt.plot(result[1][0], result[1][1],label=result[0]+' %.2f'%result[1][2])\n",
    "\n",
    "\n",
    "# plt.plot(fpr,thresholds,label='Thresholds')\n",
    "plt.plot([0.0,1.0],[0.0,1.0],label='Baseline')\n",
    "plt.yticks(np.arange(0.0,1.01,.2))\n",
    "plt.title('ROC Curves with Crossvalidation')\n",
    "plt.ylim([0.0,1.0])\n",
    "plt.xlim([0.0,1.0])\n",
    "plt.legend(bbox_to_anchor=(1.25, 1.0))\n",
    "\n",
    "plt.show();"
   ]
  },
  {
   "cell_type": "markdown",
   "metadata": {},
   "source": [
    "# Final Model Test Set Performance"
   ]
  },
  {
   "cell_type": "code",
   "execution_count": null,
   "metadata": {},
   "outputs": [],
   "source": [
    "methods['Ridge'].fit(X,y)\n",
    "yp = methods['Ridge'].predict(X_test)\n",
    "print(\"Accuracy (Test) %.3f\"%accuracy_score(y_test, yp))\n",
    "print(\"Precision (Test) %.3f\"%precision_score(y_test, yp))\n",
    "print(\"Recall (Test) %.3f\"%recall_score(y_test, yp))\n",
    "print(\"F1 (Test) %.3f\"%f1_score(y_test, yp))\n",
    "print(\"AUC (Test) %.3f\"%roc_auc_score(y_test, yp))"
   ]
  },
  {
   "cell_type": "code",
   "execution_count": null,
   "metadata": {},
   "outputs": [],
   "source": [
    "df['LRP8']"
   ]
  },
  {
   "cell_type": "code",
   "execution_count": null,
   "metadata": {},
   "outputs": [],
   "source": [
    "# Pazienti con ipertensione ed età inferiore ai 40 anni \n",
    "\n",
    "len(pheno[(pheno['hypertension']>0) & (pheno['age']<5)])"
   ]
  },
  {
   "cell_type": "code",
   "execution_count": null,
   "metadata": {},
   "outputs": [],
   "source": [
    "df['age'].unique()"
   ]
  },
  {
   "cell_type": "code",
   "execution_count": null,
   "metadata": {},
   "outputs": [],
   "source": [
    "sns.catplot(x=\"hypertension\", y=\"age\", data=df, kind='violin')"
   ]
  },
  {
   "cell_type": "code",
   "execution_count": null,
   "metadata": {},
   "outputs": [],
   "source": []
  }
 ],
 "metadata": {
  "kernelspec": {
   "display_name": "Python 3",
   "language": "python",
   "name": "python3"
  },
  "language_info": {
   "codemirror_mode": {
    "name": "ipython",
    "version": 3
   },
   "file_extension": ".py",
   "mimetype": "text/x-python",
   "name": "python",
   "nbconvert_exporter": "python",
   "pygments_lexer": "ipython3",
   "version": "3.7.9"
  }
 },
 "nbformat": 4,
 "nbformat_minor": 4
}
