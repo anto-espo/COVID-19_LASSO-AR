{
 "cells": [
  {
   "cell_type": "code",
   "execution_count": 123,
   "metadata": {
    "scrolled": true
   },
   "outputs": [],
   "source": [
    "library(arules)\n",
    "library(arulesViz)\n",
    "library(tidyverse)\n",
    "library(gridExtra)\n",
    "library(grid)\n",
    "library(ggplotify)\n",
    "library(arulesCBA)\n",
    "library(caret)"
   ]
  },
  {
   "cell_type": "code",
   "execution_count": 124,
   "metadata": {},
   "outputs": [],
   "source": [
    "tdata <- read.csv('./Data/AssociationRules/Rare_MF_bool.csv',sep=\",\")\n",
    "\n",
    "#convert everything to categorical factors\n",
    "col_names <- names(tdata)\n",
    "tdata[,col_names] <- lapply(tdata[,col_names] , factor)"
   ]
  },
  {
   "cell_type": "code",
   "execution_count": 125,
   "metadata": {},
   "outputs": [
    {
     "data": {
      "text/html": [
       "703"
      ],
      "text/latex": [
       "703"
      ],
      "text/markdown": [
       "703"
      ],
      "text/plain": [
       "[1] 703"
      ]
     },
     "metadata": {},
     "output_type": "display_data"
    },
    {
     "data": {
      "text/html": [
       "79"
      ],
      "text/latex": [
       "79"
      ],
      "text/markdown": [
       "79"
      ],
      "text/plain": [
       "[1] 79"
      ]
     },
     "metadata": {},
     "output_type": "display_data"
    }
   ],
   "source": [
    "set.seed(1234)\n",
    "\n",
    "train_indexes <- sample(1:nrow(tdata),floor(nrow(tdata)*0.9), replace=FALSE)\n",
    "\n",
    "train <- tdata[train_indexes,]\n",
    "test <- tdata[-train_indexes,]\n",
    "\n",
    "nrow(train)\n",
    "nrow(test)\n",
    "\n",
    "trans <- as(tdata, 'transactions')\n",
    "test_trans <- as(test, \"transactions\")\n",
    "train_trans <- as(train, 'transactions')\n",
    "\n",
    "items <- grep(\"(*=1)\", itemLabels(trans), value = TRUE)\n",
    "items <- grep(\"[^grading=1]\",items,value=TRUE)\n",
    "items <- grep(\"[^grading=0]\",items,value=TRUE)\n",
    "items <- grep(\"[^gender=1]\",items,value=TRUE)\n",
    "items <- grep(\"[^gender=0]\",items,value=TRUE)"
   ]
  },
  {
   "cell_type": "code",
   "execution_count": 126,
   "metadata": {},
   "outputs": [
    {
     "data": {
      "text/html": [
       "<style>\n",
       ".list-inline {list-style: none; margin:0; padding: 0}\n",
       ".list-inline>li {display: inline-block}\n",
       ".list-inline>li:not(:last-child)::after {content: \"\\00b7\"; padding: 0 .5ex}\n",
       "</style>\n",
       "<ol class=list-inline><li>'SNRK_rare_AD=1'</li><li>'TLR7_rare_AD=1'</li><li>'POF1B_rare_AD=1'</li><li>'MORC4_rare_AD=1'</li><li>'GDPD2_rare_AD=1'</li><li>'TNFRSF9_rare_AD=1'</li><li>'GLRA4_rare_AD=1'</li><li>'ZCCHC12_rare_AD=1'</li><li>'HMGN5_rare_AD=1'</li><li>'MAGEA10_rare_AD=1'</li><li>'LYAR_rare_AD=1'</li><li>'DUSP26_rare_AD=1'</li><li>'MAGEE1_rare_AD=1'</li><li>'ZBTB33_rare_AD=1'</li><li>'CCDC22_rare_AD=1'</li><li>'EDAR_rare_AD=1'</li><li>'TEX13B_rare_AD=1'</li><li>'MEGF8_rare_AD=1'</li><li>'ZIC3_rare_AD=1'</li><li>'NTSR2_rare_AD=1'</li><li>'GLUD2_rare_AD=1'</li><li>'DGKK_rare_AD=1'</li><li>'ALG13_rare_AD=1'</li><li>'AWAT2_rare_AD=1'</li><li>'NEXMIF_rare_AD=1'</li><li>'DEF8_rare_AD=1'</li><li>'GATA1_rare_AD=1'</li><li>'IGSF9_rare_AD=1'</li><li>'STK26_rare_AD=1'</li><li>'TAF8_rare_AD=1'</li><li>'POLA1_rare_AD=1'</li><li>'KIF4A_rare_AD=1'</li><li>'RASGRP2_rare_AD=1'</li><li>'AMOT_rare_AD=1'</li><li>'SLAMF8_rare_AD=1'</li><li>'MAGEA11_rare_AD=1'</li><li>'PRAF2_rare_AD=1'</li><li>'TNFSF9_rare_AD=1'</li><li>'VEGFD_rare_AD=1'</li><li>'TBC1D8B_rare_AD=1'</li><li>'TSPEAR_rare_AD=1'</li><li>'ZNF185_rare_AD=1'</li><li>'NHSL2_rare_AD=1'</li><li>'COL4A5_rare_AD=1'</li><li>'PLS3_rare_AD=1'</li><li>'RRS1_rare_AD=1'</li><li>'ITIH6_rare_AD=1'</li><li>'ARMCX4_rare_AD=1'</li><li>'PHF8_rare_AD=1'</li><li>'MEGF9_rare_AD=1'</li><li>'MAGED2_rare_AD=1'</li><li>'NAP1L2_rare_AD=1'</li><li>'PNLIPRP2_rare_AD=1'</li><li>'ANKAR_rare_AD=1'</li><li>'PXK_rare_AD=1'</li><li>'MAGEB6_rare_AD=1'</li><li>'EOGT_rare_AD=1'</li><li>'NRK_rare_AD=1'</li><li>'SYTL4_rare_AD=1'</li><li>'KIAA1210_rare_AD=1'</li><li>'SRSF8_rare_AD=1'</li><li>'SHROOM2_rare_AD=1'</li><li>'IL1RAPL1_rare_AD=1'</li><li>'PUDP_rare_AD=1'</li><li>'ZNF81_rare_AD=1'</li><li>'NOD2_rare_AD=1'</li><li>'MICAL1_rare_AD=1'</li><li>'PLEKHA4_rare_AD=1'</li><li>'FOXD1_rare_AD=1'</li><li>'LRRC14B_rare_AD=1'</li><li>'DMRTA2_rare_AR=1'</li><li>'DPP6_rare_AR=1'</li><li>'NEB_rare_AR=1'</li><li>'PCDH15_rare_AR=1'</li><li>'TGM4_rare_AR=1'</li><li>'OVCH2_rare_AR=1'</li><li>'PREX2_rare_AR=1'</li><li>'B4GALNT3_rare_AR=1'</li><li>'ARID1B_rare_AR=1'</li><li>'DST_rare_AR=1'</li><li>'IRS2_rare_AR=1'</li><li>'ANTXRL_rare_AR=1'</li><li>'SCRT1_rare_AR=1'</li><li>'TMEM232_rare_AR=1'</li><li>'ZNF469_rare_AR=1'</li><li>'FLG2_rare_AR=1'</li><li>'MYORG_rare_AR=1'</li><li>'FAT1_rare_AR=1'</li><li>'NBPF11_rare_AR=1'</li><li>'PCLO_rare_AR=1'</li><li>'POU3F3_rare_AR=1'</li><li>'TMEM82_rare_AR=1'</li><li>'FAM186A_rare_AR=1'</li><li>'NPIPB5_rare_AR=1'</li><li>'TIAM2_rare_AR=1'</li><li>'RBM12B_rare_AR=1'</li><li>'DNAH17_rare_AR=1'</li><li>'SETX_rare_AR=1'</li><li>'ITIH5_rare_AR=1'</li><li>'SHISAL1_rare_AR=1'</li><li>'PLEKHA4_rare_AR=1'</li><li>'MPDZ_rare_AR=1'</li><li>'RPUSD3_rare_AR=1'</li><li>'CELSR1_rare_AR=1'</li><li>'ANKRD11_rare_AR=1'</li><li>'NKX2.3_rare_AR=1'</li><li>'REXO1_rare_AR=1'</li><li>'SALL1_rare_AR=1'</li><li>'DNAH5_rare_AR=1'</li><li>'C1orf127_rare_AR=1'</li><li>'DNAH14_rare_AR=1'</li><li>'MUC5B_rare_AR=1'</li><li>'DEAF1_rare_AR=1'</li><li>'APOB_rare_AR=1'</li><li>'GOLGA6L10_rare_AR=1'</li><li>'INF2_rare_AR=1'</li><li>'BTNL8_rare_AR=1'</li><li>'GOLGA6L4_rare_AR=1'</li><li>'SRMS_rare_AR=1'</li><li>'FSIP2_rare_AR=1'</li><li>'CDAN1_rare_AR=1'</li><li>'NFAT5_rare_AR=1'</li><li>'ITGA10_rare_AR=1'</li><li>'LY75.LY75.CD302_rare_AR=1'</li><li>'CASKIN1_rare_AD=1'</li><li>'CAPN15_rare_AD=1'</li><li>'FARP2_rare_AD=1'</li><li>'AKAP17A_rare_AD=1'</li><li>'SPINT1_rare_AD=1'</li><li>'PCDHGB6_rare_AD=1'</li><li>'ZC3H3_rare_AD=1'</li><li>'APOL3_rare_AD=1'</li><li>'GRM6_rare_AD=1'</li><li>'SHROOM2_rare_AD.1=1'</li><li>'MLPH_rare_AD=1'</li><li>'IQCA1_rare_AD=1'</li><li>'DLEC1_rare_AD=1'</li><li>'INTS1_rare_AD=1'</li><li>'BLK_rare_AD=1'</li><li>'PLEKHG4_rare_AD=1'</li><li>'TNK2_rare_AD=1'</li><li>'KCNT1_rare_AD=1'</li><li>'EXPH5_rare_AD=1'</li><li>'APBA3_rare_AD=1'</li><li>'ZNF729_rare_AD=1'</li><li>'TICRR_rare_AD=1'</li><li>'ZNF804B_rare_AD=1'</li><li>'ITGA7_rare_AD=1'</li><li>'HPS5_rare_AD=1'</li><li>'EGFLAM_rare_AD=1'</li><li>'PRSS41_rare_AD=1'</li><li>'FIP1L1_rare_AD=1'</li><li>'FSCN2_rare_AD=1'</li><li>'PCDHGB5_rare_AD=1'</li><li>'TSC22D1_rare_AD=1'</li><li>'MASP1_rare_AD=1'</li><li>'TENM1_rare_AD=1'</li><li>'SMO_rare_AD=1'</li><li>'TMEM8A_rare_AD=1'</li><li>'PXDN_rare_AD=1'</li><li>'DUSP27_rare_AD=1'</li><li>'GSN_rare_AD=1'</li><li>'C7orf33_rare_AD=1'</li><li>'ZNF808_rare_AD=1'</li><li>'LRP8_rare_AD=1'</li><li>'SARDH_rare_AD=1'</li><li>'TNFAIP2_rare_AD=1'</li><li>'LY75.LY75.CD302_rare_AD=1'</li><li>'GRK7_rare_AD=1'</li><li>'C3orf52_rare_AD=1'</li><li>'A2ML1_rare_AD=1'</li><li>'UNKL_rare_AD=1'</li><li>'CBARP_rare_AD=1'</li><li>'MEGF6_rare_AD=1'</li><li>'CAMKK2_rare_AR=1'</li><li>'PKHD1L1_rare_AR=1'</li><li>'TNFAIP2_rare_AR=1'</li><li>'WDR27_rare_AR=1'</li><li>'DLX6_rare_AR=1'</li></ol>\n"
      ],
      "text/latex": [
       "\\begin{enumerate*}\n",
       "\\item 'SNRK\\_rare\\_AD=1'\n",
       "\\item 'TLR7\\_rare\\_AD=1'\n",
       "\\item 'POF1B\\_rare\\_AD=1'\n",
       "\\item 'MORC4\\_rare\\_AD=1'\n",
       "\\item 'GDPD2\\_rare\\_AD=1'\n",
       "\\item 'TNFRSF9\\_rare\\_AD=1'\n",
       "\\item 'GLRA4\\_rare\\_AD=1'\n",
       "\\item 'ZCCHC12\\_rare\\_AD=1'\n",
       "\\item 'HMGN5\\_rare\\_AD=1'\n",
       "\\item 'MAGEA10\\_rare\\_AD=1'\n",
       "\\item 'LYAR\\_rare\\_AD=1'\n",
       "\\item 'DUSP26\\_rare\\_AD=1'\n",
       "\\item 'MAGEE1\\_rare\\_AD=1'\n",
       "\\item 'ZBTB33\\_rare\\_AD=1'\n",
       "\\item 'CCDC22\\_rare\\_AD=1'\n",
       "\\item 'EDAR\\_rare\\_AD=1'\n",
       "\\item 'TEX13B\\_rare\\_AD=1'\n",
       "\\item 'MEGF8\\_rare\\_AD=1'\n",
       "\\item 'ZIC3\\_rare\\_AD=1'\n",
       "\\item 'NTSR2\\_rare\\_AD=1'\n",
       "\\item 'GLUD2\\_rare\\_AD=1'\n",
       "\\item 'DGKK\\_rare\\_AD=1'\n",
       "\\item 'ALG13\\_rare\\_AD=1'\n",
       "\\item 'AWAT2\\_rare\\_AD=1'\n",
       "\\item 'NEXMIF\\_rare\\_AD=1'\n",
       "\\item 'DEF8\\_rare\\_AD=1'\n",
       "\\item 'GATA1\\_rare\\_AD=1'\n",
       "\\item 'IGSF9\\_rare\\_AD=1'\n",
       "\\item 'STK26\\_rare\\_AD=1'\n",
       "\\item 'TAF8\\_rare\\_AD=1'\n",
       "\\item 'POLA1\\_rare\\_AD=1'\n",
       "\\item 'KIF4A\\_rare\\_AD=1'\n",
       "\\item 'RASGRP2\\_rare\\_AD=1'\n",
       "\\item 'AMOT\\_rare\\_AD=1'\n",
       "\\item 'SLAMF8\\_rare\\_AD=1'\n",
       "\\item 'MAGEA11\\_rare\\_AD=1'\n",
       "\\item 'PRAF2\\_rare\\_AD=1'\n",
       "\\item 'TNFSF9\\_rare\\_AD=1'\n",
       "\\item 'VEGFD\\_rare\\_AD=1'\n",
       "\\item 'TBC1D8B\\_rare\\_AD=1'\n",
       "\\item 'TSPEAR\\_rare\\_AD=1'\n",
       "\\item 'ZNF185\\_rare\\_AD=1'\n",
       "\\item 'NHSL2\\_rare\\_AD=1'\n",
       "\\item 'COL4A5\\_rare\\_AD=1'\n",
       "\\item 'PLS3\\_rare\\_AD=1'\n",
       "\\item 'RRS1\\_rare\\_AD=1'\n",
       "\\item 'ITIH6\\_rare\\_AD=1'\n",
       "\\item 'ARMCX4\\_rare\\_AD=1'\n",
       "\\item 'PHF8\\_rare\\_AD=1'\n",
       "\\item 'MEGF9\\_rare\\_AD=1'\n",
       "\\item 'MAGED2\\_rare\\_AD=1'\n",
       "\\item 'NAP1L2\\_rare\\_AD=1'\n",
       "\\item 'PNLIPRP2\\_rare\\_AD=1'\n",
       "\\item 'ANKAR\\_rare\\_AD=1'\n",
       "\\item 'PXK\\_rare\\_AD=1'\n",
       "\\item 'MAGEB6\\_rare\\_AD=1'\n",
       "\\item 'EOGT\\_rare\\_AD=1'\n",
       "\\item 'NRK\\_rare\\_AD=1'\n",
       "\\item 'SYTL4\\_rare\\_AD=1'\n",
       "\\item 'KIAA1210\\_rare\\_AD=1'\n",
       "\\item 'SRSF8\\_rare\\_AD=1'\n",
       "\\item 'SHROOM2\\_rare\\_AD=1'\n",
       "\\item 'IL1RAPL1\\_rare\\_AD=1'\n",
       "\\item 'PUDP\\_rare\\_AD=1'\n",
       "\\item 'ZNF81\\_rare\\_AD=1'\n",
       "\\item 'NOD2\\_rare\\_AD=1'\n",
       "\\item 'MICAL1\\_rare\\_AD=1'\n",
       "\\item 'PLEKHA4\\_rare\\_AD=1'\n",
       "\\item 'FOXD1\\_rare\\_AD=1'\n",
       "\\item 'LRRC14B\\_rare\\_AD=1'\n",
       "\\item 'DMRTA2\\_rare\\_AR=1'\n",
       "\\item 'DPP6\\_rare\\_AR=1'\n",
       "\\item 'NEB\\_rare\\_AR=1'\n",
       "\\item 'PCDH15\\_rare\\_AR=1'\n",
       "\\item 'TGM4\\_rare\\_AR=1'\n",
       "\\item 'OVCH2\\_rare\\_AR=1'\n",
       "\\item 'PREX2\\_rare\\_AR=1'\n",
       "\\item 'B4GALNT3\\_rare\\_AR=1'\n",
       "\\item 'ARID1B\\_rare\\_AR=1'\n",
       "\\item 'DST\\_rare\\_AR=1'\n",
       "\\item 'IRS2\\_rare\\_AR=1'\n",
       "\\item 'ANTXRL\\_rare\\_AR=1'\n",
       "\\item 'SCRT1\\_rare\\_AR=1'\n",
       "\\item 'TMEM232\\_rare\\_AR=1'\n",
       "\\item 'ZNF469\\_rare\\_AR=1'\n",
       "\\item 'FLG2\\_rare\\_AR=1'\n",
       "\\item 'MYORG\\_rare\\_AR=1'\n",
       "\\item 'FAT1\\_rare\\_AR=1'\n",
       "\\item 'NBPF11\\_rare\\_AR=1'\n",
       "\\item 'PCLO\\_rare\\_AR=1'\n",
       "\\item 'POU3F3\\_rare\\_AR=1'\n",
       "\\item 'TMEM82\\_rare\\_AR=1'\n",
       "\\item 'FAM186A\\_rare\\_AR=1'\n",
       "\\item 'NPIPB5\\_rare\\_AR=1'\n",
       "\\item 'TIAM2\\_rare\\_AR=1'\n",
       "\\item 'RBM12B\\_rare\\_AR=1'\n",
       "\\item 'DNAH17\\_rare\\_AR=1'\n",
       "\\item 'SETX\\_rare\\_AR=1'\n",
       "\\item 'ITIH5\\_rare\\_AR=1'\n",
       "\\item 'SHISAL1\\_rare\\_AR=1'\n",
       "\\item 'PLEKHA4\\_rare\\_AR=1'\n",
       "\\item 'MPDZ\\_rare\\_AR=1'\n",
       "\\item 'RPUSD3\\_rare\\_AR=1'\n",
       "\\item 'CELSR1\\_rare\\_AR=1'\n",
       "\\item 'ANKRD11\\_rare\\_AR=1'\n",
       "\\item 'NKX2.3\\_rare\\_AR=1'\n",
       "\\item 'REXO1\\_rare\\_AR=1'\n",
       "\\item 'SALL1\\_rare\\_AR=1'\n",
       "\\item 'DNAH5\\_rare\\_AR=1'\n",
       "\\item 'C1orf127\\_rare\\_AR=1'\n",
       "\\item 'DNAH14\\_rare\\_AR=1'\n",
       "\\item 'MUC5B\\_rare\\_AR=1'\n",
       "\\item 'DEAF1\\_rare\\_AR=1'\n",
       "\\item 'APOB\\_rare\\_AR=1'\n",
       "\\item 'GOLGA6L10\\_rare\\_AR=1'\n",
       "\\item 'INF2\\_rare\\_AR=1'\n",
       "\\item 'BTNL8\\_rare\\_AR=1'\n",
       "\\item 'GOLGA6L4\\_rare\\_AR=1'\n",
       "\\item 'SRMS\\_rare\\_AR=1'\n",
       "\\item 'FSIP2\\_rare\\_AR=1'\n",
       "\\item 'CDAN1\\_rare\\_AR=1'\n",
       "\\item 'NFAT5\\_rare\\_AR=1'\n",
       "\\item 'ITGA10\\_rare\\_AR=1'\n",
       "\\item 'LY75.LY75.CD302\\_rare\\_AR=1'\n",
       "\\item 'CASKIN1\\_rare\\_AD=1'\n",
       "\\item 'CAPN15\\_rare\\_AD=1'\n",
       "\\item 'FARP2\\_rare\\_AD=1'\n",
       "\\item 'AKAP17A\\_rare\\_AD=1'\n",
       "\\item 'SPINT1\\_rare\\_AD=1'\n",
       "\\item 'PCDHGB6\\_rare\\_AD=1'\n",
       "\\item 'ZC3H3\\_rare\\_AD=1'\n",
       "\\item 'APOL3\\_rare\\_AD=1'\n",
       "\\item 'GRM6\\_rare\\_AD=1'\n",
       "\\item 'SHROOM2\\_rare\\_AD.1=1'\n",
       "\\item 'MLPH\\_rare\\_AD=1'\n",
       "\\item 'IQCA1\\_rare\\_AD=1'\n",
       "\\item 'DLEC1\\_rare\\_AD=1'\n",
       "\\item 'INTS1\\_rare\\_AD=1'\n",
       "\\item 'BLK\\_rare\\_AD=1'\n",
       "\\item 'PLEKHG4\\_rare\\_AD=1'\n",
       "\\item 'TNK2\\_rare\\_AD=1'\n",
       "\\item 'KCNT1\\_rare\\_AD=1'\n",
       "\\item 'EXPH5\\_rare\\_AD=1'\n",
       "\\item 'APBA3\\_rare\\_AD=1'\n",
       "\\item 'ZNF729\\_rare\\_AD=1'\n",
       "\\item 'TICRR\\_rare\\_AD=1'\n",
       "\\item 'ZNF804B\\_rare\\_AD=1'\n",
       "\\item 'ITGA7\\_rare\\_AD=1'\n",
       "\\item 'HPS5\\_rare\\_AD=1'\n",
       "\\item 'EGFLAM\\_rare\\_AD=1'\n",
       "\\item 'PRSS41\\_rare\\_AD=1'\n",
       "\\item 'FIP1L1\\_rare\\_AD=1'\n",
       "\\item 'FSCN2\\_rare\\_AD=1'\n",
       "\\item 'PCDHGB5\\_rare\\_AD=1'\n",
       "\\item 'TSC22D1\\_rare\\_AD=1'\n",
       "\\item 'MASP1\\_rare\\_AD=1'\n",
       "\\item 'TENM1\\_rare\\_AD=1'\n",
       "\\item 'SMO\\_rare\\_AD=1'\n",
       "\\item 'TMEM8A\\_rare\\_AD=1'\n",
       "\\item 'PXDN\\_rare\\_AD=1'\n",
       "\\item 'DUSP27\\_rare\\_AD=1'\n",
       "\\item 'GSN\\_rare\\_AD=1'\n",
       "\\item 'C7orf33\\_rare\\_AD=1'\n",
       "\\item 'ZNF808\\_rare\\_AD=1'\n",
       "\\item 'LRP8\\_rare\\_AD=1'\n",
       "\\item 'SARDH\\_rare\\_AD=1'\n",
       "\\item 'TNFAIP2\\_rare\\_AD=1'\n",
       "\\item 'LY75.LY75.CD302\\_rare\\_AD=1'\n",
       "\\item 'GRK7\\_rare\\_AD=1'\n",
       "\\item 'C3orf52\\_rare\\_AD=1'\n",
       "\\item 'A2ML1\\_rare\\_AD=1'\n",
       "\\item 'UNKL\\_rare\\_AD=1'\n",
       "\\item 'CBARP\\_rare\\_AD=1'\n",
       "\\item 'MEGF6\\_rare\\_AD=1'\n",
       "\\item 'CAMKK2\\_rare\\_AR=1'\n",
       "\\item 'PKHD1L1\\_rare\\_AR=1'\n",
       "\\item 'TNFAIP2\\_rare\\_AR=1'\n",
       "\\item 'WDR27\\_rare\\_AR=1'\n",
       "\\item 'DLX6\\_rare\\_AR=1'\n",
       "\\end{enumerate*}\n"
      ],
      "text/markdown": [
       "1. 'SNRK_rare_AD=1'\n",
       "2. 'TLR7_rare_AD=1'\n",
       "3. 'POF1B_rare_AD=1'\n",
       "4. 'MORC4_rare_AD=1'\n",
       "5. 'GDPD2_rare_AD=1'\n",
       "6. 'TNFRSF9_rare_AD=1'\n",
       "7. 'GLRA4_rare_AD=1'\n",
       "8. 'ZCCHC12_rare_AD=1'\n",
       "9. 'HMGN5_rare_AD=1'\n",
       "10. 'MAGEA10_rare_AD=1'\n",
       "11. 'LYAR_rare_AD=1'\n",
       "12. 'DUSP26_rare_AD=1'\n",
       "13. 'MAGEE1_rare_AD=1'\n",
       "14. 'ZBTB33_rare_AD=1'\n",
       "15. 'CCDC22_rare_AD=1'\n",
       "16. 'EDAR_rare_AD=1'\n",
       "17. 'TEX13B_rare_AD=1'\n",
       "18. 'MEGF8_rare_AD=1'\n",
       "19. 'ZIC3_rare_AD=1'\n",
       "20. 'NTSR2_rare_AD=1'\n",
       "21. 'GLUD2_rare_AD=1'\n",
       "22. 'DGKK_rare_AD=1'\n",
       "23. 'ALG13_rare_AD=1'\n",
       "24. 'AWAT2_rare_AD=1'\n",
       "25. 'NEXMIF_rare_AD=1'\n",
       "26. 'DEF8_rare_AD=1'\n",
       "27. 'GATA1_rare_AD=1'\n",
       "28. 'IGSF9_rare_AD=1'\n",
       "29. 'STK26_rare_AD=1'\n",
       "30. 'TAF8_rare_AD=1'\n",
       "31. 'POLA1_rare_AD=1'\n",
       "32. 'KIF4A_rare_AD=1'\n",
       "33. 'RASGRP2_rare_AD=1'\n",
       "34. 'AMOT_rare_AD=1'\n",
       "35. 'SLAMF8_rare_AD=1'\n",
       "36. 'MAGEA11_rare_AD=1'\n",
       "37. 'PRAF2_rare_AD=1'\n",
       "38. 'TNFSF9_rare_AD=1'\n",
       "39. 'VEGFD_rare_AD=1'\n",
       "40. 'TBC1D8B_rare_AD=1'\n",
       "41. 'TSPEAR_rare_AD=1'\n",
       "42. 'ZNF185_rare_AD=1'\n",
       "43. 'NHSL2_rare_AD=1'\n",
       "44. 'COL4A5_rare_AD=1'\n",
       "45. 'PLS3_rare_AD=1'\n",
       "46. 'RRS1_rare_AD=1'\n",
       "47. 'ITIH6_rare_AD=1'\n",
       "48. 'ARMCX4_rare_AD=1'\n",
       "49. 'PHF8_rare_AD=1'\n",
       "50. 'MEGF9_rare_AD=1'\n",
       "51. 'MAGED2_rare_AD=1'\n",
       "52. 'NAP1L2_rare_AD=1'\n",
       "53. 'PNLIPRP2_rare_AD=1'\n",
       "54. 'ANKAR_rare_AD=1'\n",
       "55. 'PXK_rare_AD=1'\n",
       "56. 'MAGEB6_rare_AD=1'\n",
       "57. 'EOGT_rare_AD=1'\n",
       "58. 'NRK_rare_AD=1'\n",
       "59. 'SYTL4_rare_AD=1'\n",
       "60. 'KIAA1210_rare_AD=1'\n",
       "61. 'SRSF8_rare_AD=1'\n",
       "62. 'SHROOM2_rare_AD=1'\n",
       "63. 'IL1RAPL1_rare_AD=1'\n",
       "64. 'PUDP_rare_AD=1'\n",
       "65. 'ZNF81_rare_AD=1'\n",
       "66. 'NOD2_rare_AD=1'\n",
       "67. 'MICAL1_rare_AD=1'\n",
       "68. 'PLEKHA4_rare_AD=1'\n",
       "69. 'FOXD1_rare_AD=1'\n",
       "70. 'LRRC14B_rare_AD=1'\n",
       "71. 'DMRTA2_rare_AR=1'\n",
       "72. 'DPP6_rare_AR=1'\n",
       "73. 'NEB_rare_AR=1'\n",
       "74. 'PCDH15_rare_AR=1'\n",
       "75. 'TGM4_rare_AR=1'\n",
       "76. 'OVCH2_rare_AR=1'\n",
       "77. 'PREX2_rare_AR=1'\n",
       "78. 'B4GALNT3_rare_AR=1'\n",
       "79. 'ARID1B_rare_AR=1'\n",
       "80. 'DST_rare_AR=1'\n",
       "81. 'IRS2_rare_AR=1'\n",
       "82. 'ANTXRL_rare_AR=1'\n",
       "83. 'SCRT1_rare_AR=1'\n",
       "84. 'TMEM232_rare_AR=1'\n",
       "85. 'ZNF469_rare_AR=1'\n",
       "86. 'FLG2_rare_AR=1'\n",
       "87. 'MYORG_rare_AR=1'\n",
       "88. 'FAT1_rare_AR=1'\n",
       "89. 'NBPF11_rare_AR=1'\n",
       "90. 'PCLO_rare_AR=1'\n",
       "91. 'POU3F3_rare_AR=1'\n",
       "92. 'TMEM82_rare_AR=1'\n",
       "93. 'FAM186A_rare_AR=1'\n",
       "94. 'NPIPB5_rare_AR=1'\n",
       "95. 'TIAM2_rare_AR=1'\n",
       "96. 'RBM12B_rare_AR=1'\n",
       "97. 'DNAH17_rare_AR=1'\n",
       "98. 'SETX_rare_AR=1'\n",
       "99. 'ITIH5_rare_AR=1'\n",
       "100. 'SHISAL1_rare_AR=1'\n",
       "101. 'PLEKHA4_rare_AR=1'\n",
       "102. 'MPDZ_rare_AR=1'\n",
       "103. 'RPUSD3_rare_AR=1'\n",
       "104. 'CELSR1_rare_AR=1'\n",
       "105. 'ANKRD11_rare_AR=1'\n",
       "106. 'NKX2.3_rare_AR=1'\n",
       "107. 'REXO1_rare_AR=1'\n",
       "108. 'SALL1_rare_AR=1'\n",
       "109. 'DNAH5_rare_AR=1'\n",
       "110. 'C1orf127_rare_AR=1'\n",
       "111. 'DNAH14_rare_AR=1'\n",
       "112. 'MUC5B_rare_AR=1'\n",
       "113. 'DEAF1_rare_AR=1'\n",
       "114. 'APOB_rare_AR=1'\n",
       "115. 'GOLGA6L10_rare_AR=1'\n",
       "116. 'INF2_rare_AR=1'\n",
       "117. 'BTNL8_rare_AR=1'\n",
       "118. 'GOLGA6L4_rare_AR=1'\n",
       "119. 'SRMS_rare_AR=1'\n",
       "120. 'FSIP2_rare_AR=1'\n",
       "121. 'CDAN1_rare_AR=1'\n",
       "122. 'NFAT5_rare_AR=1'\n",
       "123. 'ITGA10_rare_AR=1'\n",
       "124. 'LY75.LY75.CD302_rare_AR=1'\n",
       "125. 'CASKIN1_rare_AD=1'\n",
       "126. 'CAPN15_rare_AD=1'\n",
       "127. 'FARP2_rare_AD=1'\n",
       "128. 'AKAP17A_rare_AD=1'\n",
       "129. 'SPINT1_rare_AD=1'\n",
       "130. 'PCDHGB6_rare_AD=1'\n",
       "131. 'ZC3H3_rare_AD=1'\n",
       "132. 'APOL3_rare_AD=1'\n",
       "133. 'GRM6_rare_AD=1'\n",
       "134. 'SHROOM2_rare_AD.1=1'\n",
       "135. 'MLPH_rare_AD=1'\n",
       "136. 'IQCA1_rare_AD=1'\n",
       "137. 'DLEC1_rare_AD=1'\n",
       "138. 'INTS1_rare_AD=1'\n",
       "139. 'BLK_rare_AD=1'\n",
       "140. 'PLEKHG4_rare_AD=1'\n",
       "141. 'TNK2_rare_AD=1'\n",
       "142. 'KCNT1_rare_AD=1'\n",
       "143. 'EXPH5_rare_AD=1'\n",
       "144. 'APBA3_rare_AD=1'\n",
       "145. 'ZNF729_rare_AD=1'\n",
       "146. 'TICRR_rare_AD=1'\n",
       "147. 'ZNF804B_rare_AD=1'\n",
       "148. 'ITGA7_rare_AD=1'\n",
       "149. 'HPS5_rare_AD=1'\n",
       "150. 'EGFLAM_rare_AD=1'\n",
       "151. 'PRSS41_rare_AD=1'\n",
       "152. 'FIP1L1_rare_AD=1'\n",
       "153. 'FSCN2_rare_AD=1'\n",
       "154. 'PCDHGB5_rare_AD=1'\n",
       "155. 'TSC22D1_rare_AD=1'\n",
       "156. 'MASP1_rare_AD=1'\n",
       "157. 'TENM1_rare_AD=1'\n",
       "158. 'SMO_rare_AD=1'\n",
       "159. 'TMEM8A_rare_AD=1'\n",
       "160. 'PXDN_rare_AD=1'\n",
       "161. 'DUSP27_rare_AD=1'\n",
       "162. 'GSN_rare_AD=1'\n",
       "163. 'C7orf33_rare_AD=1'\n",
       "164. 'ZNF808_rare_AD=1'\n",
       "165. 'LRP8_rare_AD=1'\n",
       "166. 'SARDH_rare_AD=1'\n",
       "167. 'TNFAIP2_rare_AD=1'\n",
       "168. 'LY75.LY75.CD302_rare_AD=1'\n",
       "169. 'GRK7_rare_AD=1'\n",
       "170. 'C3orf52_rare_AD=1'\n",
       "171. 'A2ML1_rare_AD=1'\n",
       "172. 'UNKL_rare_AD=1'\n",
       "173. 'CBARP_rare_AD=1'\n",
       "174. 'MEGF6_rare_AD=1'\n",
       "175. 'CAMKK2_rare_AR=1'\n",
       "176. 'PKHD1L1_rare_AR=1'\n",
       "177. 'TNFAIP2_rare_AR=1'\n",
       "178. 'WDR27_rare_AR=1'\n",
       "179. 'DLX6_rare_AR=1'\n",
       "\n",
       "\n"
      ],
      "text/plain": [
       "  [1] \"SNRK_rare_AD=1\"            \"TLR7_rare_AD=1\"           \n",
       "  [3] \"POF1B_rare_AD=1\"           \"MORC4_rare_AD=1\"          \n",
       "  [5] \"GDPD2_rare_AD=1\"           \"TNFRSF9_rare_AD=1\"        \n",
       "  [7] \"GLRA4_rare_AD=1\"           \"ZCCHC12_rare_AD=1\"        \n",
       "  [9] \"HMGN5_rare_AD=1\"           \"MAGEA10_rare_AD=1\"        \n",
       " [11] \"LYAR_rare_AD=1\"            \"DUSP26_rare_AD=1\"         \n",
       " [13] \"MAGEE1_rare_AD=1\"          \"ZBTB33_rare_AD=1\"         \n",
       " [15] \"CCDC22_rare_AD=1\"          \"EDAR_rare_AD=1\"           \n",
       " [17] \"TEX13B_rare_AD=1\"          \"MEGF8_rare_AD=1\"          \n",
       " [19] \"ZIC3_rare_AD=1\"            \"NTSR2_rare_AD=1\"          \n",
       " [21] \"GLUD2_rare_AD=1\"           \"DGKK_rare_AD=1\"           \n",
       " [23] \"ALG13_rare_AD=1\"           \"AWAT2_rare_AD=1\"          \n",
       " [25] \"NEXMIF_rare_AD=1\"          \"DEF8_rare_AD=1\"           \n",
       " [27] \"GATA1_rare_AD=1\"           \"IGSF9_rare_AD=1\"          \n",
       " [29] \"STK26_rare_AD=1\"           \"TAF8_rare_AD=1\"           \n",
       " [31] \"POLA1_rare_AD=1\"           \"KIF4A_rare_AD=1\"          \n",
       " [33] \"RASGRP2_rare_AD=1\"         \"AMOT_rare_AD=1\"           \n",
       " [35] \"SLAMF8_rare_AD=1\"          \"MAGEA11_rare_AD=1\"        \n",
       " [37] \"PRAF2_rare_AD=1\"           \"TNFSF9_rare_AD=1\"         \n",
       " [39] \"VEGFD_rare_AD=1\"           \"TBC1D8B_rare_AD=1\"        \n",
       " [41] \"TSPEAR_rare_AD=1\"          \"ZNF185_rare_AD=1\"         \n",
       " [43] \"NHSL2_rare_AD=1\"           \"COL4A5_rare_AD=1\"         \n",
       " [45] \"PLS3_rare_AD=1\"            \"RRS1_rare_AD=1\"           \n",
       " [47] \"ITIH6_rare_AD=1\"           \"ARMCX4_rare_AD=1\"         \n",
       " [49] \"PHF8_rare_AD=1\"            \"MEGF9_rare_AD=1\"          \n",
       " [51] \"MAGED2_rare_AD=1\"          \"NAP1L2_rare_AD=1\"         \n",
       " [53] \"PNLIPRP2_rare_AD=1\"        \"ANKAR_rare_AD=1\"          \n",
       " [55] \"PXK_rare_AD=1\"             \"MAGEB6_rare_AD=1\"         \n",
       " [57] \"EOGT_rare_AD=1\"            \"NRK_rare_AD=1\"            \n",
       " [59] \"SYTL4_rare_AD=1\"           \"KIAA1210_rare_AD=1\"       \n",
       " [61] \"SRSF8_rare_AD=1\"           \"SHROOM2_rare_AD=1\"        \n",
       " [63] \"IL1RAPL1_rare_AD=1\"        \"PUDP_rare_AD=1\"           \n",
       " [65] \"ZNF81_rare_AD=1\"           \"NOD2_rare_AD=1\"           \n",
       " [67] \"MICAL1_rare_AD=1\"          \"PLEKHA4_rare_AD=1\"        \n",
       " [69] \"FOXD1_rare_AD=1\"           \"LRRC14B_rare_AD=1\"        \n",
       " [71] \"DMRTA2_rare_AR=1\"          \"DPP6_rare_AR=1\"           \n",
       " [73] \"NEB_rare_AR=1\"             \"PCDH15_rare_AR=1\"         \n",
       " [75] \"TGM4_rare_AR=1\"            \"OVCH2_rare_AR=1\"          \n",
       " [77] \"PREX2_rare_AR=1\"           \"B4GALNT3_rare_AR=1\"       \n",
       " [79] \"ARID1B_rare_AR=1\"          \"DST_rare_AR=1\"            \n",
       " [81] \"IRS2_rare_AR=1\"            \"ANTXRL_rare_AR=1\"         \n",
       " [83] \"SCRT1_rare_AR=1\"           \"TMEM232_rare_AR=1\"        \n",
       " [85] \"ZNF469_rare_AR=1\"          \"FLG2_rare_AR=1\"           \n",
       " [87] \"MYORG_rare_AR=1\"           \"FAT1_rare_AR=1\"           \n",
       " [89] \"NBPF11_rare_AR=1\"          \"PCLO_rare_AR=1\"           \n",
       " [91] \"POU3F3_rare_AR=1\"          \"TMEM82_rare_AR=1\"         \n",
       " [93] \"FAM186A_rare_AR=1\"         \"NPIPB5_rare_AR=1\"         \n",
       " [95] \"TIAM2_rare_AR=1\"           \"RBM12B_rare_AR=1\"         \n",
       " [97] \"DNAH17_rare_AR=1\"          \"SETX_rare_AR=1\"           \n",
       " [99] \"ITIH5_rare_AR=1\"           \"SHISAL1_rare_AR=1\"        \n",
       "[101] \"PLEKHA4_rare_AR=1\"         \"MPDZ_rare_AR=1\"           \n",
       "[103] \"RPUSD3_rare_AR=1\"          \"CELSR1_rare_AR=1\"         \n",
       "[105] \"ANKRD11_rare_AR=1\"         \"NKX2.3_rare_AR=1\"         \n",
       "[107] \"REXO1_rare_AR=1\"           \"SALL1_rare_AR=1\"          \n",
       "[109] \"DNAH5_rare_AR=1\"           \"C1orf127_rare_AR=1\"       \n",
       "[111] \"DNAH14_rare_AR=1\"          \"MUC5B_rare_AR=1\"          \n",
       "[113] \"DEAF1_rare_AR=1\"           \"APOB_rare_AR=1\"           \n",
       "[115] \"GOLGA6L10_rare_AR=1\"       \"INF2_rare_AR=1\"           \n",
       "[117] \"BTNL8_rare_AR=1\"           \"GOLGA6L4_rare_AR=1\"       \n",
       "[119] \"SRMS_rare_AR=1\"            \"FSIP2_rare_AR=1\"          \n",
       "[121] \"CDAN1_rare_AR=1\"           \"NFAT5_rare_AR=1\"          \n",
       "[123] \"ITGA10_rare_AR=1\"          \"LY75.LY75.CD302_rare_AR=1\"\n",
       "[125] \"CASKIN1_rare_AD=1\"         \"CAPN15_rare_AD=1\"         \n",
       "[127] \"FARP2_rare_AD=1\"           \"AKAP17A_rare_AD=1\"        \n",
       "[129] \"SPINT1_rare_AD=1\"          \"PCDHGB6_rare_AD=1\"        \n",
       "[131] \"ZC3H3_rare_AD=1\"           \"APOL3_rare_AD=1\"          \n",
       "[133] \"GRM6_rare_AD=1\"            \"SHROOM2_rare_AD.1=1\"      \n",
       "[135] \"MLPH_rare_AD=1\"            \"IQCA1_rare_AD=1\"          \n",
       "[137] \"DLEC1_rare_AD=1\"           \"INTS1_rare_AD=1\"          \n",
       "[139] \"BLK_rare_AD=1\"             \"PLEKHG4_rare_AD=1\"        \n",
       "[141] \"TNK2_rare_AD=1\"            \"KCNT1_rare_AD=1\"          \n",
       "[143] \"EXPH5_rare_AD=1\"           \"APBA3_rare_AD=1\"          \n",
       "[145] \"ZNF729_rare_AD=1\"          \"TICRR_rare_AD=1\"          \n",
       "[147] \"ZNF804B_rare_AD=1\"         \"ITGA7_rare_AD=1\"          \n",
       "[149] \"HPS5_rare_AD=1\"            \"EGFLAM_rare_AD=1\"         \n",
       "[151] \"PRSS41_rare_AD=1\"          \"FIP1L1_rare_AD=1\"         \n",
       "[153] \"FSCN2_rare_AD=1\"           \"PCDHGB5_rare_AD=1\"        \n",
       "[155] \"TSC22D1_rare_AD=1\"         \"MASP1_rare_AD=1\"          \n",
       "[157] \"TENM1_rare_AD=1\"           \"SMO_rare_AD=1\"            \n",
       "[159] \"TMEM8A_rare_AD=1\"          \"PXDN_rare_AD=1\"           \n",
       "[161] \"DUSP27_rare_AD=1\"          \"GSN_rare_AD=1\"            \n",
       "[163] \"C7orf33_rare_AD=1\"         \"ZNF808_rare_AD=1\"         \n",
       "[165] \"LRP8_rare_AD=1\"            \"SARDH_rare_AD=1\"          \n",
       "[167] \"TNFAIP2_rare_AD=1\"         \"LY75.LY75.CD302_rare_AD=1\"\n",
       "[169] \"GRK7_rare_AD=1\"            \"C3orf52_rare_AD=1\"        \n",
       "[171] \"A2ML1_rare_AD=1\"           \"UNKL_rare_AD=1\"           \n",
       "[173] \"CBARP_rare_AD=1\"           \"MEGF6_rare_AD=1\"          \n",
       "[175] \"CAMKK2_rare_AR=1\"          \"PKHD1L1_rare_AR=1\"        \n",
       "[177] \"TNFAIP2_rare_AR=1\"         \"WDR27_rare_AR=1\"          \n",
       "[179] \"DLX6_rare_AR=1\"           "
      ]
     },
     "metadata": {},
     "output_type": "display_data"
    }
   ],
   "source": [
    "items"
   ]
  },
  {
   "cell_type": "code",
   "execution_count": 127,
   "metadata": {},
   "outputs": [
    {
     "name": "stdout",
     "output_type": "stream",
     "text": [
      "Apriori\n",
      "\n",
      "Parameter specification:\n",
      " confidence minval smax arem  aval originalSupport maxtime support minlen\n",
      "        0.5    0.1    1 none FALSE            TRUE       5   0.005      1\n",
      " maxlen target  ext\n",
      "     10  rules TRUE\n",
      "\n",
      "Algorithmic control:\n",
      " filter tree heap memopt load sort verbose\n",
      "    0.1 TRUE TRUE  FALSE TRUE    2    TRUE\n",
      "\n",
      "Absolute minimum support count: 3 \n",
      "\n",
      "set item appearances ...[181 item(s)] done [0.00s].\n",
      "set transactions ...[181 item(s), 703 transaction(s)] done [0.01s].\n",
      "sorting and recoding items ... [180 item(s)] done [0.00s].\n",
      "creating transaction tree ... done [0.00s].\n",
      "checking subsets of size 1 2 3 4 5 done [0.00s].\n",
      "writing ... [1201 rule(s)] done [0.00s].\n",
      "creating S4 object  ... done [0.00s].\n"
     ]
    },
    {
     "name": "stderr",
     "output_type": "stream",
     "text": [
      "Support: 0.005 Confidence: 0.5 Rules: 1201 p-value: 0.185146489120386 \n",
      "\n",
      "\n"
     ]
    },
    {
     "name": "stdout",
     "output_type": "stream",
     "text": [
      "Apriori\n",
      "\n",
      "Parameter specification:\n",
      " confidence minval smax arem  aval originalSupport maxtime support minlen\n",
      "        0.6    0.1    1 none FALSE            TRUE       5   0.005      1\n",
      " maxlen target  ext\n",
      "     10  rules TRUE\n",
      "\n",
      "Algorithmic control:\n",
      " filter tree heap memopt load sort verbose\n",
      "    0.1 TRUE TRUE  FALSE TRUE    2    TRUE\n",
      "\n",
      "Absolute minimum support count: 3 \n",
      "\n",
      "set item appearances ...[181 item(s)] done [0.00s].\n",
      "set transactions ...[181 item(s), 703 transaction(s)] done [0.00s].\n",
      "sorting and recoding items ... [180 item(s)] done [0.00s].\n",
      "creating transaction tree ... done [0.00s].\n",
      "checking subsets of size 1 2 3 4 5 done [0.00s].\n",
      "writing ... [966 rule(s)] done [0.00s].\n",
      "creating S4 object  ... done [0.00s].\n"
     ]
    },
    {
     "name": "stderr",
     "output_type": "stream",
     "text": [
      "Support: 0.005 Confidence: 0.6 Rules: 966 p-value: 0.178403534629044 \n",
      "\n",
      "\n"
     ]
    },
    {
     "name": "stdout",
     "output_type": "stream",
     "text": [
      "Apriori\n",
      "\n",
      "Parameter specification:\n",
      " confidence minval smax arem  aval originalSupport maxtime support minlen\n",
      "        0.7    0.1    1 none FALSE            TRUE       5   0.005      1\n",
      " maxlen target  ext\n",
      "     10  rules TRUE\n",
      "\n",
      "Algorithmic control:\n",
      " filter tree heap memopt load sort verbose\n",
      "    0.1 TRUE TRUE  FALSE TRUE    2    TRUE\n",
      "\n",
      "Absolute minimum support count: 3 \n",
      "\n",
      "set item appearances ...[181 item(s)] done [0.00s].\n",
      "set transactions ...[181 item(s), 703 transaction(s)] done [0.00s].\n",
      "sorting and recoding items ... [180 item(s)] done [0.00s].\n",
      "creating transaction tree ... done [0.00s].\n",
      "checking subsets of size 1 2 3 4 5 done [0.00s].\n",
      "writing ... [679 rule(s)] done [0.00s].\n",
      "creating S4 object  ... done [0.00s].\n"
     ]
    },
    {
     "name": "stderr",
     "output_type": "stream",
     "text": [
      "Support: 0.005 Confidence: 0.7 Rules: 679 p-value: 0.0934099220260453 \n",
      "\n",
      "\n"
     ]
    },
    {
     "name": "stdout",
     "output_type": "stream",
     "text": [
      "Apriori\n",
      "\n",
      "Parameter specification:\n",
      " confidence minval smax arem  aval originalSupport maxtime support minlen\n",
      "        0.8    0.1    1 none FALSE            TRUE       5   0.005      1\n",
      " maxlen target  ext\n",
      "     10  rules TRUE\n",
      "\n",
      "Algorithmic control:\n",
      " filter tree heap memopt load sort verbose\n",
      "    0.1 TRUE TRUE  FALSE TRUE    2    TRUE\n",
      "\n",
      "Absolute minimum support count: 3 \n",
      "\n",
      "set item appearances ...[181 item(s)] done [0.00s].\n",
      "set transactions ...[181 item(s), 703 transaction(s)] done [0.00s].\n",
      "sorting and recoding items ... [180 item(s)] done [0.00s].\n",
      "creating transaction tree ... done [0.00s].\n",
      "checking subsets of size 1 2 3 4 5 done [0.00s].\n",
      "writing ... [567 rule(s)] done [0.00s].\n",
      "creating S4 object  ... done [0.00s].\n"
     ]
    },
    {
     "name": "stderr",
     "output_type": "stream",
     "text": [
      "Support: 0.005 Confidence: 0.8 Rules: 567 p-value: 0.0644822954005326 \n",
      "\n",
      "\n"
     ]
    },
    {
     "name": "stdout",
     "output_type": "stream",
     "text": [
      "Apriori\n",
      "\n",
      "Parameter specification:\n",
      " confidence minval smax arem  aval originalSupport maxtime support minlen\n",
      "        0.9    0.1    1 none FALSE            TRUE       5   0.005      1\n",
      " maxlen target  ext\n",
      "     10  rules TRUE\n",
      "\n",
      "Algorithmic control:\n",
      " filter tree heap memopt load sort verbose\n",
      "    0.1 TRUE TRUE  FALSE TRUE    2    TRUE\n",
      "\n",
      "Absolute minimum support count: 3 \n",
      "\n",
      "set item appearances ...[181 item(s)] done [0.00s].\n",
      "set transactions ...[181 item(s), 703 transaction(s)] done [0.00s].\n",
      "sorting and recoding items ... [180 item(s)] done [0.00s].\n",
      "creating transaction tree ... done [0.00s].\n",
      "checking subsets of size 1 2 3 4 5 done [0.00s].\n",
      "writing ... [270 rule(s)] done [0.00s].\n",
      "creating S4 object  ... done [0.00s].\n"
     ]
    },
    {
     "name": "stderr",
     "output_type": "stream",
     "text": [
      "Support: 0.005 Confidence: 0.9 Rules: 270 p-value: 0.0595244535930774 \n",
      "\n",
      "\n"
     ]
    },
    {
     "name": "stdout",
     "output_type": "stream",
     "text": [
      "Apriori\n",
      "\n",
      "Parameter specification:\n",
      " confidence minval smax arem  aval originalSupport maxtime support minlen\n",
      "        0.5    0.1    1 none FALSE            TRUE       5   0.007      1\n",
      " maxlen target  ext\n",
      "     10  rules TRUE\n",
      "\n",
      "Algorithmic control:\n",
      " filter tree heap memopt load sort verbose\n",
      "    0.1 TRUE TRUE  FALSE TRUE    2    TRUE\n",
      "\n",
      "Absolute minimum support count: 4 \n",
      "\n",
      "set item appearances ...[181 item(s)] done [0.00s].\n",
      "set transactions ...[181 item(s), 703 transaction(s)] done [0.00s].\n",
      "sorting and recoding items ... [180 item(s)] done [0.00s].\n",
      "creating transaction tree ... done [0.00s].\n",
      "checking subsets of size 1 2 3 4 done [0.00s].\n",
      "writing ... [558 rule(s)] done [0.00s].\n",
      "creating S4 object  ... done [0.00s].\n"
     ]
    },
    {
     "name": "stderr",
     "output_type": "stream",
     "text": [
      "Support: 0.007 Confidence: 0.5 Rules: 558 p-value: 0.136697229420769 \n",
      "\n",
      "\n"
     ]
    },
    {
     "name": "stdout",
     "output_type": "stream",
     "text": [
      "Apriori\n",
      "\n",
      "Parameter specification:\n",
      " confidence minval smax arem  aval originalSupport maxtime support minlen\n",
      "        0.6    0.1    1 none FALSE            TRUE       5   0.007      1\n",
      " maxlen target  ext\n",
      "     10  rules TRUE\n",
      "\n",
      "Algorithmic control:\n",
      " filter tree heap memopt load sort verbose\n",
      "    0.1 TRUE TRUE  FALSE TRUE    2    TRUE\n",
      "\n",
      "Absolute minimum support count: 4 \n",
      "\n",
      "set item appearances ...[181 item(s)] done [0.00s].\n",
      "set transactions ...[181 item(s), 703 transaction(s)] done [0.00s].\n",
      "sorting and recoding items ... [180 item(s)] done [0.00s].\n",
      "creating transaction tree ... done [0.00s].\n",
      "checking subsets of size 1 2 3 4 done [0.00s].\n",
      "writing ... [454 rule(s)] done [0.00s].\n",
      "creating S4 object  ... done [0.00s].\n"
     ]
    },
    {
     "name": "stderr",
     "output_type": "stream",
     "text": [
      "Support: 0.007 Confidence: 0.6 Rules: 454 p-value: 0.103787578171588 \n",
      "\n",
      "\n"
     ]
    },
    {
     "name": "stdout",
     "output_type": "stream",
     "text": [
      "Apriori\n",
      "\n",
      "Parameter specification:\n",
      " confidence minval smax arem  aval originalSupport maxtime support minlen\n",
      "        0.7    0.1    1 none FALSE            TRUE       5   0.007      1\n",
      " maxlen target  ext\n",
      "     10  rules TRUE\n",
      "\n",
      "Algorithmic control:\n",
      " filter tree heap memopt load sort verbose\n",
      "    0.1 TRUE TRUE  FALSE TRUE    2    TRUE\n",
      "\n",
      "Absolute minimum support count: 4 \n",
      "\n",
      "set item appearances ...[181 item(s)] done [0.00s].\n",
      "set transactions ...[181 item(s), 703 transaction(s)] done [0.00s].\n",
      "sorting and recoding items ... [180 item(s)] done [0.00s].\n",
      "creating transaction tree ... done [0.00s].\n",
      "checking subsets of size 1 2 3 4 done [0.00s].\n",
      "writing ... [297 rule(s)] done [0.00s].\n",
      "creating S4 object  ... done [0.00s].\n"
     ]
    },
    {
     "name": "stderr",
     "output_type": "stream",
     "text": [
      "Support: 0.007 Confidence: 0.7 Rules: 297 p-value: 0.103787578171588 \n",
      "\n",
      "\n"
     ]
    },
    {
     "name": "stdout",
     "output_type": "stream",
     "text": [
      "Apriori\n",
      "\n",
      "Parameter specification:\n",
      " confidence minval smax arem  aval originalSupport maxtime support minlen\n",
      "        0.8    0.1    1 none FALSE            TRUE       5   0.007      1\n",
      " maxlen target  ext\n",
      "     10  rules TRUE\n",
      "\n",
      "Algorithmic control:\n",
      " filter tree heap memopt load sort verbose\n",
      "    0.1 TRUE TRUE  FALSE TRUE    2    TRUE\n",
      "\n",
      "Absolute minimum support count: 4 \n",
      "\n",
      "set item appearances ...[181 item(s)] done [0.00s].\n",
      "set transactions ...[181 item(s), 703 transaction(s)] done [0.00s].\n",
      "sorting and recoding items ... [180 item(s)] done [0.00s].\n",
      "creating transaction tree ... done [0.00s].\n",
      "checking subsets of size 1 2 3 4 done [0.00s].\n",
      "writing ... [185 rule(s)] done [0.00s].\n",
      "creating S4 object  ... done [0.00s].\n"
     ]
    },
    {
     "name": "stderr",
     "output_type": "stream",
     "text": [
      "Support: 0.007 Confidence: 0.8 Rules: 185 p-value: 0.0365837494379134 \n",
      "\n",
      "\n"
     ]
    },
    {
     "name": "stdout",
     "output_type": "stream",
     "text": [
      "Apriori\n",
      "\n",
      "Parameter specification:\n",
      " confidence minval smax arem  aval originalSupport maxtime support minlen\n",
      "        0.9    0.1    1 none FALSE            TRUE       5   0.007      1\n",
      " maxlen target  ext\n",
      "     10  rules TRUE\n",
      "\n",
      "Algorithmic control:\n",
      " filter tree heap memopt load sort verbose\n",
      "    0.1 TRUE TRUE  FALSE TRUE    2    TRUE\n",
      "\n",
      "Absolute minimum support count: 4 \n",
      "\n",
      "set item appearances ...[181 item(s)] done [0.00s].\n",
      "set transactions ...[181 item(s), 703 transaction(s)] done [0.00s].\n",
      "sorting and recoding items ... [180 item(s)] done [0.00s].\n",
      "creating transaction tree ... done [0.00s].\n",
      "checking subsets of size 1 2 3 4 done [0.00s].\n",
      "writing ... [76 rule(s)] done [0.00s].\n",
      "creating S4 object  ... done [0.00s].\n"
     ]
    },
    {
     "name": "stderr",
     "output_type": "stream",
     "text": [
      "Support: 0.007 Confidence: 0.9 Rules: 76 p-value: 0.0292938655737033 \n",
      "\n",
      "\n"
     ]
    },
    {
     "name": "stdout",
     "output_type": "stream",
     "text": [
      "Apriori\n",
      "\n",
      "Parameter specification:\n",
      " confidence minval smax arem  aval originalSupport maxtime support minlen\n",
      "        0.5    0.1    1 none FALSE            TRUE       5    0.01      1\n",
      " maxlen target  ext\n",
      "     10  rules TRUE\n",
      "\n",
      "Algorithmic control:\n",
      " filter tree heap memopt load sort verbose\n",
      "    0.1 TRUE TRUE  FALSE TRUE    2    TRUE\n",
      "\n",
      "Absolute minimum support count: 7 \n",
      "\n",
      "set item appearances ...[181 item(s)] done [0.00s].\n",
      "set transactions ...[181 item(s), 703 transaction(s)] done [0.00s].\n",
      "sorting and recoding items ... [170 item(s)] done [0.00s].\n",
      "creating transaction tree ... done [0.00s].\n",
      "checking subsets of size 1 2 3 4 done [0.00s].\n",
      "writing ... [191 rule(s)] done [0.00s].\n",
      "creating S4 object  ... done [0.00s].\n"
     ]
    },
    {
     "name": "stderr",
     "output_type": "stream",
     "text": [
      "Support: 0.01 Confidence: 0.5 Rules: 191 p-value: 0.117956623996114 \n",
      "\n",
      "\n"
     ]
    },
    {
     "name": "stdout",
     "output_type": "stream",
     "text": [
      "Apriori\n",
      "\n",
      "Parameter specification:\n",
      " confidence minval smax arem  aval originalSupport maxtime support minlen\n",
      "        0.6    0.1    1 none FALSE            TRUE       5    0.01      1\n",
      " maxlen target  ext\n",
      "     10  rules TRUE\n",
      "\n",
      "Algorithmic control:\n",
      " filter tree heap memopt load sort verbose\n",
      "    0.1 TRUE TRUE  FALSE TRUE    2    TRUE\n",
      "\n",
      "Absolute minimum support count: 7 \n",
      "\n",
      "set item appearances ...[181 item(s)] done [0.00s].\n",
      "set transactions ...[181 item(s), 703 transaction(s)] done [0.00s].\n",
      "sorting and recoding items ... [170 item(s)] done [0.00s].\n",
      "creating transaction tree ... done [0.00s].\n",
      "checking subsets of size 1 2 3 4 done [0.00s].\n",
      "writing ... [124 rule(s)] done [0.00s].\n",
      "creating S4 object  ... done [0.00s].\n"
     ]
    },
    {
     "name": "stderr",
     "output_type": "stream",
     "text": [
      "Support: 0.01 Confidence: 0.6 Rules: 124 p-value: 0.0569840880533317 \n",
      "\n",
      "\n"
     ]
    },
    {
     "name": "stdout",
     "output_type": "stream",
     "text": [
      "Apriori\n",
      "\n",
      "Parameter specification:\n",
      " confidence minval smax arem  aval originalSupport maxtime support minlen\n",
      "        0.7    0.1    1 none FALSE            TRUE       5    0.01      1\n",
      " maxlen target  ext\n",
      "     10  rules TRUE\n",
      "\n",
      "Algorithmic control:\n",
      " filter tree heap memopt load sort verbose\n",
      "    0.1 TRUE TRUE  FALSE TRUE    2    TRUE\n",
      "\n",
      "Absolute minimum support count: 7 \n",
      "\n",
      "set item appearances ...[181 item(s)] done [0.00s].\n",
      "set transactions ...[181 item(s), 703 transaction(s)] done [0.01s].\n",
      "sorting and recoding items ... [170 item(s)] done [0.00s].\n",
      "creating transaction tree ... done [0.00s].\n",
      "checking subsets of size 1 2 3 4 done [0.00s].\n",
      "writing ... [37 rule(s)] done [0.00s].\n",
      "creating S4 object  ... done [0.00s].\n"
     ]
    },
    {
     "name": "stderr",
     "output_type": "stream",
     "text": [
      "Support: 0.01 Confidence: 0.7 Rules: 37 p-value: 0.0176018559543879 \n",
      "\n",
      "\n"
     ]
    },
    {
     "name": "stdout",
     "output_type": "stream",
     "text": [
      "Apriori\n",
      "\n",
      "Parameter specification:\n",
      " confidence minval smax arem  aval originalSupport maxtime support minlen\n",
      "        0.8    0.1    1 none FALSE            TRUE       5    0.01      1\n",
      " maxlen target  ext\n",
      "     10  rules TRUE\n",
      "\n",
      "Algorithmic control:\n",
      " filter tree heap memopt load sort verbose\n",
      "    0.1 TRUE TRUE  FALSE TRUE    2    TRUE\n",
      "\n",
      "Absolute minimum support count: 7 \n",
      "\n",
      "set item appearances ...[181 item(s)] done [0.00s].\n",
      "set transactions ...[181 item(s), 703 transaction(s)] done [0.00s].\n",
      "sorting and recoding items ... [170 item(s)] done [0.00s].\n",
      "creating transaction tree ... done [0.00s].\n",
      "checking subsets of size 1 2 3 4 done [0.00s].\n",
      "writing ... [20 rule(s)] done [0.00s].\n",
      "creating S4 object  ... done [0.00s].\n"
     ]
    },
    {
     "name": "stderr",
     "output_type": "stream",
     "text": [
      "Support: 0.01 Confidence: 0.8 Rules: 20 p-value: 0.0111126447975784 \n",
      "\n",
      "\n"
     ]
    },
    {
     "name": "stdout",
     "output_type": "stream",
     "text": [
      "Apriori\n",
      "\n",
      "Parameter specification:\n",
      " confidence minval smax arem  aval originalSupport maxtime support minlen\n",
      "        0.9    0.1    1 none FALSE            TRUE       5    0.01      1\n",
      " maxlen target  ext\n",
      "     10  rules TRUE\n",
      "\n",
      "Algorithmic control:\n",
      " filter tree heap memopt load sort verbose\n",
      "    0.1 TRUE TRUE  FALSE TRUE    2    TRUE\n",
      "\n",
      "Absolute minimum support count: 7 \n",
      "\n",
      "set item appearances ...[181 item(s)] done [0.00s].\n",
      "set transactions ...[181 item(s), 703 transaction(s)] done [0.01s].\n",
      "sorting and recoding items ... [170 item(s)] done [0.00s].\n",
      "creating transaction tree ... done [0.00s].\n",
      "checking subsets of size 1 2 3 4 done [0.00s].\n",
      "writing ... [8 rule(s)] done [0.00s].\n",
      "creating S4 object  ... done [0.00s].\n"
     ]
    },
    {
     "name": "stderr",
     "output_type": "stream",
     "text": [
      "Support: 0.01 Confidence: 0.9 Rules: 8 p-value: 0.00257679220831563 \n",
      "\n",
      "\n"
     ]
    },
    {
     "name": "stdout",
     "output_type": "stream",
     "text": [
      "Apriori\n",
      "\n",
      "Parameter specification:\n",
      " confidence minval smax arem  aval originalSupport maxtime support minlen\n",
      "        0.5    0.1    1 none FALSE            TRUE       5    0.02      1\n",
      " maxlen target  ext\n",
      "     10  rules TRUE\n",
      "\n",
      "Algorithmic control:\n",
      " filter tree heap memopt load sort verbose\n",
      "    0.1 TRUE TRUE  FALSE TRUE    2    TRUE\n",
      "\n",
      "Absolute minimum support count: 14 \n",
      "\n",
      "set item appearances ...[181 item(s)] done [0.00s].\n",
      "set transactions ...[181 item(s), 703 transaction(s)] done [0.00s].\n",
      "sorting and recoding items ... [148 item(s)] done [0.00s].\n",
      "creating transaction tree ... done [0.00s].\n",
      "checking subsets of size 1 2 3 done [0.00s].\n",
      "writing ... [124 rule(s)] done [0.00s].\n",
      "creating S4 object  ... done [0.00s].\n"
     ]
    },
    {
     "name": "stderr",
     "output_type": "stream",
     "text": [
      "Support: 0.02 Confidence: 0.5 Rules: 124 p-value: 0.101267851743842 \n",
      "\n",
      "\n"
     ]
    },
    {
     "name": "stdout",
     "output_type": "stream",
     "text": [
      "Apriori\n",
      "\n",
      "Parameter specification:\n",
      " confidence minval smax arem  aval originalSupport maxtime support minlen\n",
      "        0.6    0.1    1 none FALSE            TRUE       5    0.02      1\n",
      " maxlen target  ext\n",
      "     10  rules TRUE\n",
      "\n",
      "Algorithmic control:\n",
      " filter tree heap memopt load sort verbose\n",
      "    0.1 TRUE TRUE  FALSE TRUE    2    TRUE\n",
      "\n",
      "Absolute minimum support count: 14 \n",
      "\n",
      "set item appearances ...[181 item(s)] done [0.00s].\n",
      "set transactions ...[181 item(s), 703 transaction(s)] done [0.00s].\n",
      "sorting and recoding items ... [148 item(s)] done [0.00s].\n",
      "creating transaction tree ... done [0.00s].\n",
      "checking subsets of size 1 2 3 done [0.00s].\n",
      "writing ... [70 rule(s)] done [0.00s].\n",
      "creating S4 object  ... done [0.00s].\n"
     ]
    },
    {
     "name": "stderr",
     "output_type": "stream",
     "text": [
      "Support: 0.02 Confidence: 0.6 Rules: 70 p-value: 0.0478091654119656 \n",
      "\n",
      "\n"
     ]
    },
    {
     "name": "stdout",
     "output_type": "stream",
     "text": [
      "Apriori\n",
      "\n",
      "Parameter specification:\n",
      " confidence minval smax arem  aval originalSupport maxtime support minlen\n",
      "        0.7    0.1    1 none FALSE            TRUE       5    0.02      1\n",
      " maxlen target  ext\n",
      "     10  rules TRUE\n",
      "\n",
      "Algorithmic control:\n",
      " filter tree heap memopt load sort verbose\n",
      "    0.1 TRUE TRUE  FALSE TRUE    2    TRUE\n",
      "\n",
      "Absolute minimum support count: 14 \n",
      "\n",
      "set item appearances ...[181 item(s)] done [0.00s].\n",
      "set transactions ...[181 item(s), 703 transaction(s)] done [0.00s].\n",
      "sorting and recoding items ... [148 item(s)] done [0.00s].\n",
      "creating transaction tree ... done [0.00s].\n",
      "checking subsets of size 1 2 3 done [0.00s].\n",
      "writing ... [11 rule(s)] done [0.00s].\n",
      "creating S4 object  ... done [0.00s].\n"
     ]
    },
    {
     "name": "stderr",
     "output_type": "stream",
     "text": [
      "Support: 0.02 Confidence: 0.7 Rules: 11 p-value: 0.00896291999787709 \n",
      "\n",
      "\n"
     ]
    },
    {
     "name": "stdout",
     "output_type": "stream",
     "text": [
      "Apriori\n",
      "\n",
      "Parameter specification:\n",
      " confidence minval smax arem  aval originalSupport maxtime support minlen\n",
      "        0.8    0.1    1 none FALSE            TRUE       5    0.02      1\n",
      " maxlen target  ext\n",
      "     10  rules TRUE\n",
      "\n",
      "Algorithmic control:\n",
      " filter tree heap memopt load sort verbose\n",
      "    0.1 TRUE TRUE  FALSE TRUE    2    TRUE\n",
      "\n",
      "Absolute minimum support count: 14 \n",
      "\n",
      "set item appearances ...[181 item(s)] done [0.00s].\n",
      "set transactions ...[181 item(s), 703 transaction(s)] done [0.00s].\n",
      "sorting and recoding items ... [148 item(s)] done [0.00s].\n",
      "creating transaction tree ... done [0.00s].\n",
      "checking subsets of size 1 2 3 done [0.00s].\n",
      "writing ... [2 rule(s)] done [0.00s].\n",
      "creating S4 object  ... done [0.00s].\n"
     ]
    },
    {
     "name": "stderr",
     "output_type": "stream",
     "text": [
      "Support: 0.02 Confidence: 0.8 Rules: 2 p-value: 0.00269066755234886 \n",
      "\n",
      "\n"
     ]
    },
    {
     "name": "stdout",
     "output_type": "stream",
     "text": [
      "Apriori\n",
      "\n",
      "Parameter specification:\n",
      " confidence minval smax arem  aval originalSupport maxtime support minlen\n",
      "        0.9    0.1    1 none FALSE            TRUE       5    0.02      1\n",
      " maxlen target  ext\n",
      "     10  rules TRUE\n",
      "\n",
      "Algorithmic control:\n",
      " filter tree heap memopt load sort verbose\n",
      "    0.1 TRUE TRUE  FALSE TRUE    2    TRUE\n",
      "\n",
      "Absolute minimum support count: 14 \n",
      "\n",
      "set item appearances ...[181 item(s)] done [0.00s].\n",
      "set transactions ...[181 item(s), 703 transaction(s)] done [0.00s].\n",
      "sorting and recoding items ... [148 item(s)] done [0.00s].\n",
      "creating transaction tree ... done [0.00s].\n",
      "checking subsets of size 1 2 3 done [0.00s].\n",
      "writing ... [0 rule(s)] done [0.00s].\n",
      "creating S4 object  ... done [0.00s].\n"
     ]
    },
    {
     "name": "stderr",
     "output_type": "stream",
     "text": [
      "Support: 0.02 Confidence: 0.9 Rules: 0 p-value: NA \n",
      "\n",
      "\n"
     ]
    },
    {
     "name": "stdout",
     "output_type": "stream",
     "text": [
      "Apriori\n",
      "\n",
      "Parameter specification:\n",
      " confidence minval smax arem  aval originalSupport maxtime support minlen\n",
      "        0.5    0.1    1 none FALSE            TRUE       5    0.05      1\n",
      " maxlen target  ext\n",
      "     10  rules TRUE\n",
      "\n",
      "Algorithmic control:\n",
      " filter tree heap memopt load sort verbose\n",
      "    0.1 TRUE TRUE  FALSE TRUE    2    TRUE\n",
      "\n",
      "Absolute minimum support count: 35 \n",
      "\n",
      "set item appearances ...[181 item(s)] done [0.00s].\n",
      "set transactions ...[181 item(s), 703 transaction(s)] done [0.01s].\n",
      "sorting and recoding items ... [77 item(s)] done [0.00s].\n",
      "creating transaction tree ... done [0.00s].\n",
      "checking subsets of size 1 2 done [0.00s].\n",
      "writing ... [20 rule(s)] done [0.00s].\n",
      "creating S4 object  ... done [0.00s].\n"
     ]
    },
    {
     "name": "stderr",
     "output_type": "stream",
     "text": [
      "Support: 0.05 Confidence: 0.5 Rules: 20 p-value: 0.053831375010603 \n",
      "\n",
      "\n"
     ]
    },
    {
     "name": "stdout",
     "output_type": "stream",
     "text": [
      "Apriori\n",
      "\n",
      "Parameter specification:\n",
      " confidence minval smax arem  aval originalSupport maxtime support minlen\n",
      "        0.6    0.1    1 none FALSE            TRUE       5    0.05      1\n",
      " maxlen target  ext\n",
      "     10  rules TRUE\n",
      "\n",
      "Algorithmic control:\n",
      " filter tree heap memopt load sort verbose\n",
      "    0.1 TRUE TRUE  FALSE TRUE    2    TRUE\n",
      "\n",
      "Absolute minimum support count: 35 \n",
      "\n",
      "set item appearances ...[181 item(s)] done [0.00s].\n",
      "set transactions ...[181 item(s), 703 transaction(s)] done [0.00s].\n",
      "sorting and recoding items ... [77 item(s)] done [0.00s].\n",
      "creating transaction tree ... done [0.00s].\n",
      "checking subsets of size 1 2 done [0.00s].\n",
      "writing ... [12 rule(s)] done [0.00s].\n",
      "creating S4 object  ... done [0.00s].\n"
     ]
    },
    {
     "name": "stderr",
     "output_type": "stream",
     "text": [
      "Support: 0.05 Confidence: 0.6 Rules: 12 p-value: 0.0312051443069594 \n",
      "\n",
      "\n"
     ]
    },
    {
     "name": "stdout",
     "output_type": "stream",
     "text": [
      "Apriori\n",
      "\n",
      "Parameter specification:\n",
      " confidence minval smax arem  aval originalSupport maxtime support minlen\n",
      "        0.7    0.1    1 none FALSE            TRUE       5    0.05      1\n",
      " maxlen target  ext\n",
      "     10  rules TRUE\n",
      "\n",
      "Algorithmic control:\n",
      " filter tree heap memopt load sort verbose\n",
      "    0.1 TRUE TRUE  FALSE TRUE    2    TRUE\n",
      "\n",
      "Absolute minimum support count: 35 \n",
      "\n",
      "set item appearances ...[181 item(s)] done [0.00s].\n",
      "set transactions ...[181 item(s), 703 transaction(s)] done [0.00s].\n",
      "sorting and recoding items ... [77 item(s)] done [0.00s].\n",
      "creating transaction tree ... done [0.00s].\n",
      "checking subsets of size 1 2 done [0.00s].\n",
      "writing ... [0 rule(s)] done [0.00s].\n",
      "creating S4 object  ... done [0.00s].\n"
     ]
    },
    {
     "name": "stderr",
     "output_type": "stream",
     "text": [
      "Support: 0.05 Confidence: 0.7 Rules: 0 p-value: NA \n",
      "\n",
      "\n"
     ]
    },
    {
     "name": "stdout",
     "output_type": "stream",
     "text": [
      "Apriori\n",
      "\n",
      "Parameter specification:\n",
      " confidence minval smax arem  aval originalSupport maxtime support minlen\n",
      "        0.8    0.1    1 none FALSE            TRUE       5    0.05      1\n",
      " maxlen target  ext\n",
      "     10  rules TRUE\n",
      "\n",
      "Algorithmic control:\n",
      " filter tree heap memopt load sort verbose\n",
      "    0.1 TRUE TRUE  FALSE TRUE    2    TRUE\n",
      "\n",
      "Absolute minimum support count: 35 \n",
      "\n",
      "set item appearances ...[181 item(s)] done [0.00s].\n",
      "set transactions ...[181 item(s), 703 transaction(s)] done [0.01s].\n",
      "sorting and recoding items ... [77 item(s)] done [0.00s].\n",
      "creating transaction tree ... done [0.00s].\n",
      "checking subsets of size 1 2 done [0.00s].\n",
      "writing ... [0 rule(s)] done [0.00s].\n",
      "creating S4 object  ... done [0.00s].\n"
     ]
    },
    {
     "name": "stderr",
     "output_type": "stream",
     "text": [
      "Support: 0.05 Confidence: 0.8 Rules: 0 p-value: NA \n",
      "\n",
      "\n"
     ]
    },
    {
     "name": "stdout",
     "output_type": "stream",
     "text": [
      "Apriori\n",
      "\n",
      "Parameter specification:\n",
      " confidence minval smax arem  aval originalSupport maxtime support minlen\n",
      "        0.9    0.1    1 none FALSE            TRUE       5    0.05      1\n",
      " maxlen target  ext\n",
      "     10  rules TRUE\n",
      "\n",
      "Algorithmic control:\n",
      " filter tree heap memopt load sort verbose\n",
      "    0.1 TRUE TRUE  FALSE TRUE    2    TRUE\n",
      "\n",
      "Absolute minimum support count: 35 \n",
      "\n",
      "set item appearances ...[181 item(s)] done [0.00s].\n",
      "set transactions ...[181 item(s), 703 transaction(s)] done [0.00s].\n",
      "sorting and recoding items ... [77 item(s)] done [0.00s].\n",
      "creating transaction tree ... done [0.00s].\n",
      "checking subsets of size 1 2 done [0.00s].\n",
      "writing ... [0 rule(s)] done [0.00s].\n",
      "creating S4 object  ... done [0.00s].\n"
     ]
    },
    {
     "name": "stderr",
     "output_type": "stream",
     "text": [
      "Support: 0.05 Confidence: 0.9 Rules: 0 p-value: NA \n",
      "\n",
      "\n"
     ]
    }
   ],
   "source": [
    "support <- c(0.005, 0.007, 0.01, 0.02, 0.05)\n",
    "confidence <- c(0.5, 0.6, 0.7, 0.8, 0.9)\n",
    "\n",
    "stats <- data.frame(support=double(),\n",
    "                 confidence=double(),\n",
    "                 pvalue=double(),\n",
    "                 lift=double(),\n",
    "                 rules=integer(),\n",
    "                 stringsAsFactors=FALSE)\n",
    "\n",
    "for(i in 1:length(support)) {\n",
    "    for (j in 1:length(confidence)){\n",
    "       \n",
    "        #extract rules and compute pvalue\n",
    "        rules <- apriori(data=train_trans, parameter=list(supp=support[i], conf=confidence[j]), \n",
    "                 appearance = list(lhs = items, rhs=grep(\"grading=\", itemLabels(trans), value = TRUE)), \n",
    "                         control = list (verbose=T)) \n",
    "        \n",
    "        #compute p-value\n",
    "        quality(rules) <- cbind(quality(rules), \n",
    "                        pvalue = interestMeasure(rules, measure = \"fishersExactTest\",\n",
    "                                                          transactions = train_trans, adjust='none', reuse=TRUE))\n",
    "        \n",
    "        #extract median lift and pvalue and store number of extracted rules \n",
    "        pvalue <- median(quality(rules)$pvalue)\n",
    "        lift <- median(quality(rules)$lift)\n",
    "        count <- length(rules)\n",
    "        \n",
    "        #add elements to dataframe\n",
    "        stats <- rbind(stats, data.frame(support = support[i], confidence=confidence[j], \n",
    "                                         pvalue = pvalue, lift = lift, count = count))\n",
    "        \n",
    "        message(paste(\"Support:\",support[i],\"Confidence:\",confidence[j],\"Rules:\",count,\"p-value:\",pvalue, '\\n'))    \n",
    "\n",
    "    }\n",
    "}"
   ]
  },
  {
   "cell_type": "code",
   "execution_count": 128,
   "metadata": {},
   "outputs": [],
   "source": [
    "fig <- function(width, heigth){\n",
    "     options(repr.plot.width = width, repr.plot.height = heigth)\n",
    "}"
   ]
  },
  {
   "cell_type": "code",
   "execution_count": 129,
   "metadata": {},
   "outputs": [],
   "source": [
    "stats_grading <- stats\n",
    "stats_grading$support <- as.factor(stats$support)"
   ]
  },
  {
   "cell_type": "code",
   "execution_count": 130,
   "metadata": {},
   "outputs": [
    {
     "name": "stderr",
     "output_type": "stream",
     "text": [
      "Warning message:\n",
      "“Removed 4 rows containing missing values (geom_point).”\n"
     ]
    },
    {
     "data": {
      "image/png": "[encoded data removed]",
      "text/plain": [
       "plot without title"
      ]
     },
     "metadata": {
      "image/png": {
       "height": 600,
       "width": 900
      }
     },
     "output_type": "display_data"
    }
   ],
   "source": [
    "fig(15,10)\n",
    "ggplot(data = stats_grading, aes(x=confidence, y=count)) + \n",
    "                geom_point(aes(colour=support, size=pvalue)) + \n",
    "                geom_text(aes(label=sprintf(\"%0.3f\", round(pvalue, digits = 3))),hjust=-0.3, vjust=-0.2) +\n",
    "                geom_line(aes(colour=support))+\n",
    "                theme(text=element_text(size=16))\n",
    "\n",
    "fig(7,7)"
   ]
  },
  {
   "cell_type": "markdown",
   "metadata": {},
   "source": [
    "# Rules Extraction"
   ]
  },
  {
   "cell_type": "code",
   "execution_count": 131,
   "metadata": {},
   "outputs": [
    {
     "data": {
      "text/html": [
       "<style>\n",
       ".list-inline {list-style: none; margin:0; padding: 0}\n",
       ".list-inline>li {display: inline-block}\n",
       ".list-inline>li:not(:last-child)::after {content: \"\\00b7\"; padding: 0 .5ex}\n",
       "</style>\n",
       "<ol class=list-inline><li>'grading=0'</li><li>'grading=1'</li></ol>\n"
      ],
      "text/latex": [
       "\\begin{enumerate*}\n",
       "\\item 'grading=0'\n",
       "\\item 'grading=1'\n",
       "\\end{enumerate*}\n"
      ],
      "text/markdown": [
       "1. 'grading=0'\n",
       "2. 'grading=1'\n",
       "\n",
       "\n"
      ],
      "text/plain": [
       "[1] \"grading=0\" \"grading=1\""
      ]
     },
     "metadata": {},
     "output_type": "display_data"
    }
   ],
   "source": [
    "target = grep(\"grading=\", itemLabels(trans), value = TRUE)\n",
    "target"
   ]
  },
  {
   "cell_type": "code",
   "execution_count": 141,
   "metadata": {
    "scrolled": false
   },
   "outputs": [
    {
     "name": "stdout",
     "output_type": "stream",
     "text": [
      "Apriori\n",
      "\n",
      "Parameter specification:\n",
      " confidence minval smax arem  aval originalSupport maxtime support minlen\n",
      "        0.8    0.1    1 none FALSE            TRUE       5   0.007      1\n",
      " maxlen target  ext\n",
      "     10  rules TRUE\n",
      "\n",
      "Algorithmic control:\n",
      " filter tree heap memopt load sort verbose\n",
      "    0.1 TRUE TRUE  FALSE TRUE    2    TRUE\n",
      "\n",
      "Absolute minimum support count: 4 \n",
      "\n",
      "set item appearances ...[181 item(s)] done [0.00s].\n",
      "set transactions ...[181 item(s), 703 transaction(s)] done [0.00s].\n",
      "sorting and recoding items ... [180 item(s)] done [0.00s].\n",
      "creating transaction tree ... done [0.00s].\n",
      "checking subsets of size 1 2 3 4 done [0.00s].\n",
      "writing ... [185 rule(s)] done [0.00s].\n",
      "creating S4 object  ... done [0.00s].\n"
     ]
    }
   ],
   "source": [
    "rules <- apriori(data=train_trans, parameter=list(supp=0.007, conf=0.8), \n",
    "                 appearance = list(lhs = items, rhs=target), \n",
    "                         control = list (verbose=T))"
   ]
  },
  {
   "cell_type": "code",
   "execution_count": 142,
   "metadata": {},
   "outputs": [
    {
     "data": {
      "text/html": [
       "93"
      ],
      "text/latex": [
       "93"
      ],
      "text/markdown": [
       "93"
      ],
      "text/plain": [
       "[1] 93"
      ]
     },
     "metadata": {},
     "output_type": "display_data"
    }
   ],
   "source": [
    "sig_rules <- rules[is.significant(rules, \n",
    "                                      train, \n",
    "                                      method='fisher', \n",
    "                                      alpha=0.05, \n",
    "                                      adjust='none')]\n",
    "length(sig_rules)"
   ]
  },
  {
   "cell_type": "code",
   "execution_count": 143,
   "metadata": {},
   "outputs": [],
   "source": [
    "quality(sig_rules) <- cbind(quality(sig_rules), \n",
    "                        pvalue_test = interestMeasure(sig_rules, measure = \"fishersExactTest\",\n",
    "                                                          transactions = test_trans, adjust='none', reuse=FALSE))"
   ]
  },
  {
   "cell_type": "code",
   "execution_count": 144,
   "metadata": {},
   "outputs": [
    {
     "data": {
      "text/html": [
       "2"
      ],
      "text/latex": [
       "2"
      ],
      "text/markdown": [
       "2"
      ],
      "text/plain": [
       "[1] 2"
      ]
     },
     "metadata": {},
     "output_type": "display_data"
    }
   ],
   "source": [
    "final_rules <- subset(sig_rules, pvalue_test < 0.05/length(sig_rules)) #bonferroni = alpha/n_tests\n",
    "length(final_rules)"
   ]
  },
  {
   "cell_type": "code",
   "execution_count": 145,
   "metadata": {
    "scrolled": false
   },
   "outputs": [
    {
     "name": "stdout",
     "output_type": "stream",
     "text": [
      "    lhs                     rhs         support     confidence coverage \n",
      "[1] {B4GALNT3_rare_AR=1} => {grading=0} 0.018492176 0.8125     0.0227596\n",
      "[2] {ZCCHC12_rare_AD=1}  => {grading=0} 0.009957326 0.8750     0.0113798\n",
      "    lift     count pvalue_test \n",
      "[1] 1.608979 13    9.388652e-08\n",
      "[2] 1.732746  7    2.276034e-05\n"
     ]
    }
   ],
   "source": [
    "inspect(head(final_rules, by = \"support\", decreasing=TRUE, 100))"
   ]
  },
  {
   "cell_type": "code",
   "execution_count": 146,
   "metadata": {},
   "outputs": [],
   "source": [
    "#write(final_rules,\n",
    "#      file = \"./Results/rules_females_rare.csv\",\n",
    "#      sep = \",\",\n",
    "#      quote = TRUE,\n",
    "#      row.names = FALSE)"
   ]
  },
  {
   "cell_type": "code",
   "execution_count": null,
   "metadata": {},
   "outputs": [],
   "source": []
  }
 ],
 "metadata": {
  "kernelspec": {
   "display_name": "R",
   "language": "R",
   "name": "ir"
  },
  "language_info": {
   "codemirror_mode": "r",
   "file_extension": ".r",
   "mimetype": "text/x-r-source",
   "name": "R",
   "pygments_lexer": "r",
   "version": "3.6.1"
  }
 },
 "nbformat": 4,
 "nbformat_minor": 4
}
