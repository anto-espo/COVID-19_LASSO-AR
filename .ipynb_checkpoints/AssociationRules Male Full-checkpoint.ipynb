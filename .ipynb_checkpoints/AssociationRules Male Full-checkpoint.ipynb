{
 "cells": [
  {
   "cell_type": "code",
   "execution_count": 1,
   "metadata": {
    "scrolled": true
   },
   "outputs": [
    {
     "name": "stderr",
     "output_type": "stream",
     "text": [
      "Warning message:\n",
      "“package ‘arules’ was built under R version 3.6.3”\n",
      "Loading required package: Matrix\n",
      "\n",
      "\n",
      "Attaching package: ‘arules’\n",
      "\n",
      "\n",
      "The following objects are masked from ‘package:base’:\n",
      "\n",
      "    abbreviate, write\n",
      "\n",
      "\n",
      "Loading required package: grid\n",
      "\n",
      "── \u001b[1mAttaching packages\u001b[22m ─────────────────────────────────────── tidyverse 1.2.1 ──\n",
      "\n",
      "\u001b[32m✔\u001b[39m \u001b[34mggplot2\u001b[39m 3.3.2     \u001b[32m✔\u001b[39m \u001b[34mpurrr  \u001b[39m 0.3.4\n",
      "\u001b[32m✔\u001b[39m \u001b[34mtibble \u001b[39m 3.0.4     \u001b[32m✔\u001b[39m \u001b[34mdplyr  \u001b[39m 1.0.2\n",
      "\u001b[32m✔\u001b[39m \u001b[34mtidyr  \u001b[39m 1.1.2     \u001b[32m✔\u001b[39m \u001b[34mstringr\u001b[39m 1.4.0\n",
      "\u001b[32m✔\u001b[39m \u001b[34mreadr  \u001b[39m 1.4.0     \u001b[32m✔\u001b[39m \u001b[34mforcats\u001b[39m 0.5.0\n",
      "\n",
      "Warning message:\n",
      "“package ‘ggplot2’ was built under R version 3.6.3”\n",
      "Warning message:\n",
      "“package ‘tibble’ was built under R version 3.6.3”\n",
      "Warning message:\n",
      "“package ‘tidyr’ was built under R version 3.6.3”\n",
      "Warning message:\n",
      "“package ‘readr’ was built under R version 3.6.3”\n",
      "Warning message:\n",
      "“package ‘purrr’ was built under R version 3.6.3”\n",
      "Warning message:\n",
      "“package ‘dplyr’ was built under R version 3.6.3”\n",
      "Warning message:\n",
      "“package ‘stringr’ was built under R version 3.6.3”\n",
      "Warning message:\n",
      "“package ‘forcats’ was built under R version 3.6.3”\n",
      "── \u001b[1mConflicts\u001b[22m ────────────────────────────────────────── tidyverse_conflicts() ──\n",
      "\u001b[31m✖\u001b[39m \u001b[34mtidyr\u001b[39m::\u001b[32mexpand()\u001b[39m masks \u001b[34mMatrix\u001b[39m::expand()\n",
      "\u001b[31m✖\u001b[39m \u001b[34mdplyr\u001b[39m::\u001b[32mfilter()\u001b[39m masks \u001b[34mstats\u001b[39m::filter()\n",
      "\u001b[31m✖\u001b[39m \u001b[34mdplyr\u001b[39m::\u001b[32mlag()\u001b[39m    masks \u001b[34mstats\u001b[39m::lag()\n",
      "\u001b[31m✖\u001b[39m \u001b[34mtidyr\u001b[39m::\u001b[32mpack()\u001b[39m   masks \u001b[34mMatrix\u001b[39m::pack()\n",
      "\u001b[31m✖\u001b[39m \u001b[34mdplyr\u001b[39m::\u001b[32mrecode()\u001b[39m masks \u001b[34marules\u001b[39m::recode()\n",
      "\u001b[31m✖\u001b[39m \u001b[34mtidyr\u001b[39m::\u001b[32munpack()\u001b[39m masks \u001b[34mMatrix\u001b[39m::unpack()\n",
      "\n",
      "\n",
      "Attaching package: ‘gridExtra’\n",
      "\n",
      "\n",
      "The following object is masked from ‘package:dplyr’:\n",
      "\n",
      "    combine\n",
      "\n",
      "\n",
      "Warning message:\n",
      "“package ‘ggplotify’ was built under R version 3.6.3”\n",
      "Loading required package: discretization\n",
      "\n",
      "Loading required package: lattice\n",
      "\n",
      "Warning message:\n",
      "“package ‘lattice’ was built under R version 3.6.3”\n",
      "\n",
      "Attaching package: ‘caret’\n",
      "\n",
      "\n",
      "The following object is masked from ‘package:purrr’:\n",
      "\n",
      "    lift\n",
      "\n",
      "\n"
     ]
    }
   ],
   "source": [
    "library(arules)\n",
    "library(arulesViz)\n",
    "library(tidyverse)\n",
    "library(gridExtra)\n",
    "library(grid)\n",
    "library(ggplotify)\n",
    "library(arulesCBA)\n",
    "library(caret)"
   ]
  },
  {
   "cell_type": "code",
   "execution_count": 2,
   "metadata": {},
   "outputs": [],
   "source": [
    "tdata <- read.csv('./Data/AssociationRules/All_Male_bool.csv',sep=\",\")\n",
    "\n",
    "#convert everything to categorical factors\n",
    "col_names <- names(tdata)\n",
    "tdata[,col_names] <- lapply(tdata[,col_names] , factor)"
   ]
  },
  {
   "cell_type": "code",
   "execution_count": 3,
   "metadata": {},
   "outputs": [
    {
     "data": {
      "text/html": [
       "373"
      ],
      "text/latex": [
       "373"
      ],
      "text/markdown": [
       "373"
      ],
      "text/plain": [
       "[1] 373"
      ]
     },
     "metadata": {},
     "output_type": "display_data"
    },
    {
     "data": {
      "text/html": [
       "94"
      ],
      "text/latex": [
       "94"
      ],
      "text/markdown": [
       "94"
      ],
      "text/plain": [
       "[1] 94"
      ]
     },
     "metadata": {},
     "output_type": "display_data"
    }
   ],
   "source": [
    "set.seed(1234)\n",
    "\n",
    "train_indexes <- sample(1:nrow(tdata),floor(nrow(tdata)*0.8), replace=FALSE)\n",
    "\n",
    "train <- tdata[train_indexes,]\n",
    "test <- tdata[-train_indexes,]\n",
    "\n",
    "nrow(train)\n",
    "nrow(test)\n",
    "\n",
    "trans <- as(tdata, 'transactions')\n",
    "test_trans <- as(test, \"transactions\")\n",
    "train_trans <- as(train, 'transactions')\n",
    "\n",
    "items <- grep(\"(*=1)\", itemLabels(trans), value = TRUE)\n",
    "items <- grep(\"[^grading=1]\",items,value=TRUE)\n",
    "items <- grep(\"[^grading=0]\",items,value=TRUE)\n",
    "items <- grep(\"[^gender=1]\",items,value=TRUE)\n",
    "items <- grep(\"[^gender=0]\",items,value=TRUE)"
   ]
  },
  {
   "cell_type": "code",
   "execution_count": 4,
   "metadata": {},
   "outputs": [
    {
     "data": {
      "text/html": [
       "<style>\n",
       ".list-inline {list-style: none; margin:0; padding: 0}\n",
       ".list-inline>li {display: inline-block}\n",
       ".list-inline>li:not(:last-child)::after {content: \"\\00b7\"; padding: 0 .5ex}\n",
       "</style>\n",
       "<ol class=list-inline><li>'DMRTA2_rare_AR=1'</li><li>'B4GALNT3_rare_AR=1'</li><li>'ANTXRL_rare_AR=1'</li><li>'IRS2_rare_AR=1'</li><li>'MUC5B_rare_AR=1'</li><li>'CELSR1_rare_AR=1'</li><li>'DPP6_rare_AR=1'</li><li>'SRSF8_rare_AR=1'</li><li>'RBM12B_rare_AR=1'</li><li>'VPS13A_rare_AR=1'</li><li>'FLG2_rare_AR=1'</li><li>'SEMG1_rare_AR=1'</li><li>'PLEKHA4_rare_AR=1'</li><li>'OVCH2_rare_AR=1'</li><li>'MUC19_rare_AR=1'</li><li>'CFAP99_rare_AR=1'</li><li>'ANKRD18A_rare_AR=1'</li><li>'RPUSD3_rare_AR=1'</li><li>'DSG4_rare_AR=1'</li><li>'ARID1B_rare_AR=1'</li><li>'GOLGA6L4_rare_AR=1'</li><li>'MYORG_rare_AR=1'</li><li>'MPDZ_rare_AR=1'</li><li>'TGM4_rare_AR=1'</li><li>'DNAH3_rare_AR=1'</li><li>'ZNF469_rare_AR=1'</li><li>'TMEM232_rare_AR=1'</li><li>'GOLGA6L10_rare_AR=1'</li><li>'NEB_rare_AR=1'</li><li>'DST_rare_AR=1'</li><li>'PCDH15_rare_AR=1'</li><li>'SCRT1_rare_AR=1'</li><li>'ADGRF1_rare_AR=1'</li><li>'CDAN1_rare_AR=1'</li><li>'BRCA2_rare_AR=1'</li><li>'TAAR9_rare_AR=1'</li><li>'HMCN1_rare_AR=1'</li><li>'FSIP2_rare_AR=1'</li><li>'BTNL8_rare_AR=1'</li><li>'VIT_rare_AR=1'</li><li>'POLQ_rare_AR=1'</li><li>'C8orf74_rare_AR=1'</li><li>'IL12RB2_rare_AR=1'</li><li>'PCLO_rare_AR=1'</li><li>'PITPNM2_rare_AR=1'</li><li>'DNAH17_rare_AR=1'</li><li>'APOB_rare_AR=1'</li><li>'MYH7B_rare_AR=1'</li><li>'ANKRD11_rare_AR=1'</li><li>'NBPF11_rare_AR=1'</li><li>'NPIPB12.NPIPB13_rare_AR=1'</li><li>'C18orf25_rare_AR=1'</li><li>'DNAH14_rare_AR=1'</li><li>'DLX6_rare_AR=1'</li><li>'HSPG2_rare_AR=1'</li><li>'DNAH11_rare_AR=1'</li><li>'CUBN_rare_AR=1'</li><li>'ANKRD53_rare_AR=1'</li><li>'NPIPB5_rare_AR=1'</li><li>'RYR1_rare_AR=1'</li><li>'FAM186A_rare_AR=1'</li><li>'LAMA5_rare_AR=1'</li><li>'PREX2_rare_AR=1'</li><li>'NIPA2_rare_AR=1'</li><li>'CASZ1_rare_AR=1'</li><li>'MEI1_rare_AR=1'</li><li>'CCDC180_rare_AR=1'</li><li>'AGRN_rare_AR=1'</li><li>'TOP3A_rare_AR=1'</li><li>'MICAL1_rare_AD=1'</li><li>'SGSM2_rare_AD=1'</li><li>'LRRC14B_rare_AD=1'</li><li>'NOD2_rare_AD=1'</li><li>'TICRR_rare_AD=1'</li><li>'PSD_rare_AD=1'</li><li>'ASXL1_rare_AD=1'</li><li>'RBM20_rare_AD=1'</li><li>'PLEKHA4_rare_AD=1'</li><li>'VPS16_rare_AD=1'</li><li>'DUOX2_rare_AD=1'</li><li>'EDAR_rare=1'</li><li>'TNFRSF9_rare=1'</li><li>'SNRK_rare=1'</li><li>'MORC4_rare=1'</li><li>'TXLNG_rare=1'</li><li>'AWAT2_rare=1'</li><li>'SRSF8_rare=1'</li><li>'TAF8_rare=1'</li><li>'CCDC22_rare=1'</li><li>'ZCCHC12_rare=1'</li><li>'TLR7_rare=1'</li><li>'LYAR_rare=1'</li><li>'MAGEA10_rare=1'</li><li>'NTSR2_rare=1'</li><li>'NEXMIF_rare=1'</li><li>'ALG13_rare=1'</li><li>'TNFSF9_rare=1'</li><li>'MAGEE1_rare=1'</li><li>'MAGEA11_rare=1'</li><li>'TBC1D8B_rare=1'</li><li>'ITIH6_rare=1'</li><li>'GDPD2_rare=1'</li><li>'ADGRG4_rare=1'</li><li>'XPNPEP2_rare=1'</li><li>'POF1B_rare=1'</li><li>'ARHGAP4_rare=1'</li><li>'MEGF8_rare=1'</li><li>'ZBTB33_rare=1'</li><li>'COL4A5_rare=1'</li><li>'GLRA4_rare=1'</li><li>'STK26_rare=1'</li><li>'IRS1_rare=1'</li><li>'PWWP3B_rare=1'</li><li>'CACNA1F_rare=1'</li><li>'RBMXL3_rare=1'</li><li>'ARMCX4_rare=1'</li><li>'RRS1_rare=1'</li><li>'TSPEAR_rare=1'</li><li>'FLNA_rare=1'</li><li>'SYTL4_rare=1'</li><li>'TAF1_rare=1'</li><li>'TRO_rare=1'</li><li>'ZNF185_rare=1'</li><li>'SHROOM2_rare=1'</li><li>'SATL1_rare=1'</li><li>'VEGFD_rare=1'</li><li>'ANKAR_rare=1'</li><li>'SAGE1_rare=1'</li><li>'EOGT_rare=1'</li><li>'IGSF9_rare=1'</li><li>'LRCH2_rare=1'</li><li>'NAP1L3_rare=1'</li><li>'EDA2R_rare=1'</li><li>'WAS_rare=1'</li><li>'DEF8_rare=1'</li><li>'NHSL2_rare=1'</li><li>'EFHC2_rare=1'</li><li>'IBTK_rare=1'</li><li>'PXK_rare=1'</li><li>'MUC5AC_1=1'</li><li>'MSH4_1=1'</li><li>'TBPL2_1=1'</li><li>'PPM1E_1=1'</li><li>'N4BP2_1=1'</li><li>'PPP1R26_1=1'</li><li>'CYP4F2_3=1'</li><li>'AURKA_1=1'</li><li>'MIA3_1=1'</li><li>'ADAM15_1=1'</li><li>'HDLBP_1=1'</li><li>'LRRC18_1=1'</li><li>'C5_1=1'</li><li>'TDRD5_3=1'</li><li>'UNC13A_1=1'</li><li>'ZFR_1=1'</li><li>'SLC25A26_1=1'</li><li>'THOC5_2=1'</li><li>'FYCO1_4=1'</li><li>'MACC1_2=1'</li><li>'HOXA4_3=1'</li><li>'DNAH6_1=1'</li><li>'SSC5D_3=1'</li><li>'TMPRSS15_3=1'</li><li>'GORAB_1=1'</li><li>'OR56A4_1=1'</li><li>'ADAM15_2=1'</li><li>'OR10H2_2=1'</li><li>'DNASE1_1=1'</li><li>'IGHMBP2_2=1'</li><li>'RPAIN_1=1'</li><li>'SYT16_1=1'</li><li>'SHANK3_1=1'</li><li>'KRTAP27.1_1=1'</li><li>'OSER1_1=1'</li><li>'TTLL4_1=1'</li><li>'CHST13_2=1'</li><li>'NLRP6_1=1'</li><li>'OTOGL_1=1'</li><li>'STON2_3=1'</li><li>'PSAPL1_3=1'</li><li>'PLEKHH1_1=1'</li><li>'OTOP2_1=1'</li><li>'BNIPL_2=1'</li><li>'HHLA1_2=1'</li><li>'TFRC_1=1'</li><li>'AKAP10_1=1'</li><li>'CWF19L2_1=1'</li><li>'APOBR_1=1'</li><li>'LMO7_5=1'</li><li>'DGCR2_1=1'</li><li>'ANK3_2=1'</li><li>'GCAT_2=1'</li><li>'TRAK1_1=1'</li><li>'FGD2_1=1'</li><li>'FGD4_2=1'</li><li>'CRNN_1=1'</li><li>'CLDN16_1=1'</li><li>'CASP8_1=1'</li><li>'CPO_1=1'</li><li>'MAML3_1=1'</li><li>'FAM160B2_1=1'</li><li>'MTERF4_2=1'</li><li>'MGA_1=1'</li><li>'FAM166B_2=1'</li><li>'COQ3_2=1'</li><li>'DAPK2_2=1'</li><li>'SWT1_2=1'</li><li>'GMNC_1=1'</li><li>'PPARGC1A_2=1'</li><li>'OSBPL5_1=1'</li><li>'FAM118A_1=1'</li><li>'OR7A17_2=1'</li><li>'LRRFIP1_1=1'</li><li>'FAM181B_2=1'</li><li>'TLR3_1=1'</li><li>'SPNS3_1=1'</li><li>'PCDHB15_2=1'</li><li>'LRRC43_1=1'</li><li>'LY6D_1=1'</li><li>'ITIH2_1=1'</li><li>'ZNF75A_1=1'</li><li>'HOXA4_1=1'</li><li>'HSDL1_1=1'</li><li>'CEP63_1=1'</li><li>'ULBP3_1=1'</li><li>'PSKH2_1=1'</li><li>'LINS1_3=1'</li><li>'HNRNPA1L2_2=1'</li><li>'ZZEF1_2=1'</li><li>'TRIM65_2=1'</li><li>'PNPT1_1=1'</li><li>'HOXD4_1=1'</li><li>'PDILT_3=1'</li><li>'AS3MT_1=1'</li><li>'C4orf36_1=1'</li><li>'ANO9_1=1'</li><li>'ANXA11_2=1'</li><li>'PLEKHN1_1=1'</li><li>'FBXW4_1=1'</li><li>'RBBP6_2=1'</li><li>'AP3D1_1=1'</li><li>'LRP2_2=1'</li><li>'CBR3_2=1'</li><li>'VWA3A_3=1'</li><li>'SEC16A_1=1'</li><li>'CEP89_5=1'</li><li>'PDHX_1=1'</li><li>'SELP_1_homo=1'</li><li>'RRM2_1_homo=1'</li><li>'FSIP2_2_homo=1'</li><li>'HOXA4_1_homo=1'</li><li>'TMEM221_2_homo=1'</li><li>'COG3_1_homo=1'</li><li>'DNAH12_3_homo=1'</li><li>'RRP12_1_homo=1'</li><li>'PAX4_1_homo=1'</li><li>'IL17RC_1_homo=1'</li><li>'GBP2_1_homo=1'</li><li>'TGIF2LX_1_hemi=1'</li><li>'LRP2_2_hemi=1'</li><li>'MRPL10_1_hemi=1'</li><li>'MAGEB18_1_hemi=1'</li><li>'GPC4_1_hemi=1'</li><li>'SLC7A3_1_hemi=1'</li><li>'MAGEC1_3_hemi=1'</li><li>'ANOS1_1_hemi=1'</li><li>'TXK_1_hemi=1'</li><li>'RBMX_1_hemi=1'</li><li>'MAGEB3_2_hemi=1'</li><li>'POF1B_1_hemi=1'</li><li>'SLC25A5_1_hemi=1'</li><li>'FMR1NB_1_hemi=1'</li><li>'TENT5D_1_hemi=1'</li><li>'SHROOM4_1_hemi=1'</li><li>'IBTK_1_hemi=1'</li><li>'SLC16A2_1_hemi=1'</li><li>'HCFC1_1_hemi=1'</li><li>'MXRA5_1_hemi=1'</li><li>'FOXR2_1_hemi=1'</li><li>'C1GALT1C1_1_hemi=1'</li><li>'FAM47A_2_hemi=1'</li><li>'C1QTNF9_1_hemi=1'</li><li>'GLUD2_1_hemi=1'</li><li>'ADGRG4_3_hemi=1'</li><li>'FIGLA_1_hemi=1'</li><li>'KCNE5_1_hemi=1'</li><li>'ARL13A_1_hemi=1'</li><li>'PJA1_1_hemi=1'</li><li>'F9_1_hemi=1'</li><li>'GPR101_2_hemi=1'</li><li>'ARHGAP6_1_hemi=1'</li><li>'PGLYRP2_3_hemi=1'</li><li>'PRKX_1_hemi=1'</li></ol>\n"
      ],
      "text/latex": [
       "\\begin{enumerate*}\n",
       "\\item 'DMRTA2\\_rare\\_AR=1'\n",
       "\\item 'B4GALNT3\\_rare\\_AR=1'\n",
       "\\item 'ANTXRL\\_rare\\_AR=1'\n",
       "\\item 'IRS2\\_rare\\_AR=1'\n",
       "\\item 'MUC5B\\_rare\\_AR=1'\n",
       "\\item 'CELSR1\\_rare\\_AR=1'\n",
       "\\item 'DPP6\\_rare\\_AR=1'\n",
       "\\item 'SRSF8\\_rare\\_AR=1'\n",
       "\\item 'RBM12B\\_rare\\_AR=1'\n",
       "\\item 'VPS13A\\_rare\\_AR=1'\n",
       "\\item 'FLG2\\_rare\\_AR=1'\n",
       "\\item 'SEMG1\\_rare\\_AR=1'\n",
       "\\item 'PLEKHA4\\_rare\\_AR=1'\n",
       "\\item 'OVCH2\\_rare\\_AR=1'\n",
       "\\item 'MUC19\\_rare\\_AR=1'\n",
       "\\item 'CFAP99\\_rare\\_AR=1'\n",
       "\\item 'ANKRD18A\\_rare\\_AR=1'\n",
       "\\item 'RPUSD3\\_rare\\_AR=1'\n",
       "\\item 'DSG4\\_rare\\_AR=1'\n",
       "\\item 'ARID1B\\_rare\\_AR=1'\n",
       "\\item 'GOLGA6L4\\_rare\\_AR=1'\n",
       "\\item 'MYORG\\_rare\\_AR=1'\n",
       "\\item 'MPDZ\\_rare\\_AR=1'\n",
       "\\item 'TGM4\\_rare\\_AR=1'\n",
       "\\item 'DNAH3\\_rare\\_AR=1'\n",
       "\\item 'ZNF469\\_rare\\_AR=1'\n",
       "\\item 'TMEM232\\_rare\\_AR=1'\n",
       "\\item 'GOLGA6L10\\_rare\\_AR=1'\n",
       "\\item 'NEB\\_rare\\_AR=1'\n",
       "\\item 'DST\\_rare\\_AR=1'\n",
       "\\item 'PCDH15\\_rare\\_AR=1'\n",
       "\\item 'SCRT1\\_rare\\_AR=1'\n",
       "\\item 'ADGRF1\\_rare\\_AR=1'\n",
       "\\item 'CDAN1\\_rare\\_AR=1'\n",
       "\\item 'BRCA2\\_rare\\_AR=1'\n",
       "\\item 'TAAR9\\_rare\\_AR=1'\n",
       "\\item 'HMCN1\\_rare\\_AR=1'\n",
       "\\item 'FSIP2\\_rare\\_AR=1'\n",
       "\\item 'BTNL8\\_rare\\_AR=1'\n",
       "\\item 'VIT\\_rare\\_AR=1'\n",
       "\\item 'POLQ\\_rare\\_AR=1'\n",
       "\\item 'C8orf74\\_rare\\_AR=1'\n",
       "\\item 'IL12RB2\\_rare\\_AR=1'\n",
       "\\item 'PCLO\\_rare\\_AR=1'\n",
       "\\item 'PITPNM2\\_rare\\_AR=1'\n",
       "\\item 'DNAH17\\_rare\\_AR=1'\n",
       "\\item 'APOB\\_rare\\_AR=1'\n",
       "\\item 'MYH7B\\_rare\\_AR=1'\n",
       "\\item 'ANKRD11\\_rare\\_AR=1'\n",
       "\\item 'NBPF11\\_rare\\_AR=1'\n",
       "\\item 'NPIPB12.NPIPB13\\_rare\\_AR=1'\n",
       "\\item 'C18orf25\\_rare\\_AR=1'\n",
       "\\item 'DNAH14\\_rare\\_AR=1'\n",
       "\\item 'DLX6\\_rare\\_AR=1'\n",
       "\\item 'HSPG2\\_rare\\_AR=1'\n",
       "\\item 'DNAH11\\_rare\\_AR=1'\n",
       "\\item 'CUBN\\_rare\\_AR=1'\n",
       "\\item 'ANKRD53\\_rare\\_AR=1'\n",
       "\\item 'NPIPB5\\_rare\\_AR=1'\n",
       "\\item 'RYR1\\_rare\\_AR=1'\n",
       "\\item 'FAM186A\\_rare\\_AR=1'\n",
       "\\item 'LAMA5\\_rare\\_AR=1'\n",
       "\\item 'PREX2\\_rare\\_AR=1'\n",
       "\\item 'NIPA2\\_rare\\_AR=1'\n",
       "\\item 'CASZ1\\_rare\\_AR=1'\n",
       "\\item 'MEI1\\_rare\\_AR=1'\n",
       "\\item 'CCDC180\\_rare\\_AR=1'\n",
       "\\item 'AGRN\\_rare\\_AR=1'\n",
       "\\item 'TOP3A\\_rare\\_AR=1'\n",
       "\\item 'MICAL1\\_rare\\_AD=1'\n",
       "\\item 'SGSM2\\_rare\\_AD=1'\n",
       "\\item 'LRRC14B\\_rare\\_AD=1'\n",
       "\\item 'NOD2\\_rare\\_AD=1'\n",
       "\\item 'TICRR\\_rare\\_AD=1'\n",
       "\\item 'PSD\\_rare\\_AD=1'\n",
       "\\item 'ASXL1\\_rare\\_AD=1'\n",
       "\\item 'RBM20\\_rare\\_AD=1'\n",
       "\\item 'PLEKHA4\\_rare\\_AD=1'\n",
       "\\item 'VPS16\\_rare\\_AD=1'\n",
       "\\item 'DUOX2\\_rare\\_AD=1'\n",
       "\\item 'EDAR\\_rare=1'\n",
       "\\item 'TNFRSF9\\_rare=1'\n",
       "\\item 'SNRK\\_rare=1'\n",
       "\\item 'MORC4\\_rare=1'\n",
       "\\item 'TXLNG\\_rare=1'\n",
       "\\item 'AWAT2\\_rare=1'\n",
       "\\item 'SRSF8\\_rare=1'\n",
       "\\item 'TAF8\\_rare=1'\n",
       "\\item 'CCDC22\\_rare=1'\n",
       "\\item 'ZCCHC12\\_rare=1'\n",
       "\\item 'TLR7\\_rare=1'\n",
       "\\item 'LYAR\\_rare=1'\n",
       "\\item 'MAGEA10\\_rare=1'\n",
       "\\item 'NTSR2\\_rare=1'\n",
       "\\item 'NEXMIF\\_rare=1'\n",
       "\\item 'ALG13\\_rare=1'\n",
       "\\item 'TNFSF9\\_rare=1'\n",
       "\\item 'MAGEE1\\_rare=1'\n",
       "\\item 'MAGEA11\\_rare=1'\n",
       "\\item 'TBC1D8B\\_rare=1'\n",
       "\\item 'ITIH6\\_rare=1'\n",
       "\\item 'GDPD2\\_rare=1'\n",
       "\\item 'ADGRG4\\_rare=1'\n",
       "\\item 'XPNPEP2\\_rare=1'\n",
       "\\item 'POF1B\\_rare=1'\n",
       "\\item 'ARHGAP4\\_rare=1'\n",
       "\\item 'MEGF8\\_rare=1'\n",
       "\\item 'ZBTB33\\_rare=1'\n",
       "\\item 'COL4A5\\_rare=1'\n",
       "\\item 'GLRA4\\_rare=1'\n",
       "\\item 'STK26\\_rare=1'\n",
       "\\item 'IRS1\\_rare=1'\n",
       "\\item 'PWWP3B\\_rare=1'\n",
       "\\item 'CACNA1F\\_rare=1'\n",
       "\\item 'RBMXL3\\_rare=1'\n",
       "\\item 'ARMCX4\\_rare=1'\n",
       "\\item 'RRS1\\_rare=1'\n",
       "\\item 'TSPEAR\\_rare=1'\n",
       "\\item 'FLNA\\_rare=1'\n",
       "\\item 'SYTL4\\_rare=1'\n",
       "\\item 'TAF1\\_rare=1'\n",
       "\\item 'TRO\\_rare=1'\n",
       "\\item 'ZNF185\\_rare=1'\n",
       "\\item 'SHROOM2\\_rare=1'\n",
       "\\item 'SATL1\\_rare=1'\n",
       "\\item 'VEGFD\\_rare=1'\n",
       "\\item 'ANKAR\\_rare=1'\n",
       "\\item 'SAGE1\\_rare=1'\n",
       "\\item 'EOGT\\_rare=1'\n",
       "\\item 'IGSF9\\_rare=1'\n",
       "\\item 'LRCH2\\_rare=1'\n",
       "\\item 'NAP1L3\\_rare=1'\n",
       "\\item 'EDA2R\\_rare=1'\n",
       "\\item 'WAS\\_rare=1'\n",
       "\\item 'DEF8\\_rare=1'\n",
       "\\item 'NHSL2\\_rare=1'\n",
       "\\item 'EFHC2\\_rare=1'\n",
       "\\item 'IBTK\\_rare=1'\n",
       "\\item 'PXK\\_rare=1'\n",
       "\\item 'MUC5AC\\_1=1'\n",
       "\\item 'MSH4\\_1=1'\n",
       "\\item 'TBPL2\\_1=1'\n",
       "\\item 'PPM1E\\_1=1'\n",
       "\\item 'N4BP2\\_1=1'\n",
       "\\item 'PPP1R26\\_1=1'\n",
       "\\item 'CYP4F2\\_3=1'\n",
       "\\item 'AURKA\\_1=1'\n",
       "\\item 'MIA3\\_1=1'\n",
       "\\item 'ADAM15\\_1=1'\n",
       "\\item 'HDLBP\\_1=1'\n",
       "\\item 'LRRC18\\_1=1'\n",
       "\\item 'C5\\_1=1'\n",
       "\\item 'TDRD5\\_3=1'\n",
       "\\item 'UNC13A\\_1=1'\n",
       "\\item 'ZFR\\_1=1'\n",
       "\\item 'SLC25A26\\_1=1'\n",
       "\\item 'THOC5\\_2=1'\n",
       "\\item 'FYCO1\\_4=1'\n",
       "\\item 'MACC1\\_2=1'\n",
       "\\item 'HOXA4\\_3=1'\n",
       "\\item 'DNAH6\\_1=1'\n",
       "\\item 'SSC5D\\_3=1'\n",
       "\\item 'TMPRSS15\\_3=1'\n",
       "\\item 'GORAB\\_1=1'\n",
       "\\item 'OR56A4\\_1=1'\n",
       "\\item 'ADAM15\\_2=1'\n",
       "\\item 'OR10H2\\_2=1'\n",
       "\\item 'DNASE1\\_1=1'\n",
       "\\item 'IGHMBP2\\_2=1'\n",
       "\\item 'RPAIN\\_1=1'\n",
       "\\item 'SYT16\\_1=1'\n",
       "\\item 'SHANK3\\_1=1'\n",
       "\\item 'KRTAP27.1\\_1=1'\n",
       "\\item 'OSER1\\_1=1'\n",
       "\\item 'TTLL4\\_1=1'\n",
       "\\item 'CHST13\\_2=1'\n",
       "\\item 'NLRP6\\_1=1'\n",
       "\\item 'OTOGL\\_1=1'\n",
       "\\item 'STON2\\_3=1'\n",
       "\\item 'PSAPL1\\_3=1'\n",
       "\\item 'PLEKHH1\\_1=1'\n",
       "\\item 'OTOP2\\_1=1'\n",
       "\\item 'BNIPL\\_2=1'\n",
       "\\item 'HHLA1\\_2=1'\n",
       "\\item 'TFRC\\_1=1'\n",
       "\\item 'AKAP10\\_1=1'\n",
       "\\item 'CWF19L2\\_1=1'\n",
       "\\item 'APOBR\\_1=1'\n",
       "\\item 'LMO7\\_5=1'\n",
       "\\item 'DGCR2\\_1=1'\n",
       "\\item 'ANK3\\_2=1'\n",
       "\\item 'GCAT\\_2=1'\n",
       "\\item 'TRAK1\\_1=1'\n",
       "\\item 'FGD2\\_1=1'\n",
       "\\item 'FGD4\\_2=1'\n",
       "\\item 'CRNN\\_1=1'\n",
       "\\item 'CLDN16\\_1=1'\n",
       "\\item 'CASP8\\_1=1'\n",
       "\\item 'CPO\\_1=1'\n",
       "\\item 'MAML3\\_1=1'\n",
       "\\item 'FAM160B2\\_1=1'\n",
       "\\item 'MTERF4\\_2=1'\n",
       "\\item 'MGA\\_1=1'\n",
       "\\item 'FAM166B\\_2=1'\n",
       "\\item 'COQ3\\_2=1'\n",
       "\\item 'DAPK2\\_2=1'\n",
       "\\item 'SWT1\\_2=1'\n",
       "\\item 'GMNC\\_1=1'\n",
       "\\item 'PPARGC1A\\_2=1'\n",
       "\\item 'OSBPL5\\_1=1'\n",
       "\\item 'FAM118A\\_1=1'\n",
       "\\item 'OR7A17\\_2=1'\n",
       "\\item 'LRRFIP1\\_1=1'\n",
       "\\item 'FAM181B\\_2=1'\n",
       "\\item 'TLR3\\_1=1'\n",
       "\\item 'SPNS3\\_1=1'\n",
       "\\item 'PCDHB15\\_2=1'\n",
       "\\item 'LRRC43\\_1=1'\n",
       "\\item 'LY6D\\_1=1'\n",
       "\\item 'ITIH2\\_1=1'\n",
       "\\item 'ZNF75A\\_1=1'\n",
       "\\item 'HOXA4\\_1=1'\n",
       "\\item 'HSDL1\\_1=1'\n",
       "\\item 'CEP63\\_1=1'\n",
       "\\item 'ULBP3\\_1=1'\n",
       "\\item 'PSKH2\\_1=1'\n",
       "\\item 'LINS1\\_3=1'\n",
       "\\item 'HNRNPA1L2\\_2=1'\n",
       "\\item 'ZZEF1\\_2=1'\n",
       "\\item 'TRIM65\\_2=1'\n",
       "\\item 'PNPT1\\_1=1'\n",
       "\\item 'HOXD4\\_1=1'\n",
       "\\item 'PDILT\\_3=1'\n",
       "\\item 'AS3MT\\_1=1'\n",
       "\\item 'C4orf36\\_1=1'\n",
       "\\item 'ANO9\\_1=1'\n",
       "\\item 'ANXA11\\_2=1'\n",
       "\\item 'PLEKHN1\\_1=1'\n",
       "\\item 'FBXW4\\_1=1'\n",
       "\\item 'RBBP6\\_2=1'\n",
       "\\item 'AP3D1\\_1=1'\n",
       "\\item 'LRP2\\_2=1'\n",
       "\\item 'CBR3\\_2=1'\n",
       "\\item 'VWA3A\\_3=1'\n",
       "\\item 'SEC16A\\_1=1'\n",
       "\\item 'CEP89\\_5=1'\n",
       "\\item 'PDHX\\_1=1'\n",
       "\\item 'SELP\\_1\\_homo=1'\n",
       "\\item 'RRM2\\_1\\_homo=1'\n",
       "\\item 'FSIP2\\_2\\_homo=1'\n",
       "\\item 'HOXA4\\_1\\_homo=1'\n",
       "\\item 'TMEM221\\_2\\_homo=1'\n",
       "\\item 'COG3\\_1\\_homo=1'\n",
       "\\item 'DNAH12\\_3\\_homo=1'\n",
       "\\item 'RRP12\\_1\\_homo=1'\n",
       "\\item 'PAX4\\_1\\_homo=1'\n",
       "\\item 'IL17RC\\_1\\_homo=1'\n",
       "\\item 'GBP2\\_1\\_homo=1'\n",
       "\\item 'TGIF2LX\\_1\\_hemi=1'\n",
       "\\item 'LRP2\\_2\\_hemi=1'\n",
       "\\item 'MRPL10\\_1\\_hemi=1'\n",
       "\\item 'MAGEB18\\_1\\_hemi=1'\n",
       "\\item 'GPC4\\_1\\_hemi=1'\n",
       "\\item 'SLC7A3\\_1\\_hemi=1'\n",
       "\\item 'MAGEC1\\_3\\_hemi=1'\n",
       "\\item 'ANOS1\\_1\\_hemi=1'\n",
       "\\item 'TXK\\_1\\_hemi=1'\n",
       "\\item 'RBMX\\_1\\_hemi=1'\n",
       "\\item 'MAGEB3\\_2\\_hemi=1'\n",
       "\\item 'POF1B\\_1\\_hemi=1'\n",
       "\\item 'SLC25A5\\_1\\_hemi=1'\n",
       "\\item 'FMR1NB\\_1\\_hemi=1'\n",
       "\\item 'TENT5D\\_1\\_hemi=1'\n",
       "\\item 'SHROOM4\\_1\\_hemi=1'\n",
       "\\item 'IBTK\\_1\\_hemi=1'\n",
       "\\item 'SLC16A2\\_1\\_hemi=1'\n",
       "\\item 'HCFC1\\_1\\_hemi=1'\n",
       "\\item 'MXRA5\\_1\\_hemi=1'\n",
       "\\item 'FOXR2\\_1\\_hemi=1'\n",
       "\\item 'C1GALT1C1\\_1\\_hemi=1'\n",
       "\\item 'FAM47A\\_2\\_hemi=1'\n",
       "\\item 'C1QTNF9\\_1\\_hemi=1'\n",
       "\\item 'GLUD2\\_1\\_hemi=1'\n",
       "\\item 'ADGRG4\\_3\\_hemi=1'\n",
       "\\item 'FIGLA\\_1\\_hemi=1'\n",
       "\\item 'KCNE5\\_1\\_hemi=1'\n",
       "\\item 'ARL13A\\_1\\_hemi=1'\n",
       "\\item 'PJA1\\_1\\_hemi=1'\n",
       "\\item 'F9\\_1\\_hemi=1'\n",
       "\\item 'GPR101\\_2\\_hemi=1'\n",
       "\\item 'ARHGAP6\\_1\\_hemi=1'\n",
       "\\item 'PGLYRP2\\_3\\_hemi=1'\n",
       "\\item 'PRKX\\_1\\_hemi=1'\n",
       "\\end{enumerate*}\n"
      ],
      "text/markdown": [
       "1. 'DMRTA2_rare_AR=1'\n",
       "2. 'B4GALNT3_rare_AR=1'\n",
       "3. 'ANTXRL_rare_AR=1'\n",
       "4. 'IRS2_rare_AR=1'\n",
       "5. 'MUC5B_rare_AR=1'\n",
       "6. 'CELSR1_rare_AR=1'\n",
       "7. 'DPP6_rare_AR=1'\n",
       "8. 'SRSF8_rare_AR=1'\n",
       "9. 'RBM12B_rare_AR=1'\n",
       "10. 'VPS13A_rare_AR=1'\n",
       "11. 'FLG2_rare_AR=1'\n",
       "12. 'SEMG1_rare_AR=1'\n",
       "13. 'PLEKHA4_rare_AR=1'\n",
       "14. 'OVCH2_rare_AR=1'\n",
       "15. 'MUC19_rare_AR=1'\n",
       "16. 'CFAP99_rare_AR=1'\n",
       "17. 'ANKRD18A_rare_AR=1'\n",
       "18. 'RPUSD3_rare_AR=1'\n",
       "19. 'DSG4_rare_AR=1'\n",
       "20. 'ARID1B_rare_AR=1'\n",
       "21. 'GOLGA6L4_rare_AR=1'\n",
       "22. 'MYORG_rare_AR=1'\n",
       "23. 'MPDZ_rare_AR=1'\n",
       "24. 'TGM4_rare_AR=1'\n",
       "25. 'DNAH3_rare_AR=1'\n",
       "26. 'ZNF469_rare_AR=1'\n",
       "27. 'TMEM232_rare_AR=1'\n",
       "28. 'GOLGA6L10_rare_AR=1'\n",
       "29. 'NEB_rare_AR=1'\n",
       "30. 'DST_rare_AR=1'\n",
       "31. 'PCDH15_rare_AR=1'\n",
       "32. 'SCRT1_rare_AR=1'\n",
       "33. 'ADGRF1_rare_AR=1'\n",
       "34. 'CDAN1_rare_AR=1'\n",
       "35. 'BRCA2_rare_AR=1'\n",
       "36. 'TAAR9_rare_AR=1'\n",
       "37. 'HMCN1_rare_AR=1'\n",
       "38. 'FSIP2_rare_AR=1'\n",
       "39. 'BTNL8_rare_AR=1'\n",
       "40. 'VIT_rare_AR=1'\n",
       "41. 'POLQ_rare_AR=1'\n",
       "42. 'C8orf74_rare_AR=1'\n",
       "43. 'IL12RB2_rare_AR=1'\n",
       "44. 'PCLO_rare_AR=1'\n",
       "45. 'PITPNM2_rare_AR=1'\n",
       "46. 'DNAH17_rare_AR=1'\n",
       "47. 'APOB_rare_AR=1'\n",
       "48. 'MYH7B_rare_AR=1'\n",
       "49. 'ANKRD11_rare_AR=1'\n",
       "50. 'NBPF11_rare_AR=1'\n",
       "51. 'NPIPB12.NPIPB13_rare_AR=1'\n",
       "52. 'C18orf25_rare_AR=1'\n",
       "53. 'DNAH14_rare_AR=1'\n",
       "54. 'DLX6_rare_AR=1'\n",
       "55. 'HSPG2_rare_AR=1'\n",
       "56. 'DNAH11_rare_AR=1'\n",
       "57. 'CUBN_rare_AR=1'\n",
       "58. 'ANKRD53_rare_AR=1'\n",
       "59. 'NPIPB5_rare_AR=1'\n",
       "60. 'RYR1_rare_AR=1'\n",
       "61. 'FAM186A_rare_AR=1'\n",
       "62. 'LAMA5_rare_AR=1'\n",
       "63. 'PREX2_rare_AR=1'\n",
       "64. 'NIPA2_rare_AR=1'\n",
       "65. 'CASZ1_rare_AR=1'\n",
       "66. 'MEI1_rare_AR=1'\n",
       "67. 'CCDC180_rare_AR=1'\n",
       "68. 'AGRN_rare_AR=1'\n",
       "69. 'TOP3A_rare_AR=1'\n",
       "70. 'MICAL1_rare_AD=1'\n",
       "71. 'SGSM2_rare_AD=1'\n",
       "72. 'LRRC14B_rare_AD=1'\n",
       "73. 'NOD2_rare_AD=1'\n",
       "74. 'TICRR_rare_AD=1'\n",
       "75. 'PSD_rare_AD=1'\n",
       "76. 'ASXL1_rare_AD=1'\n",
       "77. 'RBM20_rare_AD=1'\n",
       "78. 'PLEKHA4_rare_AD=1'\n",
       "79. 'VPS16_rare_AD=1'\n",
       "80. 'DUOX2_rare_AD=1'\n",
       "81. 'EDAR_rare=1'\n",
       "82. 'TNFRSF9_rare=1'\n",
       "83. 'SNRK_rare=1'\n",
       "84. 'MORC4_rare=1'\n",
       "85. 'TXLNG_rare=1'\n",
       "86. 'AWAT2_rare=1'\n",
       "87. 'SRSF8_rare=1'\n",
       "88. 'TAF8_rare=1'\n",
       "89. 'CCDC22_rare=1'\n",
       "90. 'ZCCHC12_rare=1'\n",
       "91. 'TLR7_rare=1'\n",
       "92. 'LYAR_rare=1'\n",
       "93. 'MAGEA10_rare=1'\n",
       "94. 'NTSR2_rare=1'\n",
       "95. 'NEXMIF_rare=1'\n",
       "96. 'ALG13_rare=1'\n",
       "97. 'TNFSF9_rare=1'\n",
       "98. 'MAGEE1_rare=1'\n",
       "99. 'MAGEA11_rare=1'\n",
       "100. 'TBC1D8B_rare=1'\n",
       "101. 'ITIH6_rare=1'\n",
       "102. 'GDPD2_rare=1'\n",
       "103. 'ADGRG4_rare=1'\n",
       "104. 'XPNPEP2_rare=1'\n",
       "105. 'POF1B_rare=1'\n",
       "106. 'ARHGAP4_rare=1'\n",
       "107. 'MEGF8_rare=1'\n",
       "108. 'ZBTB33_rare=1'\n",
       "109. 'COL4A5_rare=1'\n",
       "110. 'GLRA4_rare=1'\n",
       "111. 'STK26_rare=1'\n",
       "112. 'IRS1_rare=1'\n",
       "113. 'PWWP3B_rare=1'\n",
       "114. 'CACNA1F_rare=1'\n",
       "115. 'RBMXL3_rare=1'\n",
       "116. 'ARMCX4_rare=1'\n",
       "117. 'RRS1_rare=1'\n",
       "118. 'TSPEAR_rare=1'\n",
       "119. 'FLNA_rare=1'\n",
       "120. 'SYTL4_rare=1'\n",
       "121. 'TAF1_rare=1'\n",
       "122. 'TRO_rare=1'\n",
       "123. 'ZNF185_rare=1'\n",
       "124. 'SHROOM2_rare=1'\n",
       "125. 'SATL1_rare=1'\n",
       "126. 'VEGFD_rare=1'\n",
       "127. 'ANKAR_rare=1'\n",
       "128. 'SAGE1_rare=1'\n",
       "129. 'EOGT_rare=1'\n",
       "130. 'IGSF9_rare=1'\n",
       "131. 'LRCH2_rare=1'\n",
       "132. 'NAP1L3_rare=1'\n",
       "133. 'EDA2R_rare=1'\n",
       "134. 'WAS_rare=1'\n",
       "135. 'DEF8_rare=1'\n",
       "136. 'NHSL2_rare=1'\n",
       "137. 'EFHC2_rare=1'\n",
       "138. 'IBTK_rare=1'\n",
       "139. 'PXK_rare=1'\n",
       "140. 'MUC5AC_1=1'\n",
       "141. 'MSH4_1=1'\n",
       "142. 'TBPL2_1=1'\n",
       "143. 'PPM1E_1=1'\n",
       "144. 'N4BP2_1=1'\n",
       "145. 'PPP1R26_1=1'\n",
       "146. 'CYP4F2_3=1'\n",
       "147. 'AURKA_1=1'\n",
       "148. 'MIA3_1=1'\n",
       "149. 'ADAM15_1=1'\n",
       "150. 'HDLBP_1=1'\n",
       "151. 'LRRC18_1=1'\n",
       "152. 'C5_1=1'\n",
       "153. 'TDRD5_3=1'\n",
       "154. 'UNC13A_1=1'\n",
       "155. 'ZFR_1=1'\n",
       "156. 'SLC25A26_1=1'\n",
       "157. 'THOC5_2=1'\n",
       "158. 'FYCO1_4=1'\n",
       "159. 'MACC1_2=1'\n",
       "160. 'HOXA4_3=1'\n",
       "161. 'DNAH6_1=1'\n",
       "162. 'SSC5D_3=1'\n",
       "163. 'TMPRSS15_3=1'\n",
       "164. 'GORAB_1=1'\n",
       "165. 'OR56A4_1=1'\n",
       "166. 'ADAM15_2=1'\n",
       "167. 'OR10H2_2=1'\n",
       "168. 'DNASE1_1=1'\n",
       "169. 'IGHMBP2_2=1'\n",
       "170. 'RPAIN_1=1'\n",
       "171. 'SYT16_1=1'\n",
       "172. 'SHANK3_1=1'\n",
       "173. 'KRTAP27.1_1=1'\n",
       "174. 'OSER1_1=1'\n",
       "175. 'TTLL4_1=1'\n",
       "176. 'CHST13_2=1'\n",
       "177. 'NLRP6_1=1'\n",
       "178. 'OTOGL_1=1'\n",
       "179. 'STON2_3=1'\n",
       "180. 'PSAPL1_3=1'\n",
       "181. 'PLEKHH1_1=1'\n",
       "182. 'OTOP2_1=1'\n",
       "183. 'BNIPL_2=1'\n",
       "184. 'HHLA1_2=1'\n",
       "185. 'TFRC_1=1'\n",
       "186. 'AKAP10_1=1'\n",
       "187. 'CWF19L2_1=1'\n",
       "188. 'APOBR_1=1'\n",
       "189. 'LMO7_5=1'\n",
       "190. 'DGCR2_1=1'\n",
       "191. 'ANK3_2=1'\n",
       "192. 'GCAT_2=1'\n",
       "193. 'TRAK1_1=1'\n",
       "194. 'FGD2_1=1'\n",
       "195. 'FGD4_2=1'\n",
       "196. 'CRNN_1=1'\n",
       "197. 'CLDN16_1=1'\n",
       "198. 'CASP8_1=1'\n",
       "199. 'CPO_1=1'\n",
       "200. 'MAML3_1=1'\n",
       "201. 'FAM160B2_1=1'\n",
       "202. 'MTERF4_2=1'\n",
       "203. 'MGA_1=1'\n",
       "204. 'FAM166B_2=1'\n",
       "205. 'COQ3_2=1'\n",
       "206. 'DAPK2_2=1'\n",
       "207. 'SWT1_2=1'\n",
       "208. 'GMNC_1=1'\n",
       "209. 'PPARGC1A_2=1'\n",
       "210. 'OSBPL5_1=1'\n",
       "211. 'FAM118A_1=1'\n",
       "212. 'OR7A17_2=1'\n",
       "213. 'LRRFIP1_1=1'\n",
       "214. 'FAM181B_2=1'\n",
       "215. 'TLR3_1=1'\n",
       "216. 'SPNS3_1=1'\n",
       "217. 'PCDHB15_2=1'\n",
       "218. 'LRRC43_1=1'\n",
       "219. 'LY6D_1=1'\n",
       "220. 'ITIH2_1=1'\n",
       "221. 'ZNF75A_1=1'\n",
       "222. 'HOXA4_1=1'\n",
       "223. 'HSDL1_1=1'\n",
       "224. 'CEP63_1=1'\n",
       "225. 'ULBP3_1=1'\n",
       "226. 'PSKH2_1=1'\n",
       "227. 'LINS1_3=1'\n",
       "228. 'HNRNPA1L2_2=1'\n",
       "229. 'ZZEF1_2=1'\n",
       "230. 'TRIM65_2=1'\n",
       "231. 'PNPT1_1=1'\n",
       "232. 'HOXD4_1=1'\n",
       "233. 'PDILT_3=1'\n",
       "234. 'AS3MT_1=1'\n",
       "235. 'C4orf36_1=1'\n",
       "236. 'ANO9_1=1'\n",
       "237. 'ANXA11_2=1'\n",
       "238. 'PLEKHN1_1=1'\n",
       "239. 'FBXW4_1=1'\n",
       "240. 'RBBP6_2=1'\n",
       "241. 'AP3D1_1=1'\n",
       "242. 'LRP2_2=1'\n",
       "243. 'CBR3_2=1'\n",
       "244. 'VWA3A_3=1'\n",
       "245. 'SEC16A_1=1'\n",
       "246. 'CEP89_5=1'\n",
       "247. 'PDHX_1=1'\n",
       "248. 'SELP_1_homo=1'\n",
       "249. 'RRM2_1_homo=1'\n",
       "250. 'FSIP2_2_homo=1'\n",
       "251. 'HOXA4_1_homo=1'\n",
       "252. 'TMEM221_2_homo=1'\n",
       "253. 'COG3_1_homo=1'\n",
       "254. 'DNAH12_3_homo=1'\n",
       "255. 'RRP12_1_homo=1'\n",
       "256. 'PAX4_1_homo=1'\n",
       "257. 'IL17RC_1_homo=1'\n",
       "258. 'GBP2_1_homo=1'\n",
       "259. 'TGIF2LX_1_hemi=1'\n",
       "260. 'LRP2_2_hemi=1'\n",
       "261. 'MRPL10_1_hemi=1'\n",
       "262. 'MAGEB18_1_hemi=1'\n",
       "263. 'GPC4_1_hemi=1'\n",
       "264. 'SLC7A3_1_hemi=1'\n",
       "265. 'MAGEC1_3_hemi=1'\n",
       "266. 'ANOS1_1_hemi=1'\n",
       "267. 'TXK_1_hemi=1'\n",
       "268. 'RBMX_1_hemi=1'\n",
       "269. 'MAGEB3_2_hemi=1'\n",
       "270. 'POF1B_1_hemi=1'\n",
       "271. 'SLC25A5_1_hemi=1'\n",
       "272. 'FMR1NB_1_hemi=1'\n",
       "273. 'TENT5D_1_hemi=1'\n",
       "274. 'SHROOM4_1_hemi=1'\n",
       "275. 'IBTK_1_hemi=1'\n",
       "276. 'SLC16A2_1_hemi=1'\n",
       "277. 'HCFC1_1_hemi=1'\n",
       "278. 'MXRA5_1_hemi=1'\n",
       "279. 'FOXR2_1_hemi=1'\n",
       "280. 'C1GALT1C1_1_hemi=1'\n",
       "281. 'FAM47A_2_hemi=1'\n",
       "282. 'C1QTNF9_1_hemi=1'\n",
       "283. 'GLUD2_1_hemi=1'\n",
       "284. 'ADGRG4_3_hemi=1'\n",
       "285. 'FIGLA_1_hemi=1'\n",
       "286. 'KCNE5_1_hemi=1'\n",
       "287. 'ARL13A_1_hemi=1'\n",
       "288. 'PJA1_1_hemi=1'\n",
       "289. 'F9_1_hemi=1'\n",
       "290. 'GPR101_2_hemi=1'\n",
       "291. 'ARHGAP6_1_hemi=1'\n",
       "292. 'PGLYRP2_3_hemi=1'\n",
       "293. 'PRKX_1_hemi=1'\n",
       "\n",
       "\n"
      ],
      "text/plain": [
       "  [1] \"DMRTA2_rare_AR=1\"          \"B4GALNT3_rare_AR=1\"       \n",
       "  [3] \"ANTXRL_rare_AR=1\"          \"IRS2_rare_AR=1\"           \n",
       "  [5] \"MUC5B_rare_AR=1\"           \"CELSR1_rare_AR=1\"         \n",
       "  [7] \"DPP6_rare_AR=1\"            \"SRSF8_rare_AR=1\"          \n",
       "  [9] \"RBM12B_rare_AR=1\"          \"VPS13A_rare_AR=1\"         \n",
       " [11] \"FLG2_rare_AR=1\"            \"SEMG1_rare_AR=1\"          \n",
       " [13] \"PLEKHA4_rare_AR=1\"         \"OVCH2_rare_AR=1\"          \n",
       " [15] \"MUC19_rare_AR=1\"           \"CFAP99_rare_AR=1\"         \n",
       " [17] \"ANKRD18A_rare_AR=1\"        \"RPUSD3_rare_AR=1\"         \n",
       " [19] \"DSG4_rare_AR=1\"            \"ARID1B_rare_AR=1\"         \n",
       " [21] \"GOLGA6L4_rare_AR=1\"        \"MYORG_rare_AR=1\"          \n",
       " [23] \"MPDZ_rare_AR=1\"            \"TGM4_rare_AR=1\"           \n",
       " [25] \"DNAH3_rare_AR=1\"           \"ZNF469_rare_AR=1\"         \n",
       " [27] \"TMEM232_rare_AR=1\"         \"GOLGA6L10_rare_AR=1\"      \n",
       " [29] \"NEB_rare_AR=1\"             \"DST_rare_AR=1\"            \n",
       " [31] \"PCDH15_rare_AR=1\"          \"SCRT1_rare_AR=1\"          \n",
       " [33] \"ADGRF1_rare_AR=1\"          \"CDAN1_rare_AR=1\"          \n",
       " [35] \"BRCA2_rare_AR=1\"           \"TAAR9_rare_AR=1\"          \n",
       " [37] \"HMCN1_rare_AR=1\"           \"FSIP2_rare_AR=1\"          \n",
       " [39] \"BTNL8_rare_AR=1\"           \"VIT_rare_AR=1\"            \n",
       " [41] \"POLQ_rare_AR=1\"            \"C8orf74_rare_AR=1\"        \n",
       " [43] \"IL12RB2_rare_AR=1\"         \"PCLO_rare_AR=1\"           \n",
       " [45] \"PITPNM2_rare_AR=1\"         \"DNAH17_rare_AR=1\"         \n",
       " [47] \"APOB_rare_AR=1\"            \"MYH7B_rare_AR=1\"          \n",
       " [49] \"ANKRD11_rare_AR=1\"         \"NBPF11_rare_AR=1\"         \n",
       " [51] \"NPIPB12.NPIPB13_rare_AR=1\" \"C18orf25_rare_AR=1\"       \n",
       " [53] \"DNAH14_rare_AR=1\"          \"DLX6_rare_AR=1\"           \n",
       " [55] \"HSPG2_rare_AR=1\"           \"DNAH11_rare_AR=1\"         \n",
       " [57] \"CUBN_rare_AR=1\"            \"ANKRD53_rare_AR=1\"        \n",
       " [59] \"NPIPB5_rare_AR=1\"          \"RYR1_rare_AR=1\"           \n",
       " [61] \"FAM186A_rare_AR=1\"         \"LAMA5_rare_AR=1\"          \n",
       " [63] \"PREX2_rare_AR=1\"           \"NIPA2_rare_AR=1\"          \n",
       " [65] \"CASZ1_rare_AR=1\"           \"MEI1_rare_AR=1\"           \n",
       " [67] \"CCDC180_rare_AR=1\"         \"AGRN_rare_AR=1\"           \n",
       " [69] \"TOP3A_rare_AR=1\"           \"MICAL1_rare_AD=1\"         \n",
       " [71] \"SGSM2_rare_AD=1\"           \"LRRC14B_rare_AD=1\"        \n",
       " [73] \"NOD2_rare_AD=1\"            \"TICRR_rare_AD=1\"          \n",
       " [75] \"PSD_rare_AD=1\"             \"ASXL1_rare_AD=1\"          \n",
       " [77] \"RBM20_rare_AD=1\"           \"PLEKHA4_rare_AD=1\"        \n",
       " [79] \"VPS16_rare_AD=1\"           \"DUOX2_rare_AD=1\"          \n",
       " [81] \"EDAR_rare=1\"               \"TNFRSF9_rare=1\"           \n",
       " [83] \"SNRK_rare=1\"               \"MORC4_rare=1\"             \n",
       " [85] \"TXLNG_rare=1\"              \"AWAT2_rare=1\"             \n",
       " [87] \"SRSF8_rare=1\"              \"TAF8_rare=1\"              \n",
       " [89] \"CCDC22_rare=1\"             \"ZCCHC12_rare=1\"           \n",
       " [91] \"TLR7_rare=1\"               \"LYAR_rare=1\"              \n",
       " [93] \"MAGEA10_rare=1\"            \"NTSR2_rare=1\"             \n",
       " [95] \"NEXMIF_rare=1\"             \"ALG13_rare=1\"             \n",
       " [97] \"TNFSF9_rare=1\"             \"MAGEE1_rare=1\"            \n",
       " [99] \"MAGEA11_rare=1\"            \"TBC1D8B_rare=1\"           \n",
       "[101] \"ITIH6_rare=1\"              \"GDPD2_rare=1\"             \n",
       "[103] \"ADGRG4_rare=1\"             \"XPNPEP2_rare=1\"           \n",
       "[105] \"POF1B_rare=1\"              \"ARHGAP4_rare=1\"           \n",
       "[107] \"MEGF8_rare=1\"              \"ZBTB33_rare=1\"            \n",
       "[109] \"COL4A5_rare=1\"             \"GLRA4_rare=1\"             \n",
       "[111] \"STK26_rare=1\"              \"IRS1_rare=1\"              \n",
       "[113] \"PWWP3B_rare=1\"             \"CACNA1F_rare=1\"           \n",
       "[115] \"RBMXL3_rare=1\"             \"ARMCX4_rare=1\"            \n",
       "[117] \"RRS1_rare=1\"               \"TSPEAR_rare=1\"            \n",
       "[119] \"FLNA_rare=1\"               \"SYTL4_rare=1\"             \n",
       "[121] \"TAF1_rare=1\"               \"TRO_rare=1\"               \n",
       "[123] \"ZNF185_rare=1\"             \"SHROOM2_rare=1\"           \n",
       "[125] \"SATL1_rare=1\"              \"VEGFD_rare=1\"             \n",
       "[127] \"ANKAR_rare=1\"              \"SAGE1_rare=1\"             \n",
       "[129] \"EOGT_rare=1\"               \"IGSF9_rare=1\"             \n",
       "[131] \"LRCH2_rare=1\"              \"NAP1L3_rare=1\"            \n",
       "[133] \"EDA2R_rare=1\"              \"WAS_rare=1\"               \n",
       "[135] \"DEF8_rare=1\"               \"NHSL2_rare=1\"             \n",
       "[137] \"EFHC2_rare=1\"              \"IBTK_rare=1\"              \n",
       "[139] \"PXK_rare=1\"                \"MUC5AC_1=1\"               \n",
       "[141] \"MSH4_1=1\"                  \"TBPL2_1=1\"                \n",
       "[143] \"PPM1E_1=1\"                 \"N4BP2_1=1\"                \n",
       "[145] \"PPP1R26_1=1\"               \"CYP4F2_3=1\"               \n",
       "[147] \"AURKA_1=1\"                 \"MIA3_1=1\"                 \n",
       "[149] \"ADAM15_1=1\"                \"HDLBP_1=1\"                \n",
       "[151] \"LRRC18_1=1\"                \"C5_1=1\"                   \n",
       "[153] \"TDRD5_3=1\"                 \"UNC13A_1=1\"               \n",
       "[155] \"ZFR_1=1\"                   \"SLC25A26_1=1\"             \n",
       "[157] \"THOC5_2=1\"                 \"FYCO1_4=1\"                \n",
       "[159] \"MACC1_2=1\"                 \"HOXA4_3=1\"                \n",
       "[161] \"DNAH6_1=1\"                 \"SSC5D_3=1\"                \n",
       "[163] \"TMPRSS15_3=1\"              \"GORAB_1=1\"                \n",
       "[165] \"OR56A4_1=1\"                \"ADAM15_2=1\"               \n",
       "[167] \"OR10H2_2=1\"                \"DNASE1_1=1\"               \n",
       "[169] \"IGHMBP2_2=1\"               \"RPAIN_1=1\"                \n",
       "[171] \"SYT16_1=1\"                 \"SHANK3_1=1\"               \n",
       "[173] \"KRTAP27.1_1=1\"             \"OSER1_1=1\"                \n",
       "[175] \"TTLL4_1=1\"                 \"CHST13_2=1\"               \n",
       "[177] \"NLRP6_1=1\"                 \"OTOGL_1=1\"                \n",
       "[179] \"STON2_3=1\"                 \"PSAPL1_3=1\"               \n",
       "[181] \"PLEKHH1_1=1\"               \"OTOP2_1=1\"                \n",
       "[183] \"BNIPL_2=1\"                 \"HHLA1_2=1\"                \n",
       "[185] \"TFRC_1=1\"                  \"AKAP10_1=1\"               \n",
       "[187] \"CWF19L2_1=1\"               \"APOBR_1=1\"                \n",
       "[189] \"LMO7_5=1\"                  \"DGCR2_1=1\"                \n",
       "[191] \"ANK3_2=1\"                  \"GCAT_2=1\"                 \n",
       "[193] \"TRAK1_1=1\"                 \"FGD2_1=1\"                 \n",
       "[195] \"FGD4_2=1\"                  \"CRNN_1=1\"                 \n",
       "[197] \"CLDN16_1=1\"                \"CASP8_1=1\"                \n",
       "[199] \"CPO_1=1\"                   \"MAML3_1=1\"                \n",
       "[201] \"FAM160B2_1=1\"              \"MTERF4_2=1\"               \n",
       "[203] \"MGA_1=1\"                   \"FAM166B_2=1\"              \n",
       "[205] \"COQ3_2=1\"                  \"DAPK2_2=1\"                \n",
       "[207] \"SWT1_2=1\"                  \"GMNC_1=1\"                 \n",
       "[209] \"PPARGC1A_2=1\"              \"OSBPL5_1=1\"               \n",
       "[211] \"FAM118A_1=1\"               \"OR7A17_2=1\"               \n",
       "[213] \"LRRFIP1_1=1\"               \"FAM181B_2=1\"              \n",
       "[215] \"TLR3_1=1\"                  \"SPNS3_1=1\"                \n",
       "[217] \"PCDHB15_2=1\"               \"LRRC43_1=1\"               \n",
       "[219] \"LY6D_1=1\"                  \"ITIH2_1=1\"                \n",
       "[221] \"ZNF75A_1=1\"                \"HOXA4_1=1\"                \n",
       "[223] \"HSDL1_1=1\"                 \"CEP63_1=1\"                \n",
       "[225] \"ULBP3_1=1\"                 \"PSKH2_1=1\"                \n",
       "[227] \"LINS1_3=1\"                 \"HNRNPA1L2_2=1\"            \n",
       "[229] \"ZZEF1_2=1\"                 \"TRIM65_2=1\"               \n",
       "[231] \"PNPT1_1=1\"                 \"HOXD4_1=1\"                \n",
       "[233] \"PDILT_3=1\"                 \"AS3MT_1=1\"                \n",
       "[235] \"C4orf36_1=1\"               \"ANO9_1=1\"                 \n",
       "[237] \"ANXA11_2=1\"                \"PLEKHN1_1=1\"              \n",
       "[239] \"FBXW4_1=1\"                 \"RBBP6_2=1\"                \n",
       "[241] \"AP3D1_1=1\"                 \"LRP2_2=1\"                 \n",
       "[243] \"CBR3_2=1\"                  \"VWA3A_3=1\"                \n",
       "[245] \"SEC16A_1=1\"                \"CEP89_5=1\"                \n",
       "[247] \"PDHX_1=1\"                  \"SELP_1_homo=1\"            \n",
       "[249] \"RRM2_1_homo=1\"             \"FSIP2_2_homo=1\"           \n",
       "[251] \"HOXA4_1_homo=1\"            \"TMEM221_2_homo=1\"         \n",
       "[253] \"COG3_1_homo=1\"             \"DNAH12_3_homo=1\"          \n",
       "[255] \"RRP12_1_homo=1\"            \"PAX4_1_homo=1\"            \n",
       "[257] \"IL17RC_1_homo=1\"           \"GBP2_1_homo=1\"            \n",
       "[259] \"TGIF2LX_1_hemi=1\"          \"LRP2_2_hemi=1\"            \n",
       "[261] \"MRPL10_1_hemi=1\"           \"MAGEB18_1_hemi=1\"         \n",
       "[263] \"GPC4_1_hemi=1\"             \"SLC7A3_1_hemi=1\"          \n",
       "[265] \"MAGEC1_3_hemi=1\"           \"ANOS1_1_hemi=1\"           \n",
       "[267] \"TXK_1_hemi=1\"              \"RBMX_1_hemi=1\"            \n",
       "[269] \"MAGEB3_2_hemi=1\"           \"POF1B_1_hemi=1\"           \n",
       "[271] \"SLC25A5_1_hemi=1\"          \"FMR1NB_1_hemi=1\"          \n",
       "[273] \"TENT5D_1_hemi=1\"           \"SHROOM4_1_hemi=1\"         \n",
       "[275] \"IBTK_1_hemi=1\"             \"SLC16A2_1_hemi=1\"         \n",
       "[277] \"HCFC1_1_hemi=1\"            \"MXRA5_1_hemi=1\"           \n",
       "[279] \"FOXR2_1_hemi=1\"            \"C1GALT1C1_1_hemi=1\"       \n",
       "[281] \"FAM47A_2_hemi=1\"           \"C1QTNF9_1_hemi=1\"         \n",
       "[283] \"GLUD2_1_hemi=1\"            \"ADGRG4_3_hemi=1\"          \n",
       "[285] \"FIGLA_1_hemi=1\"            \"KCNE5_1_hemi=1\"           \n",
       "[287] \"ARL13A_1_hemi=1\"           \"PJA1_1_hemi=1\"            \n",
       "[289] \"F9_1_hemi=1\"               \"GPR101_2_hemi=1\"          \n",
       "[291] \"ARHGAP6_1_hemi=1\"          \"PGLYRP2_3_hemi=1\"         \n",
       "[293] \"PRKX_1_hemi=1\"            "
      ]
     },
     "metadata": {},
     "output_type": "display_data"
    }
   ],
   "source": [
    "items"
   ]
  },
  {
   "cell_type": "code",
   "execution_count": 5,
   "metadata": {},
   "outputs": [
    {
     "name": "stdout",
     "output_type": "stream",
     "text": [
      "Apriori\n",
      "\n",
      "Parameter specification:\n",
      " confidence minval smax arem  aval originalSupport maxtime support minlen\n",
      "        0.5    0.1    1 none FALSE            TRUE       5   0.007      2\n",
      " maxlen target  ext\n",
      "     10  rules TRUE\n",
      "\n",
      "Algorithmic control:\n",
      " filter tree heap memopt load sort verbose\n",
      "    0.1 TRUE TRUE  FALSE TRUE    2    TRUE\n",
      "\n",
      "Absolute minimum support count: 2 \n",
      "\n",
      "set item appearances ...[295 item(s)] done [0.00s].\n",
      "set transactions ...[295 item(s), 373 transaction(s)] done [0.01s].\n",
      "sorting and recoding items ... [294 item(s)] done [0.00s].\n",
      "creating transaction tree ... done [0.00s].\n",
      "checking subsets of size 1 2 3 4 5"
     ]
    },
    {
     "name": "stderr",
     "output_type": "stream",
     "text": [
      "Warning message in apriori(data = train_trans, parameter = list(supp = support[i], :\n",
      "“Mining stopped (time limit reached). Only patterns up to a length of 5 returned!”\n"
     ]
    },
    {
     "name": "stdout",
     "output_type": "stream",
     "text": [
      " done [58.66s].\n",
      "writing ... [30930225 rule(s)] done [15.82s].\n",
      "creating S4 object  ... done [9.87s].\n"
     ]
    },
    {
     "name": "stderr",
     "output_type": "stream",
     "text": [
      "Support: 0.007 Confidence: 0.5 Rules: 30930225 p-value: 0.230183598769802 \n",
      "\n",
      "\n"
     ]
    },
    {
     "name": "stdout",
     "output_type": "stream",
     "text": [
      "Apriori\n",
      "\n",
      "Parameter specification:\n",
      " confidence minval smax arem  aval originalSupport maxtime support minlen\n",
      "        0.6    0.1    1 none FALSE            TRUE       5   0.007      2\n",
      " maxlen target  ext\n",
      "     10  rules TRUE\n",
      "\n",
      "Algorithmic control:\n",
      " filter tree heap memopt load sort verbose\n",
      "    0.1 TRUE TRUE  FALSE TRUE    2    TRUE\n",
      "\n",
      "Absolute minimum support count: 2 \n",
      "\n",
      "set item appearances ...[295 item(s)] done [0.00s].\n",
      "set transactions ...[295 item(s), 373 transaction(s)] done [0.01s].\n",
      "sorting and recoding items ... [294 item(s)] done [0.00s].\n",
      "creating transaction tree ... done [0.00s].\n",
      "checking subsets of size 1 2 3 4 5"
     ]
    },
    {
     "name": "stderr",
     "output_type": "stream",
     "text": [
      "Warning message in apriori(data = train_trans, parameter = list(supp = support[i], :\n",
      "“Mining stopped (time limit reached). Only patterns up to a length of 5 returned!”\n"
     ]
    },
    {
     "name": "stdout",
     "output_type": "stream",
     "text": [
      " done [58.04s].\n",
      "writing ... [22825079 rule(s)] done [15.23s].\n",
      "creating S4 object  ... done [7.36s].\n"
     ]
    },
    {
     "name": "stderr",
     "output_type": "stream",
     "text": [
      "Support: 0.007 Confidence: 0.6 Rules: 22825079 p-value: 0.172296009695392 \n",
      "\n",
      "\n"
     ]
    },
    {
     "name": "stdout",
     "output_type": "stream",
     "text": [
      "Apriori\n",
      "\n",
      "Parameter specification:\n",
      " confidence minval smax arem  aval originalSupport maxtime support minlen\n",
      "        0.7    0.1    1 none FALSE            TRUE       5   0.007      2\n",
      " maxlen target  ext\n",
      "     10  rules TRUE\n",
      "\n",
      "Algorithmic control:\n",
      " filter tree heap memopt load sort verbose\n",
      "    0.1 TRUE TRUE  FALSE TRUE    2    TRUE\n",
      "\n",
      "Absolute minimum support count: 2 \n",
      "\n",
      "set item appearances ...[295 item(s)] done [0.00s].\n",
      "set transactions ...[295 item(s), 373 transaction(s)] done [0.01s].\n",
      "sorting and recoding items ... [294 item(s)] done [0.00s].\n",
      "creating transaction tree ... done [0.00s].\n",
      "checking subsets of size 1 2 3 4 5"
     ]
    },
    {
     "name": "stderr",
     "output_type": "stream",
     "text": [
      "Warning message in apriori(data = train_trans, parameter = list(supp = support[i], :\n",
      "“Mining stopped (time limit reached). Only patterns up to a length of 5 returned!”\n"
     ]
    },
    {
     "name": "stdout",
     "output_type": "stream",
     "text": [
      " done [58.08s].\n",
      "writing ... [15295955 rule(s)] done [15.15s].\n",
      "creating S4 object  ... done [5.62s].\n"
     ]
    },
    {
     "name": "stderr",
     "output_type": "stream",
     "text": [
      "Support: 0.007 Confidence: 0.7 Rules: 15295955 p-value: 0.114361445004624 \n",
      "\n",
      "\n"
     ]
    },
    {
     "name": "stdout",
     "output_type": "stream",
     "text": [
      "Apriori\n",
      "\n",
      "Parameter specification:\n",
      " confidence minval smax arem  aval originalSupport maxtime support minlen\n",
      "        0.8    0.1    1 none FALSE            TRUE       5   0.007      2\n",
      " maxlen target  ext\n",
      "     10  rules TRUE\n",
      "\n",
      "Algorithmic control:\n",
      " filter tree heap memopt load sort verbose\n",
      "    0.1 TRUE TRUE  FALSE TRUE    2    TRUE\n",
      "\n",
      "Absolute minimum support count: 2 \n",
      "\n",
      "set item appearances ...[295 item(s)] done [0.00s].\n",
      "set transactions ...[295 item(s), 373 transaction(s)] done [0.01s].\n",
      "sorting and recoding items ... [294 item(s)] done [0.00s].\n",
      "creating transaction tree ... done [0.00s].\n",
      "checking subsets of size 1 2 3 4 5"
     ]
    },
    {
     "name": "stderr",
     "output_type": "stream",
     "text": [
      "Warning message in apriori(data = train_trans, parameter = list(supp = support[i], :\n",
      "“Mining stopped (time limit reached). Only patterns up to a length of 5 returned!”\n"
     ]
    },
    {
     "name": "stdout",
     "output_type": "stream",
     "text": [
      " done [57.82s].\n",
      "writing ... [9287894 rule(s)] done [14.64s].\n",
      "creating S4 object  ... done [4.55s].\n"
     ]
    },
    {
     "name": "stderr",
     "output_type": "stream",
     "text": [
      "Support: 0.007 Confidence: 0.8 Rules: 9287894 p-value: 0.0954613026690685 \n",
      "\n",
      "\n"
     ]
    },
    {
     "name": "stdout",
     "output_type": "stream",
     "text": [
      "Apriori\n",
      "\n",
      "Parameter specification:\n",
      " confidence minval smax arem  aval originalSupport maxtime support minlen\n",
      "        0.9    0.1    1 none FALSE            TRUE       5   0.007      2\n",
      " maxlen target  ext\n",
      "     10  rules TRUE\n",
      "\n",
      "Algorithmic control:\n",
      " filter tree heap memopt load sort verbose\n",
      "    0.1 TRUE TRUE  FALSE TRUE    2    TRUE\n",
      "\n",
      "Absolute minimum support count: 2 \n",
      "\n",
      "set item appearances ...[295 item(s)] done [0.00s].\n",
      "set transactions ...[295 item(s), 373 transaction(s)] done [0.01s].\n",
      "sorting and recoding items ... [294 item(s)] done [0.00s].\n",
      "creating transaction tree ... done [0.00s].\n",
      "checking subsets of size 1 2 3 4 5"
     ]
    },
    {
     "name": "stderr",
     "output_type": "stream",
     "text": [
      "Warning message in apriori(data = train_trans, parameter = list(supp = support[i], :\n",
      "“Mining stopped (time limit reached). Only patterns up to a length of 5 returned!”\n"
     ]
    },
    {
     "name": "stdout",
     "output_type": "stream",
     "text": [
      " done [57.36s].\n",
      "writing ... [5618348 rule(s)] done [14.58s].\n",
      "creating S4 object  ... done [3.68s].\n"
     ]
    },
    {
     "name": "stderr",
     "output_type": "stream",
     "text": [
      "Support: 0.007 Confidence: 0.9 Rules: 5618348 p-value: 0.0954613026690685 \n",
      "\n",
      "\n"
     ]
    },
    {
     "name": "stdout",
     "output_type": "stream",
     "text": [
      "Apriori\n",
      "\n",
      "Parameter specification:\n",
      " confidence minval smax arem  aval originalSupport maxtime support minlen\n",
      "        0.5    0.1    1 none FALSE            TRUE       5    0.01      2\n",
      " maxlen target  ext\n",
      "     10  rules TRUE\n",
      "\n",
      "Algorithmic control:\n",
      " filter tree heap memopt load sort verbose\n",
      "    0.1 TRUE TRUE  FALSE TRUE    2    TRUE\n",
      "\n",
      "Absolute minimum support count: 3 \n",
      "\n",
      "set item appearances ...[295 item(s)] done [0.00s].\n",
      "set transactions ...[295 item(s), 373 transaction(s)] done [0.01s].\n",
      "sorting and recoding items ... [290 item(s)] done [0.00s].\n",
      "creating transaction tree ... done [0.00s].\n",
      "checking subsets of size 1 2 3 4 5"
     ]
    },
    {
     "name": "stderr",
     "output_type": "stream",
     "text": [
      "Warning message in apriori(data = train_trans, parameter = list(supp = support[i], :\n",
      "“Mining stopped (time limit reached). Only patterns up to a length of 5 returned!”\n"
     ]
    },
    {
     "name": "stdout",
     "output_type": "stream",
     "text": [
      " done [47.81s].\n",
      "writing ... [23224379 rule(s)] done [12.68s].\n",
      "creating S4 object  ... done [6.73s].\n"
     ]
    },
    {
     "name": "stderr",
     "output_type": "stream",
     "text": [
      "Support: 0.01 Confidence: 0.5 Rules: 23224379 p-value: 0.211307065561406 \n",
      "\n",
      "\n"
     ]
    },
    {
     "name": "stdout",
     "output_type": "stream",
     "text": [
      "Apriori\n",
      "\n",
      "Parameter specification:\n",
      " confidence minval smax arem  aval originalSupport maxtime support minlen\n",
      "        0.6    0.1    1 none FALSE            TRUE       5    0.01      2\n",
      " maxlen target  ext\n",
      "     10  rules TRUE\n",
      "\n",
      "Algorithmic control:\n",
      " filter tree heap memopt load sort verbose\n",
      "    0.1 TRUE TRUE  FALSE TRUE    2    TRUE\n",
      "\n",
      "Absolute minimum support count: 3 \n",
      "\n",
      "set item appearances ...[295 item(s)] done [0.00s].\n",
      "set transactions ...[295 item(s), 373 transaction(s)] done [0.01s].\n",
      "sorting and recoding items ... [290 item(s)] done [0.00s].\n",
      "creating transaction tree ... done [0.00s].\n",
      "checking subsets of size 1 2 3 4 5"
     ]
    },
    {
     "name": "stderr",
     "output_type": "stream",
     "text": [
      "Warning message in apriori(data = train_trans, parameter = list(supp = support[i], :\n",
      "“Mining stopped (time limit reached). Only patterns up to a length of 5 returned!”\n"
     ]
    },
    {
     "name": "stdout",
     "output_type": "stream",
     "text": [
      " done [47.27s].\n",
      "writing ... [16097011 rule(s)] done [11.98s].\n",
      "creating S4 object  ... done [5.26s].\n"
     ]
    },
    {
     "name": "stderr",
     "output_type": "stream",
     "text": [
      "Support: 0.01 Confidence: 0.6 Rules: 16097011 p-value: 0.114361445004624 \n",
      "\n",
      "\n"
     ]
    },
    {
     "name": "stdout",
     "output_type": "stream",
     "text": [
      "Apriori\n",
      "\n",
      "Parameter specification:\n",
      " confidence minval smax arem  aval originalSupport maxtime support minlen\n",
      "        0.7    0.1    1 none FALSE            TRUE       5    0.01      2\n",
      " maxlen target  ext\n",
      "     10  rules TRUE\n",
      "\n",
      "Algorithmic control:\n",
      " filter tree heap memopt load sort verbose\n",
      "    0.1 TRUE TRUE  FALSE TRUE    2    TRUE\n",
      "\n",
      "Absolute minimum support count: 3 \n",
      "\n",
      "set item appearances ...[295 item(s)] done [0.00s].\n",
      "set transactions ...[295 item(s), 373 transaction(s)] done [0.01s].\n",
      "sorting and recoding items ... [290 item(s)] done [0.00s].\n",
      "creating transaction tree ... done [0.00s].\n",
      "checking subsets of size 1 2 3 4 5"
     ]
    },
    {
     "name": "stderr",
     "output_type": "stream",
     "text": [
      "Warning message in apriori(data = train_trans, parameter = list(supp = support[i], :\n",
      "“Mining stopped (time limit reached). Only patterns up to a length of 5 returned!”\n"
     ]
    },
    {
     "name": "stdout",
     "output_type": "stream",
     "text": [
      " done [47.05s].\n",
      "writing ... [10030503 rule(s)] done [11.25s].\n",
      "creating S4 object  ... done [4.00s].\n"
     ]
    },
    {
     "name": "stderr",
     "output_type": "stream",
     "text": [
      "Support: 0.01 Confidence: 0.7 Rules: 10030503 p-value: 0.0792220339476274 \n",
      "\n",
      "\n"
     ]
    },
    {
     "name": "stdout",
     "output_type": "stream",
     "text": [
      "Apriori\n",
      "\n",
      "Parameter specification:\n",
      " confidence minval smax arem  aval originalSupport maxtime support minlen\n",
      "        0.8    0.1    1 none FALSE            TRUE       5    0.01      2\n",
      " maxlen target  ext\n",
      "     10  rules TRUE\n",
      "\n",
      "Algorithmic control:\n",
      " filter tree heap memopt load sort verbose\n",
      "    0.1 TRUE TRUE  FALSE TRUE    2    TRUE\n",
      "\n",
      "Absolute minimum support count: 3 \n",
      "\n",
      "set item appearances ...[295 item(s)] done [0.00s].\n",
      "set transactions ...[295 item(s), 373 transaction(s)] done [0.01s].\n",
      "sorting and recoding items ... [290 item(s)] done [0.00s].\n",
      "creating transaction tree ... done [0.00s].\n",
      "checking subsets of size 1 2 3 4 5"
     ]
    },
    {
     "name": "stderr",
     "output_type": "stream",
     "text": [
      "Warning message in apriori(data = train_trans, parameter = list(supp = support[i], :\n",
      "“Mining stopped (time limit reached). Only patterns up to a length of 5 returned!”\n"
     ]
    },
    {
     "name": "stdout",
     "output_type": "stream",
     "text": [
      " done [46.91s].\n",
      "writing ... [6253681 rule(s)] done [10.84s].\n",
      "creating S4 object  ... done [4.36s].\n"
     ]
    },
    {
     "name": "stderr",
     "output_type": "stream",
     "text": [
      "Support: 0.01 Confidence: 0.8 Rules: 6253681 p-value: 0.0665905820306221 \n",
      "\n",
      "\n"
     ]
    },
    {
     "name": "stdout",
     "output_type": "stream",
     "text": [
      "Apriori\n",
      "\n",
      "Parameter specification:\n",
      " confidence minval smax arem  aval originalSupport maxtime support minlen\n",
      "        0.9    0.1    1 none FALSE            TRUE       5    0.01      2\n",
      " maxlen target  ext\n",
      "     10  rules TRUE\n",
      "\n",
      "Algorithmic control:\n",
      " filter tree heap memopt load sort verbose\n",
      "    0.1 TRUE TRUE  FALSE TRUE    2    TRUE\n",
      "\n",
      "Absolute minimum support count: 3 \n",
      "\n",
      "set item appearances ...[295 item(s)] done [0.00s].\n",
      "set transactions ...[295 item(s), 373 transaction(s)] done [0.01s].\n",
      "sorting and recoding items ... [290 item(s)] done [0.00s].\n",
      "creating transaction tree ... done [0.00s].\n",
      "checking subsets of size 1 2 3 4 5"
     ]
    },
    {
     "name": "stderr",
     "output_type": "stream",
     "text": [
      "Warning message in apriori(data = train_trans, parameter = list(supp = support[i], :\n",
      "“Mining stopped (time limit reached). Only patterns up to a length of 5 returned!”\n"
     ]
    },
    {
     "name": "stdout",
     "output_type": "stream",
     "text": [
      " done [47.39s].\n",
      "writing ... [2584135 rule(s)] done [10.41s].\n",
      "creating S4 object  ... done [2.56s].\n"
     ]
    },
    {
     "name": "stderr",
     "output_type": "stream",
     "text": [
      "Support: 0.01 Confidence: 0.9 Rules: 2584135 p-value: 0.0375148319926638 \n",
      "\n",
      "\n"
     ]
    },
    {
     "name": "stdout",
     "output_type": "stream",
     "text": [
      "Apriori\n",
      "\n",
      "Parameter specification:\n",
      " confidence minval smax arem  aval originalSupport maxtime support minlen\n",
      "        0.5    0.1    1 none FALSE            TRUE       5    0.02      2\n",
      " maxlen target  ext\n",
      "     10  rules TRUE\n",
      "\n",
      "Algorithmic control:\n",
      " filter tree heap memopt load sort verbose\n",
      "    0.1 TRUE TRUE  FALSE TRUE    2    TRUE\n",
      "\n",
      "Absolute minimum support count: 7 \n",
      "\n",
      "set item appearances ...[295 item(s)] done [0.00s].\n",
      "set transactions ...[295 item(s), 373 transaction(s)] done [0.01s].\n",
      "sorting and recoding items ... [260 item(s)] done [0.00s].\n",
      "creating transaction tree ... done [0.00s].\n",
      "checking subsets of size 1 2 3 4 5"
     ]
    },
    {
     "name": "stderr",
     "output_type": "stream",
     "text": [
      "Warning message in apriori(data = train_trans, parameter = list(supp = support[i], :\n",
      "“Mining stopped (time limit reached). Only patterns up to a length of 5 returned!”\n"
     ]
    },
    {
     "name": "stdout",
     "output_type": "stream",
     "text": [
      " done [30.47s].\n",
      "writing ... [11875380 rule(s)] done [6.45s].\n",
      "creating S4 object  ... done [3.15s].\n"
     ]
    },
    {
     "name": "stderr",
     "output_type": "stream",
     "text": [
      "Support: 0.02 Confidence: 0.5 Rules: 11875380 p-value: 0.158680391389222 \n",
      "\n",
      "\n"
     ]
    },
    {
     "name": "stdout",
     "output_type": "stream",
     "text": [
      "Apriori\n",
      "\n",
      "Parameter specification:\n",
      " confidence minval smax arem  aval originalSupport maxtime support minlen\n",
      "        0.6    0.1    1 none FALSE            TRUE       5    0.02      2\n",
      " maxlen target  ext\n",
      "     10  rules TRUE\n",
      "\n",
      "Algorithmic control:\n",
      " filter tree heap memopt load sort verbose\n",
      "    0.1 TRUE TRUE  FALSE TRUE    2    TRUE\n",
      "\n",
      "Absolute minimum support count: 7 \n",
      "\n",
      "set item appearances ...[295 item(s)] done [0.00s].\n",
      "set transactions ...[295 item(s), 373 transaction(s)] done [0.01s].\n",
      "sorting and recoding items ... [260 item(s)] done [0.00s].\n",
      "creating transaction tree ... done [0.00s].\n",
      "checking subsets of size 1 2 3 4 5"
     ]
    },
    {
     "name": "stderr",
     "output_type": "stream",
     "text": [
      "Warning message in apriori(data = train_trans, parameter = list(supp = support[i], :\n",
      "“Mining stopped (time limit reached). Only patterns up to a length of 5 returned!”\n"
     ]
    },
    {
     "name": "stdout",
     "output_type": "stream",
     "text": [
      " done [30.30s].\n",
      "writing ... [7811704 rule(s)] done [6.34s].\n",
      "creating S4 object  ... done [2.59s].\n"
     ]
    },
    {
     "name": "stderr",
     "output_type": "stream",
     "text": [
      "Support: 0.02 Confidence: 0.6 Rules: 7811704 p-value: 0.0715170058882141 \n",
      "\n",
      "\n"
     ]
    },
    {
     "name": "stdout",
     "output_type": "stream",
     "text": [
      "Apriori\n",
      "\n",
      "Parameter specification:\n",
      " confidence minval smax arem  aval originalSupport maxtime support minlen\n",
      "        0.7    0.1    1 none FALSE            TRUE       5    0.02      2\n",
      " maxlen target  ext\n",
      "     10  rules TRUE\n",
      "\n",
      "Algorithmic control:\n",
      " filter tree heap memopt load sort verbose\n",
      "    0.1 TRUE TRUE  FALSE TRUE    2    TRUE\n",
      "\n",
      "Absolute minimum support count: 7 \n",
      "\n",
      "set item appearances ...[295 item(s)] done [0.00s].\n",
      "set transactions ...[295 item(s), 373 transaction(s)] done [0.01s].\n",
      "sorting and recoding items ... [260 item(s)] done [0.00s].\n",
      "creating transaction tree ... done [0.00s].\n",
      "checking subsets of size 1 2 3 4 5"
     ]
    },
    {
     "name": "stderr",
     "output_type": "stream",
     "text": [
      "Warning message in apriori(data = train_trans, parameter = list(supp = support[i], :\n",
      "“Mining stopped (time limit reached). Only patterns up to a length of 5 returned!”\n"
     ]
    },
    {
     "name": "stdout",
     "output_type": "stream",
     "text": [
      " done [30.71s].\n",
      "writing ... [4049768 rule(s)] done [5.66s].\n",
      "creating S4 object  ... done [1.85s].\n"
     ]
    },
    {
     "name": "stderr",
     "output_type": "stream",
     "text": [
      "Support: 0.02 Confidence: 0.7 Rules: 4049768 p-value: 0.0282981528657491 \n",
      "\n",
      "\n"
     ]
    },
    {
     "name": "stdout",
     "output_type": "stream",
     "text": [
      "Apriori\n",
      "\n",
      "Parameter specification:\n",
      " confidence minval smax arem  aval originalSupport maxtime support minlen\n",
      "        0.8    0.1    1 none FALSE            TRUE       5    0.02      2\n",
      " maxlen target  ext\n",
      "     10  rules TRUE\n",
      "\n",
      "Algorithmic control:\n",
      " filter tree heap memopt load sort verbose\n",
      "    0.1 TRUE TRUE  FALSE TRUE    2    TRUE\n",
      "\n",
      "Absolute minimum support count: 7 \n",
      "\n",
      "set item appearances ...[295 item(s)] done [0.00s].\n",
      "set transactions ...[295 item(s), 373 transaction(s)] done [0.01s].\n",
      "sorting and recoding items ... [260 item(s)] done [0.00s].\n",
      "creating transaction tree ... done [0.00s].\n",
      "checking subsets of size 1 2 3 4 5"
     ]
    },
    {
     "name": "stderr",
     "output_type": "stream",
     "text": [
      "Warning message in apriori(data = train_trans, parameter = list(supp = support[i], :\n",
      "“Mining stopped (time limit reached). Only patterns up to a length of 5 returned!”\n"
     ]
    },
    {
     "name": "stdout",
     "output_type": "stream",
     "text": [
      " done [30.52s].\n",
      "writing ... [1757542 rule(s)] done [5.40s].\n",
      "creating S4 object  ... done [1.55s].\n"
     ]
    },
    {
     "name": "stderr",
     "output_type": "stream",
     "text": [
      "Support: 0.02 Confidence: 0.8 Rules: 1757542 p-value: 0.0123414596693033 \n",
      "\n",
      "\n"
     ]
    },
    {
     "name": "stdout",
     "output_type": "stream",
     "text": [
      "Apriori\n",
      "\n",
      "Parameter specification:\n",
      " confidence minval smax arem  aval originalSupport maxtime support minlen\n",
      "        0.9    0.1    1 none FALSE            TRUE       5    0.02      2\n",
      " maxlen target  ext\n",
      "     10  rules TRUE\n",
      "\n",
      "Algorithmic control:\n",
      " filter tree heap memopt load sort verbose\n",
      "    0.1 TRUE TRUE  FALSE TRUE    2    TRUE\n",
      "\n",
      "Absolute minimum support count: 7 \n",
      "\n",
      "set item appearances ...[295 item(s)] done [0.00s].\n",
      "set transactions ...[295 item(s), 373 transaction(s)] done [0.01s].\n",
      "sorting and recoding items ... [260 item(s)] done [0.00s].\n",
      "creating transaction tree ... done [0.00s].\n",
      "checking subsets of size 1 2 3 4 5"
     ]
    },
    {
     "name": "stderr",
     "output_type": "stream",
     "text": [
      "Warning message in apriori(data = train_trans, parameter = list(supp = support[i], :\n",
      "“Mining stopped (time limit reached). Only patterns up to a length of 5 returned!”\n"
     ]
    },
    {
     "name": "stdout",
     "output_type": "stream",
     "text": [
      " done [30.52s].\n",
      "writing ... [483218 rule(s)] done [5.48s].\n",
      "creating S4 object  ... done [1.25s].\n"
     ]
    },
    {
     "name": "stderr",
     "output_type": "stream",
     "text": [
      "Support: 0.02 Confidence: 0.9 Rules: 483218 p-value: 0.00507433237702079 \n",
      "\n",
      "\n"
     ]
    },
    {
     "name": "stdout",
     "output_type": "stream",
     "text": [
      "Apriori\n",
      "\n",
      "Parameter specification:\n",
      " confidence minval smax arem  aval originalSupport maxtime support minlen\n",
      "        0.5    0.1    1 none FALSE            TRUE       5    0.05      2\n",
      " maxlen target  ext\n",
      "     10  rules TRUE\n",
      "\n",
      "Algorithmic control:\n",
      " filter tree heap memopt load sort verbose\n",
      "    0.1 TRUE TRUE  FALSE TRUE    2    TRUE\n",
      "\n",
      "Absolute minimum support count: 18 \n",
      "\n",
      "set item appearances ...[295 item(s)] done [0.00s].\n",
      "set transactions ...[295 item(s), 373 transaction(s)] done [0.01s].\n",
      "sorting and recoding items ... [194 item(s)] done [0.00s].\n",
      "creating transaction tree ... done [0.00s].\n",
      "checking subsets of size 1 2 3 4 5"
     ]
    },
    {
     "name": "stderr",
     "output_type": "stream",
     "text": [
      "Warning message in apriori(data = train_trans, parameter = list(supp = support[i], :\n",
      "“Mining stopped (time limit reached). Only patterns up to a length of 5 returned!”\n"
     ]
    },
    {
     "name": "stdout",
     "output_type": "stream",
     "text": [
      " done [14.90s].\n",
      "writing ... [3183108 rule(s)] done [1.95s].\n",
      "creating S4 object  ... done [1.02s].\n"
     ]
    },
    {
     "name": "stderr",
     "output_type": "stream",
     "text": [
      "Support: 0.05 Confidence: 0.5 Rules: 3183108 p-value: 0.0814693599796503 \n",
      "\n",
      "\n"
     ]
    },
    {
     "name": "stdout",
     "output_type": "stream",
     "text": [
      "Apriori\n",
      "\n",
      "Parameter specification:\n",
      " confidence minval smax arem  aval originalSupport maxtime support minlen\n",
      "        0.6    0.1    1 none FALSE            TRUE       5    0.05      2\n",
      " maxlen target  ext\n",
      "     10  rules TRUE\n",
      "\n",
      "Algorithmic control:\n",
      " filter tree heap memopt load sort verbose\n",
      "    0.1 TRUE TRUE  FALSE TRUE    2    TRUE\n",
      "\n",
      "Absolute minimum support count: 18 \n",
      "\n",
      "set item appearances ...[295 item(s)] done [0.00s].\n",
      "set transactions ...[295 item(s), 373 transaction(s)] done [0.01s].\n",
      "sorting and recoding items ... [194 item(s)] done [0.00s].\n",
      "creating transaction tree ... done [0.00s].\n",
      "checking subsets of size 1 2 3 4 5"
     ]
    },
    {
     "name": "stderr",
     "output_type": "stream",
     "text": [
      "Warning message in apriori(data = train_trans, parameter = list(supp = support[i], :\n",
      "“Mining stopped (time limit reached). Only patterns up to a length of 5 returned!”\n"
     ]
    },
    {
     "name": "stdout",
     "output_type": "stream",
     "text": [
      " done [14.26s].\n",
      "writing ... [2059631 rule(s)] done [1.80s].\n",
      "creating S4 object  ... done [0.82s].\n"
     ]
    },
    {
     "name": "stderr",
     "output_type": "stream",
     "text": [
      "Support: 0.05 Confidence: 0.6 Rules: 2059631 p-value: 0.0288833349563858 \n",
      "\n",
      "\n"
     ]
    },
    {
     "name": "stdout",
     "output_type": "stream",
     "text": [
      "Apriori\n",
      "\n",
      "Parameter specification:\n",
      " confidence minval smax arem  aval originalSupport maxtime support minlen\n",
      "        0.7    0.1    1 none FALSE            TRUE       5    0.05      2\n",
      " maxlen target  ext\n",
      "     10  rules TRUE\n",
      "\n",
      "Algorithmic control:\n",
      " filter tree heap memopt load sort verbose\n",
      "    0.1 TRUE TRUE  FALSE TRUE    2    TRUE\n",
      "\n",
      "Absolute minimum support count: 18 \n",
      "\n",
      "set item appearances ...[295 item(s)] done [0.00s].\n",
      "set transactions ...[295 item(s), 373 transaction(s)] done [0.01s].\n",
      "sorting and recoding items ... [194 item(s)] done [0.00s].\n",
      "creating transaction tree ... done [0.00s].\n",
      "checking subsets of size 1 2 3 4 5"
     ]
    },
    {
     "name": "stderr",
     "output_type": "stream",
     "text": [
      "Warning message in apriori(data = train_trans, parameter = list(supp = support[i], :\n",
      "“Mining stopped (time limit reached). Only patterns up to a length of 5 returned!”\n"
     ]
    },
    {
     "name": "stdout",
     "output_type": "stream",
     "text": [
      " done [14.30s].\n",
      "writing ... [929649 rule(s)] done [1.68s].\n",
      "creating S4 object  ... done [0.65s].\n"
     ]
    },
    {
     "name": "stderr",
     "output_type": "stream",
     "text": [
      "Support: 0.05 Confidence: 0.7 Rules: 929649 p-value: 0.00722946758911399 \n",
      "\n",
      "\n"
     ]
    },
    {
     "name": "stdout",
     "output_type": "stream",
     "text": [
      "Apriori\n",
      "\n",
      "Parameter specification:\n",
      " confidence minval smax arem  aval originalSupport maxtime support minlen\n",
      "        0.8    0.1    1 none FALSE            TRUE       5    0.05      2\n",
      " maxlen target  ext\n",
      "     10  rules TRUE\n",
      "\n",
      "Algorithmic control:\n",
      " filter tree heap memopt load sort verbose\n",
      "    0.1 TRUE TRUE  FALSE TRUE    2    TRUE\n",
      "\n",
      "Absolute minimum support count: 18 \n",
      "\n",
      "set item appearances ...[295 item(s)] done [0.00s].\n",
      "set transactions ...[295 item(s), 373 transaction(s)] done [0.01s].\n",
      "sorting and recoding items ... [194 item(s)] done [0.00s].\n",
      "creating transaction tree ... done [0.00s].\n",
      "checking subsets of size 1 2 3 4 5"
     ]
    },
    {
     "name": "stderr",
     "output_type": "stream",
     "text": [
      "Warning message in apriori(data = train_trans, parameter = list(supp = support[i], :\n",
      "“Mining stopped (time limit reached). Only patterns up to a length of 5 returned!”\n"
     ]
    },
    {
     "name": "stdout",
     "output_type": "stream",
     "text": [
      " done [14.37s].\n",
      "writing ... [228077 rule(s)] done [1.60s].\n",
      "creating S4 object  ... done [0.53s].\n"
     ]
    },
    {
     "name": "stderr",
     "output_type": "stream",
     "text": [
      "Support: 0.05 Confidence: 0.8 Rules: 228077 p-value: 0.0010252663057516 \n",
      "\n",
      "\n"
     ]
    },
    {
     "name": "stdout",
     "output_type": "stream",
     "text": [
      "Apriori\n",
      "\n",
      "Parameter specification:\n",
      " confidence minval smax arem  aval originalSupport maxtime support minlen\n",
      "        0.9    0.1    1 none FALSE            TRUE       5    0.05      2\n",
      " maxlen target  ext\n",
      "     10  rules TRUE\n",
      "\n",
      "Algorithmic control:\n",
      " filter tree heap memopt load sort verbose\n",
      "    0.1 TRUE TRUE  FALSE TRUE    2    TRUE\n",
      "\n",
      "Absolute minimum support count: 18 \n",
      "\n",
      "set item appearances ...[295 item(s)] done [0.00s].\n",
      "set transactions ...[295 item(s), 373 transaction(s)] done [0.01s].\n",
      "sorting and recoding items ... [194 item(s)] done [0.00s].\n",
      "creating transaction tree ... done [0.00s].\n",
      "checking subsets of size 1 2 3 4 5"
     ]
    },
    {
     "name": "stderr",
     "output_type": "stream",
     "text": [
      "Warning message in apriori(data = train_trans, parameter = list(supp = support[i], :\n",
      "“Mining stopped (time limit reached). Only patterns up to a length of 5 returned!”\n"
     ]
    },
    {
     "name": "stdout",
     "output_type": "stream",
     "text": [
      " done [14.24s].\n",
      "writing ... [23787 rule(s)] done [1.58s].\n",
      "creating S4 object  ... done [0.50s].\n"
     ]
    },
    {
     "name": "stderr",
     "output_type": "stream",
     "text": [
      "Support: 0.05 Confidence: 0.9 Rules: 23787 p-value: 0.000102043789914555 \n",
      "\n",
      "\n"
     ]
    }
   ],
   "source": [
    "support <- c(0.007, 0.01, 0.02, 0.05)\n",
    "confidence <- c(0.5, 0.6, 0.7, 0.8, 0.9)\n",
    "\n",
    "stats <- data.frame(support=double(),\n",
    "                 confidence=double(),\n",
    "                 pvalue=double(),\n",
    "                 lift=double(),\n",
    "                 rules=integer(),\n",
    "                 stringsAsFactors=FALSE)\n",
    "\n",
    "for(i in 1:length(support)) {\n",
    "    for (j in 1:length(confidence)){\n",
    "       \n",
    "        #extract rules and compute pvalue\n",
    "        rules <- apriori(data=train_trans, parameter=list(supp=support[i], conf=confidence[j], minlen=2), \n",
    "                 appearance = list(lhs = items, rhs=grep(\"grading=\", itemLabels(trans), value = TRUE)), \n",
    "                         control = list (verbose=T)) \n",
    "        \n",
    "        #compute p-value\n",
    "        quality(rules) <- cbind(quality(rules), \n",
    "                        pvalue = interestMeasure(rules, measure = \"fishersExactTest\",\n",
    "                                                          transactions = train_trans, adjust='none', reuse=TRUE))\n",
    "        \n",
    "        #extract median lift and pvalue and store number of extracted rules \n",
    "        pvalue <- median(quality(rules)$pvalue)\n",
    "        lift <- median(quality(rules)$lift)\n",
    "        count <- length(rules)\n",
    "        \n",
    "        #add elements to dataframe\n",
    "        stats <- rbind(stats, data.frame(support = support[i], confidence=confidence[j], \n",
    "                                         pvalue = pvalue, lift = lift, count = count))\n",
    "        \n",
    "        message(paste(\"Support:\",support[i],\"Confidence:\",confidence[j],\"Rules:\",count,\"p-value:\",pvalue, '\\n'))    \n",
    "\n",
    "    }\n",
    "}"
   ]
  },
  {
   "cell_type": "code",
   "execution_count": 6,
   "metadata": {},
   "outputs": [],
   "source": [
    "fig <- function(width, heigth){\n",
    "     options(repr.plot.width = width, repr.plot.height = heigth)\n",
    "}"
   ]
  },
  {
   "cell_type": "code",
   "execution_count": 7,
   "metadata": {},
   "outputs": [],
   "source": [
    "stats_grading <- stats\n",
    "stats_grading$support <- as.factor(stats$support)"
   ]
  },
  {
   "cell_type": "code",
   "execution_count": 8,
   "metadata": {},
   "outputs": [
    {
     "data": {
      "image/png": "[encoded data removed]",
      "text/plain": [
       "plot without title"
      ]
     },
     "metadata": {
      "image/png": {
       "height": 600,
       "width": 900
      }
     },
     "output_type": "display_data"
    }
   ],
   "source": [
    "fig(15,10)\n",
    "ggplot(data = stats_grading, aes(x=confidence, y=count)) + \n",
    "                geom_point(aes(colour=support, size=pvalue)) + \n",
    "                geom_text(aes(label=sprintf(\"%0.3f\", round(pvalue, digits = 3))),hjust=-0.3, vjust=-0.2) +\n",
    "                geom_line(aes(colour=support))+\n",
    "                theme(text=element_text(size=16))\n",
    "\n",
    "fig(7,7)"
   ]
  },
  {
   "cell_type": "markdown",
   "metadata": {},
   "source": [
    "# Rules Extraction"
   ]
  },
  {
   "cell_type": "code",
   "execution_count": 9,
   "metadata": {},
   "outputs": [
    {
     "data": {
      "text/html": [
       "<style>\n",
       ".list-inline {list-style: none; margin:0; padding: 0}\n",
       ".list-inline>li {display: inline-block}\n",
       ".list-inline>li:not(:last-child)::after {content: \"\\00b7\"; padding: 0 .5ex}\n",
       "</style>\n",
       "<ol class=list-inline><li>'grading=0'</li><li>'grading=1'</li></ol>\n"
      ],
      "text/latex": [
       "\\begin{enumerate*}\n",
       "\\item 'grading=0'\n",
       "\\item 'grading=1'\n",
       "\\end{enumerate*}\n"
      ],
      "text/markdown": [
       "1. 'grading=0'\n",
       "2. 'grading=1'\n",
       "\n",
       "\n"
      ],
      "text/plain": [
       "[1] \"grading=0\" \"grading=1\""
      ]
     },
     "metadata": {},
     "output_type": "display_data"
    }
   ],
   "source": [
    "target = grep(\"grading=\", itemLabels(trans), value = TRUE)\n",
    "target"
   ]
  },
  {
   "cell_type": "code",
   "execution_count": 16,
   "metadata": {
    "scrolled": false
   },
   "outputs": [
    {
     "name": "stdout",
     "output_type": "stream",
     "text": [
      "Apriori\n",
      "\n",
      "Parameter specification:\n",
      " confidence minval smax arem  aval originalSupport maxtime support minlen\n",
      "        0.8    0.1    1 none FALSE            TRUE       5    0.05      2\n",
      " maxlen target  ext\n",
      "     10  rules TRUE\n",
      "\n",
      "Algorithmic control:\n",
      " filter tree heap memopt load sort verbose\n",
      "    0.1 TRUE TRUE  FALSE TRUE    2    TRUE\n",
      "\n",
      "Absolute minimum support count: 18 \n",
      "\n",
      "set item appearances ...[295 item(s)] done [0.00s].\n",
      "set transactions ...[295 item(s), 373 transaction(s)] done [0.01s].\n",
      "sorting and recoding items ... [194 item(s)] done [0.00s].\n",
      "creating transaction tree ... done [0.00s].\n",
      "checking subsets of size 1 2 3 4 5"
     ]
    },
    {
     "name": "stderr",
     "output_type": "stream",
     "text": [
      "Warning message in apriori(data = train_trans, parameter = list(supp = 0.05, conf = 0.8, :\n",
      "“Mining stopped (time limit reached). Only patterns up to a length of 5 returned!”\n"
     ]
    },
    {
     "name": "stdout",
     "output_type": "stream",
     "text": [
      " done [14.42s].\n",
      "writing ... [228077 rule(s)] done [1.60s].\n",
      "creating S4 object  ... done [0.56s].\n"
     ]
    }
   ],
   "source": [
    "rules <- apriori(data=train_trans, parameter=list(supp=0.05, conf=0.8, minlen=2), \n",
    "                 appearance = list(lhs = items, rhs=target), \n",
    "                         control = list (verbose=T))"
   ]
  },
  {
   "cell_type": "code",
   "execution_count": 17,
   "metadata": {},
   "outputs": [
    {
     "data": {
      "text/html": [
       "228077"
      ],
      "text/latex": [
       "228077"
      ],
      "text/markdown": [
       "228077"
      ],
      "text/plain": [
       "[1] 228077"
      ]
     },
     "metadata": {},
     "output_type": "display_data"
    }
   ],
   "source": [
    "sig_rules <- rules[is.significant(rules, \n",
    "                                      train, \n",
    "                                      method='fisher', \n",
    "                                      alpha=0.05, \n",
    "                                      adjust='none')]\n",
    "length(sig_rules)"
   ]
  },
  {
   "cell_type": "code",
   "execution_count": 18,
   "metadata": {},
   "outputs": [],
   "source": [
    "quality(sig_rules) <- cbind(quality(sig_rules), \n",
    "                        pvalue_test = interestMeasure(sig_rules, measure = \"fishersExactTest\",\n",
    "                                                          transactions = test_trans, adjust='none', reuse=FALSE))"
   ]
  },
  {
   "cell_type": "code",
   "execution_count": 19,
   "metadata": {},
   "outputs": [
    {
     "data": {
      "text/html": [
       "9719"
      ],
      "text/latex": [
       "9719"
      ],
      "text/markdown": [
       "9719"
      ],
      "text/plain": [
       "[1] 9719"
      ]
     },
     "metadata": {},
     "output_type": "display_data"
    }
   ],
   "source": [
    "final_rules <- subset(sig_rules, pvalue_test < 0.05/length(sig_rules)) #bonferroni = alpha/n_tests\n",
    "length(final_rules)"
   ]
  },
  {
   "cell_type": "code",
   "execution_count": 21,
   "metadata": {
    "scrolled": false
   },
   "outputs": [
    {
     "name": "stdout",
     "output_type": "stream",
     "text": [
      "     lhs                   rhs           support confidence  coverage     lift count  pvalue_test\n",
      "[1]  {PPM1E_1=1,                                                                                 \n",
      "      KRTAP27.1_1=1,                                                                             \n",
      "      OTOGL_1=1,                                                                                 \n",
      "      CPO_1=1}          => {grading=0} 0.1796247  0.8072289 0.2225201 1.447579    67 3.329449e-09\n",
      "[2]  {PPM1E_1=1,                                                                                 \n",
      "      N4BP2_1=1,                                                                                 \n",
      "      SHANK3_1=1,                                                                                \n",
      "      KRTAP27.1_1=1}    => {grading=0} 0.1742627  0.8125000 0.2144772 1.457031    65 3.358246e-10\n",
      "[3]  {PPM1E_1=1,                                                                                 \n",
      "      N4BP2_1=1,                                                                                 \n",
      "      KRTAP27.1_1=1,                                                                             \n",
      "      PNPT1_1=1}        => {grading=0} 0.1715818  0.8000000 0.2144772 1.434615    64 5.778461e-10\n",
      "[4]  {PPM1E_1=1,                                                                                 \n",
      "      OTOGL_1=1,                                                                                 \n",
      "      CPO_1=1,                                                                                   \n",
      "      PAX4_1_homo=1}    => {grading=0} 0.1715818  0.8101266 0.2117962 1.452775    64 1.366436e-12\n",
      "[5]  {KRTAP27.1_1=1,                                                                             \n",
      "      OTOGL_1=1,                                                                                 \n",
      "      CPO_1=1,                                                                                   \n",
      "      PNPT1_1=1}        => {grading=0} 0.1715818  0.8311688 0.2064343 1.490509    64 1.548974e-07\n",
      "[6]  {PPM1E_1=1,                                                                                 \n",
      "      NLRP6_1=1,                                                                                 \n",
      "      SWT1_2=1,                                                                                  \n",
      "      TENT5D_1_hemi=1}  => {grading=0} 0.1689008  0.8076923 0.2091153 1.448410    63 2.114869e-07\n",
      "[7]  {NLRP6_1=1,                                                                                 \n",
      "      ITIH2_1=1,                                                                                 \n",
      "      LINS1_3=1,                                                                                 \n",
      "      PNPT1_1=1}        => {grading=0} 0.1608579  0.8108108 0.1983914 1.454002    60 1.709207e-07\n",
      "[8]  {MIA3_1=1,                                                                                  \n",
      "      NLRP6_1=1,                                                                                 \n",
      "      PNPT1_1=1,                                                                                 \n",
      "      HOXA4_1_homo=1}   => {grading=0} 0.1608579  0.8108108 0.1983914 1.454002    60 1.548974e-07\n",
      "[9]  {NLRP6_1=1,                                                                                 \n",
      "      SWT1_2=1,                                                                                  \n",
      "      SLC25A5_1_hemi=1,                                                                          \n",
      "      TENT5D_1_hemi=1}  => {grading=0} 0.1608579  0.8333333 0.1930295 1.494391    60 1.548974e-07\n",
      "[10] {OTOGL_1=1,                                                                                 \n",
      "      CPO_1=1,                                                                                   \n",
      "      PNPT1_1=1,                                                                                 \n",
      "      PAX4_1_homo=1}    => {grading=0} 0.1608579  0.8108108 0.1983914 1.454002    60 1.548974e-07\n"
     ]
    }
   ],
   "source": [
    "inspect(head(final_rules, by = \"support\", decreasing=TRUE, 10))"
   ]
  },
  {
   "cell_type": "code",
   "execution_count": 22,
   "metadata": {},
   "outputs": [],
   "source": [
    "write(final_rules,\n",
    "      file = \"./Results/rules_males_full.csv\",\n",
    "      sep = \",\",\n",
    "      quote = TRUE,\n",
    "      row.names = FALSE)"
   ]
  },
  {
   "cell_type": "code",
   "execution_count": null,
   "metadata": {},
   "outputs": [],
   "source": []
  }
 ],
 "metadata": {
  "kernelspec": {
   "display_name": "R",
   "language": "R",
   "name": "ir"
  },
  "language_info": {
   "codemirror_mode": "r",
   "file_extension": ".r",
   "mimetype": "text/x-r-source",
   "name": "R",
   "pygments_lexer": "r",
   "version": "3.6.1"
  }
 },
 "nbformat": 4,
 "nbformat_minor": 4
}
