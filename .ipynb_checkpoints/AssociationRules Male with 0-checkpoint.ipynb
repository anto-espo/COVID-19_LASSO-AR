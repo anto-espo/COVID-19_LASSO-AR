{
 "cells": [
  {
   "cell_type": "code",
   "execution_count": 1,
   "metadata": {
    "scrolled": true
   },
   "outputs": [
    {
     "name": "stderr",
     "output_type": "stream",
     "text": [
      "Warning message:\n",
      "“package ‘arules’ was built under R version 3.6.3”\n",
      "Loading required package: Matrix\n",
      "\n",
      "\n",
      "Attaching package: ‘arules’\n",
      "\n",
      "\n",
      "The following objects are masked from ‘package:base’:\n",
      "\n",
      "    abbreviate, write\n",
      "\n",
      "\n",
      "Loading required package: grid\n",
      "\n",
      "── \u001b[1mAttaching packages\u001b[22m ─────────────────────────────────────── tidyverse 1.2.1 ──\n",
      "\n",
      "\u001b[32m✔\u001b[39m \u001b[34mggplot2\u001b[39m 3.3.2     \u001b[32m✔\u001b[39m \u001b[34mpurrr  \u001b[39m 0.3.4\n",
      "\u001b[32m✔\u001b[39m \u001b[34mtibble \u001b[39m 3.0.4     \u001b[32m✔\u001b[39m \u001b[34mdplyr  \u001b[39m 1.0.2\n",
      "\u001b[32m✔\u001b[39m \u001b[34mtidyr  \u001b[39m 1.1.2     \u001b[32m✔\u001b[39m \u001b[34mstringr\u001b[39m 1.4.0\n",
      "\u001b[32m✔\u001b[39m \u001b[34mreadr  \u001b[39m 1.4.0     \u001b[32m✔\u001b[39m \u001b[34mforcats\u001b[39m 0.5.0\n",
      "\n",
      "Warning message:\n",
      "“package ‘ggplot2’ was built under R version 3.6.3”\n",
      "Warning message:\n",
      "“package ‘tibble’ was built under R version 3.6.3”\n",
      "Warning message:\n",
      "“package ‘tidyr’ was built under R version 3.6.3”\n",
      "Warning message:\n",
      "“package ‘readr’ was built under R version 3.6.3”\n",
      "Warning message:\n",
      "“package ‘purrr’ was built under R version 3.6.3”\n",
      "Warning message:\n",
      "“package ‘dplyr’ was built under R version 3.6.3”\n",
      "Warning message:\n",
      "“package ‘stringr’ was built under R version 3.6.3”\n",
      "Warning message:\n",
      "“package ‘forcats’ was built under R version 3.6.3”\n",
      "── \u001b[1mConflicts\u001b[22m ────────────────────────────────────────── tidyverse_conflicts() ──\n",
      "\u001b[31m✖\u001b[39m \u001b[34mtidyr\u001b[39m::\u001b[32mexpand()\u001b[39m masks \u001b[34mMatrix\u001b[39m::expand()\n",
      "\u001b[31m✖\u001b[39m \u001b[34mdplyr\u001b[39m::\u001b[32mfilter()\u001b[39m masks \u001b[34mstats\u001b[39m::filter()\n",
      "\u001b[31m✖\u001b[39m \u001b[34mdplyr\u001b[39m::\u001b[32mlag()\u001b[39m    masks \u001b[34mstats\u001b[39m::lag()\n",
      "\u001b[31m✖\u001b[39m \u001b[34mtidyr\u001b[39m::\u001b[32mpack()\u001b[39m   masks \u001b[34mMatrix\u001b[39m::pack()\n",
      "\u001b[31m✖\u001b[39m \u001b[34mdplyr\u001b[39m::\u001b[32mrecode()\u001b[39m masks \u001b[34marules\u001b[39m::recode()\n",
      "\u001b[31m✖\u001b[39m \u001b[34mtidyr\u001b[39m::\u001b[32munpack()\u001b[39m masks \u001b[34mMatrix\u001b[39m::unpack()\n",
      "\n",
      "\n",
      "Attaching package: ‘gridExtra’\n",
      "\n",
      "\n",
      "The following object is masked from ‘package:dplyr’:\n",
      "\n",
      "    combine\n",
      "\n",
      "\n",
      "Warning message:\n",
      "“package ‘ggplotify’ was built under R version 3.6.3”\n",
      "Loading required package: discretization\n",
      "\n",
      "Loading required package: lattice\n",
      "\n",
      "Warning message:\n",
      "“package ‘lattice’ was built under R version 3.6.3”\n",
      "\n",
      "Attaching package: ‘caret’\n",
      "\n",
      "\n",
      "The following object is masked from ‘package:purrr’:\n",
      "\n",
      "    lift\n",
      "\n",
      "\n"
     ]
    }
   ],
   "source": [
    "library(arules)\n",
    "library(arulesViz)\n",
    "library(tidyverse)\n",
    "library(gridExtra)\n",
    "library(grid)\n",
    "library(ggplotify)\n",
    "library(arulesCBA)\n",
    "library(caret)"
   ]
  },
  {
   "cell_type": "code",
   "execution_count": 2,
   "metadata": {},
   "outputs": [],
   "source": [
    "tdata <- read.csv('./Data/AssociationRules/All_Male_bool.csv',sep=\",\")\n",
    "\n",
    "#convert everything to categorical factors\n",
    "col_names <- names(tdata)\n",
    "tdata[,col_names] <- lapply(tdata[,col_names] , factor)"
   ]
  },
  {
   "cell_type": "code",
   "execution_count": 3,
   "metadata": {},
   "outputs": [
    {
     "data": {
      "text/html": [
       "373"
      ],
      "text/latex": [
       "373"
      ],
      "text/markdown": [
       "373"
      ],
      "text/plain": [
       "[1] 373"
      ]
     },
     "metadata": {},
     "output_type": "display_data"
    },
    {
     "data": {
      "text/html": [
       "94"
      ],
      "text/latex": [
       "94"
      ],
      "text/markdown": [
       "94"
      ],
      "text/plain": [
       "[1] 94"
      ]
     },
     "metadata": {},
     "output_type": "display_data"
    }
   ],
   "source": [
    "set.seed(1234)\n",
    "\n",
    "train_indexes <- sample(1:nrow(tdata),floor(nrow(tdata)*0.8), replace=FALSE)\n",
    "\n",
    "train <- tdata[train_indexes,]\n",
    "test <- tdata[-train_indexes,]\n",
    "\n",
    "nrow(train)\n",
    "nrow(test)\n",
    "\n",
    "trans <- as(tdata, 'transactions')\n",
    "test_trans <- as(test, \"transactions\")\n",
    "train_trans <- as(train, 'transactions')\n",
    "\n",
    "#items <- grep(\"(*=1)\", itemLabels(trans), value = TRUE)\n",
    "items <- itemLabels(trans)[!grepl(\"rare(.)*=0\", itemLabels(trans))]\n",
    "items <- grep(\"[^grading=1]\",items,value=TRUE)\n",
    "items <- grep(\"[^grading=0]\",items,value=TRUE)\n",
    "items <- grep(\"[^gender=1]\",items,value=TRUE)\n",
    "items <- grep(\"[^gender=0]\",items,value=TRUE)"
   ]
  },
  {
   "cell_type": "code",
   "execution_count": 4,
   "metadata": {},
   "outputs": [
    {
     "data": {
      "text/html": [
       "<style>\n",
       ".list-inline {list-style: none; margin:0; padding: 0}\n",
       ".list-inline>li {display: inline-block}\n",
       ".list-inline>li:not(:last-child)::after {content: \"\\00b7\"; padding: 0 .5ex}\n",
       "</style>\n",
       "<ol class=list-inline><li>'DMRTA2_rare_AR=1'</li><li>'B4GALNT3_rare_AR=1'</li><li>'ANTXRL_rare_AR=1'</li><li>'IRS2_rare_AR=1'</li><li>'MUC5B_rare_AR=1'</li><li>'CELSR1_rare_AR=1'</li><li>'DPP6_rare_AR=1'</li><li>'SRSF8_rare_AR=1'</li><li>'RBM12B_rare_AR=1'</li><li>'VPS13A_rare_AR=1'</li><li>'FLG2_rare_AR=1'</li><li>'SEMG1_rare_AR=1'</li><li>'PLEKHA4_rare_AR=1'</li><li>'OVCH2_rare_AR=1'</li><li>'MUC19_rare_AR=1'</li><li>'CFAP99_rare_AR=1'</li><li>'ANKRD18A_rare_AR=1'</li><li>'RPUSD3_rare_AR=1'</li><li>'DSG4_rare_AR=1'</li><li>'ARID1B_rare_AR=1'</li><li>'GOLGA6L4_rare_AR=1'</li><li>'MYORG_rare_AR=1'</li><li>'MPDZ_rare_AR=1'</li><li>'TGM4_rare_AR=1'</li><li>'DNAH3_rare_AR=1'</li><li>'ZNF469_rare_AR=1'</li><li>'TMEM232_rare_AR=1'</li><li>'GOLGA6L10_rare_AR=1'</li><li>'NEB_rare_AR=1'</li><li>'DST_rare_AR=1'</li><li>'PCDH15_rare_AR=1'</li><li>'SCRT1_rare_AR=1'</li><li>'ADGRF1_rare_AR=1'</li><li>'CDAN1_rare_AR=1'</li><li>'BRCA2_rare_AR=1'</li><li>'TAAR9_rare_AR=1'</li><li>'HMCN1_rare_AR=1'</li><li>'FSIP2_rare_AR=1'</li><li>'BTNL8_rare_AR=1'</li><li>'VIT_rare_AR=1'</li><li>'POLQ_rare_AR=1'</li><li>'C8orf74_rare_AR=1'</li><li>'IL12RB2_rare_AR=1'</li><li>'PCLO_rare_AR=1'</li><li>'PITPNM2_rare_AR=1'</li><li>'DNAH17_rare_AR=1'</li><li>'APOB_rare_AR=1'</li><li>'MYH7B_rare_AR=1'</li><li>'ANKRD11_rare_AR=1'</li><li>'NBPF11_rare_AR=1'</li><li>'NPIPB12.NPIPB13_rare_AR=1'</li><li>'C18orf25_rare_AR=1'</li><li>'DNAH14_rare_AR=1'</li><li>'DLX6_rare_AR=1'</li><li>'HSPG2_rare_AR=1'</li><li>'DNAH11_rare_AR=1'</li><li>'CUBN_rare_AR=1'</li><li>'ANKRD53_rare_AR=1'</li><li>'NPIPB5_rare_AR=1'</li><li>'RYR1_rare_AR=1'</li><li>'FAM186A_rare_AR=1'</li><li>'LAMA5_rare_AR=1'</li><li>'PREX2_rare_AR=1'</li><li>'NIPA2_rare_AR=1'</li><li>'CASZ1_rare_AR=1'</li><li>'MEI1_rare_AR=1'</li><li>'CCDC180_rare_AR=1'</li><li>'AGRN_rare_AR=1'</li><li>'TOP3A_rare_AR=1'</li><li>'MICAL1_rare_AD=1'</li><li>'SGSM2_rare_AD=1'</li><li>'LRRC14B_rare_AD=1'</li><li>'NOD2_rare_AD=1'</li><li>'TICRR_rare_AD=1'</li><li>'PSD_rare_AD=1'</li><li>'ASXL1_rare_AD=1'</li><li>'RBM20_rare_AD=1'</li><li>'PLEKHA4_rare_AD=1'</li><li>'VPS16_rare_AD=1'</li><li>'DUOX2_rare_AD=1'</li><li>'EDAR_rare=1'</li><li>'TNFRSF9_rare=1'</li><li>'SNRK_rare=1'</li><li>'MORC4_rare=1'</li><li>'TXLNG_rare=1'</li><li>'AWAT2_rare=1'</li><li>'SRSF8_rare=1'</li><li>'TAF8_rare=1'</li><li>'CCDC22_rare=1'</li><li>'ZCCHC12_rare=1'</li><li>'TLR7_rare=1'</li><li>'LYAR_rare=1'</li><li>'MAGEA10_rare=1'</li><li>'NTSR2_rare=1'</li><li>'NEXMIF_rare=1'</li><li>'ALG13_rare=1'</li><li>'TNFSF9_rare=1'</li><li>'MAGEE1_rare=1'</li><li>'MAGEA11_rare=1'</li><li>'TBC1D8B_rare=1'</li><li>'ITIH6_rare=1'</li><li>'GDPD2_rare=1'</li><li>'ADGRG4_rare=1'</li><li>'XPNPEP2_rare=1'</li><li>'POF1B_rare=1'</li><li>'ARHGAP4_rare=1'</li><li>'MEGF8_rare=1'</li><li>'ZBTB33_rare=1'</li><li>'COL4A5_rare=1'</li><li>'GLRA4_rare=1'</li><li>'STK26_rare=1'</li><li>'IRS1_rare=1'</li><li>'PWWP3B_rare=1'</li><li>'CACNA1F_rare=1'</li><li>'RBMXL3_rare=1'</li><li>'ARMCX4_rare=1'</li><li>'RRS1_rare=1'</li><li>'TSPEAR_rare=1'</li><li>'FLNA_rare=1'</li><li>'SYTL4_rare=1'</li><li>'TAF1_rare=1'</li><li>'TRO_rare=1'</li><li>'ZNF185_rare=1'</li><li>'SHROOM2_rare=1'</li><li>'SATL1_rare=1'</li><li>'VEGFD_rare=1'</li><li>'ANKAR_rare=1'</li><li>'SAGE1_rare=1'</li><li>'EOGT_rare=1'</li><li>'IGSF9_rare=1'</li><li>'LRCH2_rare=1'</li><li>'NAP1L3_rare=1'</li><li>'EDA2R_rare=1'</li><li>'WAS_rare=1'</li><li>'DEF8_rare=1'</li><li>'NHSL2_rare=1'</li><li>'EFHC2_rare=1'</li><li>'IBTK_rare=1'</li><li>'PXK_rare=1'</li><li>'MUC5AC_1=0'</li><li>'MUC5AC_1=1'</li><li>'MSH4_1=0'</li><li>'MSH4_1=1'</li><li>'TBPL2_1=0'</li><li>'TBPL2_1=1'</li><li>'PPM1E_1=0'</li><li>'PPM1E_1=1'</li><li>'N4BP2_1=0'</li><li>'N4BP2_1=1'</li><li>'PPP1R26_1=0'</li><li>'PPP1R26_1=1'</li><li>'CYP4F2_3=0'</li><li>'CYP4F2_3=1'</li><li>'AURKA_1=0'</li><li>'AURKA_1=1'</li><li>'MIA3_1=0'</li><li>'MIA3_1=1'</li><li>'ADAM15_1=0'</li><li>'ADAM15_1=1'</li><li>'HDLBP_1=0'</li><li>'HDLBP_1=1'</li><li>'LRRC18_1=0'</li><li>'LRRC18_1=1'</li><li>'C5_1=0'</li><li>'C5_1=1'</li><li>'TDRD5_3=0'</li><li>'TDRD5_3=1'</li><li>'UNC13A_1=0'</li><li>'UNC13A_1=1'</li><li>'ZFR_1=0'</li><li>'ZFR_1=1'</li><li>'SLC25A26_1=0'</li><li>'SLC25A26_1=1'</li><li>'THOC5_2=0'</li><li>'THOC5_2=1'</li><li>'FYCO1_4=0'</li><li>'FYCO1_4=1'</li><li>'MACC1_2=0'</li><li>'MACC1_2=1'</li><li>'HOXA4_3=0'</li><li>'HOXA4_3=1'</li><li>'DNAH6_1=0'</li><li>'DNAH6_1=1'</li><li>'SSC5D_3=0'</li><li>'SSC5D_3=1'</li><li>'TMPRSS15_3=0'</li><li>'TMPRSS15_3=1'</li><li>'GORAB_1=0'</li><li>'GORAB_1=1'</li><li>'OR56A4_1=0'</li><li>'OR56A4_1=1'</li><li>'ADAM15_2=0'</li><li>'ADAM15_2=1'</li><li>'OR10H2_2=0'</li><li>'OR10H2_2=1'</li><li>'DNASE1_1=0'</li><li>'DNASE1_1=1'</li><li>'IGHMBP2_2=0'</li><li>'IGHMBP2_2=1'</li><li>'RPAIN_1=0'</li><li>⋯</li><li>'FGD2_1=0'</li><li>'FGD2_1=1'</li><li>'FGD4_2=0'</li><li>'FGD4_2=1'</li><li>'CRNN_1=0'</li><li>'CRNN_1=1'</li><li>'CLDN16_1=0'</li><li>'CLDN16_1=1'</li><li>'CASP8_1=0'</li><li>'CASP8_1=1'</li><li>'CPO_1=0'</li><li>'CPO_1=1'</li><li>'MAML3_1=0'</li><li>'MAML3_1=1'</li><li>'FAM160B2_1=0'</li><li>'FAM160B2_1=1'</li><li>'MTERF4_2=0'</li><li>'MTERF4_2=1'</li><li>'MGA_1=0'</li><li>'MGA_1=1'</li><li>'FAM166B_2=0'</li><li>'FAM166B_2=1'</li><li>'COQ3_2=0'</li><li>'COQ3_2=1'</li><li>'DAPK2_2=0'</li><li>'DAPK2_2=1'</li><li>'SWT1_2=0'</li><li>'SWT1_2=1'</li><li>'GMNC_1=0'</li><li>'GMNC_1=1'</li><li>'PPARGC1A_2=0'</li><li>'PPARGC1A_2=1'</li><li>'OSBPL5_1=0'</li><li>'OSBPL5_1=1'</li><li>'FAM118A_1=0'</li><li>'FAM118A_1=1'</li><li>'OR7A17_2=0'</li><li>'OR7A17_2=1'</li><li>'LRRFIP1_1=0'</li><li>'LRRFIP1_1=1'</li><li>'FAM181B_2=0'</li><li>'FAM181B_2=1'</li><li>'TLR3_1=0'</li><li>'TLR3_1=1'</li><li>'SPNS3_1=0'</li><li>'SPNS3_1=1'</li><li>'PCDHB15_2=0'</li><li>'PCDHB15_2=1'</li><li>'LRRC43_1=0'</li><li>'LRRC43_1=1'</li><li>'LY6D_1=0'</li><li>'LY6D_1=1'</li><li>'ITIH2_1=0'</li><li>'ITIH2_1=1'</li><li>'ZNF75A_1=0'</li><li>'ZNF75A_1=1'</li><li>'HOXA4_1=0'</li><li>'HOXA4_1=1'</li><li>'HSDL1_1=0'</li><li>'HSDL1_1=1'</li><li>'CEP63_1=0'</li><li>'CEP63_1=1'</li><li>'ULBP3_1=0'</li><li>'ULBP3_1=1'</li><li>'PSKH2_1=0'</li><li>'PSKH2_1=1'</li><li>'LINS1_3=0'</li><li>'LINS1_3=1'</li><li>'HNRNPA1L2_2=0'</li><li>'HNRNPA1L2_2=1'</li><li>'ZZEF1_2=0'</li><li>'ZZEF1_2=1'</li><li>'TRIM65_2=0'</li><li>'TRIM65_2=1'</li><li>'PNPT1_1=0'</li><li>'PNPT1_1=1'</li><li>'HOXD4_1=0'</li><li>'HOXD4_1=1'</li><li>'PDILT_3=0'</li><li>'PDILT_3=1'</li><li>'AS3MT_1=0'</li><li>'AS3MT_1=1'</li><li>'C4orf36_1=0'</li><li>'C4orf36_1=1'</li><li>'ANO9_1=0'</li><li>'ANO9_1=1'</li><li>'ANXA11_2=0'</li><li>'ANXA11_2=1'</li><li>'PLEKHN1_1=0'</li><li>'PLEKHN1_1=1'</li><li>'FBXW4_1=0'</li><li>'FBXW4_1=1'</li><li>'RBBP6_2=0'</li><li>'RBBP6_2=1'</li><li>'AP3D1_1=0'</li><li>'AP3D1_1=1'</li><li>'LRP2_2=0'</li><li>'LRP2_2=1'</li><li>'CBR3_2=0'</li><li>'CBR3_2=1'</li><li>'VWA3A_3=0'</li><li>'VWA3A_3=1'</li><li>'SEC16A_1=0'</li><li>'SEC16A_1=1'</li><li>'CEP89_5=0'</li><li>'CEP89_5=1'</li><li>'PDHX_1=0'</li><li>'PDHX_1=1'</li><li>'SELP_1_homo=0'</li><li>'SELP_1_homo=1'</li><li>'RRM2_1_homo=0'</li><li>'RRM2_1_homo=1'</li><li>'FSIP2_2_homo=0'</li><li>'FSIP2_2_homo=1'</li><li>'HOXA4_1_homo=0'</li><li>'HOXA4_1_homo=1'</li><li>'TMEM221_2_homo=0'</li><li>'TMEM221_2_homo=1'</li><li>'COG3_1_homo=0'</li><li>'COG3_1_homo=1'</li><li>'DNAH12_3_homo=0'</li><li>'DNAH12_3_homo=1'</li><li>'RRP12_1_homo=0'</li><li>'RRP12_1_homo=1'</li><li>'PAX4_1_homo=0'</li><li>'PAX4_1_homo=1'</li><li>'IL17RC_1_homo=0'</li><li>'IL17RC_1_homo=1'</li><li>'GBP2_1_homo=0'</li><li>'GBP2_1_homo=1'</li><li>'TGIF2LX_1_hemi=0'</li><li>'TGIF2LX_1_hemi=1'</li><li>'LRP2_2_hemi=0'</li><li>'LRP2_2_hemi=1'</li><li>'MRPL10_1_hemi=0'</li><li>'MRPL10_1_hemi=1'</li><li>'MAGEB18_1_hemi=0'</li><li>'MAGEB18_1_hemi=1'</li><li>'GPC4_1_hemi=0'</li><li>'GPC4_1_hemi=1'</li><li>'SLC7A3_1_hemi=0'</li><li>'SLC7A3_1_hemi=1'</li><li>'MAGEC1_3_hemi=0'</li><li>'MAGEC1_3_hemi=1'</li><li>'ANOS1_1_hemi=0'</li><li>'ANOS1_1_hemi=1'</li><li>'TXK_1_hemi=0'</li><li>'TXK_1_hemi=1'</li><li>'RBMX_1_hemi=0'</li><li>'RBMX_1_hemi=1'</li><li>'MAGEB3_2_hemi=0'</li><li>'MAGEB3_2_hemi=1'</li><li>'POF1B_1_hemi=0'</li><li>'POF1B_1_hemi=1'</li><li>'SLC25A5_1_hemi=0'</li><li>'SLC25A5_1_hemi=1'</li><li>'FMR1NB_1_hemi=0'</li><li>'FMR1NB_1_hemi=1'</li><li>'TENT5D_1_hemi=0'</li><li>'TENT5D_1_hemi=1'</li><li>'SHROOM4_1_hemi=0'</li><li>'SHROOM4_1_hemi=1'</li><li>'IBTK_1_hemi=0'</li><li>'IBTK_1_hemi=1'</li><li>'SLC16A2_1_hemi=0'</li><li>'SLC16A2_1_hemi=1'</li><li>'HCFC1_1_hemi=0'</li><li>'HCFC1_1_hemi=1'</li><li>'MXRA5_1_hemi=0'</li><li>'MXRA5_1_hemi=1'</li><li>'FOXR2_1_hemi=0'</li><li>'FOXR2_1_hemi=1'</li><li>'C1GALT1C1_1_hemi=0'</li><li>'C1GALT1C1_1_hemi=1'</li><li>'FAM47A_2_hemi=0'</li><li>'FAM47A_2_hemi=1'</li><li>'C1QTNF9_1_hemi=0'</li><li>'C1QTNF9_1_hemi=1'</li><li>'GLUD2_1_hemi=0'</li><li>'GLUD2_1_hemi=1'</li><li>'ADGRG4_3_hemi=0'</li><li>'ADGRG4_3_hemi=1'</li><li>'FIGLA_1_hemi=0'</li><li>'FIGLA_1_hemi=1'</li><li>'KCNE5_1_hemi=0'</li><li>'KCNE5_1_hemi=1'</li><li>'ARL13A_1_hemi=0'</li><li>'ARL13A_1_hemi=1'</li><li>'PJA1_1_hemi=0'</li><li>'PJA1_1_hemi=1'</li><li>'F9_1_hemi=0'</li><li>'F9_1_hemi=1'</li><li>'GPR101_2_hemi=0'</li><li>'GPR101_2_hemi=1'</li><li>'ARHGAP6_1_hemi=0'</li><li>'ARHGAP6_1_hemi=1'</li><li>'PGLYRP2_3_hemi=0'</li><li>'PGLYRP2_3_hemi=1'</li><li>'PRKX_1_hemi=0'</li><li>'PRKX_1_hemi=1'</li></ol>\n"
      ],
      "text/latex": [
       "\\begin{enumerate*}\n",
       "\\item 'DMRTA2\\_rare\\_AR=1'\n",
       "\\item 'B4GALNT3\\_rare\\_AR=1'\n",
       "\\item 'ANTXRL\\_rare\\_AR=1'\n",
       "\\item 'IRS2\\_rare\\_AR=1'\n",
       "\\item 'MUC5B\\_rare\\_AR=1'\n",
       "\\item 'CELSR1\\_rare\\_AR=1'\n",
       "\\item 'DPP6\\_rare\\_AR=1'\n",
       "\\item 'SRSF8\\_rare\\_AR=1'\n",
       "\\item 'RBM12B\\_rare\\_AR=1'\n",
       "\\item 'VPS13A\\_rare\\_AR=1'\n",
       "\\item 'FLG2\\_rare\\_AR=1'\n",
       "\\item 'SEMG1\\_rare\\_AR=1'\n",
       "\\item 'PLEKHA4\\_rare\\_AR=1'\n",
       "\\item 'OVCH2\\_rare\\_AR=1'\n",
       "\\item 'MUC19\\_rare\\_AR=1'\n",
       "\\item 'CFAP99\\_rare\\_AR=1'\n",
       "\\item 'ANKRD18A\\_rare\\_AR=1'\n",
       "\\item 'RPUSD3\\_rare\\_AR=1'\n",
       "\\item 'DSG4\\_rare\\_AR=1'\n",
       "\\item 'ARID1B\\_rare\\_AR=1'\n",
       "\\item 'GOLGA6L4\\_rare\\_AR=1'\n",
       "\\item 'MYORG\\_rare\\_AR=1'\n",
       "\\item 'MPDZ\\_rare\\_AR=1'\n",
       "\\item 'TGM4\\_rare\\_AR=1'\n",
       "\\item 'DNAH3\\_rare\\_AR=1'\n",
       "\\item 'ZNF469\\_rare\\_AR=1'\n",
       "\\item 'TMEM232\\_rare\\_AR=1'\n",
       "\\item 'GOLGA6L10\\_rare\\_AR=1'\n",
       "\\item 'NEB\\_rare\\_AR=1'\n",
       "\\item 'DST\\_rare\\_AR=1'\n",
       "\\item 'PCDH15\\_rare\\_AR=1'\n",
       "\\item 'SCRT1\\_rare\\_AR=1'\n",
       "\\item 'ADGRF1\\_rare\\_AR=1'\n",
       "\\item 'CDAN1\\_rare\\_AR=1'\n",
       "\\item 'BRCA2\\_rare\\_AR=1'\n",
       "\\item 'TAAR9\\_rare\\_AR=1'\n",
       "\\item 'HMCN1\\_rare\\_AR=1'\n",
       "\\item 'FSIP2\\_rare\\_AR=1'\n",
       "\\item 'BTNL8\\_rare\\_AR=1'\n",
       "\\item 'VIT\\_rare\\_AR=1'\n",
       "\\item 'POLQ\\_rare\\_AR=1'\n",
       "\\item 'C8orf74\\_rare\\_AR=1'\n",
       "\\item 'IL12RB2\\_rare\\_AR=1'\n",
       "\\item 'PCLO\\_rare\\_AR=1'\n",
       "\\item 'PITPNM2\\_rare\\_AR=1'\n",
       "\\item 'DNAH17\\_rare\\_AR=1'\n",
       "\\item 'APOB\\_rare\\_AR=1'\n",
       "\\item 'MYH7B\\_rare\\_AR=1'\n",
       "\\item 'ANKRD11\\_rare\\_AR=1'\n",
       "\\item 'NBPF11\\_rare\\_AR=1'\n",
       "\\item 'NPIPB12.NPIPB13\\_rare\\_AR=1'\n",
       "\\item 'C18orf25\\_rare\\_AR=1'\n",
       "\\item 'DNAH14\\_rare\\_AR=1'\n",
       "\\item 'DLX6\\_rare\\_AR=1'\n",
       "\\item 'HSPG2\\_rare\\_AR=1'\n",
       "\\item 'DNAH11\\_rare\\_AR=1'\n",
       "\\item 'CUBN\\_rare\\_AR=1'\n",
       "\\item 'ANKRD53\\_rare\\_AR=1'\n",
       "\\item 'NPIPB5\\_rare\\_AR=1'\n",
       "\\item 'RYR1\\_rare\\_AR=1'\n",
       "\\item 'FAM186A\\_rare\\_AR=1'\n",
       "\\item 'LAMA5\\_rare\\_AR=1'\n",
       "\\item 'PREX2\\_rare\\_AR=1'\n",
       "\\item 'NIPA2\\_rare\\_AR=1'\n",
       "\\item 'CASZ1\\_rare\\_AR=1'\n",
       "\\item 'MEI1\\_rare\\_AR=1'\n",
       "\\item 'CCDC180\\_rare\\_AR=1'\n",
       "\\item 'AGRN\\_rare\\_AR=1'\n",
       "\\item 'TOP3A\\_rare\\_AR=1'\n",
       "\\item 'MICAL1\\_rare\\_AD=1'\n",
       "\\item 'SGSM2\\_rare\\_AD=1'\n",
       "\\item 'LRRC14B\\_rare\\_AD=1'\n",
       "\\item 'NOD2\\_rare\\_AD=1'\n",
       "\\item 'TICRR\\_rare\\_AD=1'\n",
       "\\item 'PSD\\_rare\\_AD=1'\n",
       "\\item 'ASXL1\\_rare\\_AD=1'\n",
       "\\item 'RBM20\\_rare\\_AD=1'\n",
       "\\item 'PLEKHA4\\_rare\\_AD=1'\n",
       "\\item 'VPS16\\_rare\\_AD=1'\n",
       "\\item 'DUOX2\\_rare\\_AD=1'\n",
       "\\item 'EDAR\\_rare=1'\n",
       "\\item 'TNFRSF9\\_rare=1'\n",
       "\\item 'SNRK\\_rare=1'\n",
       "\\item 'MORC4\\_rare=1'\n",
       "\\item 'TXLNG\\_rare=1'\n",
       "\\item 'AWAT2\\_rare=1'\n",
       "\\item 'SRSF8\\_rare=1'\n",
       "\\item 'TAF8\\_rare=1'\n",
       "\\item 'CCDC22\\_rare=1'\n",
       "\\item 'ZCCHC12\\_rare=1'\n",
       "\\item 'TLR7\\_rare=1'\n",
       "\\item 'LYAR\\_rare=1'\n",
       "\\item 'MAGEA10\\_rare=1'\n",
       "\\item 'NTSR2\\_rare=1'\n",
       "\\item 'NEXMIF\\_rare=1'\n",
       "\\item 'ALG13\\_rare=1'\n",
       "\\item 'TNFSF9\\_rare=1'\n",
       "\\item 'MAGEE1\\_rare=1'\n",
       "\\item 'MAGEA11\\_rare=1'\n",
       "\\item 'TBC1D8B\\_rare=1'\n",
       "\\item 'ITIH6\\_rare=1'\n",
       "\\item 'GDPD2\\_rare=1'\n",
       "\\item 'ADGRG4\\_rare=1'\n",
       "\\item 'XPNPEP2\\_rare=1'\n",
       "\\item 'POF1B\\_rare=1'\n",
       "\\item 'ARHGAP4\\_rare=1'\n",
       "\\item 'MEGF8\\_rare=1'\n",
       "\\item 'ZBTB33\\_rare=1'\n",
       "\\item 'COL4A5\\_rare=1'\n",
       "\\item 'GLRA4\\_rare=1'\n",
       "\\item 'STK26\\_rare=1'\n",
       "\\item 'IRS1\\_rare=1'\n",
       "\\item 'PWWP3B\\_rare=1'\n",
       "\\item 'CACNA1F\\_rare=1'\n",
       "\\item 'RBMXL3\\_rare=1'\n",
       "\\item 'ARMCX4\\_rare=1'\n",
       "\\item 'RRS1\\_rare=1'\n",
       "\\item 'TSPEAR\\_rare=1'\n",
       "\\item 'FLNA\\_rare=1'\n",
       "\\item 'SYTL4\\_rare=1'\n",
       "\\item 'TAF1\\_rare=1'\n",
       "\\item 'TRO\\_rare=1'\n",
       "\\item 'ZNF185\\_rare=1'\n",
       "\\item 'SHROOM2\\_rare=1'\n",
       "\\item 'SATL1\\_rare=1'\n",
       "\\item 'VEGFD\\_rare=1'\n",
       "\\item 'ANKAR\\_rare=1'\n",
       "\\item 'SAGE1\\_rare=1'\n",
       "\\item 'EOGT\\_rare=1'\n",
       "\\item 'IGSF9\\_rare=1'\n",
       "\\item 'LRCH2\\_rare=1'\n",
       "\\item 'NAP1L3\\_rare=1'\n",
       "\\item 'EDA2R\\_rare=1'\n",
       "\\item 'WAS\\_rare=1'\n",
       "\\item 'DEF8\\_rare=1'\n",
       "\\item 'NHSL2\\_rare=1'\n",
       "\\item 'EFHC2\\_rare=1'\n",
       "\\item 'IBTK\\_rare=1'\n",
       "\\item 'PXK\\_rare=1'\n",
       "\\item 'MUC5AC\\_1=0'\n",
       "\\item 'MUC5AC\\_1=1'\n",
       "\\item 'MSH4\\_1=0'\n",
       "\\item 'MSH4\\_1=1'\n",
       "\\item 'TBPL2\\_1=0'\n",
       "\\item 'TBPL2\\_1=1'\n",
       "\\item 'PPM1E\\_1=0'\n",
       "\\item 'PPM1E\\_1=1'\n",
       "\\item 'N4BP2\\_1=0'\n",
       "\\item 'N4BP2\\_1=1'\n",
       "\\item 'PPP1R26\\_1=0'\n",
       "\\item 'PPP1R26\\_1=1'\n",
       "\\item 'CYP4F2\\_3=0'\n",
       "\\item 'CYP4F2\\_3=1'\n",
       "\\item 'AURKA\\_1=0'\n",
       "\\item 'AURKA\\_1=1'\n",
       "\\item 'MIA3\\_1=0'\n",
       "\\item 'MIA3\\_1=1'\n",
       "\\item 'ADAM15\\_1=0'\n",
       "\\item 'ADAM15\\_1=1'\n",
       "\\item 'HDLBP\\_1=0'\n",
       "\\item 'HDLBP\\_1=1'\n",
       "\\item 'LRRC18\\_1=0'\n",
       "\\item 'LRRC18\\_1=1'\n",
       "\\item 'C5\\_1=0'\n",
       "\\item 'C5\\_1=1'\n",
       "\\item 'TDRD5\\_3=0'\n",
       "\\item 'TDRD5\\_3=1'\n",
       "\\item 'UNC13A\\_1=0'\n",
       "\\item 'UNC13A\\_1=1'\n",
       "\\item 'ZFR\\_1=0'\n",
       "\\item 'ZFR\\_1=1'\n",
       "\\item 'SLC25A26\\_1=0'\n",
       "\\item 'SLC25A26\\_1=1'\n",
       "\\item 'THOC5\\_2=0'\n",
       "\\item 'THOC5\\_2=1'\n",
       "\\item 'FYCO1\\_4=0'\n",
       "\\item 'FYCO1\\_4=1'\n",
       "\\item 'MACC1\\_2=0'\n",
       "\\item 'MACC1\\_2=1'\n",
       "\\item 'HOXA4\\_3=0'\n",
       "\\item 'HOXA4\\_3=1'\n",
       "\\item 'DNAH6\\_1=0'\n",
       "\\item 'DNAH6\\_1=1'\n",
       "\\item 'SSC5D\\_3=0'\n",
       "\\item 'SSC5D\\_3=1'\n",
       "\\item 'TMPRSS15\\_3=0'\n",
       "\\item 'TMPRSS15\\_3=1'\n",
       "\\item 'GORAB\\_1=0'\n",
       "\\item 'GORAB\\_1=1'\n",
       "\\item 'OR56A4\\_1=0'\n",
       "\\item 'OR56A4\\_1=1'\n",
       "\\item 'ADAM15\\_2=0'\n",
       "\\item 'ADAM15\\_2=1'\n",
       "\\item 'OR10H2\\_2=0'\n",
       "\\item 'OR10H2\\_2=1'\n",
       "\\item 'DNASE1\\_1=0'\n",
       "\\item 'DNASE1\\_1=1'\n",
       "\\item 'IGHMBP2\\_2=0'\n",
       "\\item 'IGHMBP2\\_2=1'\n",
       "\\item 'RPAIN\\_1=0'\n",
       "\\item ⋯\n",
       "\\item 'FGD2\\_1=0'\n",
       "\\item 'FGD2\\_1=1'\n",
       "\\item 'FGD4\\_2=0'\n",
       "\\item 'FGD4\\_2=1'\n",
       "\\item 'CRNN\\_1=0'\n",
       "\\item 'CRNN\\_1=1'\n",
       "\\item 'CLDN16\\_1=0'\n",
       "\\item 'CLDN16\\_1=1'\n",
       "\\item 'CASP8\\_1=0'\n",
       "\\item 'CASP8\\_1=1'\n",
       "\\item 'CPO\\_1=0'\n",
       "\\item 'CPO\\_1=1'\n",
       "\\item 'MAML3\\_1=0'\n",
       "\\item 'MAML3\\_1=1'\n",
       "\\item 'FAM160B2\\_1=0'\n",
       "\\item 'FAM160B2\\_1=1'\n",
       "\\item 'MTERF4\\_2=0'\n",
       "\\item 'MTERF4\\_2=1'\n",
       "\\item 'MGA\\_1=0'\n",
       "\\item 'MGA\\_1=1'\n",
       "\\item 'FAM166B\\_2=0'\n",
       "\\item 'FAM166B\\_2=1'\n",
       "\\item 'COQ3\\_2=0'\n",
       "\\item 'COQ3\\_2=1'\n",
       "\\item 'DAPK2\\_2=0'\n",
       "\\item 'DAPK2\\_2=1'\n",
       "\\item 'SWT1\\_2=0'\n",
       "\\item 'SWT1\\_2=1'\n",
       "\\item 'GMNC\\_1=0'\n",
       "\\item 'GMNC\\_1=1'\n",
       "\\item 'PPARGC1A\\_2=0'\n",
       "\\item 'PPARGC1A\\_2=1'\n",
       "\\item 'OSBPL5\\_1=0'\n",
       "\\item 'OSBPL5\\_1=1'\n",
       "\\item 'FAM118A\\_1=0'\n",
       "\\item 'FAM118A\\_1=1'\n",
       "\\item 'OR7A17\\_2=0'\n",
       "\\item 'OR7A17\\_2=1'\n",
       "\\item 'LRRFIP1\\_1=0'\n",
       "\\item 'LRRFIP1\\_1=1'\n",
       "\\item 'FAM181B\\_2=0'\n",
       "\\item 'FAM181B\\_2=1'\n",
       "\\item 'TLR3\\_1=0'\n",
       "\\item 'TLR3\\_1=1'\n",
       "\\item 'SPNS3\\_1=0'\n",
       "\\item 'SPNS3\\_1=1'\n",
       "\\item 'PCDHB15\\_2=0'\n",
       "\\item 'PCDHB15\\_2=1'\n",
       "\\item 'LRRC43\\_1=0'\n",
       "\\item 'LRRC43\\_1=1'\n",
       "\\item 'LY6D\\_1=0'\n",
       "\\item 'LY6D\\_1=1'\n",
       "\\item 'ITIH2\\_1=0'\n",
       "\\item 'ITIH2\\_1=1'\n",
       "\\item 'ZNF75A\\_1=0'\n",
       "\\item 'ZNF75A\\_1=1'\n",
       "\\item 'HOXA4\\_1=0'\n",
       "\\item 'HOXA4\\_1=1'\n",
       "\\item 'HSDL1\\_1=0'\n",
       "\\item 'HSDL1\\_1=1'\n",
       "\\item 'CEP63\\_1=0'\n",
       "\\item 'CEP63\\_1=1'\n",
       "\\item 'ULBP3\\_1=0'\n",
       "\\item 'ULBP3\\_1=1'\n",
       "\\item 'PSKH2\\_1=0'\n",
       "\\item 'PSKH2\\_1=1'\n",
       "\\item 'LINS1\\_3=0'\n",
       "\\item 'LINS1\\_3=1'\n",
       "\\item 'HNRNPA1L2\\_2=0'\n",
       "\\item 'HNRNPA1L2\\_2=1'\n",
       "\\item 'ZZEF1\\_2=0'\n",
       "\\item 'ZZEF1\\_2=1'\n",
       "\\item 'TRIM65\\_2=0'\n",
       "\\item 'TRIM65\\_2=1'\n",
       "\\item 'PNPT1\\_1=0'\n",
       "\\item 'PNPT1\\_1=1'\n",
       "\\item 'HOXD4\\_1=0'\n",
       "\\item 'HOXD4\\_1=1'\n",
       "\\item 'PDILT\\_3=0'\n",
       "\\item 'PDILT\\_3=1'\n",
       "\\item 'AS3MT\\_1=0'\n",
       "\\item 'AS3MT\\_1=1'\n",
       "\\item 'C4orf36\\_1=0'\n",
       "\\item 'C4orf36\\_1=1'\n",
       "\\item 'ANO9\\_1=0'\n",
       "\\item 'ANO9\\_1=1'\n",
       "\\item 'ANXA11\\_2=0'\n",
       "\\item 'ANXA11\\_2=1'\n",
       "\\item 'PLEKHN1\\_1=0'\n",
       "\\item 'PLEKHN1\\_1=1'\n",
       "\\item 'FBXW4\\_1=0'\n",
       "\\item 'FBXW4\\_1=1'\n",
       "\\item 'RBBP6\\_2=0'\n",
       "\\item 'RBBP6\\_2=1'\n",
       "\\item 'AP3D1\\_1=0'\n",
       "\\item 'AP3D1\\_1=1'\n",
       "\\item 'LRP2\\_2=0'\n",
       "\\item 'LRP2\\_2=1'\n",
       "\\item 'CBR3\\_2=0'\n",
       "\\item 'CBR3\\_2=1'\n",
       "\\item 'VWA3A\\_3=0'\n",
       "\\item 'VWA3A\\_3=1'\n",
       "\\item 'SEC16A\\_1=0'\n",
       "\\item 'SEC16A\\_1=1'\n",
       "\\item 'CEP89\\_5=0'\n",
       "\\item 'CEP89\\_5=1'\n",
       "\\item 'PDHX\\_1=0'\n",
       "\\item 'PDHX\\_1=1'\n",
       "\\item 'SELP\\_1\\_homo=0'\n",
       "\\item 'SELP\\_1\\_homo=1'\n",
       "\\item 'RRM2\\_1\\_homo=0'\n",
       "\\item 'RRM2\\_1\\_homo=1'\n",
       "\\item 'FSIP2\\_2\\_homo=0'\n",
       "\\item 'FSIP2\\_2\\_homo=1'\n",
       "\\item 'HOXA4\\_1\\_homo=0'\n",
       "\\item 'HOXA4\\_1\\_homo=1'\n",
       "\\item 'TMEM221\\_2\\_homo=0'\n",
       "\\item 'TMEM221\\_2\\_homo=1'\n",
       "\\item 'COG3\\_1\\_homo=0'\n",
       "\\item 'COG3\\_1\\_homo=1'\n",
       "\\item 'DNAH12\\_3\\_homo=0'\n",
       "\\item 'DNAH12\\_3\\_homo=1'\n",
       "\\item 'RRP12\\_1\\_homo=0'\n",
       "\\item 'RRP12\\_1\\_homo=1'\n",
       "\\item 'PAX4\\_1\\_homo=0'\n",
       "\\item 'PAX4\\_1\\_homo=1'\n",
       "\\item 'IL17RC\\_1\\_homo=0'\n",
       "\\item 'IL17RC\\_1\\_homo=1'\n",
       "\\item 'GBP2\\_1\\_homo=0'\n",
       "\\item 'GBP2\\_1\\_homo=1'\n",
       "\\item 'TGIF2LX\\_1\\_hemi=0'\n",
       "\\item 'TGIF2LX\\_1\\_hemi=1'\n",
       "\\item 'LRP2\\_2\\_hemi=0'\n",
       "\\item 'LRP2\\_2\\_hemi=1'\n",
       "\\item 'MRPL10\\_1\\_hemi=0'\n",
       "\\item 'MRPL10\\_1\\_hemi=1'\n",
       "\\item 'MAGEB18\\_1\\_hemi=0'\n",
       "\\item 'MAGEB18\\_1\\_hemi=1'\n",
       "\\item 'GPC4\\_1\\_hemi=0'\n",
       "\\item 'GPC4\\_1\\_hemi=1'\n",
       "\\item 'SLC7A3\\_1\\_hemi=0'\n",
       "\\item 'SLC7A3\\_1\\_hemi=1'\n",
       "\\item 'MAGEC1\\_3\\_hemi=0'\n",
       "\\item 'MAGEC1\\_3\\_hemi=1'\n",
       "\\item 'ANOS1\\_1\\_hemi=0'\n",
       "\\item 'ANOS1\\_1\\_hemi=1'\n",
       "\\item 'TXK\\_1\\_hemi=0'\n",
       "\\item 'TXK\\_1\\_hemi=1'\n",
       "\\item 'RBMX\\_1\\_hemi=0'\n",
       "\\item 'RBMX\\_1\\_hemi=1'\n",
       "\\item 'MAGEB3\\_2\\_hemi=0'\n",
       "\\item 'MAGEB3\\_2\\_hemi=1'\n",
       "\\item 'POF1B\\_1\\_hemi=0'\n",
       "\\item 'POF1B\\_1\\_hemi=1'\n",
       "\\item 'SLC25A5\\_1\\_hemi=0'\n",
       "\\item 'SLC25A5\\_1\\_hemi=1'\n",
       "\\item 'FMR1NB\\_1\\_hemi=0'\n",
       "\\item 'FMR1NB\\_1\\_hemi=1'\n",
       "\\item 'TENT5D\\_1\\_hemi=0'\n",
       "\\item 'TENT5D\\_1\\_hemi=1'\n",
       "\\item 'SHROOM4\\_1\\_hemi=0'\n",
       "\\item 'SHROOM4\\_1\\_hemi=1'\n",
       "\\item 'IBTK\\_1\\_hemi=0'\n",
       "\\item 'IBTK\\_1\\_hemi=1'\n",
       "\\item 'SLC16A2\\_1\\_hemi=0'\n",
       "\\item 'SLC16A2\\_1\\_hemi=1'\n",
       "\\item 'HCFC1\\_1\\_hemi=0'\n",
       "\\item 'HCFC1\\_1\\_hemi=1'\n",
       "\\item 'MXRA5\\_1\\_hemi=0'\n",
       "\\item 'MXRA5\\_1\\_hemi=1'\n",
       "\\item 'FOXR2\\_1\\_hemi=0'\n",
       "\\item 'FOXR2\\_1\\_hemi=1'\n",
       "\\item 'C1GALT1C1\\_1\\_hemi=0'\n",
       "\\item 'C1GALT1C1\\_1\\_hemi=1'\n",
       "\\item 'FAM47A\\_2\\_hemi=0'\n",
       "\\item 'FAM47A\\_2\\_hemi=1'\n",
       "\\item 'C1QTNF9\\_1\\_hemi=0'\n",
       "\\item 'C1QTNF9\\_1\\_hemi=1'\n",
       "\\item 'GLUD2\\_1\\_hemi=0'\n",
       "\\item 'GLUD2\\_1\\_hemi=1'\n",
       "\\item 'ADGRG4\\_3\\_hemi=0'\n",
       "\\item 'ADGRG4\\_3\\_hemi=1'\n",
       "\\item 'FIGLA\\_1\\_hemi=0'\n",
       "\\item 'FIGLA\\_1\\_hemi=1'\n",
       "\\item 'KCNE5\\_1\\_hemi=0'\n",
       "\\item 'KCNE5\\_1\\_hemi=1'\n",
       "\\item 'ARL13A\\_1\\_hemi=0'\n",
       "\\item 'ARL13A\\_1\\_hemi=1'\n",
       "\\item 'PJA1\\_1\\_hemi=0'\n",
       "\\item 'PJA1\\_1\\_hemi=1'\n",
       "\\item 'F9\\_1\\_hemi=0'\n",
       "\\item 'F9\\_1\\_hemi=1'\n",
       "\\item 'GPR101\\_2\\_hemi=0'\n",
       "\\item 'GPR101\\_2\\_hemi=1'\n",
       "\\item 'ARHGAP6\\_1\\_hemi=0'\n",
       "\\item 'ARHGAP6\\_1\\_hemi=1'\n",
       "\\item 'PGLYRP2\\_3\\_hemi=0'\n",
       "\\item 'PGLYRP2\\_3\\_hemi=1'\n",
       "\\item 'PRKX\\_1\\_hemi=0'\n",
       "\\item 'PRKX\\_1\\_hemi=1'\n",
       "\\end{enumerate*}\n"
      ],
      "text/markdown": [
       "1. 'DMRTA2_rare_AR=1'\n",
       "2. 'B4GALNT3_rare_AR=1'\n",
       "3. 'ANTXRL_rare_AR=1'\n",
       "4. 'IRS2_rare_AR=1'\n",
       "5. 'MUC5B_rare_AR=1'\n",
       "6. 'CELSR1_rare_AR=1'\n",
       "7. 'DPP6_rare_AR=1'\n",
       "8. 'SRSF8_rare_AR=1'\n",
       "9. 'RBM12B_rare_AR=1'\n",
       "10. 'VPS13A_rare_AR=1'\n",
       "11. 'FLG2_rare_AR=1'\n",
       "12. 'SEMG1_rare_AR=1'\n",
       "13. 'PLEKHA4_rare_AR=1'\n",
       "14. 'OVCH2_rare_AR=1'\n",
       "15. 'MUC19_rare_AR=1'\n",
       "16. 'CFAP99_rare_AR=1'\n",
       "17. 'ANKRD18A_rare_AR=1'\n",
       "18. 'RPUSD3_rare_AR=1'\n",
       "19. 'DSG4_rare_AR=1'\n",
       "20. 'ARID1B_rare_AR=1'\n",
       "21. 'GOLGA6L4_rare_AR=1'\n",
       "22. 'MYORG_rare_AR=1'\n",
       "23. 'MPDZ_rare_AR=1'\n",
       "24. 'TGM4_rare_AR=1'\n",
       "25. 'DNAH3_rare_AR=1'\n",
       "26. 'ZNF469_rare_AR=1'\n",
       "27. 'TMEM232_rare_AR=1'\n",
       "28. 'GOLGA6L10_rare_AR=1'\n",
       "29. 'NEB_rare_AR=1'\n",
       "30. 'DST_rare_AR=1'\n",
       "31. 'PCDH15_rare_AR=1'\n",
       "32. 'SCRT1_rare_AR=1'\n",
       "33. 'ADGRF1_rare_AR=1'\n",
       "34. 'CDAN1_rare_AR=1'\n",
       "35. 'BRCA2_rare_AR=1'\n",
       "36. 'TAAR9_rare_AR=1'\n",
       "37. 'HMCN1_rare_AR=1'\n",
       "38. 'FSIP2_rare_AR=1'\n",
       "39. 'BTNL8_rare_AR=1'\n",
       "40. 'VIT_rare_AR=1'\n",
       "41. 'POLQ_rare_AR=1'\n",
       "42. 'C8orf74_rare_AR=1'\n",
       "43. 'IL12RB2_rare_AR=1'\n",
       "44. 'PCLO_rare_AR=1'\n",
       "45. 'PITPNM2_rare_AR=1'\n",
       "46. 'DNAH17_rare_AR=1'\n",
       "47. 'APOB_rare_AR=1'\n",
       "48. 'MYH7B_rare_AR=1'\n",
       "49. 'ANKRD11_rare_AR=1'\n",
       "50. 'NBPF11_rare_AR=1'\n",
       "51. 'NPIPB12.NPIPB13_rare_AR=1'\n",
       "52. 'C18orf25_rare_AR=1'\n",
       "53. 'DNAH14_rare_AR=1'\n",
       "54. 'DLX6_rare_AR=1'\n",
       "55. 'HSPG2_rare_AR=1'\n",
       "56. 'DNAH11_rare_AR=1'\n",
       "57. 'CUBN_rare_AR=1'\n",
       "58. 'ANKRD53_rare_AR=1'\n",
       "59. 'NPIPB5_rare_AR=1'\n",
       "60. 'RYR1_rare_AR=1'\n",
       "61. 'FAM186A_rare_AR=1'\n",
       "62. 'LAMA5_rare_AR=1'\n",
       "63. 'PREX2_rare_AR=1'\n",
       "64. 'NIPA2_rare_AR=1'\n",
       "65. 'CASZ1_rare_AR=1'\n",
       "66. 'MEI1_rare_AR=1'\n",
       "67. 'CCDC180_rare_AR=1'\n",
       "68. 'AGRN_rare_AR=1'\n",
       "69. 'TOP3A_rare_AR=1'\n",
       "70. 'MICAL1_rare_AD=1'\n",
       "71. 'SGSM2_rare_AD=1'\n",
       "72. 'LRRC14B_rare_AD=1'\n",
       "73. 'NOD2_rare_AD=1'\n",
       "74. 'TICRR_rare_AD=1'\n",
       "75. 'PSD_rare_AD=1'\n",
       "76. 'ASXL1_rare_AD=1'\n",
       "77. 'RBM20_rare_AD=1'\n",
       "78. 'PLEKHA4_rare_AD=1'\n",
       "79. 'VPS16_rare_AD=1'\n",
       "80. 'DUOX2_rare_AD=1'\n",
       "81. 'EDAR_rare=1'\n",
       "82. 'TNFRSF9_rare=1'\n",
       "83. 'SNRK_rare=1'\n",
       "84. 'MORC4_rare=1'\n",
       "85. 'TXLNG_rare=1'\n",
       "86. 'AWAT2_rare=1'\n",
       "87. 'SRSF8_rare=1'\n",
       "88. 'TAF8_rare=1'\n",
       "89. 'CCDC22_rare=1'\n",
       "90. 'ZCCHC12_rare=1'\n",
       "91. 'TLR7_rare=1'\n",
       "92. 'LYAR_rare=1'\n",
       "93. 'MAGEA10_rare=1'\n",
       "94. 'NTSR2_rare=1'\n",
       "95. 'NEXMIF_rare=1'\n",
       "96. 'ALG13_rare=1'\n",
       "97. 'TNFSF9_rare=1'\n",
       "98. 'MAGEE1_rare=1'\n",
       "99. 'MAGEA11_rare=1'\n",
       "100. 'TBC1D8B_rare=1'\n",
       "101. 'ITIH6_rare=1'\n",
       "102. 'GDPD2_rare=1'\n",
       "103. 'ADGRG4_rare=1'\n",
       "104. 'XPNPEP2_rare=1'\n",
       "105. 'POF1B_rare=1'\n",
       "106. 'ARHGAP4_rare=1'\n",
       "107. 'MEGF8_rare=1'\n",
       "108. 'ZBTB33_rare=1'\n",
       "109. 'COL4A5_rare=1'\n",
       "110. 'GLRA4_rare=1'\n",
       "111. 'STK26_rare=1'\n",
       "112. 'IRS1_rare=1'\n",
       "113. 'PWWP3B_rare=1'\n",
       "114. 'CACNA1F_rare=1'\n",
       "115. 'RBMXL3_rare=1'\n",
       "116. 'ARMCX4_rare=1'\n",
       "117. 'RRS1_rare=1'\n",
       "118. 'TSPEAR_rare=1'\n",
       "119. 'FLNA_rare=1'\n",
       "120. 'SYTL4_rare=1'\n",
       "121. 'TAF1_rare=1'\n",
       "122. 'TRO_rare=1'\n",
       "123. 'ZNF185_rare=1'\n",
       "124. 'SHROOM2_rare=1'\n",
       "125. 'SATL1_rare=1'\n",
       "126. 'VEGFD_rare=1'\n",
       "127. 'ANKAR_rare=1'\n",
       "128. 'SAGE1_rare=1'\n",
       "129. 'EOGT_rare=1'\n",
       "130. 'IGSF9_rare=1'\n",
       "131. 'LRCH2_rare=1'\n",
       "132. 'NAP1L3_rare=1'\n",
       "133. 'EDA2R_rare=1'\n",
       "134. 'WAS_rare=1'\n",
       "135. 'DEF8_rare=1'\n",
       "136. 'NHSL2_rare=1'\n",
       "137. 'EFHC2_rare=1'\n",
       "138. 'IBTK_rare=1'\n",
       "139. 'PXK_rare=1'\n",
       "140. 'MUC5AC_1=0'\n",
       "141. 'MUC5AC_1=1'\n",
       "142. 'MSH4_1=0'\n",
       "143. 'MSH4_1=1'\n",
       "144. 'TBPL2_1=0'\n",
       "145. 'TBPL2_1=1'\n",
       "146. 'PPM1E_1=0'\n",
       "147. 'PPM1E_1=1'\n",
       "148. 'N4BP2_1=0'\n",
       "149. 'N4BP2_1=1'\n",
       "150. 'PPP1R26_1=0'\n",
       "151. 'PPP1R26_1=1'\n",
       "152. 'CYP4F2_3=0'\n",
       "153. 'CYP4F2_3=1'\n",
       "154. 'AURKA_1=0'\n",
       "155. 'AURKA_1=1'\n",
       "156. 'MIA3_1=0'\n",
       "157. 'MIA3_1=1'\n",
       "158. 'ADAM15_1=0'\n",
       "159. 'ADAM15_1=1'\n",
       "160. 'HDLBP_1=0'\n",
       "161. 'HDLBP_1=1'\n",
       "162. 'LRRC18_1=0'\n",
       "163. 'LRRC18_1=1'\n",
       "164. 'C5_1=0'\n",
       "165. 'C5_1=1'\n",
       "166. 'TDRD5_3=0'\n",
       "167. 'TDRD5_3=1'\n",
       "168. 'UNC13A_1=0'\n",
       "169. 'UNC13A_1=1'\n",
       "170. 'ZFR_1=0'\n",
       "171. 'ZFR_1=1'\n",
       "172. 'SLC25A26_1=0'\n",
       "173. 'SLC25A26_1=1'\n",
       "174. 'THOC5_2=0'\n",
       "175. 'THOC5_2=1'\n",
       "176. 'FYCO1_4=0'\n",
       "177. 'FYCO1_4=1'\n",
       "178. 'MACC1_2=0'\n",
       "179. 'MACC1_2=1'\n",
       "180. 'HOXA4_3=0'\n",
       "181. 'HOXA4_3=1'\n",
       "182. 'DNAH6_1=0'\n",
       "183. 'DNAH6_1=1'\n",
       "184. 'SSC5D_3=0'\n",
       "185. 'SSC5D_3=1'\n",
       "186. 'TMPRSS15_3=0'\n",
       "187. 'TMPRSS15_3=1'\n",
       "188. 'GORAB_1=0'\n",
       "189. 'GORAB_1=1'\n",
       "190. 'OR56A4_1=0'\n",
       "191. 'OR56A4_1=1'\n",
       "192. 'ADAM15_2=0'\n",
       "193. 'ADAM15_2=1'\n",
       "194. 'OR10H2_2=0'\n",
       "195. 'OR10H2_2=1'\n",
       "196. 'DNASE1_1=0'\n",
       "197. 'DNASE1_1=1'\n",
       "198. 'IGHMBP2_2=0'\n",
       "199. 'IGHMBP2_2=1'\n",
       "200. 'RPAIN_1=0'\n",
       "201. ⋯\n",
       "202. 'FGD2_1=0'\n",
       "203. 'FGD2_1=1'\n",
       "204. 'FGD4_2=0'\n",
       "205. 'FGD4_2=1'\n",
       "206. 'CRNN_1=0'\n",
       "207. 'CRNN_1=1'\n",
       "208. 'CLDN16_1=0'\n",
       "209. 'CLDN16_1=1'\n",
       "210. 'CASP8_1=0'\n",
       "211. 'CASP8_1=1'\n",
       "212. 'CPO_1=0'\n",
       "213. 'CPO_1=1'\n",
       "214. 'MAML3_1=0'\n",
       "215. 'MAML3_1=1'\n",
       "216. 'FAM160B2_1=0'\n",
       "217. 'FAM160B2_1=1'\n",
       "218. 'MTERF4_2=0'\n",
       "219. 'MTERF4_2=1'\n",
       "220. 'MGA_1=0'\n",
       "221. 'MGA_1=1'\n",
       "222. 'FAM166B_2=0'\n",
       "223. 'FAM166B_2=1'\n",
       "224. 'COQ3_2=0'\n",
       "225. 'COQ3_2=1'\n",
       "226. 'DAPK2_2=0'\n",
       "227. 'DAPK2_2=1'\n",
       "228. 'SWT1_2=0'\n",
       "229. 'SWT1_2=1'\n",
       "230. 'GMNC_1=0'\n",
       "231. 'GMNC_1=1'\n",
       "232. 'PPARGC1A_2=0'\n",
       "233. 'PPARGC1A_2=1'\n",
       "234. 'OSBPL5_1=0'\n",
       "235. 'OSBPL5_1=1'\n",
       "236. 'FAM118A_1=0'\n",
       "237. 'FAM118A_1=1'\n",
       "238. 'OR7A17_2=0'\n",
       "239. 'OR7A17_2=1'\n",
       "240. 'LRRFIP1_1=0'\n",
       "241. 'LRRFIP1_1=1'\n",
       "242. 'FAM181B_2=0'\n",
       "243. 'FAM181B_2=1'\n",
       "244. 'TLR3_1=0'\n",
       "245. 'TLR3_1=1'\n",
       "246. 'SPNS3_1=0'\n",
       "247. 'SPNS3_1=1'\n",
       "248. 'PCDHB15_2=0'\n",
       "249. 'PCDHB15_2=1'\n",
       "250. 'LRRC43_1=0'\n",
       "251. 'LRRC43_1=1'\n",
       "252. 'LY6D_1=0'\n",
       "253. 'LY6D_1=1'\n",
       "254. 'ITIH2_1=0'\n",
       "255. 'ITIH2_1=1'\n",
       "256. 'ZNF75A_1=0'\n",
       "257. 'ZNF75A_1=1'\n",
       "258. 'HOXA4_1=0'\n",
       "259. 'HOXA4_1=1'\n",
       "260. 'HSDL1_1=0'\n",
       "261. 'HSDL1_1=1'\n",
       "262. 'CEP63_1=0'\n",
       "263. 'CEP63_1=1'\n",
       "264. 'ULBP3_1=0'\n",
       "265. 'ULBP3_1=1'\n",
       "266. 'PSKH2_1=0'\n",
       "267. 'PSKH2_1=1'\n",
       "268. 'LINS1_3=0'\n",
       "269. 'LINS1_3=1'\n",
       "270. 'HNRNPA1L2_2=0'\n",
       "271. 'HNRNPA1L2_2=1'\n",
       "272. 'ZZEF1_2=0'\n",
       "273. 'ZZEF1_2=1'\n",
       "274. 'TRIM65_2=0'\n",
       "275. 'TRIM65_2=1'\n",
       "276. 'PNPT1_1=0'\n",
       "277. 'PNPT1_1=1'\n",
       "278. 'HOXD4_1=0'\n",
       "279. 'HOXD4_1=1'\n",
       "280. 'PDILT_3=0'\n",
       "281. 'PDILT_3=1'\n",
       "282. 'AS3MT_1=0'\n",
       "283. 'AS3MT_1=1'\n",
       "284. 'C4orf36_1=0'\n",
       "285. 'C4orf36_1=1'\n",
       "286. 'ANO9_1=0'\n",
       "287. 'ANO9_1=1'\n",
       "288. 'ANXA11_2=0'\n",
       "289. 'ANXA11_2=1'\n",
       "290. 'PLEKHN1_1=0'\n",
       "291. 'PLEKHN1_1=1'\n",
       "292. 'FBXW4_1=0'\n",
       "293. 'FBXW4_1=1'\n",
       "294. 'RBBP6_2=0'\n",
       "295. 'RBBP6_2=1'\n",
       "296. 'AP3D1_1=0'\n",
       "297. 'AP3D1_1=1'\n",
       "298. 'LRP2_2=0'\n",
       "299. 'LRP2_2=1'\n",
       "300. 'CBR3_2=0'\n",
       "301. 'CBR3_2=1'\n",
       "302. 'VWA3A_3=0'\n",
       "303. 'VWA3A_3=1'\n",
       "304. 'SEC16A_1=0'\n",
       "305. 'SEC16A_1=1'\n",
       "306. 'CEP89_5=0'\n",
       "307. 'CEP89_5=1'\n",
       "308. 'PDHX_1=0'\n",
       "309. 'PDHX_1=1'\n",
       "310. 'SELP_1_homo=0'\n",
       "311. 'SELP_1_homo=1'\n",
       "312. 'RRM2_1_homo=0'\n",
       "313. 'RRM2_1_homo=1'\n",
       "314. 'FSIP2_2_homo=0'\n",
       "315. 'FSIP2_2_homo=1'\n",
       "316. 'HOXA4_1_homo=0'\n",
       "317. 'HOXA4_1_homo=1'\n",
       "318. 'TMEM221_2_homo=0'\n",
       "319. 'TMEM221_2_homo=1'\n",
       "320. 'COG3_1_homo=0'\n",
       "321. 'COG3_1_homo=1'\n",
       "322. 'DNAH12_3_homo=0'\n",
       "323. 'DNAH12_3_homo=1'\n",
       "324. 'RRP12_1_homo=0'\n",
       "325. 'RRP12_1_homo=1'\n",
       "326. 'PAX4_1_homo=0'\n",
       "327. 'PAX4_1_homo=1'\n",
       "328. 'IL17RC_1_homo=0'\n",
       "329. 'IL17RC_1_homo=1'\n",
       "330. 'GBP2_1_homo=0'\n",
       "331. 'GBP2_1_homo=1'\n",
       "332. 'TGIF2LX_1_hemi=0'\n",
       "333. 'TGIF2LX_1_hemi=1'\n",
       "334. 'LRP2_2_hemi=0'\n",
       "335. 'LRP2_2_hemi=1'\n",
       "336. 'MRPL10_1_hemi=0'\n",
       "337. 'MRPL10_1_hemi=1'\n",
       "338. 'MAGEB18_1_hemi=0'\n",
       "339. 'MAGEB18_1_hemi=1'\n",
       "340. 'GPC4_1_hemi=0'\n",
       "341. 'GPC4_1_hemi=1'\n",
       "342. 'SLC7A3_1_hemi=0'\n",
       "343. 'SLC7A3_1_hemi=1'\n",
       "344. 'MAGEC1_3_hemi=0'\n",
       "345. 'MAGEC1_3_hemi=1'\n",
       "346. 'ANOS1_1_hemi=0'\n",
       "347. 'ANOS1_1_hemi=1'\n",
       "348. 'TXK_1_hemi=0'\n",
       "349. 'TXK_1_hemi=1'\n",
       "350. 'RBMX_1_hemi=0'\n",
       "351. 'RBMX_1_hemi=1'\n",
       "352. 'MAGEB3_2_hemi=0'\n",
       "353. 'MAGEB3_2_hemi=1'\n",
       "354. 'POF1B_1_hemi=0'\n",
       "355. 'POF1B_1_hemi=1'\n",
       "356. 'SLC25A5_1_hemi=0'\n",
       "357. 'SLC25A5_1_hemi=1'\n",
       "358. 'FMR1NB_1_hemi=0'\n",
       "359. 'FMR1NB_1_hemi=1'\n",
       "360. 'TENT5D_1_hemi=0'\n",
       "361. 'TENT5D_1_hemi=1'\n",
       "362. 'SHROOM4_1_hemi=0'\n",
       "363. 'SHROOM4_1_hemi=1'\n",
       "364. 'IBTK_1_hemi=0'\n",
       "365. 'IBTK_1_hemi=1'\n",
       "366. 'SLC16A2_1_hemi=0'\n",
       "367. 'SLC16A2_1_hemi=1'\n",
       "368. 'HCFC1_1_hemi=0'\n",
       "369. 'HCFC1_1_hemi=1'\n",
       "370. 'MXRA5_1_hemi=0'\n",
       "371. 'MXRA5_1_hemi=1'\n",
       "372. 'FOXR2_1_hemi=0'\n",
       "373. 'FOXR2_1_hemi=1'\n",
       "374. 'C1GALT1C1_1_hemi=0'\n",
       "375. 'C1GALT1C1_1_hemi=1'\n",
       "376. 'FAM47A_2_hemi=0'\n",
       "377. 'FAM47A_2_hemi=1'\n",
       "378. 'C1QTNF9_1_hemi=0'\n",
       "379. 'C1QTNF9_1_hemi=1'\n",
       "380. 'GLUD2_1_hemi=0'\n",
       "381. 'GLUD2_1_hemi=1'\n",
       "382. 'ADGRG4_3_hemi=0'\n",
       "383. 'ADGRG4_3_hemi=1'\n",
       "384. 'FIGLA_1_hemi=0'\n",
       "385. 'FIGLA_1_hemi=1'\n",
       "386. 'KCNE5_1_hemi=0'\n",
       "387. 'KCNE5_1_hemi=1'\n",
       "388. 'ARL13A_1_hemi=0'\n",
       "389. 'ARL13A_1_hemi=1'\n",
       "390. 'PJA1_1_hemi=0'\n",
       "391. 'PJA1_1_hemi=1'\n",
       "392. 'F9_1_hemi=0'\n",
       "393. 'F9_1_hemi=1'\n",
       "394. 'GPR101_2_hemi=0'\n",
       "395. 'GPR101_2_hemi=1'\n",
       "396. 'ARHGAP6_1_hemi=0'\n",
       "397. 'ARHGAP6_1_hemi=1'\n",
       "398. 'PGLYRP2_3_hemi=0'\n",
       "399. 'PGLYRP2_3_hemi=1'\n",
       "400. 'PRKX_1_hemi=0'\n",
       "401. 'PRKX_1_hemi=1'\n",
       "\n",
       "\n"
      ],
      "text/plain": [
       "  [1] \"DMRTA2_rare_AR=1\"          \"B4GALNT3_rare_AR=1\"       \n",
       "  [3] \"ANTXRL_rare_AR=1\"          \"IRS2_rare_AR=1\"           \n",
       "  [5] \"MUC5B_rare_AR=1\"           \"CELSR1_rare_AR=1\"         \n",
       "  [7] \"DPP6_rare_AR=1\"            \"SRSF8_rare_AR=1\"          \n",
       "  [9] \"RBM12B_rare_AR=1\"          \"VPS13A_rare_AR=1\"         \n",
       " [11] \"FLG2_rare_AR=1\"            \"SEMG1_rare_AR=1\"          \n",
       " [13] \"PLEKHA4_rare_AR=1\"         \"OVCH2_rare_AR=1\"          \n",
       " [15] \"MUC19_rare_AR=1\"           \"CFAP99_rare_AR=1\"         \n",
       " [17] \"ANKRD18A_rare_AR=1\"        \"RPUSD3_rare_AR=1\"         \n",
       " [19] \"DSG4_rare_AR=1\"            \"ARID1B_rare_AR=1\"         \n",
       " [21] \"GOLGA6L4_rare_AR=1\"        \"MYORG_rare_AR=1\"          \n",
       " [23] \"MPDZ_rare_AR=1\"            \"TGM4_rare_AR=1\"           \n",
       " [25] \"DNAH3_rare_AR=1\"           \"ZNF469_rare_AR=1\"         \n",
       " [27] \"TMEM232_rare_AR=1\"         \"GOLGA6L10_rare_AR=1\"      \n",
       " [29] \"NEB_rare_AR=1\"             \"DST_rare_AR=1\"            \n",
       " [31] \"PCDH15_rare_AR=1\"          \"SCRT1_rare_AR=1\"          \n",
       " [33] \"ADGRF1_rare_AR=1\"          \"CDAN1_rare_AR=1\"          \n",
       " [35] \"BRCA2_rare_AR=1\"           \"TAAR9_rare_AR=1\"          \n",
       " [37] \"HMCN1_rare_AR=1\"           \"FSIP2_rare_AR=1\"          \n",
       " [39] \"BTNL8_rare_AR=1\"           \"VIT_rare_AR=1\"            \n",
       " [41] \"POLQ_rare_AR=1\"            \"C8orf74_rare_AR=1\"        \n",
       " [43] \"IL12RB2_rare_AR=1\"         \"PCLO_rare_AR=1\"           \n",
       " [45] \"PITPNM2_rare_AR=1\"         \"DNAH17_rare_AR=1\"         \n",
       " [47] \"APOB_rare_AR=1\"            \"MYH7B_rare_AR=1\"          \n",
       " [49] \"ANKRD11_rare_AR=1\"         \"NBPF11_rare_AR=1\"         \n",
       " [51] \"NPIPB12.NPIPB13_rare_AR=1\" \"C18orf25_rare_AR=1\"       \n",
       " [53] \"DNAH14_rare_AR=1\"          \"DLX6_rare_AR=1\"           \n",
       " [55] \"HSPG2_rare_AR=1\"           \"DNAH11_rare_AR=1\"         \n",
       " [57] \"CUBN_rare_AR=1\"            \"ANKRD53_rare_AR=1\"        \n",
       " [59] \"NPIPB5_rare_AR=1\"          \"RYR1_rare_AR=1\"           \n",
       " [61] \"FAM186A_rare_AR=1\"         \"LAMA5_rare_AR=1\"          \n",
       " [63] \"PREX2_rare_AR=1\"           \"NIPA2_rare_AR=1\"          \n",
       " [65] \"CASZ1_rare_AR=1\"           \"MEI1_rare_AR=1\"           \n",
       " [67] \"CCDC180_rare_AR=1\"         \"AGRN_rare_AR=1\"           \n",
       " [69] \"TOP3A_rare_AR=1\"           \"MICAL1_rare_AD=1\"         \n",
       " [71] \"SGSM2_rare_AD=1\"           \"LRRC14B_rare_AD=1\"        \n",
       " [73] \"NOD2_rare_AD=1\"            \"TICRR_rare_AD=1\"          \n",
       " [75] \"PSD_rare_AD=1\"             \"ASXL1_rare_AD=1\"          \n",
       " [77] \"RBM20_rare_AD=1\"           \"PLEKHA4_rare_AD=1\"        \n",
       " [79] \"VPS16_rare_AD=1\"           \"DUOX2_rare_AD=1\"          \n",
       " [81] \"EDAR_rare=1\"               \"TNFRSF9_rare=1\"           \n",
       " [83] \"SNRK_rare=1\"               \"MORC4_rare=1\"             \n",
       " [85] \"TXLNG_rare=1\"              \"AWAT2_rare=1\"             \n",
       " [87] \"SRSF8_rare=1\"              \"TAF8_rare=1\"              \n",
       " [89] \"CCDC22_rare=1\"             \"ZCCHC12_rare=1\"           \n",
       " [91] \"TLR7_rare=1\"               \"LYAR_rare=1\"              \n",
       " [93] \"MAGEA10_rare=1\"            \"NTSR2_rare=1\"             \n",
       " [95] \"NEXMIF_rare=1\"             \"ALG13_rare=1\"             \n",
       " [97] \"TNFSF9_rare=1\"             \"MAGEE1_rare=1\"            \n",
       " [99] \"MAGEA11_rare=1\"            \"TBC1D8B_rare=1\"           \n",
       "[101] \"ITIH6_rare=1\"              \"GDPD2_rare=1\"             \n",
       "[103] \"ADGRG4_rare=1\"             \"XPNPEP2_rare=1\"           \n",
       "[105] \"POF1B_rare=1\"              \"ARHGAP4_rare=1\"           \n",
       "[107] \"MEGF8_rare=1\"              \"ZBTB33_rare=1\"            \n",
       "[109] \"COL4A5_rare=1\"             \"GLRA4_rare=1\"             \n",
       "[111] \"STK26_rare=1\"              \"IRS1_rare=1\"              \n",
       "[113] \"PWWP3B_rare=1\"             \"CACNA1F_rare=1\"           \n",
       "[115] \"RBMXL3_rare=1\"             \"ARMCX4_rare=1\"            \n",
       "[117] \"RRS1_rare=1\"               \"TSPEAR_rare=1\"            \n",
       "[119] \"FLNA_rare=1\"               \"SYTL4_rare=1\"             \n",
       "[121] \"TAF1_rare=1\"               \"TRO_rare=1\"               \n",
       "[123] \"ZNF185_rare=1\"             \"SHROOM2_rare=1\"           \n",
       "[125] \"SATL1_rare=1\"              \"VEGFD_rare=1\"             \n",
       "[127] \"ANKAR_rare=1\"              \"SAGE1_rare=1\"             \n",
       "[129] \"EOGT_rare=1\"               \"IGSF9_rare=1\"             \n",
       "[131] \"LRCH2_rare=1\"              \"NAP1L3_rare=1\"            \n",
       "[133] \"EDA2R_rare=1\"              \"WAS_rare=1\"               \n",
       "[135] \"DEF8_rare=1\"               \"NHSL2_rare=1\"             \n",
       "[137] \"EFHC2_rare=1\"              \"IBTK_rare=1\"              \n",
       "[139] \"PXK_rare=1\"                \"MUC5AC_1=0\"               \n",
       "[141] \"MUC5AC_1=1\"                \"MSH4_1=0\"                 \n",
       "[143] \"MSH4_1=1\"                  \"TBPL2_1=0\"                \n",
       "[145] \"TBPL2_1=1\"                 \"PPM1E_1=0\"                \n",
       "[147] \"PPM1E_1=1\"                 \"N4BP2_1=0\"                \n",
       "[149] \"N4BP2_1=1\"                 \"PPP1R26_1=0\"              \n",
       "[151] \"PPP1R26_1=1\"               \"CYP4F2_3=0\"               \n",
       "[153] \"CYP4F2_3=1\"                \"AURKA_1=0\"                \n",
       "[155] \"AURKA_1=1\"                 \"MIA3_1=0\"                 \n",
       "[157] \"MIA3_1=1\"                  \"ADAM15_1=0\"               \n",
       "[159] \"ADAM15_1=1\"                \"HDLBP_1=0\"                \n",
       "[161] \"HDLBP_1=1\"                 \"LRRC18_1=0\"               \n",
       "[163] \"LRRC18_1=1\"                \"C5_1=0\"                   \n",
       "[165] \"C5_1=1\"                    \"TDRD5_3=0\"                \n",
       "[167] \"TDRD5_3=1\"                 \"UNC13A_1=0\"               \n",
       "[169] \"UNC13A_1=1\"                \"ZFR_1=0\"                  \n",
       "[171] \"ZFR_1=1\"                   \"SLC25A26_1=0\"             \n",
       "[173] \"SLC25A26_1=1\"              \"THOC5_2=0\"                \n",
       "[175] \"THOC5_2=1\"                 \"FYCO1_4=0\"                \n",
       "[177] \"FYCO1_4=1\"                 \"MACC1_2=0\"                \n",
       "[179] \"MACC1_2=1\"                 \"HOXA4_3=0\"                \n",
       "[181] \"HOXA4_3=1\"                 \"DNAH6_1=0\"                \n",
       "[183] \"DNAH6_1=1\"                 \"SSC5D_3=0\"                \n",
       "[185] \"SSC5D_3=1\"                 \"TMPRSS15_3=0\"             \n",
       "[187] \"TMPRSS15_3=1\"              \"GORAB_1=0\"                \n",
       "[189] \"GORAB_1=1\"                 \"OR56A4_1=0\"               \n",
       "[191] \"OR56A4_1=1\"                \"ADAM15_2=0\"               \n",
       "[193] \"ADAM15_2=1\"                \"OR10H2_2=0\"               \n",
       "[195] \"OR10H2_2=1\"                \"DNASE1_1=0\"               \n",
       "[197] \"DNASE1_1=1\"                \"IGHMBP2_2=0\"              \n",
       "[199] \"IGHMBP2_2=1\"               \"RPAIN_1=0\"                \n",
       "[201] \"RPAIN_1=1\"                 \"SYT16_1=0\"                \n",
       "[203] \"SYT16_1=1\"                 \"SHANK3_1=0\"               \n",
       "[205] \"SHANK3_1=1\"                \"KRTAP27.1_1=0\"            \n",
       "[207] \"KRTAP27.1_1=1\"             \"OSER1_1=0\"                \n",
       "[209] \"OSER1_1=1\"                 \"TTLL4_1=0\"                \n",
       "[211] \"TTLL4_1=1\"                 \"CHST13_2=0\"               \n",
       "[213] \"CHST13_2=1\"                \"NLRP6_1=0\"                \n",
       "[215] \"NLRP6_1=1\"                 \"OTOGL_1=0\"                \n",
       "[217] \"OTOGL_1=1\"                 \"STON2_3=0\"                \n",
       "[219] \"STON2_3=1\"                 \"PSAPL1_3=0\"               \n",
       "[221] \"PSAPL1_3=1\"                \"PLEKHH1_1=0\"              \n",
       "[223] \"PLEKHH1_1=1\"               \"OTOP2_1=0\"                \n",
       "[225] \"OTOP2_1=1\"                 \"BNIPL_2=0\"                \n",
       "[227] \"BNIPL_2=1\"                 \"HHLA1_2=0\"                \n",
       "[229] \"HHLA1_2=1\"                 \"TFRC_1=0\"                 \n",
       "[231] \"TFRC_1=1\"                  \"AKAP10_1=0\"               \n",
       "[233] \"AKAP10_1=1\"                \"CWF19L2_1=0\"              \n",
       "[235] \"CWF19L2_1=1\"               \"APOBR_1=0\"                \n",
       "[237] \"APOBR_1=1\"                 \"LMO7_5=0\"                 \n",
       "[239] \"LMO7_5=1\"                  \"DGCR2_1=0\"                \n",
       "[241] \"DGCR2_1=1\"                 \"ANK3_2=0\"                 \n",
       "[243] \"ANK3_2=1\"                  \"GCAT_2=0\"                 \n",
       "[245] \"GCAT_2=1\"                  \"TRAK1_1=0\"                \n",
       "[247] \"TRAK1_1=1\"                 \"FGD2_1=0\"                 \n",
       "[249] \"FGD2_1=1\"                  \"FGD4_2=0\"                 \n",
       "[251] \"FGD4_2=1\"                  \"CRNN_1=0\"                 \n",
       "[253] \"CRNN_1=1\"                  \"CLDN16_1=0\"               \n",
       "[255] \"CLDN16_1=1\"                \"CASP8_1=0\"                \n",
       "[257] \"CASP8_1=1\"                 \"CPO_1=0\"                  \n",
       "[259] \"CPO_1=1\"                   \"MAML3_1=0\"                \n",
       "[261] \"MAML3_1=1\"                 \"FAM160B2_1=0\"             \n",
       "[263] \"FAM160B2_1=1\"              \"MTERF4_2=0\"               \n",
       "[265] \"MTERF4_2=1\"                \"MGA_1=0\"                  \n",
       "[267] \"MGA_1=1\"                   \"FAM166B_2=0\"              \n",
       "[269] \"FAM166B_2=1\"               \"COQ3_2=0\"                 \n",
       "[271] \"COQ3_2=1\"                  \"DAPK2_2=0\"                \n",
       "[273] \"DAPK2_2=1\"                 \"SWT1_2=0\"                 \n",
       "[275] \"SWT1_2=1\"                  \"GMNC_1=0\"                 \n",
       "[277] \"GMNC_1=1\"                  \"PPARGC1A_2=0\"             \n",
       "[279] \"PPARGC1A_2=1\"              \"OSBPL5_1=0\"               \n",
       "[281] \"OSBPL5_1=1\"                \"FAM118A_1=0\"              \n",
       "[283] \"FAM118A_1=1\"               \"OR7A17_2=0\"               \n",
       "[285] \"OR7A17_2=1\"                \"LRRFIP1_1=0\"              \n",
       "[287] \"LRRFIP1_1=1\"               \"FAM181B_2=0\"              \n",
       "[289] \"FAM181B_2=1\"               \"TLR3_1=0\"                 \n",
       "[291] \"TLR3_1=1\"                  \"SPNS3_1=0\"                \n",
       "[293] \"SPNS3_1=1\"                 \"PCDHB15_2=0\"              \n",
       "[295] \"PCDHB15_2=1\"               \"LRRC43_1=0\"               \n",
       "[297] \"LRRC43_1=1\"                \"LY6D_1=0\"                 \n",
       "[299] \"LY6D_1=1\"                  \"ITIH2_1=0\"                \n",
       "[301] \"ITIH2_1=1\"                 \"ZNF75A_1=0\"               \n",
       "[303] \"ZNF75A_1=1\"                \"HOXA4_1=0\"                \n",
       "[305] \"HOXA4_1=1\"                 \"HSDL1_1=0\"                \n",
       "[307] \"HSDL1_1=1\"                 \"CEP63_1=0\"                \n",
       "[309] \"CEP63_1=1\"                 \"ULBP3_1=0\"                \n",
       "[311] \"ULBP3_1=1\"                 \"PSKH2_1=0\"                \n",
       "[313] \"PSKH2_1=1\"                 \"LINS1_3=0\"                \n",
       "[315] \"LINS1_3=1\"                 \"HNRNPA1L2_2=0\"            \n",
       "[317] \"HNRNPA1L2_2=1\"             \"ZZEF1_2=0\"                \n",
       "[319] \"ZZEF1_2=1\"                 \"TRIM65_2=0\"               \n",
       "[321] \"TRIM65_2=1\"                \"PNPT1_1=0\"                \n",
       "[323] \"PNPT1_1=1\"                 \"HOXD4_1=0\"                \n",
       "[325] \"HOXD4_1=1\"                 \"PDILT_3=0\"                \n",
       "[327] \"PDILT_3=1\"                 \"AS3MT_1=0\"                \n",
       "[329] \"AS3MT_1=1\"                 \"C4orf36_1=0\"              \n",
       "[331] \"C4orf36_1=1\"               \"ANO9_1=0\"                 \n",
       "[333] \"ANO9_1=1\"                  \"ANXA11_2=0\"               \n",
       "[335] \"ANXA11_2=1\"                \"PLEKHN1_1=0\"              \n",
       "[337] \"PLEKHN1_1=1\"               \"FBXW4_1=0\"                \n",
       "[339] \"FBXW4_1=1\"                 \"RBBP6_2=0\"                \n",
       "[341] \"RBBP6_2=1\"                 \"AP3D1_1=0\"                \n",
       "[343] \"AP3D1_1=1\"                 \"LRP2_2=0\"                 \n",
       "[345] \"LRP2_2=1\"                  \"CBR3_2=0\"                 \n",
       "[347] \"CBR3_2=1\"                  \"VWA3A_3=0\"                \n",
       "[349] \"VWA3A_3=1\"                 \"SEC16A_1=0\"               \n",
       "[351] \"SEC16A_1=1\"                \"CEP89_5=0\"                \n",
       "[353] \"CEP89_5=1\"                 \"PDHX_1=0\"                 \n",
       "[355] \"PDHX_1=1\"                  \"SELP_1_homo=0\"            \n",
       "[357] \"SELP_1_homo=1\"             \"RRM2_1_homo=0\"            \n",
       "[359] \"RRM2_1_homo=1\"             \"FSIP2_2_homo=0\"           \n",
       "[361] \"FSIP2_2_homo=1\"            \"HOXA4_1_homo=0\"           \n",
       "[363] \"HOXA4_1_homo=1\"            \"TMEM221_2_homo=0\"         \n",
       "[365] \"TMEM221_2_homo=1\"          \"COG3_1_homo=0\"            \n",
       "[367] \"COG3_1_homo=1\"             \"DNAH12_3_homo=0\"          \n",
       "[369] \"DNAH12_3_homo=1\"           \"RRP12_1_homo=0\"           \n",
       "[371] \"RRP12_1_homo=1\"            \"PAX4_1_homo=0\"            \n",
       "[373] \"PAX4_1_homo=1\"             \"IL17RC_1_homo=0\"          \n",
       "[375] \"IL17RC_1_homo=1\"           \"GBP2_1_homo=0\"            \n",
       "[377] \"GBP2_1_homo=1\"             \"TGIF2LX_1_hemi=0\"         \n",
       "[379] \"TGIF2LX_1_hemi=1\"          \"LRP2_2_hemi=0\"            \n",
       "[381] \"LRP2_2_hemi=1\"             \"MRPL10_1_hemi=0\"          \n",
       "[383] \"MRPL10_1_hemi=1\"           \"MAGEB18_1_hemi=0\"         \n",
       "[385] \"MAGEB18_1_hemi=1\"          \"GPC4_1_hemi=0\"            \n",
       "[387] \"GPC4_1_hemi=1\"             \"SLC7A3_1_hemi=0\"          \n",
       "[389] \"SLC7A3_1_hemi=1\"           \"MAGEC1_3_hemi=0\"          \n",
       "[391] \"MAGEC1_3_hemi=1\"           \"ANOS1_1_hemi=0\"           \n",
       "[393] \"ANOS1_1_hemi=1\"            \"TXK_1_hemi=0\"             \n",
       "[395] \"TXK_1_hemi=1\"              \"RBMX_1_hemi=0\"            \n",
       "[397] \"RBMX_1_hemi=1\"             \"MAGEB3_2_hemi=0\"          \n",
       "[399] \"MAGEB3_2_hemi=1\"           \"POF1B_1_hemi=0\"           \n",
       "[401] \"POF1B_1_hemi=1\"            \"SLC25A5_1_hemi=0\"         \n",
       "[403] \"SLC25A5_1_hemi=1\"          \"FMR1NB_1_hemi=0\"          \n",
       "[405] \"FMR1NB_1_hemi=1\"           \"TENT5D_1_hemi=0\"          \n",
       "[407] \"TENT5D_1_hemi=1\"           \"SHROOM4_1_hemi=0\"         \n",
       "[409] \"SHROOM4_1_hemi=1\"          \"IBTK_1_hemi=0\"            \n",
       "[411] \"IBTK_1_hemi=1\"             \"SLC16A2_1_hemi=0\"         \n",
       "[413] \"SLC16A2_1_hemi=1\"          \"HCFC1_1_hemi=0\"           \n",
       "[415] \"HCFC1_1_hemi=1\"            \"MXRA5_1_hemi=0\"           \n",
       "[417] \"MXRA5_1_hemi=1\"            \"FOXR2_1_hemi=0\"           \n",
       "[419] \"FOXR2_1_hemi=1\"            \"C1GALT1C1_1_hemi=0\"       \n",
       "[421] \"C1GALT1C1_1_hemi=1\"        \"FAM47A_2_hemi=0\"          \n",
       "[423] \"FAM47A_2_hemi=1\"           \"C1QTNF9_1_hemi=0\"         \n",
       "[425] \"C1QTNF9_1_hemi=1\"          \"GLUD2_1_hemi=0\"           \n",
       "[427] \"GLUD2_1_hemi=1\"            \"ADGRG4_3_hemi=0\"          \n",
       "[429] \"ADGRG4_3_hemi=1\"           \"FIGLA_1_hemi=0\"           \n",
       "[431] \"FIGLA_1_hemi=1\"            \"KCNE5_1_hemi=0\"           \n",
       "[433] \"KCNE5_1_hemi=1\"            \"ARL13A_1_hemi=0\"          \n",
       "[435] \"ARL13A_1_hemi=1\"           \"PJA1_1_hemi=0\"            \n",
       "[437] \"PJA1_1_hemi=1\"             \"F9_1_hemi=0\"              \n",
       "[439] \"F9_1_hemi=1\"               \"GPR101_2_hemi=0\"          \n",
       "[441] \"GPR101_2_hemi=1\"           \"ARHGAP6_1_hemi=0\"         \n",
       "[443] \"ARHGAP6_1_hemi=1\"          \"PGLYRP2_3_hemi=0\"         \n",
       "[445] \"PGLYRP2_3_hemi=1\"          \"PRKX_1_hemi=0\"            \n",
       "[447] \"PRKX_1_hemi=1\"            "
      ]
     },
     "metadata": {},
     "output_type": "display_data"
    }
   ],
   "source": [
    "items"
   ]
  },
  {
   "cell_type": "code",
   "execution_count": 5,
   "metadata": {},
   "outputs": [
    {
     "name": "stdout",
     "output_type": "stream",
     "text": [
      "Apriori\n",
      "\n",
      "Parameter specification:\n",
      " confidence minval smax arem  aval originalSupport maxtime support minlen\n",
      "        0.5    0.1    1 none FALSE            TRUE       5   0.007      2\n",
      " maxlen target  ext\n",
      "     10  rules TRUE\n",
      "\n",
      "Algorithmic control:\n",
      " filter tree heap memopt load sort verbose\n",
      "    0.1 TRUE TRUE  FALSE TRUE    2    TRUE\n",
      "\n",
      "Absolute minimum support count: 2 \n",
      "\n",
      "set item appearances ...[449 item(s)] done [0.00s].\n",
      "set transactions ...[449 item(s), 373 transaction(s)] done [0.01s].\n",
      "sorting and recoding items ... [448 item(s)] done [0.00s].\n",
      "creating transaction tree ... done [0.00s].\n",
      "checking subsets of size 1 2 3 4"
     ]
    },
    {
     "name": "stderr",
     "output_type": "stream",
     "text": [
      "Warning message in apriori(data = train_trans, parameter = list(supp = support[i], :\n",
      "“Mining stopped (time limit reached). Only patterns up to a length of 4 returned!”\n"
     ]
    },
    {
     "name": "stdout",
     "output_type": "stream",
     "text": [
      " done [35.83s].\n",
      "writing ... [7900125 rule(s)] done [8.08s].\n",
      "creating S4 object  ... done [2.57s].\n"
     ]
    },
    {
     "name": "stderr",
     "output_type": "stream",
     "text": [
      "Support: 0.007 Confidence: 0.5 Rules: 7900125 p-value: 0.172296009695392 \n",
      "\n",
      "\n"
     ]
    },
    {
     "name": "stdout",
     "output_type": "stream",
     "text": [
      "Apriori\n",
      "\n",
      "Parameter specification:\n",
      " confidence minval smax arem  aval originalSupport maxtime support minlen\n",
      "        0.6    0.1    1 none FALSE            TRUE       5   0.007      2\n",
      " maxlen target  ext\n",
      "     10  rules TRUE\n",
      "\n",
      "Algorithmic control:\n",
      " filter tree heap memopt load sort verbose\n",
      "    0.1 TRUE TRUE  FALSE TRUE    2    TRUE\n",
      "\n",
      "Absolute minimum support count: 2 \n",
      "\n",
      "set item appearances ...[449 item(s)] done [0.00s].\n",
      "set transactions ...[449 item(s), 373 transaction(s)] done [0.01s].\n",
      "sorting and recoding items ... [448 item(s)] done [0.00s].\n",
      "creating transaction tree ... done [0.00s].\n",
      "checking subsets of size 1 2 3 4"
     ]
    },
    {
     "name": "stderr",
     "output_type": "stream",
     "text": [
      "Warning message in apriori(data = train_trans, parameter = list(supp = support[i], :\n",
      "“Mining stopped (time limit reached). Only patterns up to a length of 4 returned!”\n"
     ]
    },
    {
     "name": "stdout",
     "output_type": "stream",
     "text": [
      " done [34.90s].\n",
      "writing ... [5043297 rule(s)] done [8.15s].\n",
      "creating S4 object  ... done [1.29s].\n"
     ]
    },
    {
     "name": "stderr",
     "output_type": "stream",
     "text": [
      "Support: 0.007 Confidence: 0.6 Rules: 5043297 p-value: 0.10764482607356 \n",
      "\n",
      "\n"
     ]
    },
    {
     "name": "stdout",
     "output_type": "stream",
     "text": [
      "Apriori\n",
      "\n",
      "Parameter specification:\n",
      " confidence minval smax arem  aval originalSupport maxtime support minlen\n",
      "        0.7    0.1    1 none FALSE            TRUE       5   0.007      2\n",
      " maxlen target  ext\n",
      "     10  rules TRUE\n",
      "\n",
      "Algorithmic control:\n",
      " filter tree heap memopt load sort verbose\n",
      "    0.1 TRUE TRUE  FALSE TRUE    2    TRUE\n",
      "\n",
      "Absolute minimum support count: 2 \n",
      "\n",
      "set item appearances ...[449 item(s)] done [0.00s].\n",
      "set transactions ...[449 item(s), 373 transaction(s)] done [0.01s].\n",
      "sorting and recoding items ... [448 item(s)] done [0.00s].\n",
      "creating transaction tree ... done [0.00s].\n",
      "checking subsets of size 1 2 3 4"
     ]
    },
    {
     "name": "stderr",
     "output_type": "stream",
     "text": [
      "Warning message in apriori(data = train_trans, parameter = list(supp = support[i], :\n",
      "“Mining stopped (time limit reached). Only patterns up to a length of 4 returned!”\n"
     ]
    },
    {
     "name": "stdout",
     "output_type": "stream",
     "text": [
      " done [33.77s].\n",
      "writing ... [2854907 rule(s)] done [7.77s].\n",
      "creating S4 object  ... done [0.96s].\n"
     ]
    },
    {
     "name": "stderr",
     "output_type": "stream",
     "text": [
      "Support: 0.007 Confidence: 0.7 Rules: 2854907 p-value: 0.0904130793465288 \n",
      "\n",
      "\n"
     ]
    },
    {
     "name": "stdout",
     "output_type": "stream",
     "text": [
      "Apriori\n",
      "\n",
      "Parameter specification:\n",
      " confidence minval smax arem  aval originalSupport maxtime support minlen\n",
      "        0.8    0.1    1 none FALSE            TRUE       5   0.007      2\n",
      " maxlen target  ext\n",
      "     10  rules TRUE\n",
      "\n",
      "Algorithmic control:\n",
      " filter tree heap memopt load sort verbose\n",
      "    0.1 TRUE TRUE  FALSE TRUE    2    TRUE\n",
      "\n",
      "Absolute minimum support count: 2 \n",
      "\n",
      "set item appearances ...[449 item(s)] done [0.00s].\n",
      "set transactions ...[449 item(s), 373 transaction(s)] done [0.01s].\n",
      "sorting and recoding items ... [448 item(s)] done [0.00s].\n",
      "creating transaction tree ... done [0.00s].\n",
      "checking subsets of size 1 2 3 4"
     ]
    },
    {
     "name": "stderr",
     "output_type": "stream",
     "text": [
      "Warning message in apriori(data = train_trans, parameter = list(supp = support[i], :\n",
      "“Mining stopped (time limit reached). Only patterns up to a length of 4 returned!”\n"
     ]
    },
    {
     "name": "stdout",
     "output_type": "stream",
     "text": [
      " done [34.53s].\n",
      "writing ... [1568834 rule(s)] done [7.68s].\n",
      "creating S4 object  ... done [0.79s].\n"
     ]
    },
    {
     "name": "stderr",
     "output_type": "stream",
     "text": [
      "Support: 0.007 Confidence: 0.8 Rules: 1568834 p-value: 0.0856820236869483 \n",
      "\n",
      "\n"
     ]
    },
    {
     "name": "stdout",
     "output_type": "stream",
     "text": [
      "Apriori\n",
      "\n",
      "Parameter specification:\n",
      " confidence minval smax arem  aval originalSupport maxtime support minlen\n",
      "        0.9    0.1    1 none FALSE            TRUE       5   0.007      2\n",
      " maxlen target  ext\n",
      "     10  rules TRUE\n",
      "\n",
      "Algorithmic control:\n",
      " filter tree heap memopt load sort verbose\n",
      "    0.1 TRUE TRUE  FALSE TRUE    2    TRUE\n",
      "\n",
      "Absolute minimum support count: 2 \n",
      "\n",
      "set item appearances ...[449 item(s)] done [0.00s].\n",
      "set transactions ...[449 item(s), 373 transaction(s)] done [0.01s].\n",
      "sorting and recoding items ... [448 item(s)] done [0.00s].\n",
      "creating transaction tree ... done [0.00s].\n",
      "checking subsets of size 1 2 3 4"
     ]
    },
    {
     "name": "stderr",
     "output_type": "stream",
     "text": [
      "Warning message in apriori(data = train_trans, parameter = list(supp = support[i], :\n",
      "“Mining stopped (time limit reached). Only patterns up to a length of 4 returned!”\n"
     ]
    },
    {
     "name": "stdout",
     "output_type": "stream",
     "text": [
      " done [34.41s].\n",
      "writing ... [848895 rule(s)] done [7.74s].\n",
      "creating S4 object  ... done [0.64s].\n"
     ]
    },
    {
     "name": "stderr",
     "output_type": "stream",
     "text": [
      "Support: 0.007 Confidence: 0.9 Rules: 848895 p-value: 0.0856820236869483 \n",
      "\n",
      "\n"
     ]
    },
    {
     "name": "stdout",
     "output_type": "stream",
     "text": [
      "Apriori\n",
      "\n",
      "Parameter specification:\n",
      " confidence minval smax arem  aval originalSupport maxtime support minlen\n",
      "        0.5    0.1    1 none FALSE            TRUE       5    0.01      2\n",
      " maxlen target  ext\n",
      "     10  rules TRUE\n",
      "\n",
      "Algorithmic control:\n",
      " filter tree heap memopt load sort verbose\n",
      "    0.1 TRUE TRUE  FALSE TRUE    2    TRUE\n",
      "\n",
      "Absolute minimum support count: 3 \n",
      "\n",
      "set item appearances ...[449 item(s)] done [0.00s].\n",
      "set transactions ...[449 item(s), 373 transaction(s)] done [0.01s].\n",
      "sorting and recoding items ... [444 item(s)] done [0.00s].\n",
      "creating transaction tree ... done [0.00s].\n",
      "checking subsets of size 1 2 3 4"
     ]
    },
    {
     "name": "stderr",
     "output_type": "stream",
     "text": [
      "Warning message in apriori(data = train_trans, parameter = list(supp = support[i], :\n",
      "“Mining stopped (time limit reached). Only patterns up to a length of 4 returned!”\n"
     ]
    },
    {
     "name": "stdout",
     "output_type": "stream",
     "text": [
      " done [31.86s].\n",
      "writing ... [6811401 rule(s)] done [7.27s].\n",
      "creating S4 object  ... done [1.42s].\n"
     ]
    },
    {
     "name": "stderr",
     "output_type": "stream",
     "text": [
      "Support: 0.01 Confidence: 0.5 Rules: 6811401 p-value: 0.157472305829784 \n",
      "\n",
      "\n"
     ]
    },
    {
     "name": "stdout",
     "output_type": "stream",
     "text": [
      "Apriori\n",
      "\n",
      "Parameter specification:\n",
      " confidence minval smax arem  aval originalSupport maxtime support minlen\n",
      "        0.6    0.1    1 none FALSE            TRUE       5    0.01      2\n",
      " maxlen target  ext\n",
      "     10  rules TRUE\n",
      "\n",
      "Algorithmic control:\n",
      " filter tree heap memopt load sort verbose\n",
      "    0.1 TRUE TRUE  FALSE TRUE    2    TRUE\n",
      "\n",
      "Absolute minimum support count: 3 \n",
      "\n",
      "set item appearances ...[449 item(s)] done [0.00s].\n",
      "set transactions ...[449 item(s), 373 transaction(s)] done [0.01s].\n",
      "sorting and recoding items ... [444 item(s)] done [0.00s].\n",
      "creating transaction tree ... done [0.00s].\n",
      "checking subsets of size 1 2 3 4"
     ]
    },
    {
     "name": "stderr",
     "output_type": "stream",
     "text": [
      "Warning message in apriori(data = train_trans, parameter = list(supp = support[i], :\n",
      "“Mining stopped (time limit reached). Only patterns up to a length of 4 returned!”\n"
     ]
    },
    {
     "name": "stdout",
     "output_type": "stream",
     "text": [
      " done [31.96s].\n",
      "writing ... [4110729 rule(s)] done [7.17s].\n",
      "creating S4 object  ... done [1.32s].\n"
     ]
    },
    {
     "name": "stderr",
     "output_type": "stream",
     "text": [
      "Support: 0.01 Confidence: 0.6 Rules: 4110729 p-value: 0.0904046512043195 \n",
      "\n",
      "\n"
     ]
    },
    {
     "name": "stdout",
     "output_type": "stream",
     "text": [
      "Apriori\n",
      "\n",
      "Parameter specification:\n",
      " confidence minval smax arem  aval originalSupport maxtime support minlen\n",
      "        0.7    0.1    1 none FALSE            TRUE       5    0.01      2\n",
      " maxlen target  ext\n",
      "     10  rules TRUE\n",
      "\n",
      "Algorithmic control:\n",
      " filter tree heap memopt load sort verbose\n",
      "    0.1 TRUE TRUE  FALSE TRUE    2    TRUE\n",
      "\n",
      "Absolute minimum support count: 3 \n",
      "\n",
      "set item appearances ...[449 item(s)] done [0.00s].\n",
      "set transactions ...[449 item(s), 373 transaction(s)] done [0.01s].\n",
      "sorting and recoding items ... [444 item(s)] done [0.00s].\n",
      "creating transaction tree ... done [0.00s].\n",
      "checking subsets of size 1 2 3 4"
     ]
    },
    {
     "name": "stderr",
     "output_type": "stream",
     "text": [
      "Warning message in apriori(data = train_trans, parameter = list(supp = support[i], :\n",
      "“Mining stopped (time limit reached). Only patterns up to a length of 4 returned!”\n"
     ]
    },
    {
     "name": "stdout",
     "output_type": "stream",
     "text": [
      " done [31.99s].\n",
      "writing ... [2144732 rule(s)] done [6.76s].\n",
      "creating S4 object  ... done [0.90s].\n"
     ]
    },
    {
     "name": "stderr",
     "output_type": "stream",
     "text": [
      "Support: 0.01 Confidence: 0.7 Rules: 2144732 p-value: 0.0527753543211111 \n",
      "\n",
      "\n"
     ]
    },
    {
     "name": "stdout",
     "output_type": "stream",
     "text": [
      "Apriori\n",
      "\n",
      "Parameter specification:\n",
      " confidence minval smax arem  aval originalSupport maxtime support minlen\n",
      "        0.8    0.1    1 none FALSE            TRUE       5    0.01      2\n",
      " maxlen target  ext\n",
      "     10  rules TRUE\n",
      "\n",
      "Algorithmic control:\n",
      " filter tree heap memopt load sort verbose\n",
      "    0.1 TRUE TRUE  FALSE TRUE    2    TRUE\n",
      "\n",
      "Absolute minimum support count: 3 \n",
      "\n",
      "set item appearances ...[449 item(s)] done [0.00s].\n",
      "set transactions ...[449 item(s), 373 transaction(s)] done [0.01s].\n",
      "sorting and recoding items ... [444 item(s)] done [0.00s].\n",
      "creating transaction tree ... done [0.00s].\n",
      "checking subsets of size 1 2 3 4"
     ]
    },
    {
     "name": "stderr",
     "output_type": "stream",
     "text": [
      "Warning message in apriori(data = train_trans, parameter = list(supp = support[i], :\n",
      "“Mining stopped (time limit reached). Only patterns up to a length of 4 returned!”\n"
     ]
    },
    {
     "name": "stdout",
     "output_type": "stream",
     "text": [
      " done [31.77s].\n",
      "writing ... [1180310 rule(s)] done [7.48s].\n",
      "creating S4 object  ... done [0.64s].\n"
     ]
    },
    {
     "name": "stderr",
     "output_type": "stream",
     "text": [
      "Support: 0.01 Confidence: 0.8 Rules: 1180310 p-value: 0.0626263861991353 \n",
      "\n",
      "\n"
     ]
    },
    {
     "name": "stdout",
     "output_type": "stream",
     "text": [
      "Apriori\n",
      "\n",
      "Parameter specification:\n",
      " confidence minval smax arem  aval originalSupport maxtime support minlen\n",
      "        0.9    0.1    1 none FALSE            TRUE       5    0.01      2\n",
      " maxlen target  ext\n",
      "     10  rules TRUE\n",
      "\n",
      "Algorithmic control:\n",
      " filter tree heap memopt load sort verbose\n",
      "    0.1 TRUE TRUE  FALSE TRUE    2    TRUE\n",
      "\n",
      "Absolute minimum support count: 3 \n",
      "\n",
      "set item appearances ...[449 item(s)] done [0.00s].\n",
      "set transactions ...[449 item(s), 373 transaction(s)] done [0.01s].\n",
      "sorting and recoding items ... [444 item(s)] done [0.00s].\n",
      "creating transaction tree ... done [0.00s].\n",
      "checking subsets of size 1 2 3 4"
     ]
    },
    {
     "name": "stderr",
     "output_type": "stream",
     "text": [
      "Warning message in apriori(data = train_trans, parameter = list(supp = support[i], :\n",
      "“Mining stopped (time limit reached). Only patterns up to a length of 4 returned!”\n"
     ]
    },
    {
     "name": "stdout",
     "output_type": "stream",
     "text": [
      " done [31.94s].\n",
      "writing ... [460371 rule(s)] done [6.54s].\n",
      "creating S4 object  ... done [0.58s].\n"
     ]
    },
    {
     "name": "stderr",
     "output_type": "stream",
     "text": [
      "Support: 0.01 Confidence: 0.9 Rules: 460371 p-value: 0.0375148319926638 \n",
      "\n",
      "\n"
     ]
    },
    {
     "name": "stdout",
     "output_type": "stream",
     "text": [
      "Apriori\n",
      "\n",
      "Parameter specification:\n",
      " confidence minval smax arem  aval originalSupport maxtime support minlen\n",
      "        0.5    0.1    1 none FALSE            TRUE       5    0.02      2\n",
      " maxlen target  ext\n",
      "     10  rules TRUE\n",
      "\n",
      "Algorithmic control:\n",
      " filter tree heap memopt load sort verbose\n",
      "    0.1 TRUE TRUE  FALSE TRUE    2    TRUE\n",
      "\n",
      "Absolute minimum support count: 7 \n",
      "\n",
      "set item appearances ...[449 item(s)] done [0.00s].\n",
      "set transactions ...[449 item(s), 373 transaction(s)] done [0.01s].\n",
      "sorting and recoding items ... [414 item(s)] done [0.00s].\n",
      "creating transaction tree ... done [0.00s].\n",
      "checking subsets of size 1 2 3 4"
     ]
    },
    {
     "name": "stderr",
     "output_type": "stream",
     "text": [
      "Warning message in apriori(data = train_trans, parameter = list(supp = support[i], :\n",
      "“Mining stopped (time limit reached). Only patterns up to a length of 4 returned!”\n"
     ]
    },
    {
     "name": "stdout",
     "output_type": "stream",
     "text": [
      " done [27.02s].\n",
      "writing ... [4838027 rule(s)] done [4.84s].\n",
      "creating S4 object  ... done [0.90s].\n"
     ]
    },
    {
     "name": "stderr",
     "output_type": "stream",
     "text": [
      "Support: 0.02 Confidence: 0.5 Rules: 4838027 p-value: 0.125211904609524 \n",
      "\n",
      "\n"
     ]
    },
    {
     "name": "stdout",
     "output_type": "stream",
     "text": [
      "Apriori\n",
      "\n",
      "Parameter specification:\n",
      " confidence minval smax arem  aval originalSupport maxtime support minlen\n",
      "        0.6    0.1    1 none FALSE            TRUE       5    0.02      2\n",
      " maxlen target  ext\n",
      "     10  rules TRUE\n",
      "\n",
      "Algorithmic control:\n",
      " filter tree heap memopt load sort verbose\n",
      "    0.1 TRUE TRUE  FALSE TRUE    2    TRUE\n",
      "\n",
      "Absolute minimum support count: 7 \n",
      "\n",
      "set item appearances ...[449 item(s)] done [0.00s].\n",
      "set transactions ...[449 item(s), 373 transaction(s)] done [0.01s].\n",
      "sorting and recoding items ... [414 item(s)] done [0.00s].\n",
      "creating transaction tree ... done [0.00s].\n",
      "checking subsets of size 1 2 3 4"
     ]
    },
    {
     "name": "stderr",
     "output_type": "stream",
     "text": [
      "Warning message in apriori(data = train_trans, parameter = list(supp = support[i], :\n",
      "“Mining stopped (time limit reached). Only patterns up to a length of 4 returned!”\n"
     ]
    },
    {
     "name": "stdout",
     "output_type": "stream",
     "text": [
      " done [27.06s].\n",
      "writing ... [2612989 rule(s)] done [4.79s].\n",
      "creating S4 object  ... done [0.75s].\n"
     ]
    },
    {
     "name": "stderr",
     "output_type": "stream",
     "text": [
      "Support: 0.02 Confidence: 0.6 Rules: 2612989 p-value: 0.0439491929406627 \n",
      "\n",
      "\n"
     ]
    },
    {
     "name": "stdout",
     "output_type": "stream",
     "text": [
      "Apriori\n",
      "\n",
      "Parameter specification:\n",
      " confidence minval smax arem  aval originalSupport maxtime support minlen\n",
      "        0.7    0.1    1 none FALSE            TRUE       5    0.02      2\n",
      " maxlen target  ext\n",
      "     10  rules TRUE\n",
      "\n",
      "Algorithmic control:\n",
      " filter tree heap memopt load sort verbose\n",
      "    0.1 TRUE TRUE  FALSE TRUE    2    TRUE\n",
      "\n",
      "Absolute minimum support count: 7 \n",
      "\n",
      "set item appearances ...[449 item(s)] done [0.00s].\n",
      "set transactions ...[449 item(s), 373 transaction(s)] done [0.01s].\n",
      "sorting and recoding items ... [414 item(s)] done [0.00s].\n",
      "creating transaction tree ... done [0.00s].\n",
      "checking subsets of size 1 2 3 4"
     ]
    },
    {
     "name": "stderr",
     "output_type": "stream",
     "text": [
      "Warning message in apriori(data = train_trans, parameter = list(supp = support[i], :\n",
      "“Mining stopped (time limit reached). Only patterns up to a length of 4 returned!”\n"
     ]
    },
    {
     "name": "stdout",
     "output_type": "stream",
     "text": [
      " done [27.03s].\n",
      "writing ... [1039105 rule(s)] done [4.58s].\n",
      "creating S4 object  ... done [0.48s].\n"
     ]
    },
    {
     "name": "stderr",
     "output_type": "stream",
     "text": [
      "Support: 0.02 Confidence: 0.7 Rules: 1039105 p-value: 0.0135390711062084 \n",
      "\n",
      "\n"
     ]
    },
    {
     "name": "stdout",
     "output_type": "stream",
     "text": [
      "Apriori\n",
      "\n",
      "Parameter specification:\n",
      " confidence minval smax arem  aval originalSupport maxtime support minlen\n",
      "        0.8    0.1    1 none FALSE            TRUE       5    0.02      2\n",
      " maxlen target  ext\n",
      "     10  rules TRUE\n",
      "\n",
      "Algorithmic control:\n",
      " filter tree heap memopt load sort verbose\n",
      "    0.1 TRUE TRUE  FALSE TRUE    2    TRUE\n",
      "\n",
      "Absolute minimum support count: 7 \n",
      "\n",
      "set item appearances ...[449 item(s)] done [0.00s].\n",
      "set transactions ...[449 item(s), 373 transaction(s)] done [0.01s].\n",
      "sorting and recoding items ... [414 item(s)] done [0.00s].\n",
      "creating transaction tree ... done [0.00s].\n",
      "checking subsets of size 1 2 3 4"
     ]
    },
    {
     "name": "stderr",
     "output_type": "stream",
     "text": [
      "Warning message in apriori(data = train_trans, parameter = list(supp = support[i], :\n",
      "“Mining stopped (time limit reached). Only patterns up to a length of 4 returned!”\n"
     ]
    },
    {
     "name": "stdout",
     "output_type": "stream",
     "text": [
      " done [26.95s].\n",
      "writing ... [353628 rule(s)] done [4.57s].\n",
      "creating S4 object  ... done [0.43s].\n"
     ]
    },
    {
     "name": "stderr",
     "output_type": "stream",
     "text": [
      "Support: 0.02 Confidence: 0.8 Rules: 353628 p-value: 0.00879993884822817 \n",
      "\n",
      "\n"
     ]
    },
    {
     "name": "stdout",
     "output_type": "stream",
     "text": [
      "Apriori\n",
      "\n",
      "Parameter specification:\n",
      " confidence minval smax arem  aval originalSupport maxtime support minlen\n",
      "        0.9    0.1    1 none FALSE            TRUE       5    0.02      2\n",
      " maxlen target  ext\n",
      "     10  rules TRUE\n",
      "\n",
      "Algorithmic control:\n",
      " filter tree heap memopt load sort verbose\n",
      "    0.1 TRUE TRUE  FALSE TRUE    2    TRUE\n",
      "\n",
      "Absolute minimum support count: 7 \n",
      "\n",
      "set item appearances ...[449 item(s)] done [0.00s].\n",
      "set transactions ...[449 item(s), 373 transaction(s)] done [0.01s].\n",
      "sorting and recoding items ... [414 item(s)] done [0.00s].\n",
      "creating transaction tree ... done [0.00s].\n",
      "checking subsets of size 1 2 3 4"
     ]
    },
    {
     "name": "stderr",
     "output_type": "stream",
     "text": [
      "Warning message in apriori(data = train_trans, parameter = list(supp = support[i], :\n",
      "“Mining stopped (time limit reached). Only patterns up to a length of 4 returned!”\n"
     ]
    },
    {
     "name": "stdout",
     "output_type": "stream",
     "text": [
      " done [27.04s].\n",
      "writing ... [87961 rule(s)] done [4.56s].\n",
      "creating S4 object  ... done [0.40s].\n"
     ]
    },
    {
     "name": "stderr",
     "output_type": "stream",
     "text": [
      "Support: 0.02 Confidence: 0.9 Rules: 87961 p-value: 0.00507433237702079 \n",
      "\n",
      "\n"
     ]
    },
    {
     "name": "stdout",
     "output_type": "stream",
     "text": [
      "Apriori\n",
      "\n",
      "Parameter specification:\n",
      " confidence minval smax arem  aval originalSupport maxtime support minlen\n",
      "        0.5    0.1    1 none FALSE            TRUE       5    0.05      2\n",
      " maxlen target  ext\n",
      "     10  rules TRUE\n",
      "\n",
      "Algorithmic control:\n",
      " filter tree heap memopt load sort verbose\n",
      "    0.1 TRUE TRUE  FALSE TRUE    2    TRUE\n",
      "\n",
      "Absolute minimum support count: 18 \n",
      "\n",
      "set item appearances ...[449 item(s)] done [0.00s].\n",
      "set transactions ...[449 item(s), 373 transaction(s)] done [0.01s].\n",
      "sorting and recoding items ... [348 item(s)] done [0.00s].\n",
      "creating transaction tree ... done [0.00s].\n",
      "checking subsets of size 1 2 3 4"
     ]
    },
    {
     "name": "stderr",
     "output_type": "stream",
     "text": [
      "Warning message in apriori(data = train_trans, parameter = list(supp = support[i], :\n",
      "“Mining stopped (time limit reached). Only patterns up to a length of 4 returned!”\n"
     ]
    },
    {
     "name": "stdout",
     "output_type": "stream",
     "text": [
      " done [21.73s].\n",
      "writing ... [3104147 rule(s)] done [3.21s].\n",
      "creating S4 object  ... done [0.64s].\n"
     ]
    },
    {
     "name": "stderr",
     "output_type": "stream",
     "text": [
      "Support: 0.05 Confidence: 0.5 Rules: 3104147 p-value: 0.0963018953953281 \n",
      "\n",
      "\n"
     ]
    },
    {
     "name": "stdout",
     "output_type": "stream",
     "text": [
      "Apriori\n",
      "\n",
      "Parameter specification:\n",
      " confidence minval smax arem  aval originalSupport maxtime support minlen\n",
      "        0.6    0.1    1 none FALSE            TRUE       5    0.05      2\n",
      " maxlen target  ext\n",
      "     10  rules TRUE\n",
      "\n",
      "Algorithmic control:\n",
      " filter tree heap memopt load sort verbose\n",
      "    0.1 TRUE TRUE  FALSE TRUE    2    TRUE\n",
      "\n",
      "Absolute minimum support count: 18 \n",
      "\n",
      "set item appearances ...[449 item(s)] done [0.00s].\n",
      "set transactions ...[449 item(s), 373 transaction(s)] done [0.01s].\n",
      "sorting and recoding items ... [348 item(s)] done [0.00s].\n",
      "creating transaction tree ... done [0.00s].\n",
      "checking subsets of size 1 2 3 4"
     ]
    },
    {
     "name": "stderr",
     "output_type": "stream",
     "text": [
      "Warning message in apriori(data = train_trans, parameter = list(supp = support[i], :\n",
      "“Mining stopped (time limit reached). Only patterns up to a length of 4 returned!”\n"
     ]
    },
    {
     "name": "stdout",
     "output_type": "stream",
     "text": [
      " done [21.71s].\n",
      "writing ... [1544923 rule(s)] done [3.09s].\n",
      "creating S4 object  ... done [0.44s].\n"
     ]
    },
    {
     "name": "stderr",
     "output_type": "stream",
     "text": [
      "Support: 0.05 Confidence: 0.6 Rules: 1544923 p-value: 0.0235403733959961 \n",
      "\n",
      "\n"
     ]
    },
    {
     "name": "stdout",
     "output_type": "stream",
     "text": [
      "Apriori\n",
      "\n",
      "Parameter specification:\n",
      " confidence minval smax arem  aval originalSupport maxtime support minlen\n",
      "        0.7    0.1    1 none FALSE            TRUE       5    0.05      2\n",
      " maxlen target  ext\n",
      "     10  rules TRUE\n",
      "\n",
      "Algorithmic control:\n",
      " filter tree heap memopt load sort verbose\n",
      "    0.1 TRUE TRUE  FALSE TRUE    2    TRUE\n",
      "\n",
      "Absolute minimum support count: 18 \n",
      "\n",
      "set item appearances ...[449 item(s)] done [0.00s].\n",
      "set transactions ...[449 item(s), 373 transaction(s)] done [0.01s].\n",
      "sorting and recoding items ... [348 item(s)] done [0.00s].\n",
      "creating transaction tree ... done [0.00s].\n",
      "checking subsets of size 1 2 3 4"
     ]
    },
    {
     "name": "stderr",
     "output_type": "stream",
     "text": [
      "Warning message in apriori(data = train_trans, parameter = list(supp = support[i], :\n",
      "“Mining stopped (time limit reached). Only patterns up to a length of 4 returned!”\n"
     ]
    },
    {
     "name": "stdout",
     "output_type": "stream",
     "text": [
      " done [21.75s].\n",
      "writing ... [474318 rule(s)] done [2.96s].\n",
      "creating S4 object  ... done [0.31s].\n"
     ]
    },
    {
     "name": "stderr",
     "output_type": "stream",
     "text": [
      "Support: 0.05 Confidence: 0.7 Rules: 474318 p-value: 0.0036133661109314 \n",
      "\n",
      "\n"
     ]
    },
    {
     "name": "stdout",
     "output_type": "stream",
     "text": [
      "Apriori\n",
      "\n",
      "Parameter specification:\n",
      " confidence minval smax arem  aval originalSupport maxtime support minlen\n",
      "        0.8    0.1    1 none FALSE            TRUE       5    0.05      2\n",
      " maxlen target  ext\n",
      "     10  rules TRUE\n",
      "\n",
      "Algorithmic control:\n",
      " filter tree heap memopt load sort verbose\n",
      "    0.1 TRUE TRUE  FALSE TRUE    2    TRUE\n",
      "\n",
      "Absolute minimum support count: 18 \n",
      "\n",
      "set item appearances ...[449 item(s)] done [0.00s].\n",
      "set transactions ...[449 item(s), 373 transaction(s)] done [0.01s].\n",
      "sorting and recoding items ... [348 item(s)] done [0.00s].\n",
      "creating transaction tree ... done [0.00s].\n",
      "checking subsets of size 1 2 3 4"
     ]
    },
    {
     "name": "stderr",
     "output_type": "stream",
     "text": [
      "Warning message in apriori(data = train_trans, parameter = list(supp = support[i], :\n",
      "“Mining stopped (time limit reached). Only patterns up to a length of 4 returned!”\n"
     ]
    },
    {
     "name": "stdout",
     "output_type": "stream",
     "text": [
      " done [21.77s].\n",
      "writing ... [74178 rule(s)] done [2.95s].\n",
      "creating S4 object  ... done [0.26s].\n"
     ]
    },
    {
     "name": "stderr",
     "output_type": "stream",
     "text": [
      "Support: 0.05 Confidence: 0.8 Rules: 74178 p-value: 0.000655538763644922 \n",
      "\n",
      "\n"
     ]
    },
    {
     "name": "stdout",
     "output_type": "stream",
     "text": [
      "Apriori\n",
      "\n",
      "Parameter specification:\n",
      " confidence minval smax arem  aval originalSupport maxtime support minlen\n",
      "        0.9    0.1    1 none FALSE            TRUE       5    0.05      2\n",
      " maxlen target  ext\n",
      "     10  rules TRUE\n",
      "\n",
      "Algorithmic control:\n",
      " filter tree heap memopt load sort verbose\n",
      "    0.1 TRUE TRUE  FALSE TRUE    2    TRUE\n",
      "\n",
      "Absolute minimum support count: 18 \n",
      "\n",
      "set item appearances ...[449 item(s)] done [0.00s].\n",
      "set transactions ...[449 item(s), 373 transaction(s)] done [0.01s].\n",
      "sorting and recoding items ... [348 item(s)] done [0.00s].\n",
      "creating transaction tree ... done [0.00s].\n",
      "checking subsets of size 1 2 3 4"
     ]
    },
    {
     "name": "stderr",
     "output_type": "stream",
     "text": [
      "Warning message in apriori(data = train_trans, parameter = list(supp = support[i], :\n",
      "“Mining stopped (time limit reached). Only patterns up to a length of 4 returned!”\n"
     ]
    },
    {
     "name": "stdout",
     "output_type": "stream",
     "text": [
      " done [21.91s].\n",
      "writing ... [5245 rule(s)] done [2.89s].\n",
      "creating S4 object  ... done [0.27s].\n"
     ]
    },
    {
     "name": "stderr",
     "output_type": "stream",
     "text": [
      "Support: 0.05 Confidence: 0.9 Rules: 5245 p-value: 0.000102043789914555 \n",
      "\n",
      "\n"
     ]
    }
   ],
   "source": [
    "support <- c(0.007, 0.01, 0.02, 0.05)\n",
    "confidence <- c(0.5, 0.6, 0.7, 0.8, 0.9)\n",
    "\n",
    "stats <- data.frame(support=double(),\n",
    "                 confidence=double(),\n",
    "                 pvalue=double(),\n",
    "                 lift=double(),\n",
    "                 rules=integer(),\n",
    "                 stringsAsFactors=FALSE)\n",
    "\n",
    "for(i in 1:length(support)) {\n",
    "    for (j in 1:length(confidence)){\n",
    "       \n",
    "        #extract rules and compute pvalue\n",
    "        rules <- apriori(data=train_trans, parameter=list(supp=support[i], conf=confidence[j], minlen=2), \n",
    "                 appearance = list(lhs = items, rhs=grep(\"grading=\", itemLabels(trans), value = TRUE)), \n",
    "                         control = list (verbose=T)) \n",
    "        \n",
    "        #compute p-value\n",
    "        quality(rules) <- cbind(quality(rules), \n",
    "                        pvalue = interestMeasure(rules, measure = \"fishersExactTest\",\n",
    "                                                          transactions = train_trans, adjust='none', reuse=TRUE))\n",
    "        \n",
    "        #extract median lift and pvalue and store number of extracted rules \n",
    "        pvalue <- median(quality(rules)$pvalue)\n",
    "        lift <- median(quality(rules)$lift)\n",
    "        count <- length(rules)\n",
    "        \n",
    "        #add elements to dataframe\n",
    "        stats <- rbind(stats, data.frame(support = support[i], confidence=confidence[j], \n",
    "                                         pvalue = pvalue, lift = lift, count = count))\n",
    "        \n",
    "        message(paste(\"Support:\",support[i],\"Confidence:\",confidence[j],\"Rules:\",count,\"p-value:\",pvalue, '\\n'))    \n",
    "\n",
    "    }\n",
    "}"
   ]
  },
  {
   "cell_type": "code",
   "execution_count": 6,
   "metadata": {},
   "outputs": [],
   "source": [
    "fig <- function(width, heigth){\n",
    "     options(repr.plot.width = width, repr.plot.height = heigth)\n",
    "}"
   ]
  },
  {
   "cell_type": "code",
   "execution_count": 7,
   "metadata": {},
   "outputs": [],
   "source": [
    "stats_grading <- stats\n",
    "stats_grading$support <- as.factor(stats$support)"
   ]
  },
  {
   "cell_type": "code",
   "execution_count": 8,
   "metadata": {},
   "outputs": [
    {
     "data": {
      "image/png": "[encoded data removed]",
      "text/plain": [
       "plot without title"
      ]
     },
     "metadata": {
      "image/png": {
       "height": 600,
       "width": 900
      }
     },
     "output_type": "display_data"
    }
   ],
   "source": [
    "fig(15,10)\n",
    "ggplot(data = stats_grading, aes(x=confidence, y=count)) + \n",
    "                geom_point(aes(colour=support, size=pvalue)) + \n",
    "                geom_text(aes(label=sprintf(\"%0.3f\", round(pvalue, digits = 3))),hjust=-0.3, vjust=-0.2) +\n",
    "                geom_line(aes(colour=support))+\n",
    "                theme(text=element_text(size=16))\n",
    "\n",
    "fig(7,7)"
   ]
  },
  {
   "cell_type": "markdown",
   "metadata": {},
   "source": [
    "# Rules Extraction"
   ]
  },
  {
   "cell_type": "code",
   "execution_count": 9,
   "metadata": {},
   "outputs": [
    {
     "data": {
      "text/html": [
       "<style>\n",
       ".list-inline {list-style: none; margin:0; padding: 0}\n",
       ".list-inline>li {display: inline-block}\n",
       ".list-inline>li:not(:last-child)::after {content: \"\\00b7\"; padding: 0 .5ex}\n",
       "</style>\n",
       "<ol class=list-inline><li>'grading=0'</li><li>'grading=1'</li></ol>\n"
      ],
      "text/latex": [
       "\\begin{enumerate*}\n",
       "\\item 'grading=0'\n",
       "\\item 'grading=1'\n",
       "\\end{enumerate*}\n"
      ],
      "text/markdown": [
       "1. 'grading=0'\n",
       "2. 'grading=1'\n",
       "\n",
       "\n"
      ],
      "text/plain": [
       "[1] \"grading=0\" \"grading=1\""
      ]
     },
     "metadata": {},
     "output_type": "display_data"
    }
   ],
   "source": [
    "target = grep(\"grading=\", itemLabels(trans), value = TRUE)\n",
    "target"
   ]
  },
  {
   "cell_type": "code",
   "execution_count": 10,
   "metadata": {
    "scrolled": false
   },
   "outputs": [
    {
     "name": "stdout",
     "output_type": "stream",
     "text": [
      "Apriori\n",
      "\n",
      "Parameter specification:\n",
      " confidence minval smax arem  aval originalSupport maxtime support minlen\n",
      "        0.8    0.1    1 none FALSE            TRUE       5    0.05      2\n",
      " maxlen target  ext\n",
      "     10  rules TRUE\n",
      "\n",
      "Algorithmic control:\n",
      " filter tree heap memopt load sort verbose\n",
      "    0.1 TRUE TRUE  FALSE TRUE    2    TRUE\n",
      "\n",
      "Absolute minimum support count: 18 \n",
      "\n",
      "set item appearances ...[449 item(s)] done [0.00s].\n",
      "set transactions ...[449 item(s), 373 transaction(s)] done [0.01s].\n",
      "sorting and recoding items ... [348 item(s)] done [0.00s].\n",
      "creating transaction tree ... done [0.00s].\n",
      "checking subsets of size 1 2 3 4"
     ]
    },
    {
     "name": "stderr",
     "output_type": "stream",
     "text": [
      "Warning message in apriori(data = train_trans, parameter = list(supp = 0.05, conf = 0.8, :\n",
      "“Mining stopped (time limit reached). Only patterns up to a length of 4 returned!”\n"
     ]
    },
    {
     "name": "stdout",
     "output_type": "stream",
     "text": [
      " done [21.53s].\n",
      "writing ... [74178 rule(s)] done [2.90s].\n",
      "creating S4 object  ... done [0.25s].\n"
     ]
    }
   ],
   "source": [
    "rules <- apriori(data=train_trans, parameter=list(supp=0.05, conf=0.8, minlen=2), \n",
    "                 appearance = list(lhs = items, rhs=target), \n",
    "                         control = list (verbose=T))"
   ]
  },
  {
   "cell_type": "code",
   "execution_count": 11,
   "metadata": {},
   "outputs": [
    {
     "data": {
      "text/html": [
       "74178"
      ],
      "text/latex": [
       "74178"
      ],
      "text/markdown": [
       "74178"
      ],
      "text/plain": [
       "[1] 74178"
      ]
     },
     "metadata": {},
     "output_type": "display_data"
    }
   ],
   "source": [
    "sig_rules <- rules[is.significant(rules, \n",
    "                                      train, \n",
    "                                      method='fisher', \n",
    "                                      alpha=0.05, \n",
    "                                      adjust='none')]\n",
    "length(sig_rules)"
   ]
  },
  {
   "cell_type": "code",
   "execution_count": 12,
   "metadata": {},
   "outputs": [],
   "source": [
    "quality(sig_rules) <- cbind(quality(sig_rules), \n",
    "                        pvalue_test = interestMeasure(sig_rules, measure = \"fishersExactTest\",\n",
    "                                                          transactions = test_trans, adjust='none', reuse=FALSE))"
   ]
  },
  {
   "cell_type": "code",
   "execution_count": 13,
   "metadata": {},
   "outputs": [
    {
     "data": {
      "text/html": [
       "4322"
      ],
      "text/latex": [
       "4322"
      ],
      "text/markdown": [
       "4322"
      ],
      "text/plain": [
       "[1] 4322"
      ]
     },
     "metadata": {},
     "output_type": "display_data"
    }
   ],
   "source": [
    "final_rules <- subset(sig_rules, pvalue_test < 0.05/length(sig_rules)) #bonferroni = alpha/n_tests\n",
    "length(final_rules)"
   ]
  },
  {
   "cell_type": "code",
   "execution_count": 14,
   "metadata": {
    "scrolled": false
   },
   "outputs": [
    {
     "name": "stdout",
     "output_type": "stream",
     "text": [
      "     lhs                   rhs           support confidence  coverage     lift count  pvalue_test\n",
      "[1]  {CHST13_2=0,                                                                                \n",
      "      ITIH2_1=1,                                                                                 \n",
      "      ANXA11_2=1}       => {grading=0} 0.1957105  0.8021978 0.2439678 1.438557    73 5.755052e-07\n",
      "[2]  {LRRC18_1=0,                                                                                \n",
      "      TRIM65_2=1,                                                                                \n",
      "      SELP_1_homo=0}    => {grading=0} 0.1742627  0.8024691 0.2171582 1.439043    65 1.709207e-07\n",
      "[3]  {TDRD5_3=0,                                                                                 \n",
      "      CEP63_1=0,                                                                                 \n",
      "      PAX4_1_homo=1}    => {grading=0} 0.1635389  0.8026316 0.2037534 1.439335    61 6.843914e-09\n",
      "[4]  {TDRD5_3=0,                                                                                 \n",
      "      HOXA4_3=0,                                                                                 \n",
      "      CEP63_1=0}        => {grading=0} 0.1608579  0.8000000 0.2010724 1.434615    60 1.173577e-07\n",
      "[5]  {HDLBP_1=1,                                                                                 \n",
      "      CBR3_2=0,                                                                                  \n",
      "      TMEM221_2_homo=1} => {grading=0} 0.1554960  0.8169014 0.1903485 1.464924    58 1.464687e-10\n",
      "[6]  {CYP4F2_3=1,                                                                                \n",
      "      FYCO1_4=0,                                                                                 \n",
      "      PAX4_1_homo=1}    => {grading=0} 0.1528150  0.8142857 0.1876676 1.460234    57 1.548974e-07\n",
      "[7]  {MSH4_1=0,                                                                                  \n",
      "      FSIP2_2_homo=1,                                                                            \n",
      "      ARL13A_1_hemi=0}  => {grading=0} 0.1501340  0.8000000 0.1876676 1.434615    56 6.878659e-08\n",
      "[8]  {FYCO1_4=0,                                                                                 \n",
      "      FAM160B2_1=1,                                                                              \n",
      "      FSIP2_2_homo=1}   => {grading=0} 0.1501340  0.8000000 0.1876676 1.434615    56 1.173577e-07\n",
      "[9]  {HHLA1_2=1,                                                                                 \n",
      "      COQ3_2=0,                                                                                  \n",
      "      ARL13A_1_hemi=0}  => {grading=0} 0.1501340  0.8000000 0.1876676 1.434615    56 1.369237e-10\n",
      "[10] {SWT1_2=1,                                                                                  \n",
      "      TMEM221_2_homo=1,                                                                          \n",
      "      PAX4_1_homo=1}    => {grading=0} 0.1501340  0.8115942 0.1849866 1.455407    56 4.015957e-07\n"
     ]
    }
   ],
   "source": [
    "inspect(head(final_rules, by = \"support\", decreasing=TRUE, 10))"
   ]
  },
  {
   "cell_type": "code",
   "execution_count": 15,
   "metadata": {},
   "outputs": [],
   "source": [
    "write(final_rules,\n",
    "      file = \"./Results/rules_males_0.csv\",\n",
    "      sep = \",\",\n",
    "      quote = TRUE,\n",
    "      row.names = FALSE)"
   ]
  },
  {
   "cell_type": "code",
   "execution_count": null,
   "metadata": {},
   "outputs": [],
   "source": []
  },
  {
   "cell_type": "code",
   "execution_count": null,
   "metadata": {},
   "outputs": [],
   "source": []
  }
 ],
 "metadata": {
  "kernelspec": {
   "display_name": "R",
   "language": "R",
   "name": "ir"
  },
  "language_info": {
   "codemirror_mode": "r",
   "file_extension": ".r",
   "mimetype": "text/x-r-source",
   "name": "R",
   "pygments_lexer": "r",
   "version": "3.6.1"
  }
 },
 "nbformat": 4,
 "nbformat_minor": 4
}
