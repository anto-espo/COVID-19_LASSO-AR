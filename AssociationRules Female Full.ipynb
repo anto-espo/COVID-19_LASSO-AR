{
 "cells": [
  {
   "cell_type": "code",
   "execution_count": 1,
   "metadata": {
    "scrolled": true
   },
   "outputs": [
    {
     "name": "stderr",
     "output_type": "stream",
     "text": [
      "Warning message:\n",
      "“package ‘arules’ was built under R version 3.6.3”\n",
      "Loading required package: Matrix\n",
      "\n",
      "\n",
      "Attaching package: ‘arules’\n",
      "\n",
      "\n",
      "The following objects are masked from ‘package:base’:\n",
      "\n",
      "    abbreviate, write\n",
      "\n",
      "\n",
      "Loading required package: grid\n",
      "\n",
      "── \u001b[1mAttaching packages\u001b[22m ─────────────────────────────────────── tidyverse 1.2.1 ──\n",
      "\n",
      "\u001b[32m✔\u001b[39m \u001b[34mggplot2\u001b[39m 3.3.2     \u001b[32m✔\u001b[39m \u001b[34mpurrr  \u001b[39m 0.3.4\n",
      "\u001b[32m✔\u001b[39m \u001b[34mtibble \u001b[39m 3.0.4     \u001b[32m✔\u001b[39m \u001b[34mdplyr  \u001b[39m 1.0.2\n",
      "\u001b[32m✔\u001b[39m \u001b[34mtidyr  \u001b[39m 1.1.2     \u001b[32m✔\u001b[39m \u001b[34mstringr\u001b[39m 1.4.0\n",
      "\u001b[32m✔\u001b[39m \u001b[34mreadr  \u001b[39m 1.4.0     \u001b[32m✔\u001b[39m \u001b[34mforcats\u001b[39m 0.5.0\n",
      "\n",
      "Warning message:\n",
      "“package ‘ggplot2’ was built under R version 3.6.3”\n",
      "Warning message:\n",
      "“package ‘tibble’ was built under R version 3.6.3”\n",
      "Warning message:\n",
      "“package ‘tidyr’ was built under R version 3.6.3”\n",
      "Warning message:\n",
      "“package ‘readr’ was built under R version 3.6.3”\n",
      "Warning message:\n",
      "“package ‘purrr’ was built under R version 3.6.3”\n",
      "Warning message:\n",
      "“package ‘dplyr’ was built under R version 3.6.3”\n",
      "Warning message:\n",
      "“package ‘stringr’ was built under R version 3.6.3”\n",
      "Warning message:\n",
      "“package ‘forcats’ was built under R version 3.6.3”\n",
      "── \u001b[1mConflicts\u001b[22m ────────────────────────────────────────── tidyverse_conflicts() ──\n",
      "\u001b[31m✖\u001b[39m \u001b[34mtidyr\u001b[39m::\u001b[32mexpand()\u001b[39m masks \u001b[34mMatrix\u001b[39m::expand()\n",
      "\u001b[31m✖\u001b[39m \u001b[34mdplyr\u001b[39m::\u001b[32mfilter()\u001b[39m masks \u001b[34mstats\u001b[39m::filter()\n",
      "\u001b[31m✖\u001b[39m \u001b[34mdplyr\u001b[39m::\u001b[32mlag()\u001b[39m    masks \u001b[34mstats\u001b[39m::lag()\n",
      "\u001b[31m✖\u001b[39m \u001b[34mtidyr\u001b[39m::\u001b[32mpack()\u001b[39m   masks \u001b[34mMatrix\u001b[39m::pack()\n",
      "\u001b[31m✖\u001b[39m \u001b[34mdplyr\u001b[39m::\u001b[32mrecode()\u001b[39m masks \u001b[34marules\u001b[39m::recode()\n",
      "\u001b[31m✖\u001b[39m \u001b[34mtidyr\u001b[39m::\u001b[32munpack()\u001b[39m masks \u001b[34mMatrix\u001b[39m::unpack()\n",
      "\n",
      "\n",
      "Attaching package: ‘gridExtra’\n",
      "\n",
      "\n",
      "The following object is masked from ‘package:dplyr’:\n",
      "\n",
      "    combine\n",
      "\n",
      "\n",
      "Warning message:\n",
      "“package ‘ggplotify’ was built under R version 3.6.3”\n",
      "Loading required package: discretization\n",
      "\n",
      "Loading required package: lattice\n",
      "\n",
      "Warning message:\n",
      "“package ‘lattice’ was built under R version 3.6.3”\n",
      "\n",
      "Attaching package: ‘caret’\n",
      "\n",
      "\n",
      "The following object is masked from ‘package:purrr’:\n",
      "\n",
      "    lift\n",
      "\n",
      "\n"
     ]
    }
   ],
   "source": [
    "library(arules)\n",
    "library(arulesViz)\n",
    "library(tidyverse)\n",
    "library(gridExtra)\n",
    "library(grid)\n",
    "library(ggplotify)\n",
    "library(arulesCBA)\n",
    "library(caret)"
   ]
  },
  {
   "cell_type": "code",
   "execution_count": 2,
   "metadata": {},
   "outputs": [],
   "source": [
    "tdata <- read.csv('./Data/AssociationRules/All_Female_bool.csv',sep=\",\")\n",
    "\n",
    "#convert everything to categorical factors\n",
    "col_names <- names(tdata)\n",
    "tdata[,col_names] <- lapply(tdata[,col_names] , factor)"
   ]
  },
  {
   "cell_type": "code",
   "execution_count": 3,
   "metadata": {},
   "outputs": [
    {
     "data": {
      "text/html": [
       "252"
      ],
      "text/latex": [
       "252"
      ],
      "text/markdown": [
       "252"
      ],
      "text/plain": [
       "[1] 252"
      ]
     },
     "metadata": {},
     "output_type": "display_data"
    },
    {
     "data": {
      "text/html": [
       "63"
      ],
      "text/latex": [
       "63"
      ],
      "text/markdown": [
       "63"
      ],
      "text/plain": [
       "[1] 63"
      ]
     },
     "metadata": {},
     "output_type": "display_data"
    }
   ],
   "source": [
    "set.seed(1234)\n",
    "\n",
    "train_indexes <- sample(1:nrow(tdata),floor(nrow(tdata)*0.8), replace=FALSE)\n",
    "\n",
    "train <- tdata[train_indexes,]\n",
    "test <- tdata[-train_indexes,]\n",
    "\n",
    "nrow(train)\n",
    "nrow(test)\n",
    "\n",
    "trans <- as(tdata, 'transactions')\n",
    "test_trans <- as(test, \"transactions\")\n",
    "train_trans <- as(train, 'transactions')\n",
    "\n",
    "items <- grep(\"(*=1)\", itemLabels(trans), value = TRUE)\n",
    "items <- grep(\"[^grading=1]\",items,value=TRUE)\n",
    "items <- grep(\"[^grading=0]\",items,value=TRUE)\n",
    "items <- grep(\"[^gender=1]\",items,value=TRUE)\n",
    "items <- grep(\"[^gender=0]\",items,value=TRUE)"
   ]
  },
  {
   "cell_type": "code",
   "execution_count": 4,
   "metadata": {},
   "outputs": [
    {
     "data": {
      "text/html": [
       "<style>\n",
       ".list-inline {list-style: none; margin:0; padding: 0}\n",
       ".list-inline>li {display: inline-block}\n",
       ".list-inline>li:not(:last-child)::after {content: \"\\00b7\"; padding: 0 .5ex}\n",
       "</style>\n",
       "<ol class=list-inline><li>'CAMKK2_rare_AR=1'</li><li>'WDR27_rare_AR=1'</li><li>'PKHD1L1_rare_AR=1'</li><li>'NKX2.3_rare_AR=1'</li><li>'TNFAIP2_rare_AR=1'</li><li>'OR51B5_rare_AR=1'</li><li>'TACR2_rare_AR=1'</li><li>'HRCT1_rare_AR=1'</li><li>'CAPN15_rare_AD=1'</li><li>'CASKIN1_rare_AD=1'</li><li>'GRM6_rare_AD=1'</li><li>'APBA3_rare_AD=1'</li><li>'BLK_rare_AD=1'</li><li>'LRP8_rare_AD=1'</li><li>'ZC3H3_rare_AD=1'</li><li>'AKAP17A_rare_AD=1'</li><li>'PLEKHG4_rare_AD=1'</li><li>'EXPH5_rare_AD=1'</li><li>'APOL3_rare_AD=1'</li><li>'MLPH_rare_AD=1'</li><li>'TICRR_rare_AD=1'</li><li>'IQCA1_rare_AD=1'</li><li>'SFMBT2_rare_AD=1'</li><li>'INTS1_rare_AD=1'</li><li>'TENM1_rare_AD=1'</li><li>'SPINT1_rare_AD=1'</li><li>'TASOR_rare_AD=1'</li><li>'AFTPH_rare_AD=1'</li><li>'GSN_rare_AD=1'</li><li>'ITGA7_rare_AD=1'</li><li>'FIP1L1_rare_AD=1'</li><li>'ZNF808_rare_AD=1'</li><li>'NIBAN3_rare_AD=1'</li><li>'CD48_rare_AD=1'</li><li>'TAS1R1_rare_AD=1'</li><li>'SNED1_rare_AD=1'</li><li>'FARP2_rare_AD=1'</li><li>'MASP1_rare_AD=1'</li><li>'KRT26_rare_AD=1'</li><li>'PXDN_rare_AD=1'</li><li>'TLR5_rare_AD=1'</li><li>'ATG9B_rare_AD=1'</li><li>'DLEC1_rare_AD=1'</li><li>'MYH2_rare_AD=1'</li><li>'STXBP5L_2=1'</li><li>'FHOD3_3=1'</li><li>'SLC15A4_1=1'</li><li>'EP300_1=1'</li><li>'PDE11A_2=1'</li><li>'HOXC4_1=1'</li><li>'DLEC1_2=1'</li><li>'FNDC9_1=1'</li><li>'FBXL22_1=1'</li><li>'LSR_1=1'</li><li>'IRX5_1=1'</li><li>'ALDH3A1_2=1'</li><li>'RNF212_1=1'</li><li>'SVIL_1=1'</li><li>'GSTM3_1=1'</li><li>'SYT8_5=1'</li><li>'HAPLN3_2=1'</li><li>'F5_2=1'</li><li>'ALK_3=1'</li><li>'HERC5_1=1'</li><li>'IGFBP2_1=1'</li><li>'IBSP_4=1'</li><li>'MYO1H_1=1'</li><li>'PTPRU_1=1'</li><li>'NCOA3_1=1'</li><li>'RNF149_1=1'</li><li>'LRRC61_1=1'</li><li>'LOC100506422_1=1'</li><li>'PPP1R9A_1=1'</li><li>'HEXD_1=1'</li><li>'SLC24A3_1=1'</li><li>'BCAT2_1=1'</li><li>'EPCAM_1=1'</li><li>'FABP1_1=1'</li><li>'MYO1H_3=1'</li><li>'CHPT1_1=1'</li><li>'GJE1_1=1'</li><li>'TMEM40_2=1'</li><li>'C1orf109_1=1'</li><li>'DNASE2B_2=1'</li><li>'ALCAM_2=1'</li><li>'OR13C2_1=1'</li><li>'ARHGAP25_1=1'</li><li>'TXLNB_1=1'</li><li>'SLC25A43_1_homo=1'</li><li>'IL17RC_1_homo=1'</li><li>'TIGD4_1_homo=1'</li><li>'RBM11_1_homo=1'</li><li>'SPATA5L1_1_homo=1'</li><li>'POLI_1_homo=1'</li><li>'CFHR1_1_homo=1'</li><li>'CFHR4_1_homo=1'</li><li>'FASTKD3_1_homo=1'</li><li>'MCAT_1_homo=1'</li><li>'CD52_1_homo=1'</li><li>'EPCAM_1_homo=1'</li><li>'APOBEC1_1_homo=1'</li><li>'CCDC61_1_homo=1'</li><li>'RALY_1_homo=1'</li><li>'A2ML1_2_homo=1'</li><li>'ZNF749_1_homo=1'</li><li>'TMEM159_1_homo=1'</li><li>'NBPF3_1_homo=1'</li><li>'CILP_3_homo=1'</li><li>'FGF21_1_homo=1'</li><li>'USP44_1_homo=1'</li><li>'COL6A3_3_homo=1'</li><li>'FAM184B_2_homo=1'</li><li>'MTRR_2_homo=1'</li><li>'CHPT1_1_homo=1'</li><li>'DISP3_1_homo=1'</li><li>'MTHFD1_1_homo=1'</li><li>'COQ7_1_homo=1'</li><li>'RMI1_1_homo=1'</li><li>'PRSS55_1_homo=1'</li><li>'RHBDF2_1_homo=1'</li><li>'TXNRD1_1_homo=1'</li><li>'TP53_1_homo=1'</li></ol>\n"
      ],
      "text/latex": [
       "\\begin{enumerate*}\n",
       "\\item 'CAMKK2\\_rare\\_AR=1'\n",
       "\\item 'WDR27\\_rare\\_AR=1'\n",
       "\\item 'PKHD1L1\\_rare\\_AR=1'\n",
       "\\item 'NKX2.3\\_rare\\_AR=1'\n",
       "\\item 'TNFAIP2\\_rare\\_AR=1'\n",
       "\\item 'OR51B5\\_rare\\_AR=1'\n",
       "\\item 'TACR2\\_rare\\_AR=1'\n",
       "\\item 'HRCT1\\_rare\\_AR=1'\n",
       "\\item 'CAPN15\\_rare\\_AD=1'\n",
       "\\item 'CASKIN1\\_rare\\_AD=1'\n",
       "\\item 'GRM6\\_rare\\_AD=1'\n",
       "\\item 'APBA3\\_rare\\_AD=1'\n",
       "\\item 'BLK\\_rare\\_AD=1'\n",
       "\\item 'LRP8\\_rare\\_AD=1'\n",
       "\\item 'ZC3H3\\_rare\\_AD=1'\n",
       "\\item 'AKAP17A\\_rare\\_AD=1'\n",
       "\\item 'PLEKHG4\\_rare\\_AD=1'\n",
       "\\item 'EXPH5\\_rare\\_AD=1'\n",
       "\\item 'APOL3\\_rare\\_AD=1'\n",
       "\\item 'MLPH\\_rare\\_AD=1'\n",
       "\\item 'TICRR\\_rare\\_AD=1'\n",
       "\\item 'IQCA1\\_rare\\_AD=1'\n",
       "\\item 'SFMBT2\\_rare\\_AD=1'\n",
       "\\item 'INTS1\\_rare\\_AD=1'\n",
       "\\item 'TENM1\\_rare\\_AD=1'\n",
       "\\item 'SPINT1\\_rare\\_AD=1'\n",
       "\\item 'TASOR\\_rare\\_AD=1'\n",
       "\\item 'AFTPH\\_rare\\_AD=1'\n",
       "\\item 'GSN\\_rare\\_AD=1'\n",
       "\\item 'ITGA7\\_rare\\_AD=1'\n",
       "\\item 'FIP1L1\\_rare\\_AD=1'\n",
       "\\item 'ZNF808\\_rare\\_AD=1'\n",
       "\\item 'NIBAN3\\_rare\\_AD=1'\n",
       "\\item 'CD48\\_rare\\_AD=1'\n",
       "\\item 'TAS1R1\\_rare\\_AD=1'\n",
       "\\item 'SNED1\\_rare\\_AD=1'\n",
       "\\item 'FARP2\\_rare\\_AD=1'\n",
       "\\item 'MASP1\\_rare\\_AD=1'\n",
       "\\item 'KRT26\\_rare\\_AD=1'\n",
       "\\item 'PXDN\\_rare\\_AD=1'\n",
       "\\item 'TLR5\\_rare\\_AD=1'\n",
       "\\item 'ATG9B\\_rare\\_AD=1'\n",
       "\\item 'DLEC1\\_rare\\_AD=1'\n",
       "\\item 'MYH2\\_rare\\_AD=1'\n",
       "\\item 'STXBP5L\\_2=1'\n",
       "\\item 'FHOD3\\_3=1'\n",
       "\\item 'SLC15A4\\_1=1'\n",
       "\\item 'EP300\\_1=1'\n",
       "\\item 'PDE11A\\_2=1'\n",
       "\\item 'HOXC4\\_1=1'\n",
       "\\item 'DLEC1\\_2=1'\n",
       "\\item 'FNDC9\\_1=1'\n",
       "\\item 'FBXL22\\_1=1'\n",
       "\\item 'LSR\\_1=1'\n",
       "\\item 'IRX5\\_1=1'\n",
       "\\item 'ALDH3A1\\_2=1'\n",
       "\\item 'RNF212\\_1=1'\n",
       "\\item 'SVIL\\_1=1'\n",
       "\\item 'GSTM3\\_1=1'\n",
       "\\item 'SYT8\\_5=1'\n",
       "\\item 'HAPLN3\\_2=1'\n",
       "\\item 'F5\\_2=1'\n",
       "\\item 'ALK\\_3=1'\n",
       "\\item 'HERC5\\_1=1'\n",
       "\\item 'IGFBP2\\_1=1'\n",
       "\\item 'IBSP\\_4=1'\n",
       "\\item 'MYO1H\\_1=1'\n",
       "\\item 'PTPRU\\_1=1'\n",
       "\\item 'NCOA3\\_1=1'\n",
       "\\item 'RNF149\\_1=1'\n",
       "\\item 'LRRC61\\_1=1'\n",
       "\\item 'LOC100506422\\_1=1'\n",
       "\\item 'PPP1R9A\\_1=1'\n",
       "\\item 'HEXD\\_1=1'\n",
       "\\item 'SLC24A3\\_1=1'\n",
       "\\item 'BCAT2\\_1=1'\n",
       "\\item 'EPCAM\\_1=1'\n",
       "\\item 'FABP1\\_1=1'\n",
       "\\item 'MYO1H\\_3=1'\n",
       "\\item 'CHPT1\\_1=1'\n",
       "\\item 'GJE1\\_1=1'\n",
       "\\item 'TMEM40\\_2=1'\n",
       "\\item 'C1orf109\\_1=1'\n",
       "\\item 'DNASE2B\\_2=1'\n",
       "\\item 'ALCAM\\_2=1'\n",
       "\\item 'OR13C2\\_1=1'\n",
       "\\item 'ARHGAP25\\_1=1'\n",
       "\\item 'TXLNB\\_1=1'\n",
       "\\item 'SLC25A43\\_1\\_homo=1'\n",
       "\\item 'IL17RC\\_1\\_homo=1'\n",
       "\\item 'TIGD4\\_1\\_homo=1'\n",
       "\\item 'RBM11\\_1\\_homo=1'\n",
       "\\item 'SPATA5L1\\_1\\_homo=1'\n",
       "\\item 'POLI\\_1\\_homo=1'\n",
       "\\item 'CFHR1\\_1\\_homo=1'\n",
       "\\item 'CFHR4\\_1\\_homo=1'\n",
       "\\item 'FASTKD3\\_1\\_homo=1'\n",
       "\\item 'MCAT\\_1\\_homo=1'\n",
       "\\item 'CD52\\_1\\_homo=1'\n",
       "\\item 'EPCAM\\_1\\_homo=1'\n",
       "\\item 'APOBEC1\\_1\\_homo=1'\n",
       "\\item 'CCDC61\\_1\\_homo=1'\n",
       "\\item 'RALY\\_1\\_homo=1'\n",
       "\\item 'A2ML1\\_2\\_homo=1'\n",
       "\\item 'ZNF749\\_1\\_homo=1'\n",
       "\\item 'TMEM159\\_1\\_homo=1'\n",
       "\\item 'NBPF3\\_1\\_homo=1'\n",
       "\\item 'CILP\\_3\\_homo=1'\n",
       "\\item 'FGF21\\_1\\_homo=1'\n",
       "\\item 'USP44\\_1\\_homo=1'\n",
       "\\item 'COL6A3\\_3\\_homo=1'\n",
       "\\item 'FAM184B\\_2\\_homo=1'\n",
       "\\item 'MTRR\\_2\\_homo=1'\n",
       "\\item 'CHPT1\\_1\\_homo=1'\n",
       "\\item 'DISP3\\_1\\_homo=1'\n",
       "\\item 'MTHFD1\\_1\\_homo=1'\n",
       "\\item 'COQ7\\_1\\_homo=1'\n",
       "\\item 'RMI1\\_1\\_homo=1'\n",
       "\\item 'PRSS55\\_1\\_homo=1'\n",
       "\\item 'RHBDF2\\_1\\_homo=1'\n",
       "\\item 'TXNRD1\\_1\\_homo=1'\n",
       "\\item 'TP53\\_1\\_homo=1'\n",
       "\\end{enumerate*}\n"
      ],
      "text/markdown": [
       "1. 'CAMKK2_rare_AR=1'\n",
       "2. 'WDR27_rare_AR=1'\n",
       "3. 'PKHD1L1_rare_AR=1'\n",
       "4. 'NKX2.3_rare_AR=1'\n",
       "5. 'TNFAIP2_rare_AR=1'\n",
       "6. 'OR51B5_rare_AR=1'\n",
       "7. 'TACR2_rare_AR=1'\n",
       "8. 'HRCT1_rare_AR=1'\n",
       "9. 'CAPN15_rare_AD=1'\n",
       "10. 'CASKIN1_rare_AD=1'\n",
       "11. 'GRM6_rare_AD=1'\n",
       "12. 'APBA3_rare_AD=1'\n",
       "13. 'BLK_rare_AD=1'\n",
       "14. 'LRP8_rare_AD=1'\n",
       "15. 'ZC3H3_rare_AD=1'\n",
       "16. 'AKAP17A_rare_AD=1'\n",
       "17. 'PLEKHG4_rare_AD=1'\n",
       "18. 'EXPH5_rare_AD=1'\n",
       "19. 'APOL3_rare_AD=1'\n",
       "20. 'MLPH_rare_AD=1'\n",
       "21. 'TICRR_rare_AD=1'\n",
       "22. 'IQCA1_rare_AD=1'\n",
       "23. 'SFMBT2_rare_AD=1'\n",
       "24. 'INTS1_rare_AD=1'\n",
       "25. 'TENM1_rare_AD=1'\n",
       "26. 'SPINT1_rare_AD=1'\n",
       "27. 'TASOR_rare_AD=1'\n",
       "28. 'AFTPH_rare_AD=1'\n",
       "29. 'GSN_rare_AD=1'\n",
       "30. 'ITGA7_rare_AD=1'\n",
       "31. 'FIP1L1_rare_AD=1'\n",
       "32. 'ZNF808_rare_AD=1'\n",
       "33. 'NIBAN3_rare_AD=1'\n",
       "34. 'CD48_rare_AD=1'\n",
       "35. 'TAS1R1_rare_AD=1'\n",
       "36. 'SNED1_rare_AD=1'\n",
       "37. 'FARP2_rare_AD=1'\n",
       "38. 'MASP1_rare_AD=1'\n",
       "39. 'KRT26_rare_AD=1'\n",
       "40. 'PXDN_rare_AD=1'\n",
       "41. 'TLR5_rare_AD=1'\n",
       "42. 'ATG9B_rare_AD=1'\n",
       "43. 'DLEC1_rare_AD=1'\n",
       "44. 'MYH2_rare_AD=1'\n",
       "45. 'STXBP5L_2=1'\n",
       "46. 'FHOD3_3=1'\n",
       "47. 'SLC15A4_1=1'\n",
       "48. 'EP300_1=1'\n",
       "49. 'PDE11A_2=1'\n",
       "50. 'HOXC4_1=1'\n",
       "51. 'DLEC1_2=1'\n",
       "52. 'FNDC9_1=1'\n",
       "53. 'FBXL22_1=1'\n",
       "54. 'LSR_1=1'\n",
       "55. 'IRX5_1=1'\n",
       "56. 'ALDH3A1_2=1'\n",
       "57. 'RNF212_1=1'\n",
       "58. 'SVIL_1=1'\n",
       "59. 'GSTM3_1=1'\n",
       "60. 'SYT8_5=1'\n",
       "61. 'HAPLN3_2=1'\n",
       "62. 'F5_2=1'\n",
       "63. 'ALK_3=1'\n",
       "64. 'HERC5_1=1'\n",
       "65. 'IGFBP2_1=1'\n",
       "66. 'IBSP_4=1'\n",
       "67. 'MYO1H_1=1'\n",
       "68. 'PTPRU_1=1'\n",
       "69. 'NCOA3_1=1'\n",
       "70. 'RNF149_1=1'\n",
       "71. 'LRRC61_1=1'\n",
       "72. 'LOC100506422_1=1'\n",
       "73. 'PPP1R9A_1=1'\n",
       "74. 'HEXD_1=1'\n",
       "75. 'SLC24A3_1=1'\n",
       "76. 'BCAT2_1=1'\n",
       "77. 'EPCAM_1=1'\n",
       "78. 'FABP1_1=1'\n",
       "79. 'MYO1H_3=1'\n",
       "80. 'CHPT1_1=1'\n",
       "81. 'GJE1_1=1'\n",
       "82. 'TMEM40_2=1'\n",
       "83. 'C1orf109_1=1'\n",
       "84. 'DNASE2B_2=1'\n",
       "85. 'ALCAM_2=1'\n",
       "86. 'OR13C2_1=1'\n",
       "87. 'ARHGAP25_1=1'\n",
       "88. 'TXLNB_1=1'\n",
       "89. 'SLC25A43_1_homo=1'\n",
       "90. 'IL17RC_1_homo=1'\n",
       "91. 'TIGD4_1_homo=1'\n",
       "92. 'RBM11_1_homo=1'\n",
       "93. 'SPATA5L1_1_homo=1'\n",
       "94. 'POLI_1_homo=1'\n",
       "95. 'CFHR1_1_homo=1'\n",
       "96. 'CFHR4_1_homo=1'\n",
       "97. 'FASTKD3_1_homo=1'\n",
       "98. 'MCAT_1_homo=1'\n",
       "99. 'CD52_1_homo=1'\n",
       "100. 'EPCAM_1_homo=1'\n",
       "101. 'APOBEC1_1_homo=1'\n",
       "102. 'CCDC61_1_homo=1'\n",
       "103. 'RALY_1_homo=1'\n",
       "104. 'A2ML1_2_homo=1'\n",
       "105. 'ZNF749_1_homo=1'\n",
       "106. 'TMEM159_1_homo=1'\n",
       "107. 'NBPF3_1_homo=1'\n",
       "108. 'CILP_3_homo=1'\n",
       "109. 'FGF21_1_homo=1'\n",
       "110. 'USP44_1_homo=1'\n",
       "111. 'COL6A3_3_homo=1'\n",
       "112. 'FAM184B_2_homo=1'\n",
       "113. 'MTRR_2_homo=1'\n",
       "114. 'CHPT1_1_homo=1'\n",
       "115. 'DISP3_1_homo=1'\n",
       "116. 'MTHFD1_1_homo=1'\n",
       "117. 'COQ7_1_homo=1'\n",
       "118. 'RMI1_1_homo=1'\n",
       "119. 'PRSS55_1_homo=1'\n",
       "120. 'RHBDF2_1_homo=1'\n",
       "121. 'TXNRD1_1_homo=1'\n",
       "122. 'TP53_1_homo=1'\n",
       "\n",
       "\n"
      ],
      "text/plain": [
       "  [1] \"CAMKK2_rare_AR=1\"  \"WDR27_rare_AR=1\"   \"PKHD1L1_rare_AR=1\"\n",
       "  [4] \"NKX2.3_rare_AR=1\"  \"TNFAIP2_rare_AR=1\" \"OR51B5_rare_AR=1\" \n",
       "  [7] \"TACR2_rare_AR=1\"   \"HRCT1_rare_AR=1\"   \"CAPN15_rare_AD=1\" \n",
       " [10] \"CASKIN1_rare_AD=1\" \"GRM6_rare_AD=1\"    \"APBA3_rare_AD=1\"  \n",
       " [13] \"BLK_rare_AD=1\"     \"LRP8_rare_AD=1\"    \"ZC3H3_rare_AD=1\"  \n",
       " [16] \"AKAP17A_rare_AD=1\" \"PLEKHG4_rare_AD=1\" \"EXPH5_rare_AD=1\"  \n",
       " [19] \"APOL3_rare_AD=1\"   \"MLPH_rare_AD=1\"    \"TICRR_rare_AD=1\"  \n",
       " [22] \"IQCA1_rare_AD=1\"   \"SFMBT2_rare_AD=1\"  \"INTS1_rare_AD=1\"  \n",
       " [25] \"TENM1_rare_AD=1\"   \"SPINT1_rare_AD=1\"  \"TASOR_rare_AD=1\"  \n",
       " [28] \"AFTPH_rare_AD=1\"   \"GSN_rare_AD=1\"     \"ITGA7_rare_AD=1\"  \n",
       " [31] \"FIP1L1_rare_AD=1\"  \"ZNF808_rare_AD=1\"  \"NIBAN3_rare_AD=1\" \n",
       " [34] \"CD48_rare_AD=1\"    \"TAS1R1_rare_AD=1\"  \"SNED1_rare_AD=1\"  \n",
       " [37] \"FARP2_rare_AD=1\"   \"MASP1_rare_AD=1\"   \"KRT26_rare_AD=1\"  \n",
       " [40] \"PXDN_rare_AD=1\"    \"TLR5_rare_AD=1\"    \"ATG9B_rare_AD=1\"  \n",
       " [43] \"DLEC1_rare_AD=1\"   \"MYH2_rare_AD=1\"    \"STXBP5L_2=1\"      \n",
       " [46] \"FHOD3_3=1\"         \"SLC15A4_1=1\"       \"EP300_1=1\"        \n",
       " [49] \"PDE11A_2=1\"        \"HOXC4_1=1\"         \"DLEC1_2=1\"        \n",
       " [52] \"FNDC9_1=1\"         \"FBXL22_1=1\"        \"LSR_1=1\"          \n",
       " [55] \"IRX5_1=1\"          \"ALDH3A1_2=1\"       \"RNF212_1=1\"       \n",
       " [58] \"SVIL_1=1\"          \"GSTM3_1=1\"         \"SYT8_5=1\"         \n",
       " [61] \"HAPLN3_2=1\"        \"F5_2=1\"            \"ALK_3=1\"          \n",
       " [64] \"HERC5_1=1\"         \"IGFBP2_1=1\"        \"IBSP_4=1\"         \n",
       " [67] \"MYO1H_1=1\"         \"PTPRU_1=1\"         \"NCOA3_1=1\"        \n",
       " [70] \"RNF149_1=1\"        \"LRRC61_1=1\"        \"LOC100506422_1=1\" \n",
       " [73] \"PPP1R9A_1=1\"       \"HEXD_1=1\"          \"SLC24A3_1=1\"      \n",
       " [76] \"BCAT2_1=1\"         \"EPCAM_1=1\"         \"FABP1_1=1\"        \n",
       " [79] \"MYO1H_3=1\"         \"CHPT1_1=1\"         \"GJE1_1=1\"         \n",
       " [82] \"TMEM40_2=1\"        \"C1orf109_1=1\"      \"DNASE2B_2=1\"      \n",
       " [85] \"ALCAM_2=1\"         \"OR13C2_1=1\"        \"ARHGAP25_1=1\"     \n",
       " [88] \"TXLNB_1=1\"         \"SLC25A43_1_homo=1\" \"IL17RC_1_homo=1\"  \n",
       " [91] \"TIGD4_1_homo=1\"    \"RBM11_1_homo=1\"    \"SPATA5L1_1_homo=1\"\n",
       " [94] \"POLI_1_homo=1\"     \"CFHR1_1_homo=1\"    \"CFHR4_1_homo=1\"   \n",
       " [97] \"FASTKD3_1_homo=1\"  \"MCAT_1_homo=1\"     \"CD52_1_homo=1\"    \n",
       "[100] \"EPCAM_1_homo=1\"    \"APOBEC1_1_homo=1\"  \"CCDC61_1_homo=1\"  \n",
       "[103] \"RALY_1_homo=1\"     \"A2ML1_2_homo=1\"    \"ZNF749_1_homo=1\"  \n",
       "[106] \"TMEM159_1_homo=1\"  \"NBPF3_1_homo=1\"    \"CILP_3_homo=1\"    \n",
       "[109] \"FGF21_1_homo=1\"    \"USP44_1_homo=1\"    \"COL6A3_3_homo=1\"  \n",
       "[112] \"FAM184B_2_homo=1\"  \"MTRR_2_homo=1\"     \"CHPT1_1_homo=1\"   \n",
       "[115] \"DISP3_1_homo=1\"    \"MTHFD1_1_homo=1\"   \"COQ7_1_homo=1\"    \n",
       "[118] \"RMI1_1_homo=1\"     \"PRSS55_1_homo=1\"   \"RHBDF2_1_homo=1\"  \n",
       "[121] \"TXNRD1_1_homo=1\"   \"TP53_1_homo=1\"    "
      ]
     },
     "metadata": {},
     "output_type": "display_data"
    }
   ],
   "source": [
    "items"
   ]
  },
  {
   "cell_type": "code",
   "execution_count": 6,
   "metadata": {},
   "outputs": [
    {
     "name": "stdout",
     "output_type": "stream",
     "text": [
      "Apriori\n",
      "\n",
      "Parameter specification:\n",
      " confidence minval smax arem  aval originalSupport maxtime support minlen\n",
      "        0.5    0.1    1 none FALSE            TRUE       5   0.007      2\n",
      " maxlen target  ext\n",
      "     10  rules TRUE\n",
      "\n",
      "Algorithmic control:\n",
      " filter tree heap memopt load sort verbose\n",
      "    0.1 TRUE TRUE  FALSE TRUE    2    TRUE\n",
      "\n",
      "Absolute minimum support count: 1 \n",
      "\n",
      "set item appearances ...[124 item(s)] done [0.00s].\n",
      "set transactions ...[124 item(s), 252 transaction(s)] done [0.00s].\n",
      "sorting and recoding items ... [124 item(s)] done [0.00s].\n",
      "creating transaction tree ... done [0.00s].\n",
      "checking subsets of size 1 2 3 4 5 6"
     ]
    },
    {
     "name": "stderr",
     "output_type": "stream",
     "text": [
      "Warning message in apriori(data = train_trans, parameter = list(supp = support[i], :\n",
      "“Mining stopped (time limit reached). Only patterns up to a length of 6 returned!”\n"
     ]
    },
    {
     "name": "stdout",
     "output_type": "stream",
     "text": [
      " done [28.17s].\n",
      "writing ... [27661458 rule(s)] done [8.79s].\n",
      "creating S4 object  ... done [8.29s].\n"
     ]
    },
    {
     "name": "stderr",
     "output_type": "stream",
     "text": [
      "Support: 0.007 Confidence: 0.5 Rules: 27661458 p-value: 0.252988047808765 \n",
      "\n",
      "\n"
     ]
    },
    {
     "name": "stdout",
     "output_type": "stream",
     "text": [
      "Apriori\n",
      "\n",
      "Parameter specification:\n",
      " confidence minval smax arem  aval originalSupport maxtime support minlen\n",
      "        0.6    0.1    1 none FALSE            TRUE       5   0.007      2\n",
      " maxlen target  ext\n",
      "     10  rules TRUE\n",
      "\n",
      "Algorithmic control:\n",
      " filter tree heap memopt load sort verbose\n",
      "    0.1 TRUE TRUE  FALSE TRUE    2    TRUE\n",
      "\n",
      "Absolute minimum support count: 1 \n",
      "\n",
      "set item appearances ...[124 item(s)] done [0.00s].\n",
      "set transactions ...[124 item(s), 252 transaction(s)] done [0.00s].\n",
      "sorting and recoding items ... [124 item(s)] done [0.00s].\n",
      "creating transaction tree ... done [0.00s].\n",
      "checking subsets of size 1 2 3 4 5 6"
     ]
    },
    {
     "name": "stderr",
     "output_type": "stream",
     "text": [
      "Warning message in apriori(data = train_trans, parameter = list(supp = support[i], :\n",
      "“Mining stopped (time limit reached). Only patterns up to a length of 6 returned!”\n"
     ]
    },
    {
     "name": "stdout",
     "output_type": "stream",
     "text": [
      " done [27.15s].\n",
      "writing ... [22728411 rule(s)] done [8.34s].\n",
      "creating S4 object  ... done [7.15s].\n"
     ]
    },
    {
     "name": "stderr",
     "output_type": "stream",
     "text": [
      "Support: 0.007 Confidence: 0.6 Rules: 22728411 p-value: 0.252988047808765 \n",
      "\n",
      "\n"
     ]
    },
    {
     "name": "stdout",
     "output_type": "stream",
     "text": [
      "Apriori\n",
      "\n",
      "Parameter specification:\n",
      " confidence minval smax arem  aval originalSupport maxtime support minlen\n",
      "        0.7    0.1    1 none FALSE            TRUE       5   0.007      2\n",
      " maxlen target  ext\n",
      "     10  rules TRUE\n",
      "\n",
      "Algorithmic control:\n",
      " filter tree heap memopt load sort verbose\n",
      "    0.1 TRUE TRUE  FALSE TRUE    2    TRUE\n",
      "\n",
      "Absolute minimum support count: 1 \n",
      "\n",
      "set item appearances ...[124 item(s)] done [0.00s].\n",
      "set transactions ...[124 item(s), 252 transaction(s)] done [0.00s].\n",
      "sorting and recoding items ... [124 item(s)] done [0.00s].\n",
      "creating transaction tree ... done [0.00s].\n",
      "checking subsets of size 1 2 3 4 5 6"
     ]
    },
    {
     "name": "stderr",
     "output_type": "stream",
     "text": [
      "Warning message in apriori(data = train_trans, parameter = list(supp = support[i], :\n",
      "“Mining stopped (time limit reached). Only patterns up to a length of 6 returned!”\n"
     ]
    },
    {
     "name": "stdout",
     "output_type": "stream",
     "text": [
      " done [27.82s].\n",
      "writing ... [16187113 rule(s)] done [7.80s].\n",
      "creating S4 object  ... done [6.23s].\n"
     ]
    },
    {
     "name": "stderr",
     "output_type": "stream",
     "text": [
      "Support: 0.007 Confidence: 0.7 Rules: 16187113 p-value: 0.245051539872257 \n",
      "\n",
      "\n"
     ]
    },
    {
     "name": "stdout",
     "output_type": "stream",
     "text": [
      "Apriori\n",
      "\n",
      "Parameter specification:\n",
      " confidence minval smax arem  aval originalSupport maxtime support minlen\n",
      "        0.8    0.1    1 none FALSE            TRUE       5   0.007      2\n",
      " maxlen target  ext\n",
      "     10  rules TRUE\n",
      "\n",
      "Algorithmic control:\n",
      " filter tree heap memopt load sort verbose\n",
      "    0.1 TRUE TRUE  FALSE TRUE    2    TRUE\n",
      "\n",
      "Absolute minimum support count: 1 \n",
      "\n",
      "set item appearances ...[124 item(s)] done [0.00s].\n",
      "set transactions ...[124 item(s), 252 transaction(s)] done [0.00s].\n",
      "sorting and recoding items ... [124 item(s)] done [0.00s].\n",
      "creating transaction tree ... done [0.00s].\n",
      "checking subsets of size 1 2 3 4 5 6"
     ]
    },
    {
     "name": "stderr",
     "output_type": "stream",
     "text": [
      "Warning message in apriori(data = train_trans, parameter = list(supp = support[i], :\n",
      "“Mining stopped (time limit reached). Only patterns up to a length of 6 returned!”\n"
     ]
    },
    {
     "name": "stdout",
     "output_type": "stream",
     "text": [
      " done [28.30s].\n",
      "writing ... [13143511 rule(s)] done [7.74s].\n",
      "creating S4 object  ... done [6.54s].\n"
     ]
    },
    {
     "name": "stderr",
     "output_type": "stream",
     "text": [
      "Support: 0.007 Confidence: 0.8 Rules: 13143511 p-value: 0.245051539872257 \n",
      "\n",
      "\n"
     ]
    },
    {
     "name": "stdout",
     "output_type": "stream",
     "text": [
      "Apriori\n",
      "\n",
      "Parameter specification:\n",
      " confidence minval smax arem  aval originalSupport maxtime support minlen\n",
      "        0.9    0.1    1 none FALSE            TRUE       5   0.007      2\n",
      " maxlen target  ext\n",
      "     10  rules TRUE\n",
      "\n",
      "Algorithmic control:\n",
      " filter tree heap memopt load sort verbose\n",
      "    0.1 TRUE TRUE  FALSE TRUE    2    TRUE\n",
      "\n",
      "Absolute minimum support count: 1 \n",
      "\n",
      "set item appearances ...[124 item(s)] done [0.00s].\n",
      "set transactions ...[124 item(s), 252 transaction(s)] done [0.00s].\n",
      "sorting and recoding items ... [124 item(s)] done [0.00s].\n",
      "creating transaction tree ... done [0.00s].\n",
      "checking subsets of size 1 2 3 4 5 6"
     ]
    },
    {
     "name": "stderr",
     "output_type": "stream",
     "text": [
      "Warning message in apriori(data = train_trans, parameter = list(supp = support[i], :\n",
      "“Mining stopped (time limit reached). Only patterns up to a length of 6 returned!”\n"
     ]
    },
    {
     "name": "stdout",
     "output_type": "stream",
     "text": [
      " done [27.07s].\n",
      "writing ... [11096388 rule(s)] done [7.69s].\n",
      "creating S4 object  ... done [5.43s].\n"
     ]
    },
    {
     "name": "stderr",
     "output_type": "stream",
     "text": [
      "Support: 0.007 Confidence: 0.9 Rules: 11096388 p-value: 0.245051539872257 \n",
      "\n",
      "\n"
     ]
    },
    {
     "name": "stdout",
     "output_type": "stream",
     "text": [
      "Apriori\n",
      "\n",
      "Parameter specification:\n",
      " confidence minval smax arem  aval originalSupport maxtime support minlen\n",
      "        0.5    0.1    1 none FALSE            TRUE       5    0.01      2\n",
      " maxlen target  ext\n",
      "     10  rules TRUE\n",
      "\n",
      "Algorithmic control:\n",
      " filter tree heap memopt load sort verbose\n",
      "    0.1 TRUE TRUE  FALSE TRUE    2    TRUE\n",
      "\n",
      "Absolute minimum support count: 2 \n",
      "\n",
      "set item appearances ...[124 item(s)] done [0.00s].\n",
      "set transactions ...[124 item(s), 252 transaction(s)] done [0.00s].\n",
      "sorting and recoding items ... [124 item(s)] done [0.00s].\n",
      "creating transaction tree ... done [0.00s].\n",
      "checking subsets of size 1 2 3 4 5 6"
     ]
    },
    {
     "name": "stderr",
     "output_type": "stream",
     "text": [
      "Warning message in apriori(data = train_trans, parameter = list(supp = support[i], :\n",
      "“Mining stopped (time limit reached). Only patterns up to a length of 6 returned!”\n"
     ]
    },
    {
     "name": "stdout",
     "output_type": "stream",
     "text": [
      " done [17.79s].\n",
      "writing ... [15629813 rule(s)] done [6.09s].\n",
      "creating S4 object  ... done [5.07s].\n"
     ]
    },
    {
     "name": "stderr",
     "output_type": "stream",
     "text": [
      "Support: 0.01 Confidence: 0.5 Rules: 15629813 p-value: 0.21677178413802 \n",
      "\n",
      "\n"
     ]
    },
    {
     "name": "stdout",
     "output_type": "stream",
     "text": [
      "Apriori\n",
      "\n",
      "Parameter specification:\n",
      " confidence minval smax arem  aval originalSupport maxtime support minlen\n",
      "        0.6    0.1    1 none FALSE            TRUE       5    0.01      2\n",
      " maxlen target  ext\n",
      "     10  rules TRUE\n",
      "\n",
      "Algorithmic control:\n",
      " filter tree heap memopt load sort verbose\n",
      "    0.1 TRUE TRUE  FALSE TRUE    2    TRUE\n",
      "\n",
      "Absolute minimum support count: 2 \n",
      "\n",
      "set item appearances ...[124 item(s)] done [0.00s].\n",
      "set transactions ...[124 item(s), 252 transaction(s)] done [0.00s].\n",
      "sorting and recoding items ... [124 item(s)] done [0.00s].\n",
      "creating transaction tree ... done [0.00s].\n",
      "checking subsets of size 1 2 3 4 5 6"
     ]
    },
    {
     "name": "stderr",
     "output_type": "stream",
     "text": [
      "Warning message in apriori(data = train_trans, parameter = list(supp = support[i], :\n",
      "“Mining stopped (time limit reached). Only patterns up to a length of 6 returned!”\n"
     ]
    },
    {
     "name": "stdout",
     "output_type": "stream",
     "text": [
      " done [17.81s].\n",
      "writing ... [12399764 rule(s)] done [5.05s].\n",
      "creating S4 object  ... done [5.08s].\n"
     ]
    },
    {
     "name": "stderr",
     "output_type": "stream",
     "text": [
      "Support: 0.01 Confidence: 0.6 Rules: 12399764 p-value: 0.135447145754679 \n",
      "\n",
      "\n"
     ]
    },
    {
     "name": "stdout",
     "output_type": "stream",
     "text": [
      "Apriori\n",
      "\n",
      "Parameter specification:\n",
      " confidence minval smax arem  aval originalSupport maxtime support minlen\n",
      "        0.7    0.1    1 none FALSE            TRUE       5    0.01      2\n",
      " maxlen target  ext\n",
      "     10  rules TRUE\n",
      "\n",
      "Algorithmic control:\n",
      " filter tree heap memopt load sort verbose\n",
      "    0.1 TRUE TRUE  FALSE TRUE    2    TRUE\n",
      "\n",
      "Absolute minimum support count: 2 \n",
      "\n",
      "set item appearances ...[124 item(s)] done [0.00s].\n",
      "set transactions ...[124 item(s), 252 transaction(s)] done [0.00s].\n",
      "sorting and recoding items ... [124 item(s)] done [0.00s].\n",
      "creating transaction tree ... done [0.00s].\n",
      "checking subsets of size 1 2 3 4 5 6"
     ]
    },
    {
     "name": "stderr",
     "output_type": "stream",
     "text": [
      "Warning message in apriori(data = train_trans, parameter = list(supp = support[i], :\n",
      "“Mining stopped (time limit reached). Only patterns up to a length of 6 returned!”\n"
     ]
    },
    {
     "name": "stdout",
     "output_type": "stream",
     "text": [
      " done [17.94s].\n",
      "writing ... [9071118 rule(s)] done [4.99s].\n",
      "creating S4 object  ... done [3.34s].\n"
     ]
    },
    {
     "name": "stderr",
     "output_type": "stream",
     "text": [
      "Support: 0.01 Confidence: 0.7 Rules: 9071118 p-value: 0.126494023904383 \n",
      "\n",
      "\n"
     ]
    },
    {
     "name": "stdout",
     "output_type": "stream",
     "text": [
      "Apriori\n",
      "\n",
      "Parameter specification:\n",
      " confidence minval smax arem  aval originalSupport maxtime support minlen\n",
      "        0.8    0.1    1 none FALSE            TRUE       5    0.01      2\n",
      " maxlen target  ext\n",
      "     10  rules TRUE\n",
      "\n",
      "Algorithmic control:\n",
      " filter tree heap memopt load sort verbose\n",
      "    0.1 TRUE TRUE  FALSE TRUE    2    TRUE\n",
      "\n",
      "Absolute minimum support count: 2 \n",
      "\n",
      "set item appearances ...[124 item(s)] done [0.00s].\n",
      "set transactions ...[124 item(s), 252 transaction(s)] done [0.00s].\n",
      "sorting and recoding items ... [124 item(s)] done [0.00s].\n",
      "creating transaction tree ... done [0.00s].\n",
      "checking subsets of size 1 2 3 4 5 6"
     ]
    },
    {
     "name": "stderr",
     "output_type": "stream",
     "text": [
      "Warning message in apriori(data = train_trans, parameter = list(supp = support[i], :\n",
      "“Mining stopped (time limit reached). Only patterns up to a length of 6 returned!”\n"
     ]
    },
    {
     "name": "stdout",
     "output_type": "stream",
     "text": [
      " done [17.83s].\n",
      "writing ... [6027516 rule(s)] done [4.38s].\n",
      "creating S4 object  ... done [2.76s].\n"
     ]
    },
    {
     "name": "stderr",
     "output_type": "stream",
     "text": [
      "Support: 0.01 Confidence: 0.8 Rules: 6027516 p-value: 0.12056535761715 \n",
      "\n",
      "\n"
     ]
    },
    {
     "name": "stdout",
     "output_type": "stream",
     "text": [
      "Apriori\n",
      "\n",
      "Parameter specification:\n",
      " confidence minval smax arem  aval originalSupport maxtime support minlen\n",
      "        0.9    0.1    1 none FALSE            TRUE       5    0.01      2\n",
      " maxlen target  ext\n",
      "     10  rules TRUE\n",
      "\n",
      "Algorithmic control:\n",
      " filter tree heap memopt load sort verbose\n",
      "    0.1 TRUE TRUE  FALSE TRUE    2    TRUE\n",
      "\n",
      "Absolute minimum support count: 2 \n",
      "\n",
      "set item appearances ...[124 item(s)] done [0.00s].\n",
      "set transactions ...[124 item(s), 252 transaction(s)] done [0.00s].\n",
      "sorting and recoding items ... [124 item(s)] done [0.00s].\n",
      "creating transaction tree ... done [0.00s].\n",
      "checking subsets of size 1 2 3 4 5 6"
     ]
    },
    {
     "name": "stderr",
     "output_type": "stream",
     "text": [
      "Warning message in apriori(data = train_trans, parameter = list(supp = support[i], :\n",
      "“Mining stopped (time limit reached). Only patterns up to a length of 6 returned!”\n"
     ]
    },
    {
     "name": "stdout",
     "output_type": "stream",
     "text": [
      " done [17.82s].\n",
      "writing ... [3980393 rule(s)] done [4.24s].\n",
      "creating S4 object  ... done [2.36s].\n"
     ]
    },
    {
     "name": "stderr",
     "output_type": "stream",
     "text": [
      "Support: 0.01 Confidence: 0.9 Rules: 3980393 p-value: 0.12056535761715 \n",
      "\n",
      "\n"
     ]
    },
    {
     "name": "stdout",
     "output_type": "stream",
     "text": [
      "Apriori\n",
      "\n",
      "Parameter specification:\n",
      " confidence minval smax arem  aval originalSupport maxtime support minlen\n",
      "        0.5    0.1    1 none FALSE            TRUE       5    0.02      2\n",
      " maxlen target  ext\n",
      "     10  rules TRUE\n",
      "\n",
      "Algorithmic control:\n",
      " filter tree heap memopt load sort verbose\n",
      "    0.1 TRUE TRUE  FALSE TRUE    2    TRUE\n",
      "\n",
      "Absolute minimum support count: 5 \n",
      "\n",
      "set item appearances ...[124 item(s)] done [0.00s].\n",
      "set transactions ...[124 item(s), 252 transaction(s)] done [0.00s].\n",
      "sorting and recoding items ... [123 item(s)] done [0.00s].\n",
      "creating transaction tree ... done [0.00s].\n",
      "checking subsets of size 1 2 3 4 5 6"
     ]
    },
    {
     "name": "stderr",
     "output_type": "stream",
     "text": [
      "Warning message in apriori(data = train_trans, parameter = list(supp = support[i], :\n",
      "“Mining stopped (time limit reached). Only patterns up to a length of 6 returned!”\n"
     ]
    },
    {
     "name": "stdout",
     "output_type": "stream",
     "text": [
      " done [8.45s].\n",
      "writing ... [4774850 rule(s)] done [1.88s].\n",
      "creating S4 object  ... done [1.55s].\n"
     ]
    },
    {
     "name": "stderr",
     "output_type": "stream",
     "text": [
      "Support: 0.02 Confidence: 0.5 Rules: 4774850 p-value: 0.145819781352476 \n",
      "\n",
      "\n"
     ]
    },
    {
     "name": "stdout",
     "output_type": "stream",
     "text": [
      "Apriori\n",
      "\n",
      "Parameter specification:\n",
      " confidence minval smax arem  aval originalSupport maxtime support minlen\n",
      "        0.6    0.1    1 none FALSE            TRUE       5    0.02      2\n",
      " maxlen target  ext\n",
      "     10  rules TRUE\n",
      "\n",
      "Algorithmic control:\n",
      " filter tree heap memopt load sort verbose\n",
      "    0.1 TRUE TRUE  FALSE TRUE    2    TRUE\n",
      "\n",
      "Absolute minimum support count: 5 \n",
      "\n",
      "set item appearances ...[124 item(s)] done [0.00s].\n",
      "set transactions ...[124 item(s), 252 transaction(s)] done [0.00s].\n",
      "sorting and recoding items ... [123 item(s)] done [0.00s].\n",
      "creating transaction tree ... done [0.00s].\n",
      "checking subsets of size 1 2 3 4 5 6"
     ]
    },
    {
     "name": "stderr",
     "output_type": "stream",
     "text": [
      "Warning message in apriori(data = train_trans, parameter = list(supp = support[i], :\n",
      "“Mining stopped (time limit reached). Only patterns up to a length of 6 returned!”\n"
     ]
    },
    {
     "name": "stdout",
     "output_type": "stream",
     "text": [
      " done [8.44s].\n",
      "writing ... [3636580 rule(s)] done [1.82s].\n",
      "creating S4 object  ... done [1.39s].\n"
     ]
    },
    {
     "name": "stderr",
     "output_type": "stream",
     "text": [
      "Support: 0.02 Confidence: 0.6 Rules: 3636580 p-value: 0.0898037318278988 \n",
      "\n",
      "\n"
     ]
    },
    {
     "name": "stdout",
     "output_type": "stream",
     "text": [
      "Apriori\n",
      "\n",
      "Parameter specification:\n",
      " confidence minval smax arem  aval originalSupport maxtime support minlen\n",
      "        0.7    0.1    1 none FALSE            TRUE       5    0.02      2\n",
      " maxlen target  ext\n",
      "     10  rules TRUE\n",
      "\n",
      "Algorithmic control:\n",
      " filter tree heap memopt load sort verbose\n",
      "    0.1 TRUE TRUE  FALSE TRUE    2    TRUE\n",
      "\n",
      "Absolute minimum support count: 5 \n",
      "\n",
      "set item appearances ...[124 item(s)] done [0.00s].\n",
      "set transactions ...[124 item(s), 252 transaction(s)] done [0.00s].\n",
      "sorting and recoding items ... [123 item(s)] done [0.00s].\n",
      "creating transaction tree ... done [0.00s].\n",
      "checking subsets of size 1 2 3 4 5 6"
     ]
    },
    {
     "name": "stderr",
     "output_type": "stream",
     "text": [
      "Warning message in apriori(data = train_trans, parameter = list(supp = support[i], :\n",
      "“Mining stopped (time limit reached). Only patterns up to a length of 6 returned!”\n"
     ]
    },
    {
     "name": "stdout",
     "output_type": "stream",
     "text": [
      " done [8.18s].\n",
      "writing ... [2339420 rule(s)] done [1.55s].\n",
      "creating S4 object  ... done [1.09s].\n"
     ]
    },
    {
     "name": "stderr",
     "output_type": "stream",
     "text": [
      "Support: 0.02 Confidence: 0.7 Rules: 2339420 p-value: 0.04854285701474 \n",
      "\n",
      "\n"
     ]
    },
    {
     "name": "stdout",
     "output_type": "stream",
     "text": [
      "Apriori\n",
      "\n",
      "Parameter specification:\n",
      " confidence minval smax arem  aval originalSupport maxtime support minlen\n",
      "        0.8    0.1    1 none FALSE            TRUE       5    0.02      2\n",
      " maxlen target  ext\n",
      "     10  rules TRUE\n",
      "\n",
      "Algorithmic control:\n",
      " filter tree heap memopt load sort verbose\n",
      "    0.1 TRUE TRUE  FALSE TRUE    2    TRUE\n",
      "\n",
      "Absolute minimum support count: 5 \n",
      "\n",
      "set item appearances ...[124 item(s)] done [0.00s].\n",
      "set transactions ...[124 item(s), 252 transaction(s)] done [0.00s].\n",
      "sorting and recoding items ... [123 item(s)] done [0.00s].\n",
      "creating transaction tree ... done [0.00s].\n",
      "checking subsets of size 1 2 3 4 5 6"
     ]
    },
    {
     "name": "stderr",
     "output_type": "stream",
     "text": [
      "Warning message in apriori(data = train_trans, parameter = list(supp = support[i], :\n",
      "“Mining stopped (time limit reached). Only patterns up to a length of 6 returned!”\n"
     ]
    },
    {
     "name": "stdout",
     "output_type": "stream",
     "text": [
      " done [8.21s].\n",
      "writing ... [1256832 rule(s)] done [1.47s].\n",
      "creating S4 object  ... done [0.92s].\n"
     ]
    },
    {
     "name": "stderr",
     "output_type": "stream",
     "text": [
      "Support: 0.02 Confidence: 0.8 Rules: 1256832 p-value: 0.0168464927943185 \n",
      "\n",
      "\n"
     ]
    },
    {
     "name": "stdout",
     "output_type": "stream",
     "text": [
      "Apriori\n",
      "\n",
      "Parameter specification:\n",
      " confidence minval smax arem  aval originalSupport maxtime support minlen\n",
      "        0.9    0.1    1 none FALSE            TRUE       5    0.02      2\n",
      " maxlen target  ext\n",
      "     10  rules TRUE\n",
      "\n",
      "Algorithmic control:\n",
      " filter tree heap memopt load sort verbose\n",
      "    0.1 TRUE TRUE  FALSE TRUE    2    TRUE\n",
      "\n",
      "Absolute minimum support count: 5 \n",
      "\n",
      "set item appearances ...[124 item(s)] done [0.00s].\n",
      "set transactions ...[124 item(s), 252 transaction(s)] done [0.00s].\n",
      "sorting and recoding items ... [123 item(s)] done [0.00s].\n",
      "creating transaction tree ... done [0.00s].\n",
      "checking subsets of size 1 2 3 4 5 6"
     ]
    },
    {
     "name": "stderr",
     "output_type": "stream",
     "text": [
      "Warning message in apriori(data = train_trans, parameter = list(supp = support[i], :\n",
      "“Mining stopped (time limit reached). Only patterns up to a length of 6 returned!”\n"
     ]
    },
    {
     "name": "stdout",
     "output_type": "stream",
     "text": [
      " done [8.28s].\n",
      "writing ... [450124 rule(s)] done [1.35s].\n",
      "creating S4 object  ... done [0.74s].\n"
     ]
    },
    {
     "name": "stderr",
     "output_type": "stream",
     "text": [
      "Support: 0.02 Confidence: 0.9 Rules: 450124 p-value: 0.00759029958244515 \n",
      "\n",
      "\n"
     ]
    },
    {
     "name": "stdout",
     "output_type": "stream",
     "text": [
      "Apriori\n",
      "\n",
      "Parameter specification:\n",
      " confidence minval smax arem  aval originalSupport maxtime support minlen\n",
      "        0.5    0.1    1 none FALSE            TRUE       5    0.05      2\n",
      " maxlen target  ext\n",
      "     10  rules TRUE\n",
      "\n",
      "Algorithmic control:\n",
      " filter tree heap memopt load sort verbose\n",
      "    0.1 TRUE TRUE  FALSE TRUE    2    TRUE\n",
      "\n",
      "Absolute minimum support count: 12 \n",
      "\n",
      "set item appearances ...[124 item(s)] done [0.00s].\n",
      "set transactions ...[124 item(s), 252 transaction(s)] done [0.00s].\n",
      "sorting and recoding items ... [116 item(s)] done [0.00s].\n",
      "creating transaction tree ... done [0.00s].\n",
      "checking subsets of size 1 2 3 4 5 6 7 8 9 10"
     ]
    },
    {
     "name": "stderr",
     "output_type": "stream",
     "text": [
      "Warning message in apriori(data = train_trans, parameter = list(supp = support[i], :\n",
      "“Mining stopped (maxlen reached). Only patterns up to a length of 10 returned!”\n"
     ]
    },
    {
     "name": "stdout",
     "output_type": "stream",
     "text": [
      " done [4.63s].\n",
      "writing ... [702408 rule(s)] done [0.38s].\n",
      "creating S4 object  ... done [0.37s].\n"
     ]
    },
    {
     "name": "stderr",
     "output_type": "stream",
     "text": [
      "Support: 0.05 Confidence: 0.5 Rules: 702408 p-value: 0.0454485960729455 \n",
      "\n",
      "\n"
     ]
    },
    {
     "name": "stdout",
     "output_type": "stream",
     "text": [
      "Apriori\n",
      "\n",
      "Parameter specification:\n",
      " confidence minval smax arem  aval originalSupport maxtime support minlen\n",
      "        0.6    0.1    1 none FALSE            TRUE       5    0.05      2\n",
      " maxlen target  ext\n",
      "     10  rules TRUE\n",
      "\n",
      "Algorithmic control:\n",
      " filter tree heap memopt load sort verbose\n",
      "    0.1 TRUE TRUE  FALSE TRUE    2    TRUE\n",
      "\n",
      "Absolute minimum support count: 12 \n",
      "\n",
      "set item appearances ...[124 item(s)] done [0.00s].\n",
      "set transactions ...[124 item(s), 252 transaction(s)] done [0.00s].\n",
      "sorting and recoding items ... [116 item(s)] done [0.00s].\n",
      "creating transaction tree ... done [0.00s].\n",
      "checking subsets of size 1 2 3 4 5 6 7 8 9 10"
     ]
    },
    {
     "name": "stderr",
     "output_type": "stream",
     "text": [
      "Warning message in apriori(data = train_trans, parameter = list(supp = support[i], :\n",
      "“Mining stopped (maxlen reached). Only patterns up to a length of 10 returned!”\n"
     ]
    },
    {
     "name": "stdout",
     "output_type": "stream",
     "text": [
      " done [4.61s].\n",
      "writing ... [550445 rule(s)] done [0.37s].\n",
      "creating S4 object  ... done [0.33s].\n"
     ]
    },
    {
     "name": "stderr",
     "output_type": "stream",
     "text": [
      "Support: 0.05 Confidence: 0.6 Rules: 550445 p-value: 0.0225802774106707 \n",
      "\n",
      "\n"
     ]
    },
    {
     "name": "stdout",
     "output_type": "stream",
     "text": [
      "Apriori\n",
      "\n",
      "Parameter specification:\n",
      " confidence minval smax arem  aval originalSupport maxtime support minlen\n",
      "        0.7    0.1    1 none FALSE            TRUE       5    0.05      2\n",
      " maxlen target  ext\n",
      "     10  rules TRUE\n",
      "\n",
      "Algorithmic control:\n",
      " filter tree heap memopt load sort verbose\n",
      "    0.1 TRUE TRUE  FALSE TRUE    2    TRUE\n",
      "\n",
      "Absolute minimum support count: 12 \n",
      "\n",
      "set item appearances ...[124 item(s)] done [0.00s].\n",
      "set transactions ...[124 item(s), 252 transaction(s)] done [0.00s].\n",
      "sorting and recoding items ... [116 item(s)] done [0.00s].\n",
      "creating transaction tree ... done [0.00s].\n",
      "checking subsets of size 1 2 3 4 5 6 7 8 9 10"
     ]
    },
    {
     "name": "stderr",
     "output_type": "stream",
     "text": [
      "Warning message in apriori(data = train_trans, parameter = list(supp = support[i], :\n",
      "“Mining stopped (maxlen reached). Only patterns up to a length of 10 returned!”\n"
     ]
    },
    {
     "name": "stdout",
     "output_type": "stream",
     "text": [
      " done [4.62s].\n",
      "writing ... [345621 rule(s)] done [0.35s].\n",
      "creating S4 object  ... done [0.30s].\n"
     ]
    },
    {
     "name": "stderr",
     "output_type": "stream",
     "text": [
      "Support: 0.05 Confidence: 0.7 Rules: 345621 p-value: 0.00827549650612019 \n",
      "\n",
      "\n"
     ]
    },
    {
     "name": "stdout",
     "output_type": "stream",
     "text": [
      "Apriori\n",
      "\n",
      "Parameter specification:\n",
      " confidence minval smax arem  aval originalSupport maxtime support minlen\n",
      "        0.8    0.1    1 none FALSE            TRUE       5    0.05      2\n",
      " maxlen target  ext\n",
      "     10  rules TRUE\n",
      "\n",
      "Algorithmic control:\n",
      " filter tree heap memopt load sort verbose\n",
      "    0.1 TRUE TRUE  FALSE TRUE    2    TRUE\n",
      "\n",
      "Absolute minimum support count: 12 \n",
      "\n",
      "set item appearances ...[124 item(s)] done [0.00s].\n",
      "set transactions ...[124 item(s), 252 transaction(s)] done [0.00s].\n",
      "sorting and recoding items ... [116 item(s)] done [0.00s].\n",
      "creating transaction tree ... done [0.00s].\n",
      "checking subsets of size 1 2 3 4 5 6 7 8 9 10"
     ]
    },
    {
     "name": "stderr",
     "output_type": "stream",
     "text": [
      "Warning message in apriori(data = train_trans, parameter = list(supp = support[i], :\n",
      "“Mining stopped (maxlen reached). Only patterns up to a length of 10 returned!”\n"
     ]
    },
    {
     "name": "stdout",
     "output_type": "stream",
     "text": [
      " done [4.62s].\n",
      "writing ... [155646 rule(s)] done [0.32s].\n",
      "creating S4 object  ... done [0.26s].\n"
     ]
    },
    {
     "name": "stderr",
     "output_type": "stream",
     "text": [
      "Support: 0.05 Confidence: 0.8 Rules: 155646 p-value: 0.00175846582218751 \n",
      "\n",
      "\n"
     ]
    },
    {
     "name": "stdout",
     "output_type": "stream",
     "text": [
      "Apriori\n",
      "\n",
      "Parameter specification:\n",
      " confidence minval smax arem  aval originalSupport maxtime support minlen\n",
      "        0.9    0.1    1 none FALSE            TRUE       5    0.05      2\n",
      " maxlen target  ext\n",
      "     10  rules TRUE\n",
      "\n",
      "Algorithmic control:\n",
      " filter tree heap memopt load sort verbose\n",
      "    0.1 TRUE TRUE  FALSE TRUE    2    TRUE\n",
      "\n",
      "Absolute minimum support count: 12 \n",
      "\n",
      "set item appearances ...[124 item(s)] done [0.00s].\n",
      "set transactions ...[124 item(s), 252 transaction(s)] done [0.00s].\n",
      "sorting and recoding items ... [116 item(s)] done [0.00s].\n",
      "creating transaction tree ... done [0.00s].\n",
      "checking subsets of size 1 2 3 4 5 6 7 8 9 10"
     ]
    },
    {
     "name": "stderr",
     "output_type": "stream",
     "text": [
      "Warning message in apriori(data = train_trans, parameter = list(supp = support[i], :\n",
      "“Mining stopped (maxlen reached). Only patterns up to a length of 10 returned!”\n"
     ]
    },
    {
     "name": "stdout",
     "output_type": "stream",
     "text": [
      " done [4.63s].\n",
      "writing ... [35770 rule(s)] done [0.30s].\n",
      "creating S4 object  ... done [0.23s].\n"
     ]
    },
    {
     "name": "stderr",
     "output_type": "stream",
     "text": [
      "Support: 0.05 Confidence: 0.9 Rules: 35770 p-value: 0.000313723975793446 \n",
      "\n",
      "\n"
     ]
    }
   ],
   "source": [
    "support <- c(0.007, 0.01, 0.02, 0.05)\n",
    "confidence <- c(0.5, 0.6, 0.7, 0.8, 0.9)\n",
    "\n",
    "stats <- data.frame(support=double(),\n",
    "                 confidence=double(),\n",
    "                 pvalue=double(),\n",
    "                 lift=double(),\n",
    "                 rules=integer(),\n",
    "                 stringsAsFactors=FALSE)\n",
    "\n",
    "for(i in 1:length(support)) {\n",
    "    for (j in 1:length(confidence)){\n",
    "       \n",
    "        #extract rules and compute pvalue\n",
    "        rules <- apriori(data=train_trans, parameter=list(supp=support[i], conf=confidence[j], minlen=2), \n",
    "                 appearance = list(lhs = items, rhs=grep(\"grading=\", itemLabels(trans), value = TRUE)), \n",
    "                         control = list (verbose=T)) \n",
    "        \n",
    "        #compute p-value\n",
    "        quality(rules) <- cbind(quality(rules), \n",
    "                        pvalue = interestMeasure(rules, measure = \"fishersExactTest\",\n",
    "                                                          transactions = train_trans, adjust='none', reuse=TRUE))\n",
    "        \n",
    "        #extract median lift and pvalue and store number of extracted rules \n",
    "        pvalue <- median(quality(rules)$pvalue)\n",
    "        lift <- median(quality(rules)$lift)\n",
    "        count <- length(rules)\n",
    "        \n",
    "        #add elements to dataframe\n",
    "        stats <- rbind(stats, data.frame(support = support[i], confidence=confidence[j], \n",
    "                                         pvalue = pvalue, lift = lift, count = count))\n",
    "        \n",
    "        message(paste(\"Support:\",support[i],\"Confidence:\",confidence[j],\"Rules:\",count,\"p-value:\",pvalue, '\\n'))    \n",
    "\n",
    "    }\n",
    "}"
   ]
  },
  {
   "cell_type": "code",
   "execution_count": 7,
   "metadata": {},
   "outputs": [],
   "source": [
    "fig <- function(width, heigth){\n",
    "     options(repr.plot.width = width, repr.plot.height = heigth)\n",
    "}"
   ]
  },
  {
   "cell_type": "code",
   "execution_count": 8,
   "metadata": {},
   "outputs": [],
   "source": [
    "stats_grading <- stats\n",
    "stats_grading$support <- as.factor(stats$support)"
   ]
  },
  {
   "cell_type": "code",
   "execution_count": 9,
   "metadata": {},
   "outputs": [
    {
     "data": {
      "image/png": "[encoded data removed]",
      "text/plain": [
       "plot without title"
      ]
     },
     "metadata": {
      "image/png": {
       "height": 600,
       "width": 900
      }
     },
     "output_type": "display_data"
    }
   ],
   "source": [
    "fig(15,10)\n",
    "ggplot(data = stats_grading, aes(x=confidence, y=count)) + \n",
    "                geom_point(aes(colour=support, size=pvalue)) + \n",
    "                geom_text(aes(label=sprintf(\"%0.3f\", round(pvalue, digits = 3))),hjust=-0.3, vjust=-0.2) +\n",
    "                geom_line(aes(colour=support))+\n",
    "                theme(text=element_text(size=16))\n",
    "\n",
    "fig(7,7)"
   ]
  },
  {
   "cell_type": "markdown",
   "metadata": {},
   "source": [
    "# Rules Extraction"
   ]
  },
  {
   "cell_type": "code",
   "execution_count": 10,
   "metadata": {},
   "outputs": [
    {
     "data": {
      "text/html": [
       "<style>\n",
       ".list-inline {list-style: none; margin:0; padding: 0}\n",
       ".list-inline>li {display: inline-block}\n",
       ".list-inline>li:not(:last-child)::after {content: \"\\00b7\"; padding: 0 .5ex}\n",
       "</style>\n",
       "<ol class=list-inline><li>'grading=0'</li><li>'grading=1'</li></ol>\n"
      ],
      "text/latex": [
       "\\begin{enumerate*}\n",
       "\\item 'grading=0'\n",
       "\\item 'grading=1'\n",
       "\\end{enumerate*}\n"
      ],
      "text/markdown": [
       "1. 'grading=0'\n",
       "2. 'grading=1'\n",
       "\n",
       "\n"
      ],
      "text/plain": [
       "[1] \"grading=0\" \"grading=1\""
      ]
     },
     "metadata": {},
     "output_type": "display_data"
    }
   ],
   "source": [
    "target = grep(\"grading=\", itemLabels(trans), value = TRUE)\n",
    "target"
   ]
  },
  {
   "cell_type": "code",
   "execution_count": 18,
   "metadata": {
    "scrolled": false
   },
   "outputs": [
    {
     "name": "stdout",
     "output_type": "stream",
     "text": [
      "Apriori\n",
      "\n",
      "Parameter specification:\n",
      " confidence minval smax arem  aval originalSupport maxtime support minlen\n",
      "        0.8    0.1    1 none FALSE            TRUE       5    0.02      2\n",
      " maxlen target  ext\n",
      "     10  rules TRUE\n",
      "\n",
      "Algorithmic control:\n",
      " filter tree heap memopt load sort verbose\n",
      "    0.1 TRUE TRUE  FALSE TRUE    2    TRUE\n",
      "\n",
      "Absolute minimum support count: 5 \n",
      "\n",
      "set item appearances ...[124 item(s)] done [0.00s].\n",
      "set transactions ...[124 item(s), 252 transaction(s)] done [0.00s].\n",
      "sorting and recoding items ... [123 item(s)] done [0.00s].\n",
      "creating transaction tree ... done [0.00s].\n",
      "checking subsets of size 1 2 3 4 5 6"
     ]
    },
    {
     "name": "stderr",
     "output_type": "stream",
     "text": [
      "Warning message in apriori(data = train_trans, parameter = list(supp = 0.02, conf = 0.8, :\n",
      "“Mining stopped (time limit reached). Only patterns up to a length of 6 returned!”\n"
     ]
    },
    {
     "name": "stdout",
     "output_type": "stream",
     "text": [
      " done [8.23s].\n",
      "writing ... [1256832 rule(s)] done [1.48s].\n",
      "creating S4 object  ... done [0.88s].\n"
     ]
    }
   ],
   "source": [
    "rules <- apriori(data=train_trans, parameter=list(supp=0.02, conf=0.8, minlen=2), \n",
    "                 appearance = list(lhs = items, rhs=target), \n",
    "                         control = list (verbose=T))"
   ]
  },
  {
   "cell_type": "code",
   "execution_count": 19,
   "metadata": {},
   "outputs": [
    {
     "data": {
      "text/html": [
       "951613"
      ],
      "text/latex": [
       "951613"
      ],
      "text/markdown": [
       "951613"
      ],
      "text/plain": [
       "[1] 951613"
      ]
     },
     "metadata": {},
     "output_type": "display_data"
    }
   ],
   "source": [
    "sig_rules <- rules[is.significant(rules, \n",
    "                                      train, \n",
    "                                      method='fisher', \n",
    "                                      alpha=0.05, \n",
    "                                      adjust='none')]\n",
    "length(sig_rules)"
   ]
  },
  {
   "cell_type": "code",
   "execution_count": 20,
   "metadata": {},
   "outputs": [],
   "source": [
    "quality(sig_rules) <- cbind(quality(sig_rules), \n",
    "                        pvalue_test = interestMeasure(sig_rules, measure = \"fishersExactTest\",\n",
    "                                                          transactions = test_trans, adjust='none', reuse=FALSE))"
   ]
  },
  {
   "cell_type": "code",
   "execution_count": 21,
   "metadata": {},
   "outputs": [
    {
     "data": {
      "text/html": [
       "2001"
      ],
      "text/latex": [
       "2001"
      ],
      "text/markdown": [
       "2001"
      ],
      "text/plain": [
       "[1] 2001"
      ]
     },
     "metadata": {},
     "output_type": "display_data"
    }
   ],
   "source": [
    "final_rules <- subset(sig_rules, pvalue_test < 0.05/length(sig_rules)) #bonferroni = alpha/n_tests\n",
    "length(final_rules)"
   ]
  },
  {
   "cell_type": "code",
   "execution_count": 22,
   "metadata": {
    "scrolled": false
   },
   "outputs": [
    {
     "name": "stdout",
     "output_type": "stream",
     "text": [
      "      lhs                   rhs            support confidence   coverage     lift count  pvalue_test\n",
      "[1]   {PDE11A_2=1,                                                                                  \n",
      "       PTPRU_1=1,                                                                                   \n",
      "       PPP1R9A_1=1,                                                                                 \n",
      "       MTHFD1_1_homo=1}  => {grading=1} 0.12698413  0.8648649 0.14682540 1.716110    32 8.414474e-09\n",
      "[2]   {PDE11A_2=1,                                                                                  \n",
      "       PTPRU_1=1,                                                                                   \n",
      "       PPP1R9A_1=1,                                                                                 \n",
      "       HEXD_1=1}         => {grading=1} 0.12698413  0.8205128 0.15476190 1.628104    32 8.414474e-09\n",
      "[3]   {PDE11A_2=1,                                                                                  \n",
      "       PPP1R9A_1=1,                                                                                 \n",
      "       CCDC61_1_homo=1,                                                                             \n",
      "       MTHFD1_1_homo=1}  => {grading=1} 0.11904762  0.8108108 0.14682540 1.608853    30 4.467429e-11\n",
      "[4]   {IRX5_1=1,                                                                                    \n",
      "       PPP1R9A_1=1,                                                                                 \n",
      "       C1orf109_1=1,                                                                                \n",
      "       MTHFD1_1_homo=1}  => {grading=1} 0.11904762  0.8108108 0.14682540 1.608853    30 3.794387e-08\n",
      "[5]   {LSR_1=1,                                                                                     \n",
      "       MYO1H_1=1,                                                                                   \n",
      "       POLI_1_homo=1,                                                                               \n",
      "       APOBEC1_1_homo=1} => {grading=0} 0.11507937  0.8055556 0.14285714 1.624000    29 5.212896e-09\n",
      "[6]   {PDE11A_2=1,                                                                                  \n",
      "       IRX5_1=1,                                                                                    \n",
      "       IBSP_4=1,                                                                                    \n",
      "       EPCAM_1=1}        => {grading=1} 0.11507937  0.8055556 0.14285714 1.598425    29 3.794387e-08\n",
      "[7]   {PDE11A_2=1,                                                                                  \n",
      "       IRX5_1=1,                                                                                    \n",
      "       PTPRU_1=1,                                                                                   \n",
      "       PPP1R9A_1=1}      => {grading=1} 0.11507937  0.8787879 0.13095238 1.743737    29 8.414474e-09\n",
      "[8]   {PDE11A_2=1,                                                                                  \n",
      "       PTPRU_1=1,                                                                                   \n",
      "       PPP1R9A_1=1,                                                                                 \n",
      "       SLC24A3_1=1,                                                                                 \n",
      "       APOBEC1_1_homo=1} => {grading=1} 0.11111111  0.8000000 0.13888889 1.587402    28 8.414474e-09\n",
      "[9]   {IRX5_1=1,                                                                                    \n",
      "       PPP1R9A_1=1,                                                                                 \n",
      "       EPCAM_1=1,                                                                                   \n",
      "       C1orf109_1=1,                                                                                \n",
      "       APOBEC1_1_homo=1} => {grading=1} 0.11111111  0.8000000 0.13888889 1.587402    28 6.344291e-10\n",
      "[10]  {EP300_1=1,                                                                                   \n",
      "       FABP1_1=1,                                                                                   \n",
      "       RMI1_1_homo=1}    => {grading=1} 0.10714286  0.8181818 0.13095238 1.623479    27 3.794387e-08\n",
      "[11]  {EP300_1=1,                                                                                   \n",
      "       PPP1R9A_1=1,                                                                                 \n",
      "       EPCAM_1=1,                                                                                   \n",
      "       IL17RC_1_homo=1}  => {grading=1} 0.10714286  0.8181818 0.13095238 1.623479    27 8.414474e-09\n",
      "[12]  {LSR_1=1,                                                                                     \n",
      "       GSTM3_1=1,                                                                                   \n",
      "       CHPT1_1=1,                                                                                   \n",
      "       RBM11_1_homo=1}   => {grading=0} 0.10714286  0.8181818 0.13095238 1.649455    27 1.087337e-08\n",
      "[13]  {FABP1_1=1,                                                                                   \n",
      "       C1orf109_1=1,                                                                                \n",
      "       TMEM159_1_homo=1,                                                                            \n",
      "       MTHFD1_1_homo=1}  => {grading=1} 0.10714286  0.9000000 0.11904762 1.785827    27 8.414474e-09\n",
      "[14]  {PDE11A_2=1,                                                                                  \n",
      "       FABP1_1=1,                                                                                   \n",
      "       CCDC61_1_homo=1,                                                                             \n",
      "       MTHFD1_1_homo=1}  => {grading=1} 0.10714286  0.8181818 0.13095238 1.623479    27 8.414474e-09\n",
      "[15]  {PDE11A_2=1,                                                                                  \n",
      "       IRX5_1=1,                                                                                    \n",
      "       ALDH3A1_2=1,                                                                                 \n",
      "       PPP1R9A_1=1}      => {grading=1} 0.10714286  0.8181818 0.13095238 1.623479    27 4.467429e-11\n",
      "[16]  {RNF149_1=1,                                                                                  \n",
      "       TMEM40_2=1,                                                                                  \n",
      "       RBM11_1_homo=1,                                                                              \n",
      "       POLI_1_homo=1,                                                                               \n",
      "       APOBEC1_1_homo=1} => {grading=0} 0.10714286  0.8181818 0.13095238 1.649455    27 1.087337e-08\n",
      "[17]  {LSR_1=1,                                                                                     \n",
      "       TMEM40_2=1,                                                                                  \n",
      "       RBM11_1_homo=1,                                                                              \n",
      "       CFHR4_1_homo=1,                                                                              \n",
      "       APOBEC1_1_homo=1} => {grading=0} 0.10714286  0.8181818 0.13095238 1.649455    27 2.376547e-10\n",
      "[18]  {PDE11A_2=1,                                                                                  \n",
      "       RNF212_1=1,                                                                                  \n",
      "       MTHFD1_1_homo=1,                                                                             \n",
      "       TP53_1_homo=1}    => {grading=1} 0.10317460  0.8125000 0.12698413 1.612205    26 6.344291e-10\n",
      "[19]  {EP300_1=1,                                                                                   \n",
      "       PPP1R9A_1=1,                                                                                 \n",
      "       EPCAM_1=1,                                                                                   \n",
      "       MTHFD1_1_homo=1}  => {grading=1} 0.10317460  0.8666667 0.11904762 1.719685    26 6.344291e-10\n",
      "[20]  {PDE11A_2=1,                                                                                  \n",
      "       PTPRU_1=1,                                                                                   \n",
      "       FABP1_1=1,                                                                                   \n",
      "       MTHFD1_1_homo=1}  => {grading=1} 0.10317460  0.8125000 0.12698413 1.612205    26 6.344291e-10\n",
      "[21]  {PDE11A_2=1,                                                                                  \n",
      "       PTPRU_1=1,                                                                                   \n",
      "       FABP1_1=1,                                                                                   \n",
      "       IL17RC_1_homo=1}  => {grading=1} 0.10317460  0.8387097 0.12301587 1.664211    26 6.344291e-10\n",
      "[22]  {IRX5_1=1,                                                                                    \n",
      "       PPP1R9A_1=1,                                                                                 \n",
      "       EPCAM_1=1,                                                                                   \n",
      "       TP53_1_homo=1}    => {grading=1} 0.10317460  0.8387097 0.12301587 1.664211    26 4.467429e-11\n",
      "[23]  {PDE11A_2=1,                                                                                  \n",
      "       FABP1_1=1,                                                                                   \n",
      "       APOBEC1_1_homo=1,                                                                            \n",
      "       CCDC61_1_homo=1,                                                                             \n",
      "       MTHFD1_1_homo=1}  => {grading=1} 0.10317460  0.8125000 0.12698413 1.612205    26 8.414474e-09\n",
      "[24]  {PDE11A_2=1,                                                                                  \n",
      "       IRX5_1=1,                                                                                    \n",
      "       PPP1R9A_1=1,                                                                                 \n",
      "       C1orf109_1=1,                                                                                \n",
      "       MTHFD1_1_homo=1}  => {grading=1} 0.10317460  0.8965517 0.11507937 1.778985    26 8.414474e-09\n",
      "[25]  {ALK_3=1,                                                                                     \n",
      "       IBSP_4=1,                                                                                    \n",
      "       C1orf109_1=1}     => {grading=1} 0.09920635  0.8333333 0.11904762 1.653543    25 3.794387e-08\n",
      "[26]  {PTPRU_1=1,                                                                                   \n",
      "       HEXD_1=1,                                                                                    \n",
      "       FABP1_1=1}        => {grading=1} 0.09920635  0.8333333 0.11904762 1.653543    25 3.426688e-09\n",
      "[27]  {HERC5_1=1,                                                                                   \n",
      "       CD52_1_homo=1,                                                                               \n",
      "       CILP_3_homo=1}    => {grading=1} 0.09920635  0.8333333 0.11904762 1.653543    25 3.794387e-08\n",
      "[28]  {FNDC9_1=1,                                                                                   \n",
      "       GSTM3_1=1,                                                                                   \n",
      "       TMEM40_2=1,                                                                                  \n",
      "       APOBEC1_1_homo=1} => {grading=0} 0.09920635  0.8333333 0.11904762 1.680000    25 1.036637e-10\n",
      "[29]  {HEXD_1=1,                                                                                    \n",
      "       FABP1_1=1,                                                                                   \n",
      "       IL17RC_1_homo=1,                                                                             \n",
      "       FGF21_1_homo=1}   => {grading=1} 0.09920635  0.8333333 0.11904762 1.653543    25 3.794387e-08\n",
      "[30]  {PDE11A_2=1,                                                                                  \n",
      "       PTPRU_1=1,                                                                                   \n",
      "       PPP1R9A_1=1,                                                                                 \n",
      "       HEXD_1=1,                                                                                    \n",
      "       SLC24A3_1=1}      => {grading=1} 0.09920635  0.8064516 0.12301587 1.600203    25 8.414474e-09\n",
      "[31]  {RNF212_1=1,                                                                                  \n",
      "       CD52_1_homo=1,                                                                               \n",
      "       TP53_1_homo=1}    => {grading=1} 0.09523810  0.8275862 0.11507937 1.642140    24 2.926688e-12\n",
      "[32]  {LSR_1=1,                                                                                     \n",
      "       GJE1_1=1,                                                                                    \n",
      "       RBM11_1_homo=1,                                                                              \n",
      "       APOBEC1_1_homo=1} => {grading=0} 0.09523810  0.8000000 0.11904762 1.612800    24 1.087337e-08\n",
      "[33]  {PDE11A_2=1,                                                                                  \n",
      "       ALK_3=1,                                                                                     \n",
      "       HEXD_1=1,                                                                                    \n",
      "       C1orf109_1=1}     => {grading=1} 0.09523810  0.8000000 0.11904762 1.587402    24 8.414474e-09\n",
      "[34]  {FHOD3_3=1,                                                                                   \n",
      "       CHPT1_1=1,                                                                                   \n",
      "       TMEM40_2=1,                                                                                  \n",
      "       APOBEC1_1_homo=1} => {grading=0} 0.09523810  0.8000000 0.11904762 1.612800    24 1.036637e-10\n",
      "[35]  {PDE11A_2=1,                                                                                  \n",
      "       IRX5_1=1,                                                                                    \n",
      "       IBSP_4=1,                                                                                    \n",
      "       PPP1R9A_1=1}      => {grading=1} 0.09523810  0.8000000 0.11904762 1.587402    24 8.414474e-09\n",
      "[36]  {IRX5_1=1,                                                                                    \n",
      "       PTPRU_1=1,                                                                                   \n",
      "       PPP1R9A_1=1,                                                                                 \n",
      "       HEXD_1=1}         => {grading=1} 0.09523810  0.8275862 0.11507937 1.642140    24 6.344291e-10\n",
      "[37]  {LSR_1=1,                                                                                     \n",
      "       GSTM3_1=1,                                                                                   \n",
      "       IGFBP2_1=1,                                                                                  \n",
      "       CHPT1_1=1}        => {grading=0} 0.09523810  0.8275862 0.11507937 1.668414    24 6.318788e-09\n",
      "[38]  {FABP1_1=1,                                                                                   \n",
      "       C1orf109_1=1,                                                                                \n",
      "       CCDC61_1_homo=1,                                                                             \n",
      "       MTHFD1_1_homo=1}  => {grading=1} 0.09523810  0.8275862 0.11507937 1.642140    24 8.414474e-09\n",
      "[39]  {IRX5_1=1,                                                                                    \n",
      "       ALDH3A1_2=1,                                                                                 \n",
      "       PPP1R9A_1=1,                                                                                 \n",
      "       TP53_1_homo=1}    => {grading=1} 0.09523810  0.8000000 0.11904762 1.587402    24 8.414474e-09\n",
      "[40]  {PDE11A_2=1,                                                                                  \n",
      "       IRX5_1=1,                                                                                    \n",
      "       HERC5_1=1,                                                                                   \n",
      "       LOC100506422_1=1} => {grading=1} 0.09523810  0.8000000 0.11904762 1.587402    24 8.414474e-09\n",
      "[41]  {LSR_1=1,                                                                                     \n",
      "       NCOA3_1=1,                                                                                   \n",
      "       TMEM40_2=1,                                                                                  \n",
      "       RBM11_1_homo=1,                                                                              \n",
      "       APOBEC1_1_homo=1} => {grading=0} 0.09523810  0.8275862 0.11507937 1.668414    24 6.318788e-09\n",
      "[42]  {PDE11A_2=1,                                                                                  \n",
      "       PTPRU_1=1,                                                                                   \n",
      "       PPP1R9A_1=1,                                                                                 \n",
      "       SLC24A3_1=1,                                                                                 \n",
      "       C1orf109_1=1}     => {grading=1} 0.09523810  0.8571429 0.11111111 1.700787    24 8.414474e-09\n",
      "[43]  {LSR_1=1,                                                                                     \n",
      "       IGFBP2_1=1,                                                                                  \n",
      "       RBM11_1_homo=1,                                                                              \n",
      "       APOBEC1_1_homo=1,                                                                            \n",
      "       COQ7_1_homo=1}    => {grading=0} 0.09523810  0.8571429 0.11111111 1.728000    24 1.087337e-08\n",
      "[44]  {FHOD3_3=1,                                                                                   \n",
      "       CHPT1_1=1,                                                                                   \n",
      "       APOBEC1_1_homo=1,                                                                            \n",
      "       RHBDF2_1_homo=1}  => {grading=0} 0.09126984  0.8214286 0.11111111 1.656000    23 1.087337e-08\n",
      "[45]  {IRX5_1=1,                                                                                    \n",
      "       IBSP_4=1,                                                                                    \n",
      "       PPP1R9A_1=1,                                                                                 \n",
      "       EPCAM_1=1}        => {grading=1} 0.09126984  0.8518519 0.10714286 1.690289    23 8.414474e-09\n",
      "[46]  {EP300_1=1,                                                                                   \n",
      "       PPP1R9A_1=1,                                                                                 \n",
      "       EPCAM_1=1,                                                                                   \n",
      "       APOBEC1_1_homo=1,                                                                            \n",
      "       MTHFD1_1_homo=1}  => {grading=1} 0.09126984  0.8846154 0.10317460 1.755300    23 8.414474e-09\n",
      "[47]  {IRX5_1=1,                                                                                    \n",
      "       PTPRU_1=1,                                                                                   \n",
      "       PPP1R9A_1=1,                                                                                 \n",
      "       HEXD_1=1,                                                                                    \n",
      "       APOBEC1_1_homo=1} => {grading=1} 0.09126984  0.8214286 0.11111111 1.629921    23 8.414474e-09\n",
      "[48]  {TMEM40_2=1,                                                                                  \n",
      "       RBM11_1_homo=1,                                                                              \n",
      "       CFHR4_1_homo=1,                                                                              \n",
      "       APOBEC1_1_homo=1,                                                                            \n",
      "       PRSS55_1_homo=1}  => {grading=0} 0.09126984  0.8846154 0.10317460 1.783385    23 1.087337e-08\n",
      "[49]  {LSR_1=1,                                                                                     \n",
      "       SLC24A3_1=1,                                                                                 \n",
      "       TMEM40_2=1,                                                                                  \n",
      "       RBM11_1_homo=1,                                                                              \n",
      "       CFHR4_1_homo=1}   => {grading=0} 0.09126984  0.8214286 0.11111111 1.656000    23 1.036637e-10\n",
      "[50]  {FABP1_1=1,                                                                                   \n",
      "       C1orf109_1=1,                                                                                \n",
      "       APOBEC1_1_homo=1,                                                                            \n",
      "       CCDC61_1_homo=1,                                                                             \n",
      "       MTHFD1_1_homo=1}  => {grading=1} 0.09126984  0.8214286 0.11111111 1.629921    23 8.414474e-09\n",
      "[51]  {PDE11A_2=1,                                                                                  \n",
      "       IRX5_1=1,                                                                                    \n",
      "       ALDH3A1_2=1,                                                                                 \n",
      "       PPP1R9A_1=1,                                                                                 \n",
      "       APOBEC1_1_homo=1} => {grading=1} 0.09126984  0.8214286 0.11111111 1.629921    23 8.414474e-09\n",
      "[52]  {PDE11A_2=1,                                                                                  \n",
      "       IRX5_1=1,                                                                                    \n",
      "       PPP1R9A_1=1,                                                                                 \n",
      "       EPCAM_1=1,                                                                                   \n",
      "       TP53_1_homo=1}    => {grading=1} 0.09126984  0.8214286 0.11111111 1.629921    23 8.414474e-09\n",
      "[53]  {FBXL22_1=1,                                                                                  \n",
      "       LSR_1=1,                                                                                     \n",
      "       POLI_1_homo=1}    => {grading=0} 0.08730159  0.8148148 0.10714286 1.642667    22 6.249586e-14\n",
      "[54]  {RNF212_1=1,                                                                                  \n",
      "       HEXD_1=1,                                                                                    \n",
      "       FABP1_1=1}        => {grading=1} 0.08730159  0.8461538 0.10317460 1.678982    22 2.791898e-10\n",
      "[55]  {LSR_1=1,                                                                                     \n",
      "       GSTM3_1=1,                                                                                   \n",
      "       GJE1_1=1,                                                                                    \n",
      "       APOBEC1_1_homo=1} => {grading=0} 0.08730159  0.8148148 0.10714286 1.642667    22 1.036637e-10\n",
      "[56]  {LSR_1=1,                                                                                     \n",
      "       MYO1H_1=1,                                                                                   \n",
      "       TMEM40_2=1,                                                                                  \n",
      "       POLI_1_homo=1}    => {grading=0} 0.08730159  0.8461538 0.10317460 1.705846    22 1.835847e-09\n",
      "[57]  {RNF212_1=1,                                                                                  \n",
      "       FABP1_1=1,                                                                                   \n",
      "       MTHFD1_1_homo=1,                                                                             \n",
      "       TXNRD1_1_homo=1}  => {grading=1} 0.08730159  0.8148148 0.10714286 1.616798    22 2.926688e-12\n",
      "[58]  {PDE11A_2=1,                                                                                  \n",
      "       RNF212_1=1,                                                                                  \n",
      "       CD52_1_homo=1,                                                                               \n",
      "       TP53_1_homo=1}    => {grading=1} 0.08730159  0.8800000 0.09920635 1.746142    22 6.344291e-10\n",
      "[59]  {ALDH3A1_2=1,                                                                                 \n",
      "       RNF212_1=1,                                                                                  \n",
      "       PPP1R9A_1=1,                                                                                 \n",
      "       MTHFD1_1_homo=1}  => {grading=1} 0.08730159  0.8148148 0.10714286 1.616798    22 4.467429e-11\n",
      "[60]  {PDE11A_2=1,                                                                                  \n",
      "       RNF212_1=1,                                                                                  \n",
      "       HEXD_1=1,                                                                                    \n",
      "       TP53_1_homo=1}    => {grading=1} 0.08730159  0.8461538 0.10317460 1.678982    22 8.414474e-09\n",
      "[61]  {RNF212_1=1,                                                                                  \n",
      "       PPP1R9A_1=1,                                                                                 \n",
      "       EPCAM_1=1,                                                                                   \n",
      "       MTHFD1_1_homo=1}  => {grading=1} 0.08730159  0.8800000 0.09920635 1.746142    22 1.776290e-13\n",
      "[62]  {PDE11A_2=1,                                                                                  \n",
      "       IRX5_1=1,                                                                                    \n",
      "       SYT8_5=1,                                                                                    \n",
      "       PPP1R9A_1=1}      => {grading=1} 0.08730159  0.8148148 0.10714286 1.616798    22 8.414474e-09\n",
      "[63]  {PTPRU_1=1,                                                                                   \n",
      "       FABP1_1=1,                                                                                   \n",
      "       C1orf109_1=1,                                                                                \n",
      "       MTHFD1_1_homo=1}  => {grading=1} 0.08730159  0.8461538 0.10317460 1.678982    22 6.344291e-10\n",
      "[64]  {PTPRU_1=1,                                                                                   \n",
      "       HEXD_1=1,                                                                                    \n",
      "       FABP1_1=1,                                                                                   \n",
      "       IL17RC_1_homo=1}  => {grading=1} 0.08730159  0.8461538 0.10317460 1.678982    22 4.467429e-11\n",
      "[65]  {GSTM3_1=1,                                                                                   \n",
      "       SLC24A3_1=1,                                                                                 \n",
      "       ARHGAP25_1=1,                                                                                \n",
      "       COQ7_1_homo=1}    => {grading=0} 0.08730159  0.8800000 0.09920635 1.774080    22 6.318788e-09\n",
      "[66]  {FABP1_1=1,                                                                                   \n",
      "       C1orf109_1=1,                                                                                \n",
      "       RMI1_1_homo=1,                                                                               \n",
      "       PRSS55_1_homo=1}  => {grading=1} 0.08730159  0.9166667 0.09523810 1.818898    22 8.414474e-09\n",
      "[67]  {IRX5_1=1,                                                                                    \n",
      "       LOC100506422_1=1,                                                                            \n",
      "       PPP1R9A_1=1,                                                                                 \n",
      "       EPCAM_1=1}        => {grading=1} 0.08730159  0.8461538 0.10317460 1.678982    22 8.414474e-09\n",
      "[68]  {FNDC9_1=1,                                                                                   \n",
      "       LSR_1=1,                                                                                     \n",
      "       TMEM40_2=1,                                                                                  \n",
      "       RBM11_1_homo=1,                                                                              \n",
      "       APOBEC1_1_homo=1} => {grading=0} 0.08730159  0.8148148 0.10714286 1.642667    22 1.036637e-10\n",
      "[69]  {LSR_1=1,                                                                                     \n",
      "       MYO1H_1=1,                                                                                   \n",
      "       ARHGAP25_1=1,                                                                                \n",
      "       CFHR4_1_homo=1,                                                                              \n",
      "       APOBEC1_1_homo=1} => {grading=0} 0.08730159  0.8800000 0.09920635 1.774080    22 6.318788e-09\n",
      "[70]  {PDE11A_2=1,                                                                                  \n",
      "       PTPRU_1=1,                                                                                   \n",
      "       FABP1_1=1,                                                                                   \n",
      "       IL17RC_1_homo=1,                                                                             \n",
      "       APOBEC1_1_homo=1} => {grading=1} 0.08730159  0.8148148 0.10714286 1.616798    22 8.414474e-09\n",
      "[71]  {LSR_1=1,                                                                                     \n",
      "       SLC24A3_1=1,                                                                                 \n",
      "       ARHGAP25_1=1,                                                                                \n",
      "       APOBEC1_1_homo=1,                                                                            \n",
      "       COQ7_1_homo=1}    => {grading=0} 0.08730159  0.8461538 0.10317460 1.705846    22 1.495125e-12\n",
      "[72]  {LSR_1=1,                                                                                     \n",
      "       TMEM40_2=1,                                                                                  \n",
      "       RBM11_1_homo=1,                                                                              \n",
      "       APOBEC1_1_homo=1,                                                                            \n",
      "       COQ7_1_homo=1}    => {grading=0} 0.08730159  0.8148148 0.10714286 1.642667    22 4.259231e-12\n",
      "[73]  {LSR_1=1,                                                                                     \n",
      "       CHPT1_1=1,                                                                                   \n",
      "       TMEM40_2=1,                                                                                  \n",
      "       CFHR4_1_homo=1,                                                                              \n",
      "       APOBEC1_1_homo=1} => {grading=0} 0.08730159  0.8461538 0.10317460 1.705846    22 6.318788e-09\n",
      "[74]  {LSR_1=1,                                                                                     \n",
      "       HAPLN3_2=1,                                                                                  \n",
      "       TMEM40_2=1,                                                                                  \n",
      "       RBM11_1_homo=1,                                                                              \n",
      "       POLI_1_homo=1}    => {grading=0} 0.08730159  0.8461538 0.10317460 1.705846    22 1.087337e-08\n",
      "[75]  {IRX5_1=1,                                                                                    \n",
      "       PPP1R9A_1=1,                                                                                 \n",
      "       EPCAM_1=1,                                                                                   \n",
      "       C1orf109_1=1,                                                                                \n",
      "       MTHFD1_1_homo=1}  => {grading=1} 0.08730159  0.8800000 0.09920635 1.746142    22 4.467429e-11\n",
      "[76]  {IRX5_1=1,                                                                                    \n",
      "       PPP1R9A_1=1,                                                                                 \n",
      "       EPCAM_1=1,                                                                                   \n",
      "       C1orf109_1=1,                                                                                \n",
      "       IL17RC_1_homo=1}  => {grading=1} 0.08730159  0.8461538 0.10317460 1.678982    22 8.414474e-09\n",
      "[77]  {FBXL22_1=1,                                                                                  \n",
      "       RBM11_1_homo=1,                                                                              \n",
      "       COQ7_1_homo=1}    => {grading=0} 0.08333333  0.8076923 0.10317460 1.628308    21 2.376547e-10\n",
      "[78]  {IGFBP2_1=1,                                                                                  \n",
      "       ALCAM_2=1,                                                                                   \n",
      "       ARHGAP25_1=1}     => {grading=0} 0.08333333  0.8400000 0.09920635 1.693440    21 6.318788e-09\n",
      "[79]  {FBXL22_1=1,                                                                                  \n",
      "       RBM11_1_homo=1,                                                                              \n",
      "       APOBEC1_1_homo=1,                                                                            \n",
      "       COQ7_1_homo=1}    => {grading=0} 0.08333333  0.8400000 0.09920635 1.693440    21 2.376547e-10\n",
      "[80]  {FBXL22_1=1,                                                                                  \n",
      "       LSR_1=1,                                                                                     \n",
      "       POLI_1_homo=1,                                                                               \n",
      "       APOBEC1_1_homo=1} => {grading=0} 0.08333333  0.8400000 0.09920635 1.693440    21 2.376547e-10\n",
      "[81]  {FHOD3_3=1,                                                                                   \n",
      "       LSR_1=1,                                                                                     \n",
      "       CHPT1_1=1,                                                                                   \n",
      "       RHBDF2_1_homo=1}  => {grading=0} 0.08333333  0.8076923 0.10317460 1.628308    21 1.087337e-08\n",
      "[82]  {LSR_1=1,                                                                                     \n",
      "       MYO1H_1=1,                                                                                   \n",
      "       TMEM40_2=1,                                                                                  \n",
      "       CFHR4_1_homo=1}   => {grading=0} 0.08333333  0.8400000 0.09920635 1.693440    21 1.495125e-12\n",
      "[83]  {PDE11A_2=1,                                                                                  \n",
      "       RNF212_1=1,                                                                                  \n",
      "       PTPRU_1=1,                                                                                   \n",
      "       MTHFD1_1_homo=1}  => {grading=1} 0.08333333  0.8076923 0.10317460 1.602665    21 6.344291e-10\n",
      "[84]  {PDE11A_2=1,                                                                                  \n",
      "       ALDH3A1_2=1,                                                                                 \n",
      "       RNF212_1=1,                                                                                  \n",
      "       MTHFD1_1_homo=1}  => {grading=1} 0.08333333  0.8076923 0.10317460 1.602665    21 6.344291e-10\n",
      "[85]  {RNF212_1=1,                                                                                  \n",
      "       PPP1R9A_1=1,                                                                                 \n",
      "       A2ML1_2_homo=1,                                                                              \n",
      "       MTHFD1_1_homo=1}  => {grading=1} 0.08333333  0.9130435 0.09126984 1.811708    21 6.344291e-10\n",
      "[86]  {RNF212_1=1,                                                                                  \n",
      "       PPP1R9A_1=1,                                                                                 \n",
      "       FASTKD3_1_homo=1,                                                                            \n",
      "       MTHFD1_1_homo=1}  => {grading=1} 0.08333333  0.8076923 0.10317460 1.602665    21 8.414474e-09\n",
      "[87]  {EP300_1=1,                                                                                   \n",
      "       LOC100506422_1=1,                                                                            \n",
      "       A2ML1_2_homo=1,                                                                              \n",
      "       MTHFD1_1_homo=1}  => {grading=1} 0.08333333  0.8400000 0.09920635 1.666772    21 8.414474e-09\n",
      "[88]  {IRX5_1=1,                                                                                    \n",
      "       PTPRU_1=1,                                                                                   \n",
      "       FABP1_1=1,                                                                                   \n",
      "       IL17RC_1_homo=1}  => {grading=1} 0.08333333  0.8076923 0.10317460 1.602665    21 3.794387e-08\n",
      "[89]  {PDE11A_2=1,                                                                                  \n",
      "       IRX5_1=1,                                                                                    \n",
      "       PTPRU_1=1,                                                                                   \n",
      "       FABP1_1=1}        => {grading=1} 0.08333333  0.8750000 0.09523810 1.736220    21 4.467429e-11\n",
      "[90]  {PTPRU_1=1,                                                                                   \n",
      "       HEXD_1=1,                                                                                    \n",
      "       FABP1_1=1,                                                                                   \n",
      "       C1orf109_1=1}     => {grading=1} 0.08333333  0.9130435 0.09126984 1.811708    21 8.414474e-09\n",
      "[91]  {PTPRU_1=1,                                                                                   \n",
      "       HEXD_1=1,                                                                                    \n",
      "       SLC24A3_1=1,                                                                                 \n",
      "       FABP1_1=1}        => {grading=1} 0.08333333  0.8400000 0.09920635 1.666772    21 2.926688e-12\n",
      "[92]  {PDE11A_2=1,                                                                                  \n",
      "       IRX5_1=1,                                                                                    \n",
      "       CCDC61_1_homo=1,                                                                             \n",
      "       CILP_3_homo=1}    => {grading=1} 0.08333333  0.8400000 0.09920635 1.666772    21 6.344291e-10\n",
      "[93]  {LSR_1=1,                                                                                     \n",
      "       GSTM3_1=1,                                                                                   \n",
      "       ARHGAP25_1=1,                                                                                \n",
      "       COQ7_1_homo=1}    => {grading=0} 0.08333333  0.8400000 0.09920635 1.693440    21 1.087337e-08\n",
      "[94]  {LSR_1=1,                                                                                     \n",
      "       GSTM3_1=1,                                                                                   \n",
      "       CHPT1_1=1,                                                                                   \n",
      "       COQ7_1_homo=1}    => {grading=0} 0.08333333  0.8400000 0.09920635 1.693440    21 6.318788e-09\n",
      "[95]  {GSTM3_1=1,                                                                                   \n",
      "       CFHR4_1_homo=1,                                                                              \n",
      "       COQ7_1_homo=1,                                                                               \n",
      "       RHBDF2_1_homo=1}  => {grading=0} 0.08333333  0.8076923 0.10317460 1.628308    21 6.318788e-09\n",
      "[96]  {PPP1R9A_1=1,                                                                                 \n",
      "       FABP1_1=1,                                                                                   \n",
      "       MTHFD1_1_homo=1,                                                                             \n",
      "       RMI1_1_homo=1}    => {grading=1} 0.08333333  0.9130435 0.09126984 1.811708    21 6.344291e-10\n",
      "[97]  {PDE11A_2=1,                                                                                  \n",
      "       HERC5_1=1,                                                                                   \n",
      "       IL17RC_1_homo=1,                                                                             \n",
      "       CD52_1_homo=1}    => {grading=1} 0.08333333  0.8076923 0.10317460 1.602665    21 8.414474e-09\n",
      "[98]  {LSR_1=1,                                                                                     \n",
      "       MYO1H_1=1,                                                                                   \n",
      "       CFHR4_1_homo=1,                                                                              \n",
      "       APOBEC1_1_homo=1,                                                                            \n",
      "       PRSS55_1_homo=1}  => {grading=0} 0.08333333  0.8400000 0.09920635 1.693440    21 1.087337e-08\n",
      "[99]  {LSR_1=1,                                                                                     \n",
      "       MYO1H_1=1,                                                                                   \n",
      "       TMEM40_2=1,                                                                                  \n",
      "       CFHR4_1_homo=1,                                                                              \n",
      "       APOBEC1_1_homo=1} => {grading=0} 0.08333333  0.9545455 0.08730159 1.924364    21 6.318788e-09\n",
      "[100] {PDE11A_2=1,                                                                                  \n",
      "       HEXD_1=1,                                                                                    \n",
      "       FABP1_1=1,                                                                                   \n",
      "       IL17RC_1_homo=1,                                                                             \n",
      "       FGF21_1_homo=1}   => {grading=1} 0.08333333  0.9130435 0.09126984 1.811708    21 4.467429e-11\n"
     ]
    }
   ],
   "source": [
    "inspect(head(final_rules, by = \"support\", decreasing=TRUE, 100))"
   ]
  },
  {
   "cell_type": "code",
   "execution_count": 24,
   "metadata": {},
   "outputs": [],
   "source": [
    "write(final_rules,\n",
    "      file = \"./Results/rules_females_full.csv\",\n",
    "      sep = \",\",\n",
    "      quote = TRUE,\n",
    "      row.names = FALSE)"
   ]
  },
  {
   "cell_type": "code",
   "execution_count": null,
   "metadata": {},
   "outputs": [],
   "source": []
  }
 ],
 "metadata": {
  "kernelspec": {
   "display_name": "R",
   "language": "R",
   "name": "ir"
  },
  "language_info": {
   "codemirror_mode": "r",
   "file_extension": ".r",
   "mimetype": "text/x-r-source",
   "name": "R",
   "pygments_lexer": "r",
   "version": "3.6.1"
  }
 },
 "nbformat": 4,
 "nbformat_minor": 4
}
